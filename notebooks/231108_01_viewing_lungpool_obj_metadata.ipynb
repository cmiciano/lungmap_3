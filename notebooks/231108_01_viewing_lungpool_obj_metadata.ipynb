{
 "cells": [
  {
   "cell_type": "code",
   "execution_count": null,
   "id": "42767fcb",
   "metadata": {},
   "outputs": [],
   "source": [
    "# checking to see if metadata was added"
   ]
  },
  {
   "cell_type": "code",
   "execution_count": 1,
   "id": "7774e2f6",
   "metadata": {},
   "outputs": [
    {
     "name": "stderr",
     "output_type": "stream",
     "text": [
      "The legacy packages maptools, rgdal, and rgeos, underpinning the sp package,\n",
      "which was just loaded, will retire in October 2023.\n",
      "Please refer to R-spatial evolution reports for details, especially\n",
      "https://r-spatial.org/r/2023/05/15/evolution4.html.\n",
      "It may be desirable to make the sf package available;\n",
      "package maintainers should consider adding sf to Suggests:.\n",
      "The sp package is now running under evolution status 2\n",
      "     (status 2 uses the sf package in place of rgdal)\n",
      "\n",
      "Attaching SeuratObject\n",
      "\n"
     ]
    }
   ],
   "source": [
    "library(Seurat)"
   ]
  },
  {
   "cell_type": "code",
   "execution_count": 13,
   "id": "3c29da4d",
   "metadata": {},
   "outputs": [
    {
     "data": {
      "text/html": [
       "<style>\n",
       ".list-inline {list-style: none; margin:0; padding: 0}\n",
       ".list-inline>li {display: inline-block}\n",
       ".list-inline>li:not(:last-child)::after {content: \"\\00b7\"; padding: 0 .5ex}\n",
       "</style>\n",
       "<ol class=list-inline><li>'/home/rlancione/ps-epigen/users/rlan/Donor_Demultiplexing/Objects//QY_2225_2_QY_2224_2_DF.0.05.RDS'</li><li>'/home/rlancione/ps-epigen/users/rlan/Donor_Demultiplexing/Objects//QY_2227_2_QY_2226_2_DF.0.05.RDS'</li><li>'/home/rlancione/ps-epigen/users/rlan/Donor_Demultiplexing/Objects//QY_2229_2_QY_2228_2_DF.0.05.RDS'</li><li>'/home/rlancione/ps-epigen/users/rlan/Donor_Demultiplexing/Objects//QY_2231_2_QY_2230_2_DF.0.05.RDS'</li><li>'/home/rlancione/ps-epigen/users/rlan/Donor_Demultiplexing/Objects//QY_2233_2_QY_2232_2_DF.0.05.RDS'</li><li>'/home/rlancione/ps-epigen/users/rlan/Donor_Demultiplexing/Objects//QY_2235_2_QY_2234_2_DF.0.05.RDS'</li><li>'/home/rlancione/ps-epigen/users/rlan/Donor_Demultiplexing/Objects//QY_2237_2_QY_2236_2_DF.0.05.RDS'</li><li>'/home/rlancione/ps-epigen/users/rlan/Donor_Demultiplexing/Objects//QY_2239_2_QY_2238_2_DF.0.05.RDS'</li></ol>\n"
      ],
      "text/latex": [
       "\\begin{enumerate*}\n",
       "\\item '/home/rlancione/ps-epigen/users/rlan/Donor\\_Demultiplexing/Objects//QY\\_2225\\_2\\_QY\\_2224\\_2\\_DF.0.05.RDS'\n",
       "\\item '/home/rlancione/ps-epigen/users/rlan/Donor\\_Demultiplexing/Objects//QY\\_2227\\_2\\_QY\\_2226\\_2\\_DF.0.05.RDS'\n",
       "\\item '/home/rlancione/ps-epigen/users/rlan/Donor\\_Demultiplexing/Objects//QY\\_2229\\_2\\_QY\\_2228\\_2\\_DF.0.05.RDS'\n",
       "\\item '/home/rlancione/ps-epigen/users/rlan/Donor\\_Demultiplexing/Objects//QY\\_2231\\_2\\_QY\\_2230\\_2\\_DF.0.05.RDS'\n",
       "\\item '/home/rlancione/ps-epigen/users/rlan/Donor\\_Demultiplexing/Objects//QY\\_2233\\_2\\_QY\\_2232\\_2\\_DF.0.05.RDS'\n",
       "\\item '/home/rlancione/ps-epigen/users/rlan/Donor\\_Demultiplexing/Objects//QY\\_2235\\_2\\_QY\\_2234\\_2\\_DF.0.05.RDS'\n",
       "\\item '/home/rlancione/ps-epigen/users/rlan/Donor\\_Demultiplexing/Objects//QY\\_2237\\_2\\_QY\\_2236\\_2\\_DF.0.05.RDS'\n",
       "\\item '/home/rlancione/ps-epigen/users/rlan/Donor\\_Demultiplexing/Objects//QY\\_2239\\_2\\_QY\\_2238\\_2\\_DF.0.05.RDS'\n",
       "\\end{enumerate*}\n"
      ],
      "text/markdown": [
       "1. '/home/rlancione/ps-epigen/users/rlan/Donor_Demultiplexing/Objects//QY_2225_2_QY_2224_2_DF.0.05.RDS'\n",
       "2. '/home/rlancione/ps-epigen/users/rlan/Donor_Demultiplexing/Objects//QY_2227_2_QY_2226_2_DF.0.05.RDS'\n",
       "3. '/home/rlancione/ps-epigen/users/rlan/Donor_Demultiplexing/Objects//QY_2229_2_QY_2228_2_DF.0.05.RDS'\n",
       "4. '/home/rlancione/ps-epigen/users/rlan/Donor_Demultiplexing/Objects//QY_2231_2_QY_2230_2_DF.0.05.RDS'\n",
       "5. '/home/rlancione/ps-epigen/users/rlan/Donor_Demultiplexing/Objects//QY_2233_2_QY_2232_2_DF.0.05.RDS'\n",
       "6. '/home/rlancione/ps-epigen/users/rlan/Donor_Demultiplexing/Objects//QY_2235_2_QY_2234_2_DF.0.05.RDS'\n",
       "7. '/home/rlancione/ps-epigen/users/rlan/Donor_Demultiplexing/Objects//QY_2237_2_QY_2236_2_DF.0.05.RDS'\n",
       "8. '/home/rlancione/ps-epigen/users/rlan/Donor_Demultiplexing/Objects//QY_2239_2_QY_2238_2_DF.0.05.RDS'\n",
       "\n",
       "\n"
      ],
      "text/plain": [
       "[1] \"/home/rlancione/ps-epigen/users/rlan/Donor_Demultiplexing/Objects//QY_2225_2_QY_2224_2_DF.0.05.RDS\"\n",
       "[2] \"/home/rlancione/ps-epigen/users/rlan/Donor_Demultiplexing/Objects//QY_2227_2_QY_2226_2_DF.0.05.RDS\"\n",
       "[3] \"/home/rlancione/ps-epigen/users/rlan/Donor_Demultiplexing/Objects//QY_2229_2_QY_2228_2_DF.0.05.RDS\"\n",
       "[4] \"/home/rlancione/ps-epigen/users/rlan/Donor_Demultiplexing/Objects//QY_2231_2_QY_2230_2_DF.0.05.RDS\"\n",
       "[5] \"/home/rlancione/ps-epigen/users/rlan/Donor_Demultiplexing/Objects//QY_2233_2_QY_2232_2_DF.0.05.RDS\"\n",
       "[6] \"/home/rlancione/ps-epigen/users/rlan/Donor_Demultiplexing/Objects//QY_2235_2_QY_2234_2_DF.0.05.RDS\"\n",
       "[7] \"/home/rlancione/ps-epigen/users/rlan/Donor_Demultiplexing/Objects//QY_2237_2_QY_2236_2_DF.0.05.RDS\"\n",
       "[8] \"/home/rlancione/ps-epigen/users/rlan/Donor_Demultiplexing/Objects//QY_2239_2_QY_2238_2_DF.0.05.RDS\""
      ]
     },
     "metadata": {},
     "output_type": "display_data"
    }
   ],
   "source": [
    "objs <- list.files('/home/rlancione/ps-epigen/users/rlan/Donor_Demultiplexing/Objects/',\n",
    "                  full.name = T)\n",
    "objs "
   ]
  },
  {
   "cell_type": "code",
   "execution_count": 3,
   "id": "d42350c9",
   "metadata": {},
   "outputs": [],
   "source": [
    "sobj <- readRDS('/home/rlancione/ps-epigen/users/rlan/Donor_Demultiplexing/Objects/QY_2225_2_QY_2224_2_DF.0.05.RDS')"
   ]
  },
  {
   "cell_type": "code",
   "execution_count": 16,
   "id": "d9f92ce8",
   "metadata": {},
   "outputs": [
    {
     "data": {
      "text/html": [
       "<style>\n",
       ".list-inline {list-style: none; margin:0; padding: 0}\n",
       ".list-inline>li {display: inline-block}\n",
       ".list-inline>li:not(:last-child)::after {content: \"\\00b7\"; padding: 0 .5ex}\n",
       "</style>\n",
       "<ol class=list-inline><li>'BARCODE'</li><li>'orig.ident'</li><li>'nCount_RNA'</li><li>'nFeature_RNA'</li><li>'nCount_ATAC'</li><li>'nFeature_ATAC'</li><li>'fragments_freq_count'</li><li>'FRiP'</li><li>'percent.mt'</li><li>'nCount_SCT'</li><li>'nFeature_SCT'</li><li>'INT_ID'</li><li>'NUM.SNPS'</li><li>'NUM.READS'</li><li>'DROPLET.TYPE'</li><li>'BEST.GUESS'</li><li>'BEST.LLK'</li><li>'NEXT.GUESS'</li><li>'NEXT.LLK'</li><li>'DIFF.LLK.BEST.NEXT'</li><li>'BEST.POSTERIOR'</li><li>'SNG.POSTERIOR'</li><li>'SNG.BEST.GUESS'</li><li>'SNG.BEST.LLK'</li><li>'SNG.NEXT.GUESS'</li><li>'SNG.NEXT.LLK'</li><li>'SNG.ONLY.POSTERIOR'</li><li>'DBL.BEST.GUESS'</li><li>'DBL.BEST.LLK'</li><li>'DIFF.LLK.SNG.DBL'</li></ol>\n"
      ],
      "text/latex": [
       "\\begin{enumerate*}\n",
       "\\item 'BARCODE'\n",
       "\\item 'orig.ident'\n",
       "\\item 'nCount\\_RNA'\n",
       "\\item 'nFeature\\_RNA'\n",
       "\\item 'nCount\\_ATAC'\n",
       "\\item 'nFeature\\_ATAC'\n",
       "\\item 'fragments\\_freq\\_count'\n",
       "\\item 'FRiP'\n",
       "\\item 'percent.mt'\n",
       "\\item 'nCount\\_SCT'\n",
       "\\item 'nFeature\\_SCT'\n",
       "\\item 'INT\\_ID'\n",
       "\\item 'NUM.SNPS'\n",
       "\\item 'NUM.READS'\n",
       "\\item 'DROPLET.TYPE'\n",
       "\\item 'BEST.GUESS'\n",
       "\\item 'BEST.LLK'\n",
       "\\item 'NEXT.GUESS'\n",
       "\\item 'NEXT.LLK'\n",
       "\\item 'DIFF.LLK.BEST.NEXT'\n",
       "\\item 'BEST.POSTERIOR'\n",
       "\\item 'SNG.POSTERIOR'\n",
       "\\item 'SNG.BEST.GUESS'\n",
       "\\item 'SNG.BEST.LLK'\n",
       "\\item 'SNG.NEXT.GUESS'\n",
       "\\item 'SNG.NEXT.LLK'\n",
       "\\item 'SNG.ONLY.POSTERIOR'\n",
       "\\item 'DBL.BEST.GUESS'\n",
       "\\item 'DBL.BEST.LLK'\n",
       "\\item 'DIFF.LLK.SNG.DBL'\n",
       "\\end{enumerate*}\n"
      ],
      "text/markdown": [
       "1. 'BARCODE'\n",
       "2. 'orig.ident'\n",
       "3. 'nCount_RNA'\n",
       "4. 'nFeature_RNA'\n",
       "5. 'nCount_ATAC'\n",
       "6. 'nFeature_ATAC'\n",
       "7. 'fragments_freq_count'\n",
       "8. 'FRiP'\n",
       "9. 'percent.mt'\n",
       "10. 'nCount_SCT'\n",
       "11. 'nFeature_SCT'\n",
       "12. 'INT_ID'\n",
       "13. 'NUM.SNPS'\n",
       "14. 'NUM.READS'\n",
       "15. 'DROPLET.TYPE'\n",
       "16. 'BEST.GUESS'\n",
       "17. 'BEST.LLK'\n",
       "18. 'NEXT.GUESS'\n",
       "19. 'NEXT.LLK'\n",
       "20. 'DIFF.LLK.BEST.NEXT'\n",
       "21. 'BEST.POSTERIOR'\n",
       "22. 'SNG.POSTERIOR'\n",
       "23. 'SNG.BEST.GUESS'\n",
       "24. 'SNG.BEST.LLK'\n",
       "25. 'SNG.NEXT.GUESS'\n",
       "26. 'SNG.NEXT.LLK'\n",
       "27. 'SNG.ONLY.POSTERIOR'\n",
       "28. 'DBL.BEST.GUESS'\n",
       "29. 'DBL.BEST.LLK'\n",
       "30. 'DIFF.LLK.SNG.DBL'\n",
       "\n",
       "\n"
      ],
      "text/plain": [
       " [1] \"BARCODE\"              \"orig.ident\"           \"nCount_RNA\"          \n",
       " [4] \"nFeature_RNA\"         \"nCount_ATAC\"          \"nFeature_ATAC\"       \n",
       " [7] \"fragments_freq_count\" \"FRiP\"                 \"percent.mt\"          \n",
       "[10] \"nCount_SCT\"           \"nFeature_SCT\"         \"INT_ID\"              \n",
       "[13] \"NUM.SNPS\"             \"NUM.READS\"            \"DROPLET.TYPE\"        \n",
       "[16] \"BEST.GUESS\"           \"BEST.LLK\"             \"NEXT.GUESS\"          \n",
       "[19] \"NEXT.LLK\"             \"DIFF.LLK.BEST.NEXT\"   \"BEST.POSTERIOR\"      \n",
       "[22] \"SNG.POSTERIOR\"        \"SNG.BEST.GUESS\"       \"SNG.BEST.LLK\"        \n",
       "[25] \"SNG.NEXT.GUESS\"       \"SNG.NEXT.LLK\"         \"SNG.ONLY.POSTERIOR\"  \n",
       "[28] \"DBL.BEST.GUESS\"       \"DBL.BEST.LLK\"         \"DIFF.LLK.SNG.DBL\"    "
      ]
     },
     "metadata": {},
     "output_type": "display_data"
    }
   ],
   "source": [
    "colnames(sobj@meta.data)"
   ]
  },
  {
   "cell_type": "code",
   "execution_count": 15,
   "id": "fa4a4730",
   "metadata": {},
   "outputs": [
    {
     "name": "stdout",
     "output_type": "stream",
     "text": [
      "An object of class Seurat \n",
      "179768 features across 20000 samples within 3 assays \n",
      "Active assay: SCT (30316 features, 3000 variable features)\n",
      " 2 other assays present: RNA, ATAC\n",
      " 2 dimensional reductions calculated: pca, umap\n",
      "[1] QY_2225_2_QY_2224_2\n",
      "Levels: QY_2225_2_QY_2224_2\n",
      "Error: No cells found \n",
      "[1] QY_2225_2_QY_2224_2\n",
      "Levels: QY_2225_2_QY_2224_2\n",
      "An object of class Seurat \n",
      "181455 features across 20000 samples within 3 assays \n",
      "Active assay: SCT (30386 features, 3000 variable features)\n",
      " 2 other assays present: RNA, ATAC\n",
      " 2 dimensional reductions calculated: pca, umap\n",
      "[1] QY_2227_2_QY_2226_2\n",
      "Levels: QY_2227_2_QY_2226_2\n",
      "Error: No cells found \n",
      "[1] QY_2227_2_QY_2226_2\n",
      "Levels: QY_2227_2_QY_2226_2\n",
      "An object of class Seurat \n",
      "182529 features across 20000 samples within 3 assays \n",
      "Active assay: SCT (31048 features, 3000 variable features)\n",
      " 2 other assays present: RNA, ATAC\n",
      " 2 dimensional reductions calculated: pca, umap\n",
      "[1] QY_2229_2_QY_2228_2\n",
      "Levels: QY_2229_2_QY_2228_2\n",
      "Error: No cells found \n",
      "[1] QY_2229_2_QY_2228_2\n",
      "Levels: QY_2229_2_QY_2228_2\n",
      "An object of class Seurat \n",
      "179142 features across 20000 samples within 3 assays \n",
      "Active assay: SCT (30736 features, 3000 variable features)\n",
      " 2 other assays present: RNA, ATAC\n",
      " 2 dimensional reductions calculated: pca, umap\n",
      "[1] QY_2231_2_QY_2230_2\n",
      "Levels: QY_2231_2_QY_2230_2\n",
      "Error: No cells found \n",
      "[1] QY_2231_2_QY_2230_2\n",
      "Levels: QY_2231_2_QY_2230_2\n",
      "An object of class Seurat \n",
      "182425 features across 20000 samples within 3 assays \n",
      "Active assay: SCT (30904 features, 3000 variable features)\n",
      " 2 other assays present: RNA, ATAC\n",
      " 2 dimensional reductions calculated: pca, umap\n",
      "[1] QY_2233_2_QY_2232_2\n",
      "Levels: QY_2233_2_QY_2232_2\n",
      "Error: No cells found \n",
      "[1] QY_2233_2_QY_2232_2\n",
      "Levels: QY_2233_2_QY_2232_2\n",
      "An object of class Seurat \n",
      "183861 features across 20000 samples within 3 assays \n",
      "Active assay: SCT (30717 features, 3000 variable features)\n",
      " 2 other assays present: RNA, ATAC\n",
      " 2 dimensional reductions calculated: pca, umap\n",
      "[1] QY_2235_2_QY_2234_2\n",
      "Levels: QY_2235_2_QY_2234_2\n",
      "Error: No cells found \n",
      "[1] QY_2235_2_QY_2234_2\n",
      "Levels: QY_2235_2_QY_2234_2\n",
      "An object of class Seurat \n",
      "182516 features across 20000 samples within 3 assays \n",
      "Active assay: SCT (30992 features, 3000 variable features)\n",
      " 2 other assays present: RNA, ATAC\n",
      " 2 dimensional reductions calculated: pca, umap\n",
      "[1] QY_2237_2_QY_2236_2\n",
      "Levels: QY_2237_2_QY_2236_2\n",
      "Error: No cells found \n",
      "[1] QY_2237_2_QY_2236_2\n",
      "Levels: QY_2237_2_QY_2236_2\n",
      "An object of class Seurat \n",
      "181374 features across 19947 samples within 3 assays \n",
      "Active assay: SCT (30755 features, 3000 variable features)\n",
      " 2 other assays present: RNA, ATAC\n",
      " 2 dimensional reductions calculated: pca, umap\n",
      "[1] QY_2239_2_QY_2238_2\n",
      "Levels: QY_2239_2_QY_2238_2\n",
      "Error: No cells found \n",
      "[1] QY_2239_2_QY_2238_2\n",
      "Levels: QY_2239_2_QY_2238_2\n"
     ]
    }
   ],
   "source": [
    "for (o in objs) {\n",
    "    sobj <- readRDS(o)\n",
    "    print(sobj)\n",
    "    print(head(sobj@meta.data$orig.ident[1]))\n",
    "\n",
    "    \n",
    "    \n",
    "    tryCatch({\n",
    "            cells0cts <- subset(sobj, nCount_ATAC == 0)\n",
    "            print(cells0cts)\n",
    "            cells0cts <- subset(sobj, nFeature_ATAC == 0)\n",
    "            print(cells0cts)\n",
    "        \n",
    "       }, error = function(e) {\n",
    "     # If an error occurs, you can print a message or take other actions\n",
    "     cat(\"Error:\", conditionMessage(e), \"\\n\")\n",
    "     print(head(sobj@meta.data$orig.ident[1]))\n",
    "   })    \n",
    "\n",
    "}"
   ]
  },
  {
   "cell_type": "code",
   "execution_count": 9,
   "id": "06bf0ad4",
   "metadata": {},
   "outputs": [
    {
     "data": {
      "text/html": [
       "QY_2225_2_QY_2224_2\n",
       "<details>\n",
       "\t<summary style=display:list-item;cursor:pointer>\n",
       "\t\t<strong>Levels</strong>:\n",
       "\t</summary>\n",
       "\t'QY_2225_2_QY_2224_2'\n",
       "</details>"
      ],
      "text/latex": [
       "QY\\_2225\\_2\\_QY\\_2224\\_2\n",
       "\\emph{Levels}: 'QY\\_2225\\_2\\_QY\\_2224\\_2'"
      ],
      "text/markdown": [
       "QY_2225_2_QY_2224_2\n",
       "**Levels**: 'QY_2225_2_QY_2224_2'"
      ],
      "text/plain": [
       "[1] QY_2225_2_QY_2224_2\n",
       "Levels: QY_2225_2_QY_2224_2"
      ]
     },
     "metadata": {},
     "output_type": "display_data"
    }
   ],
   "source": []
  },
  {
   "cell_type": "code",
   "execution_count": null,
   "id": "45c4653b",
   "metadata": {},
   "outputs": [],
   "source": [
    "sobj"
   ]
  },
  {
   "cell_type": "code",
   "execution_count": 7,
   "id": "f5da479b",
   "metadata": {},
   "outputs": [
    {
     "name": "stderr",
     "output_type": "stream",
     "text": [
      "Loading required package: Signac\n",
      "\n"
     ]
    },
    {
     "ename": "ERROR",
     "evalue": "Error: No cells found\n",
     "output_type": "error",
     "traceback": [
      "Error: No cells found\nTraceback:\n",
      "1. subset(sobj, nCount_ATAC == 0)",
      "2. subset.Seurat(sobj, nCount_ATAC == 0)",
      "3. stop(\"No cells found\", call. = FALSE)"
     ]
    }
   ],
   "source": [
    "cells0cts <- subset(sobj, nCount_ATAC == 0)"
   ]
  },
  {
   "cell_type": "code",
   "execution_count": 8,
   "id": "8d5f2a1a",
   "metadata": {},
   "outputs": [
    {
     "ename": "ERROR",
     "evalue": "Error: No cells found\n",
     "output_type": "error",
     "traceback": [
      "Error: No cells found\nTraceback:\n",
      "1. subset(sobj, nFeature_ATAC == 0)",
      "2. subset.Seurat(sobj, nFeature_ATAC == 0)",
      "3. stop(\"No cells found\", call. = FALSE)"
     ]
    }
   ],
   "source": [
    "cells0cts <- subset(sobj, nCount_ATAC == 0)"
   ]
  },
  {
   "cell_type": "code",
   "execution_count": null,
   "id": "592d6767",
   "metadata": {},
   "outputs": [],
   "source": [
    "cells0cts"
   ]
  },
  {
   "cell_type": "code",
   "execution_count": 4,
   "id": "5420123e",
   "metadata": {},
   "outputs": [
    {
     "data": {
      "text/html": [
       "<style>\n",
       ".list-inline {list-style: none; margin:0; padding: 0}\n",
       ".list-inline>li {display: inline-block}\n",
       ".list-inline>li:not(:last-child)::after {content: \"\\00b7\"; padding: 0 .5ex}\n",
       "</style>\n",
       "<ol class=list-inline><li>'BARCODE'</li><li>'orig.ident'</li><li>'nCount_RNA'</li><li>'nFeature_RNA'</li><li>'nCount_ATAC'</li><li>'nFeature_ATAC'</li><li>'fragments_freq_count'</li><li>'FRiP'</li><li>'percent.mt'</li><li>'nCount_SCT'</li><li>'nFeature_SCT'</li><li>'INT_ID'</li><li>'NUM.SNPS'</li><li>'NUM.READS'</li><li>'DROPLET.TYPE'</li><li>'BEST.GUESS'</li><li>'BEST.LLK'</li><li>'NEXT.GUESS'</li><li>'NEXT.LLK'</li><li>'DIFF.LLK.BEST.NEXT'</li><li>'BEST.POSTERIOR'</li><li>'SNG.POSTERIOR'</li><li>'SNG.BEST.GUESS'</li><li>'SNG.BEST.LLK'</li><li>'SNG.NEXT.GUESS'</li><li>'SNG.NEXT.LLK'</li><li>'SNG.ONLY.POSTERIOR'</li><li>'DBL.BEST.GUESS'</li><li>'DBL.BEST.LLK'</li><li>'DIFF.LLK.SNG.DBL'</li></ol>\n"
      ],
      "text/latex": [
       "\\begin{enumerate*}\n",
       "\\item 'BARCODE'\n",
       "\\item 'orig.ident'\n",
       "\\item 'nCount\\_RNA'\n",
       "\\item 'nFeature\\_RNA'\n",
       "\\item 'nCount\\_ATAC'\n",
       "\\item 'nFeature\\_ATAC'\n",
       "\\item 'fragments\\_freq\\_count'\n",
       "\\item 'FRiP'\n",
       "\\item 'percent.mt'\n",
       "\\item 'nCount\\_SCT'\n",
       "\\item 'nFeature\\_SCT'\n",
       "\\item 'INT\\_ID'\n",
       "\\item 'NUM.SNPS'\n",
       "\\item 'NUM.READS'\n",
       "\\item 'DROPLET.TYPE'\n",
       "\\item 'BEST.GUESS'\n",
       "\\item 'BEST.LLK'\n",
       "\\item 'NEXT.GUESS'\n",
       "\\item 'NEXT.LLK'\n",
       "\\item 'DIFF.LLK.BEST.NEXT'\n",
       "\\item 'BEST.POSTERIOR'\n",
       "\\item 'SNG.POSTERIOR'\n",
       "\\item 'SNG.BEST.GUESS'\n",
       "\\item 'SNG.BEST.LLK'\n",
       "\\item 'SNG.NEXT.GUESS'\n",
       "\\item 'SNG.NEXT.LLK'\n",
       "\\item 'SNG.ONLY.POSTERIOR'\n",
       "\\item 'DBL.BEST.GUESS'\n",
       "\\item 'DBL.BEST.LLK'\n",
       "\\item 'DIFF.LLK.SNG.DBL'\n",
       "\\end{enumerate*}\n"
      ],
      "text/markdown": [
       "1. 'BARCODE'\n",
       "2. 'orig.ident'\n",
       "3. 'nCount_RNA'\n",
       "4. 'nFeature_RNA'\n",
       "5. 'nCount_ATAC'\n",
       "6. 'nFeature_ATAC'\n",
       "7. 'fragments_freq_count'\n",
       "8. 'FRiP'\n",
       "9. 'percent.mt'\n",
       "10. 'nCount_SCT'\n",
       "11. 'nFeature_SCT'\n",
       "12. 'INT_ID'\n",
       "13. 'NUM.SNPS'\n",
       "14. 'NUM.READS'\n",
       "15. 'DROPLET.TYPE'\n",
       "16. 'BEST.GUESS'\n",
       "17. 'BEST.LLK'\n",
       "18. 'NEXT.GUESS'\n",
       "19. 'NEXT.LLK'\n",
       "20. 'DIFF.LLK.BEST.NEXT'\n",
       "21. 'BEST.POSTERIOR'\n",
       "22. 'SNG.POSTERIOR'\n",
       "23. 'SNG.BEST.GUESS'\n",
       "24. 'SNG.BEST.LLK'\n",
       "25. 'SNG.NEXT.GUESS'\n",
       "26. 'SNG.NEXT.LLK'\n",
       "27. 'SNG.ONLY.POSTERIOR'\n",
       "28. 'DBL.BEST.GUESS'\n",
       "29. 'DBL.BEST.LLK'\n",
       "30. 'DIFF.LLK.SNG.DBL'\n",
       "\n",
       "\n"
      ],
      "text/plain": [
       " [1] \"BARCODE\"              \"orig.ident\"           \"nCount_RNA\"          \n",
       " [4] \"nFeature_RNA\"         \"nCount_ATAC\"          \"nFeature_ATAC\"       \n",
       " [7] \"fragments_freq_count\" \"FRiP\"                 \"percent.mt\"          \n",
       "[10] \"nCount_SCT\"           \"nFeature_SCT\"         \"INT_ID\"              \n",
       "[13] \"NUM.SNPS\"             \"NUM.READS\"            \"DROPLET.TYPE\"        \n",
       "[16] \"BEST.GUESS\"           \"BEST.LLK\"             \"NEXT.GUESS\"          \n",
       "[19] \"NEXT.LLK\"             \"DIFF.LLK.BEST.NEXT\"   \"BEST.POSTERIOR\"      \n",
       "[22] \"SNG.POSTERIOR\"        \"SNG.BEST.GUESS\"       \"SNG.BEST.LLK\"        \n",
       "[25] \"SNG.NEXT.GUESS\"       \"SNG.NEXT.LLK\"         \"SNG.ONLY.POSTERIOR\"  \n",
       "[28] \"DBL.BEST.GUESS\"       \"DBL.BEST.LLK\"         \"DIFF.LLK.SNG.DBL\"    "
      ]
     },
     "metadata": {},
     "output_type": "display_data"
    }
   ],
   "source": [
    "colnames(sobj@meta.data)"
   ]
  },
  {
   "cell_type": "code",
   "execution_count": 6,
   "id": "5bd42bfb",
   "metadata": {},
   "outputs": [
    {
     "data": {
      "text/html": [
       "<table class=\"dataframe\">\n",
       "<caption>A data.frame: 6 × 30</caption>\n",
       "<thead>\n",
       "\t<tr><th></th><th scope=col>BARCODE</th><th scope=col>orig.ident</th><th scope=col>nCount_RNA</th><th scope=col>nFeature_RNA</th><th scope=col>nCount_ATAC</th><th scope=col>nFeature_ATAC</th><th scope=col>fragments_freq_count</th><th scope=col>FRiP</th><th scope=col>percent.mt</th><th scope=col>nCount_SCT</th><th scope=col>nFeature_SCT</th><th scope=col>INT_ID</th><th scope=col>NUM.SNPS</th><th scope=col>NUM.READS</th><th scope=col>DROPLET.TYPE</th><th scope=col>BEST.GUESS</th><th scope=col>BEST.LLK</th><th scope=col>NEXT.GUESS</th><th scope=col>NEXT.LLK</th><th scope=col>DIFF.LLK.BEST.NEXT</th><th scope=col>BEST.POSTERIOR</th><th scope=col>SNG.POSTERIOR</th><th scope=col>SNG.BEST.GUESS</th><th scope=col>SNG.BEST.LLK</th><th scope=col>SNG.NEXT.GUESS</th><th scope=col>SNG.NEXT.LLK</th><th scope=col>SNG.ONLY.POSTERIOR</th><th scope=col>DBL.BEST.GUESS</th><th scope=col>DBL.BEST.LLK</th><th scope=col>DIFF.LLK.SNG.DBL</th></tr>\n",
       "\t<tr><th></th><th scope=col>&lt;chr&gt;</th><th scope=col>&lt;fct&gt;</th><th scope=col>&lt;dbl&gt;</th><th scope=col>&lt;int&gt;</th><th scope=col>&lt;dbl&gt;</th><th scope=col>&lt;int&gt;</th><th scope=col>&lt;dbl&gt;</th><th scope=col>&lt;dbl&gt;</th><th scope=col>&lt;dbl&gt;</th><th scope=col>&lt;dbl&gt;</th><th scope=col>&lt;int&gt;</th><th scope=col>&lt;int&gt;</th><th scope=col>&lt;int&gt;</th><th scope=col>&lt;int&gt;</th><th scope=col>&lt;chr&gt;</th><th scope=col>&lt;chr&gt;</th><th scope=col>&lt;dbl&gt;</th><th scope=col>&lt;chr&gt;</th><th scope=col>&lt;dbl&gt;</th><th scope=col>&lt;dbl&gt;</th><th scope=col>&lt;dbl&gt;</th><th scope=col>&lt;dbl&gt;</th><th scope=col>&lt;chr&gt;</th><th scope=col>&lt;dbl&gt;</th><th scope=col>&lt;chr&gt;</th><th scope=col>&lt;dbl&gt;</th><th scope=col>&lt;dbl&gt;</th><th scope=col>&lt;chr&gt;</th><th scope=col>&lt;dbl&gt;</th><th scope=col>&lt;dbl&gt;</th></tr>\n",
       "</thead>\n",
       "<tbody>\n",
       "\t<tr><th scope=row>1</th><td>AAACAGCCAAACGGGC-1</td><td>QY_2225_2_QY_2224_2</td><td> 6581</td><td>3072</td><td>5854</td><td>2926</td><td> 9272</td><td>0.6313632</td><td>1.1092539</td><td>6172</td><td>3071</td><td>  7</td><td>1349</td><td>1351</td><td>SNG</td><td>UCSDX51_UCSDX51,UCSDX51_UCSDX51,0.00</td><td>-243.32</td><td>D381_D381,UCSDX51_UCSDX51,0.50      </td><td>-301.66</td><td>58.34</td><td> -2.5e+02</td><td>1</td><td>UCSDX51_UCSDX51</td><td>-243.32</td><td>D371_D371      </td><td>-574.97</td><td>0</td><td>D381_D381,UCSDX51_UCSDX51,0.50      </td><td>-301.66</td><td>  58.34</td></tr>\n",
       "\t<tr><th scope=row>2</th><td>AAACAGCCAAAGGTAC-1</td><td>QY_2225_2_QY_2224_2</td><td> 6785</td><td>2512</td><td>2357</td><td>1209</td><td> 3871</td><td>0.6088866</td><td>3.3898305</td><td>6013</td><td>2512</td><td> 18</td><td> 672</td><td> 743</td><td>SNG</td><td>D265_D265,D265_D265,0.00            </td><td>-173.03</td><td>D265_D265,UCSDX3_UCSDX3,0.50        </td><td>-182.59</td><td> 9.56</td><td> -1.8e+02</td><td>1</td><td>D265_D265      </td><td>-173.03</td><td>UCSDX3_UCSDX3  </td><td>-291.65</td><td>0</td><td>D265_D265,UCSDX3_UCSDX3,0.50        </td><td>-182.59</td><td>   9.56</td></tr>\n",
       "\t<tr><th scope=row>3</th><td>AAACAGCCAAATACCT-1</td><td>QY_2225_2_QY_2224_2</td><td>  773</td><td> 607</td><td>2335</td><td>1213</td><td> 3731</td><td>0.6258376</td><td>1.1642950</td><td>4272</td><td>1536</td><td> 19</td><td> 378</td><td> 378</td><td>SNG</td><td>UCSDX19_UCSDX19,UCSDX19_UCSDX19,0.00</td><td> -68.06</td><td>UCSDX19_UCSDX19,UCSDX31_UCSDX31,0.50</td><td> -79.20</td><td>11.14</td><td> -7.2e+01</td><td>1</td><td>UCSDX19_UCSDX19</td><td> -68.06</td><td>UCSDX51_UCSDX51</td><td>-145.11</td><td>0</td><td>UCSDX19_UCSDX19,UCSDX31_UCSDX31,0.50</td><td> -79.20</td><td>  11.14</td></tr>\n",
       "\t<tr><th scope=row>4</th><td>AAACAGCCAATTGACT-1</td><td>QY_2225_2_QY_2224_2</td><td> 1709</td><td>1121</td><td>8280</td><td>4112</td><td>20682</td><td>0.4003481</td><td>2.5746050</td><td>4407</td><td>1349</td><td>102</td><td>1938</td><td>1938</td><td>SNG</td><td>UCSDX42_UCSDX42,UCSDX42_UCSDX42,0.00</td><td>-391.82</td><td>UCSDX40_UCSDX40,UCSDX42_UCSDX42,0.50</td><td>-486.25</td><td>94.43</td><td> -4.0e+02</td><td>1</td><td>UCSDX42_UCSDX42</td><td>-391.82</td><td>UCSDX40_UCSDX40</td><td>-956.91</td><td>0</td><td>UCSDX40_UCSDX40,UCSDX42_UCSDX42,0.50</td><td>-486.25</td><td>  94.43</td></tr>\n",
       "\t<tr><th scope=row>5</th><td>AAACAGCCACATAGCC-1</td><td>QY_2225_2_QY_2224_2</td><td> 5791</td><td>2752</td><td>  84</td><td>  43</td><td>   81</td><td>1.0370370</td><td>0.4144362</td><td>5755</td><td>2752</td><td>132</td><td> 312</td><td> 317</td><td>SNG</td><td>D339_D339,D339_D339,0.00            </td><td> -45.57</td><td>D339_D339,D371_D371,0.50            </td><td> -62.54</td><td>16.96</td><td> -5.0e+01</td><td>1</td><td>D339_D339      </td><td> -45.57</td><td>UCSDX2_UCSDX2  </td><td>-129.87</td><td>0</td><td>D339_D339,D371_D371,0.50            </td><td> -62.54</td><td>  16.96</td></tr>\n",
       "\t<tr><th scope=row>6</th><td>AAACAGCCACCAGCAT-1</td><td>QY_2225_2_QY_2224_2</td><td>13831</td><td>4553</td><td>7542</td><td>3804</td><td> 9703</td><td>0.7772854</td><td>0.6217916</td><td>6228</td><td>3301</td><td>139</td><td>1859</td><td>1884</td><td>DBL</td><td>UCSDX19_UCSDX19,UCSDX44_UCSDX44,0.50</td><td>-468.25</td><td>UCSDX44_UCSDX44,UCSDX19_UCSDX19,0.50</td><td>-468.25</td><td> 0.00</td><td> 5.0e-207</td><td>1</td><td>UCSDX44_UCSDX44</td><td>-625.03</td><td>UCSDX19_UCSDX19</td><td>-680.52</td><td>0</td><td>UCSDX19_UCSDX19,UCSDX44_UCSDX44,0.50</td><td>-468.25</td><td>-156.78</td></tr>\n",
       "</tbody>\n",
       "</table>\n"
      ],
      "text/latex": [
       "A data.frame: 6 × 30\n",
       "\\begin{tabular}{r|llllllllllllllllllllllllllllll}\n",
       "  & BARCODE & orig.ident & nCount\\_RNA & nFeature\\_RNA & nCount\\_ATAC & nFeature\\_ATAC & fragments\\_freq\\_count & FRiP & percent.mt & nCount\\_SCT & nFeature\\_SCT & INT\\_ID & NUM.SNPS & NUM.READS & DROPLET.TYPE & BEST.GUESS & BEST.LLK & NEXT.GUESS & NEXT.LLK & DIFF.LLK.BEST.NEXT & BEST.POSTERIOR & SNG.POSTERIOR & SNG.BEST.GUESS & SNG.BEST.LLK & SNG.NEXT.GUESS & SNG.NEXT.LLK & SNG.ONLY.POSTERIOR & DBL.BEST.GUESS & DBL.BEST.LLK & DIFF.LLK.SNG.DBL\\\\\n",
       "  & <chr> & <fct> & <dbl> & <int> & <dbl> & <int> & <dbl> & <dbl> & <dbl> & <dbl> & <int> & <int> & <int> & <int> & <chr> & <chr> & <dbl> & <chr> & <dbl> & <dbl> & <dbl> & <dbl> & <chr> & <dbl> & <chr> & <dbl> & <dbl> & <chr> & <dbl> & <dbl>\\\\\n",
       "\\hline\n",
       "\t1 & AAACAGCCAAACGGGC-1 & QY\\_2225\\_2\\_QY\\_2224\\_2 &  6581 & 3072 & 5854 & 2926 &  9272 & 0.6313632 & 1.1092539 & 6172 & 3071 &   7 & 1349 & 1351 & SNG & UCSDX51\\_UCSDX51,UCSDX51\\_UCSDX51,0.00 & -243.32 & D381\\_D381,UCSDX51\\_UCSDX51,0.50       & -301.66 & 58.34 &  -2.5e+02 & 1 & UCSDX51\\_UCSDX51 & -243.32 & D371\\_D371       & -574.97 & 0 & D381\\_D381,UCSDX51\\_UCSDX51,0.50       & -301.66 &   58.34\\\\\n",
       "\t2 & AAACAGCCAAAGGTAC-1 & QY\\_2225\\_2\\_QY\\_2224\\_2 &  6785 & 2512 & 2357 & 1209 &  3871 & 0.6088866 & 3.3898305 & 6013 & 2512 &  18 &  672 &  743 & SNG & D265\\_D265,D265\\_D265,0.00             & -173.03 & D265\\_D265,UCSDX3\\_UCSDX3,0.50         & -182.59 &  9.56 &  -1.8e+02 & 1 & D265\\_D265       & -173.03 & UCSDX3\\_UCSDX3   & -291.65 & 0 & D265\\_D265,UCSDX3\\_UCSDX3,0.50         & -182.59 &    9.56\\\\\n",
       "\t3 & AAACAGCCAAATACCT-1 & QY\\_2225\\_2\\_QY\\_2224\\_2 &   773 &  607 & 2335 & 1213 &  3731 & 0.6258376 & 1.1642950 & 4272 & 1536 &  19 &  378 &  378 & SNG & UCSDX19\\_UCSDX19,UCSDX19\\_UCSDX19,0.00 &  -68.06 & UCSDX19\\_UCSDX19,UCSDX31\\_UCSDX31,0.50 &  -79.20 & 11.14 &  -7.2e+01 & 1 & UCSDX19\\_UCSDX19 &  -68.06 & UCSDX51\\_UCSDX51 & -145.11 & 0 & UCSDX19\\_UCSDX19,UCSDX31\\_UCSDX31,0.50 &  -79.20 &   11.14\\\\\n",
       "\t4 & AAACAGCCAATTGACT-1 & QY\\_2225\\_2\\_QY\\_2224\\_2 &  1709 & 1121 & 8280 & 4112 & 20682 & 0.4003481 & 2.5746050 & 4407 & 1349 & 102 & 1938 & 1938 & SNG & UCSDX42\\_UCSDX42,UCSDX42\\_UCSDX42,0.00 & -391.82 & UCSDX40\\_UCSDX40,UCSDX42\\_UCSDX42,0.50 & -486.25 & 94.43 &  -4.0e+02 & 1 & UCSDX42\\_UCSDX42 & -391.82 & UCSDX40\\_UCSDX40 & -956.91 & 0 & UCSDX40\\_UCSDX40,UCSDX42\\_UCSDX42,0.50 & -486.25 &   94.43\\\\\n",
       "\t5 & AAACAGCCACATAGCC-1 & QY\\_2225\\_2\\_QY\\_2224\\_2 &  5791 & 2752 &   84 &   43 &    81 & 1.0370370 & 0.4144362 & 5755 & 2752 & 132 &  312 &  317 & SNG & D339\\_D339,D339\\_D339,0.00             &  -45.57 & D339\\_D339,D371\\_D371,0.50             &  -62.54 & 16.96 &  -5.0e+01 & 1 & D339\\_D339       &  -45.57 & UCSDX2\\_UCSDX2   & -129.87 & 0 & D339\\_D339,D371\\_D371,0.50             &  -62.54 &   16.96\\\\\n",
       "\t6 & AAACAGCCACCAGCAT-1 & QY\\_2225\\_2\\_QY\\_2224\\_2 & 13831 & 4553 & 7542 & 3804 &  9703 & 0.7772854 & 0.6217916 & 6228 & 3301 & 139 & 1859 & 1884 & DBL & UCSDX19\\_UCSDX19,UCSDX44\\_UCSDX44,0.50 & -468.25 & UCSDX44\\_UCSDX44,UCSDX19\\_UCSDX19,0.50 & -468.25 &  0.00 &  5.0e-207 & 1 & UCSDX44\\_UCSDX44 & -625.03 & UCSDX19\\_UCSDX19 & -680.52 & 0 & UCSDX19\\_UCSDX19,UCSDX44\\_UCSDX44,0.50 & -468.25 & -156.78\\\\\n",
       "\\end{tabular}\n"
      ],
      "text/markdown": [
       "\n",
       "A data.frame: 6 × 30\n",
       "\n",
       "| <!--/--> | BARCODE &lt;chr&gt; | orig.ident &lt;fct&gt; | nCount_RNA &lt;dbl&gt; | nFeature_RNA &lt;int&gt; | nCount_ATAC &lt;dbl&gt; | nFeature_ATAC &lt;int&gt; | fragments_freq_count &lt;dbl&gt; | FRiP &lt;dbl&gt; | percent.mt &lt;dbl&gt; | nCount_SCT &lt;dbl&gt; | nFeature_SCT &lt;int&gt; | INT_ID &lt;int&gt; | NUM.SNPS &lt;int&gt; | NUM.READS &lt;int&gt; | DROPLET.TYPE &lt;chr&gt; | BEST.GUESS &lt;chr&gt; | BEST.LLK &lt;dbl&gt; | NEXT.GUESS &lt;chr&gt; | NEXT.LLK &lt;dbl&gt; | DIFF.LLK.BEST.NEXT &lt;dbl&gt; | BEST.POSTERIOR &lt;dbl&gt; | SNG.POSTERIOR &lt;dbl&gt; | SNG.BEST.GUESS &lt;chr&gt; | SNG.BEST.LLK &lt;dbl&gt; | SNG.NEXT.GUESS &lt;chr&gt; | SNG.NEXT.LLK &lt;dbl&gt; | SNG.ONLY.POSTERIOR &lt;dbl&gt; | DBL.BEST.GUESS &lt;chr&gt; | DBL.BEST.LLK &lt;dbl&gt; | DIFF.LLK.SNG.DBL &lt;dbl&gt; |\n",
       "|---|---|---|---|---|---|---|---|---|---|---|---|---|---|---|---|---|---|---|---|---|---|---|---|---|---|---|---|---|---|---|\n",
       "| 1 | AAACAGCCAAACGGGC-1 | QY_2225_2_QY_2224_2 |  6581 | 3072 | 5854 | 2926 |  9272 | 0.6313632 | 1.1092539 | 6172 | 3071 |   7 | 1349 | 1351 | SNG | UCSDX51_UCSDX51,UCSDX51_UCSDX51,0.00 | -243.32 | D381_D381,UCSDX51_UCSDX51,0.50       | -301.66 | 58.34 |  -2.5e+02 | 1 | UCSDX51_UCSDX51 | -243.32 | D371_D371       | -574.97 | 0 | D381_D381,UCSDX51_UCSDX51,0.50       | -301.66 |   58.34 |\n",
       "| 2 | AAACAGCCAAAGGTAC-1 | QY_2225_2_QY_2224_2 |  6785 | 2512 | 2357 | 1209 |  3871 | 0.6088866 | 3.3898305 | 6013 | 2512 |  18 |  672 |  743 | SNG | D265_D265,D265_D265,0.00             | -173.03 | D265_D265,UCSDX3_UCSDX3,0.50         | -182.59 |  9.56 |  -1.8e+02 | 1 | D265_D265       | -173.03 | UCSDX3_UCSDX3   | -291.65 | 0 | D265_D265,UCSDX3_UCSDX3,0.50         | -182.59 |    9.56 |\n",
       "| 3 | AAACAGCCAAATACCT-1 | QY_2225_2_QY_2224_2 |   773 |  607 | 2335 | 1213 |  3731 | 0.6258376 | 1.1642950 | 4272 | 1536 |  19 |  378 |  378 | SNG | UCSDX19_UCSDX19,UCSDX19_UCSDX19,0.00 |  -68.06 | UCSDX19_UCSDX19,UCSDX31_UCSDX31,0.50 |  -79.20 | 11.14 |  -7.2e+01 | 1 | UCSDX19_UCSDX19 |  -68.06 | UCSDX51_UCSDX51 | -145.11 | 0 | UCSDX19_UCSDX19,UCSDX31_UCSDX31,0.50 |  -79.20 |   11.14 |\n",
       "| 4 | AAACAGCCAATTGACT-1 | QY_2225_2_QY_2224_2 |  1709 | 1121 | 8280 | 4112 | 20682 | 0.4003481 | 2.5746050 | 4407 | 1349 | 102 | 1938 | 1938 | SNG | UCSDX42_UCSDX42,UCSDX42_UCSDX42,0.00 | -391.82 | UCSDX40_UCSDX40,UCSDX42_UCSDX42,0.50 | -486.25 | 94.43 |  -4.0e+02 | 1 | UCSDX42_UCSDX42 | -391.82 | UCSDX40_UCSDX40 | -956.91 | 0 | UCSDX40_UCSDX40,UCSDX42_UCSDX42,0.50 | -486.25 |   94.43 |\n",
       "| 5 | AAACAGCCACATAGCC-1 | QY_2225_2_QY_2224_2 |  5791 | 2752 |   84 |   43 |    81 | 1.0370370 | 0.4144362 | 5755 | 2752 | 132 |  312 |  317 | SNG | D339_D339,D339_D339,0.00             |  -45.57 | D339_D339,D371_D371,0.50             |  -62.54 | 16.96 |  -5.0e+01 | 1 | D339_D339       |  -45.57 | UCSDX2_UCSDX2   | -129.87 | 0 | D339_D339,D371_D371,0.50             |  -62.54 |   16.96 |\n",
       "| 6 | AAACAGCCACCAGCAT-1 | QY_2225_2_QY_2224_2 | 13831 | 4553 | 7542 | 3804 |  9703 | 0.7772854 | 0.6217916 | 6228 | 3301 | 139 | 1859 | 1884 | DBL | UCSDX19_UCSDX19,UCSDX44_UCSDX44,0.50 | -468.25 | UCSDX44_UCSDX44,UCSDX19_UCSDX19,0.50 | -468.25 |  0.00 |  5.0e-207 | 1 | UCSDX44_UCSDX44 | -625.03 | UCSDX19_UCSDX19 | -680.52 | 0 | UCSDX19_UCSDX19,UCSDX44_UCSDX44,0.50 | -468.25 | -156.78 |\n",
       "\n"
      ],
      "text/plain": [
       "  BARCODE            orig.ident          nCount_RNA nFeature_RNA nCount_ATAC\n",
       "1 AAACAGCCAAACGGGC-1 QY_2225_2_QY_2224_2  6581      3072         5854       \n",
       "2 AAACAGCCAAAGGTAC-1 QY_2225_2_QY_2224_2  6785      2512         2357       \n",
       "3 AAACAGCCAAATACCT-1 QY_2225_2_QY_2224_2   773       607         2335       \n",
       "4 AAACAGCCAATTGACT-1 QY_2225_2_QY_2224_2  1709      1121         8280       \n",
       "5 AAACAGCCACATAGCC-1 QY_2225_2_QY_2224_2  5791      2752           84       \n",
       "6 AAACAGCCACCAGCAT-1 QY_2225_2_QY_2224_2 13831      4553         7542       \n",
       "  nFeature_ATAC fragments_freq_count FRiP      percent.mt nCount_SCT\n",
       "1 2926           9272                0.6313632 1.1092539  6172      \n",
       "2 1209           3871                0.6088866 3.3898305  6013      \n",
       "3 1213           3731                0.6258376 1.1642950  4272      \n",
       "4 4112          20682                0.4003481 2.5746050  4407      \n",
       "5   43             81                1.0370370 0.4144362  5755      \n",
       "6 3804           9703                0.7772854 0.6217916  6228      \n",
       "  nFeature_SCT INT_ID NUM.SNPS NUM.READS DROPLET.TYPE\n",
       "1 3071           7    1349     1351      SNG         \n",
       "2 2512          18     672      743      SNG         \n",
       "3 1536          19     378      378      SNG         \n",
       "4 1349         102    1938     1938      SNG         \n",
       "5 2752         132     312      317      SNG         \n",
       "6 3301         139    1859     1884      DBL         \n",
       "  BEST.GUESS                           BEST.LLK\n",
       "1 UCSDX51_UCSDX51,UCSDX51_UCSDX51,0.00 -243.32 \n",
       "2 D265_D265,D265_D265,0.00             -173.03 \n",
       "3 UCSDX19_UCSDX19,UCSDX19_UCSDX19,0.00  -68.06 \n",
       "4 UCSDX42_UCSDX42,UCSDX42_UCSDX42,0.00 -391.82 \n",
       "5 D339_D339,D339_D339,0.00              -45.57 \n",
       "6 UCSDX19_UCSDX19,UCSDX44_UCSDX44,0.50 -468.25 \n",
       "  NEXT.GUESS                           NEXT.LLK DIFF.LLK.BEST.NEXT\n",
       "1 D381_D381,UCSDX51_UCSDX51,0.50       -301.66  58.34             \n",
       "2 D265_D265,UCSDX3_UCSDX3,0.50         -182.59   9.56             \n",
       "3 UCSDX19_UCSDX19,UCSDX31_UCSDX31,0.50  -79.20  11.14             \n",
       "4 UCSDX40_UCSDX40,UCSDX42_UCSDX42,0.50 -486.25  94.43             \n",
       "5 D339_D339,D371_D371,0.50              -62.54  16.96             \n",
       "6 UCSDX44_UCSDX44,UCSDX19_UCSDX19,0.50 -468.25   0.00             \n",
       "  BEST.POSTERIOR SNG.POSTERIOR SNG.BEST.GUESS  SNG.BEST.LLK SNG.NEXT.GUESS \n",
       "1  -2.5e+02      1             UCSDX51_UCSDX51 -243.32      D371_D371      \n",
       "2  -1.8e+02      1             D265_D265       -173.03      UCSDX3_UCSDX3  \n",
       "3  -7.2e+01      1             UCSDX19_UCSDX19  -68.06      UCSDX51_UCSDX51\n",
       "4  -4.0e+02      1             UCSDX42_UCSDX42 -391.82      UCSDX40_UCSDX40\n",
       "5  -5.0e+01      1             D339_D339        -45.57      UCSDX2_UCSDX2  \n",
       "6  5.0e-207      1             UCSDX44_UCSDX44 -625.03      UCSDX19_UCSDX19\n",
       "  SNG.NEXT.LLK SNG.ONLY.POSTERIOR DBL.BEST.GUESS                      \n",
       "1 -574.97      0                  D381_D381,UCSDX51_UCSDX51,0.50      \n",
       "2 -291.65      0                  D265_D265,UCSDX3_UCSDX3,0.50        \n",
       "3 -145.11      0                  UCSDX19_UCSDX19,UCSDX31_UCSDX31,0.50\n",
       "4 -956.91      0                  UCSDX40_UCSDX40,UCSDX42_UCSDX42,0.50\n",
       "5 -129.87      0                  D339_D339,D371_D371,0.50            \n",
       "6 -680.52      0                  UCSDX19_UCSDX19,UCSDX44_UCSDX44,0.50\n",
       "  DBL.BEST.LLK DIFF.LLK.SNG.DBL\n",
       "1 -301.66        58.34         \n",
       "2 -182.59         9.56         \n",
       "3  -79.20        11.14         \n",
       "4 -486.25        94.43         \n",
       "5  -62.54        16.96         \n",
       "6 -468.25      -156.78         "
      ]
     },
     "metadata": {},
     "output_type": "display_data"
    }
   ],
   "source": [
    "library(repr)\n",
    "options(repr.matrix.max.cols=50, repr.matrix.max.rows=100)\n",
    "\n",
    "head(sobj@meta.data)"
   ]
  }
 ],
 "metadata": {
  "kernelspec": {
   "display_name": "R [conda env:ressen3]",
   "language": "R",
   "name": "conda-env-ressen3-r"
  },
  "language_info": {
   "codemirror_mode": "r",
   "file_extension": ".r",
   "mimetype": "text/x-r-source",
   "name": "R",
   "pygments_lexer": "r",
   "version": "4.1.1"
  }
 },
 "nbformat": 4,
 "nbformat_minor": 5
}
