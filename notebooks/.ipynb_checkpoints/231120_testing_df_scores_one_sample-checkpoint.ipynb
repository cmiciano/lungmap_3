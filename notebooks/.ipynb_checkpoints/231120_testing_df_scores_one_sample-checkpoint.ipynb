{
 "cells": [
  {
   "cell_type": "code",
   "execution_count": null,
   "id": "151071e2",
   "metadata": {},
   "outputs": [],
   "source": [
    "library(Seurat)\n",
    "library(Signac)"
   ]
  },
  {
   "cell_type": "code",
   "execution_count": null,
   "id": "2837ba31",
   "metadata": {},
   "outputs": [],
   "source": [
    "# compare demuxlet doublet calls vs doubletfinder\n",
    "# for a sample"
   ]
  },
  {
   "cell_type": "code",
   "execution_count": null,
   "id": "cb006aba",
   "metadata": {},
   "outputs": [],
   "source": [
    "### for the merged and clustered object, originally skipped cellbender and doubletfinder"
   ]
  },
  {
   "cell_type": "code",
   "execution_count": 1,
   "id": "bd5668c9",
   "metadata": {},
   "outputs": [],
   "source": [
    "sobj <- readRDS('/projects/ps-epigen/users/cmiciano/Lung/lungmap_3/05_multiome_md_merge_8/231108_01_merged_multiome_lung8.RDS')"
   ]
  },
  {
   "cell_type": "code",
   "execution_count": 2,
   "id": "50581001",
   "metadata": {},
   "outputs": [
    {
     "name": "stderr",
     "output_type": "stream",
     "text": [
      "Loading required package: SeuratObject\n",
      "\n",
      "Warning message:\n",
      "“package ‘SeuratObject’ was built under R version 4.1.3”\n",
      "Loading required package: sp\n",
      "\n",
      "The legacy packages maptools, rgdal, and rgeos, underpinning the sp package,\n",
      "which was just loaded, will retire in October 2023.\n",
      "Please refer to R-spatial evolution reports for details, especially\n",
      "https://r-spatial.org/r/2023/05/15/evolution4.html.\n",
      "It may be desirable to make the sf package available;\n",
      "package maintainers should consider adding sf to Suggests:.\n",
      "The sp package is now running under evolution status 2\n",
      "     (status 2 uses the sf package in place of rgdal)\n",
      "\n",
      "Loading required package: Seurat\n",
      "\n",
      "Loading required package: Signac\n",
      "\n"
     ]
    },
    {
     "data": {
      "text/plain": [
       "An object of class Seurat \n",
       "242016 features across 159947 samples within 3 assays \n",
       "Active assay: ATAC_comb (172997 features, 0 variable features)\n",
       " 2 other assays present: RNA, SCT"
      ]
     },
     "metadata": {},
     "output_type": "display_data"
    }
   ],
   "source": [
    "sobj"
   ]
  },
  {
   "cell_type": "code",
   "execution_count": 3,
   "id": "0d5da594",
   "metadata": {},
   "outputs": [
    {
     "data": {
      "text/html": [
       "<style>\n",
       ".list-inline {list-style: none; margin:0; padding: 0}\n",
       ".list-inline>li {display: inline-block}\n",
       ".list-inline>li:not(:last-child)::after {content: \"\\00b7\"; padding: 0 .5ex}\n",
       "</style>\n",
       "<ol class=list-inline><li>'BARCODE'</li><li>'orig.ident'</li><li>'nCount_RNA'</li><li>'nFeature_RNA'</li><li>'nCount_ATAC'</li><li>'nFeature_ATAC'</li><li>'fragments_freq_count'</li><li>'FRiP'</li><li>'percent.mt'</li><li>'nCount_SCT'</li><li>'nFeature_SCT'</li><li>'INT_ID'</li><li>'NUM.SNPS'</li><li>'NUM.READS'</li><li>'DROPLET.TYPE'</li><li>'BEST.GUESS'</li><li>'BEST.LLK'</li><li>'NEXT.GUESS'</li><li>'NEXT.LLK'</li><li>'DIFF.LLK.BEST.NEXT'</li><li>'BEST.POSTERIOR'</li><li>'SNG.POSTERIOR'</li><li>'SNG.BEST.GUESS'</li><li>'SNG.BEST.LLK'</li><li>'SNG.NEXT.GUESS'</li><li>'SNG.NEXT.LLK'</li><li>'SNG.ONLY.POSTERIOR'</li><li>'DBL.BEST.GUESS'</li><li>'DBL.BEST.LLK'</li><li>'DIFF.LLK.SNG.DBL'</li><li>'nCount_ATAC_comb'</li><li>'nFeature_ATAC_comb'</li></ol>\n"
      ],
      "text/latex": [
       "\\begin{enumerate*}\n",
       "\\item 'BARCODE'\n",
       "\\item 'orig.ident'\n",
       "\\item 'nCount\\_RNA'\n",
       "\\item 'nFeature\\_RNA'\n",
       "\\item 'nCount\\_ATAC'\n",
       "\\item 'nFeature\\_ATAC'\n",
       "\\item 'fragments\\_freq\\_count'\n",
       "\\item 'FRiP'\n",
       "\\item 'percent.mt'\n",
       "\\item 'nCount\\_SCT'\n",
       "\\item 'nFeature\\_SCT'\n",
       "\\item 'INT\\_ID'\n",
       "\\item 'NUM.SNPS'\n",
       "\\item 'NUM.READS'\n",
       "\\item 'DROPLET.TYPE'\n",
       "\\item 'BEST.GUESS'\n",
       "\\item 'BEST.LLK'\n",
       "\\item 'NEXT.GUESS'\n",
       "\\item 'NEXT.LLK'\n",
       "\\item 'DIFF.LLK.BEST.NEXT'\n",
       "\\item 'BEST.POSTERIOR'\n",
       "\\item 'SNG.POSTERIOR'\n",
       "\\item 'SNG.BEST.GUESS'\n",
       "\\item 'SNG.BEST.LLK'\n",
       "\\item 'SNG.NEXT.GUESS'\n",
       "\\item 'SNG.NEXT.LLK'\n",
       "\\item 'SNG.ONLY.POSTERIOR'\n",
       "\\item 'DBL.BEST.GUESS'\n",
       "\\item 'DBL.BEST.LLK'\n",
       "\\item 'DIFF.LLK.SNG.DBL'\n",
       "\\item 'nCount\\_ATAC\\_comb'\n",
       "\\item 'nFeature\\_ATAC\\_comb'\n",
       "\\end{enumerate*}\n"
      ],
      "text/markdown": [
       "1. 'BARCODE'\n",
       "2. 'orig.ident'\n",
       "3. 'nCount_RNA'\n",
       "4. 'nFeature_RNA'\n",
       "5. 'nCount_ATAC'\n",
       "6. 'nFeature_ATAC'\n",
       "7. 'fragments_freq_count'\n",
       "8. 'FRiP'\n",
       "9. 'percent.mt'\n",
       "10. 'nCount_SCT'\n",
       "11. 'nFeature_SCT'\n",
       "12. 'INT_ID'\n",
       "13. 'NUM.SNPS'\n",
       "14. 'NUM.READS'\n",
       "15. 'DROPLET.TYPE'\n",
       "16. 'BEST.GUESS'\n",
       "17. 'BEST.LLK'\n",
       "18. 'NEXT.GUESS'\n",
       "19. 'NEXT.LLK'\n",
       "20. 'DIFF.LLK.BEST.NEXT'\n",
       "21. 'BEST.POSTERIOR'\n",
       "22. 'SNG.POSTERIOR'\n",
       "23. 'SNG.BEST.GUESS'\n",
       "24. 'SNG.BEST.LLK'\n",
       "25. 'SNG.NEXT.GUESS'\n",
       "26. 'SNG.NEXT.LLK'\n",
       "27. 'SNG.ONLY.POSTERIOR'\n",
       "28. 'DBL.BEST.GUESS'\n",
       "29. 'DBL.BEST.LLK'\n",
       "30. 'DIFF.LLK.SNG.DBL'\n",
       "31. 'nCount_ATAC_comb'\n",
       "32. 'nFeature_ATAC_comb'\n",
       "\n",
       "\n"
      ],
      "text/plain": [
       " [1] \"BARCODE\"              \"orig.ident\"           \"nCount_RNA\"          \n",
       " [4] \"nFeature_RNA\"         \"nCount_ATAC\"          \"nFeature_ATAC\"       \n",
       " [7] \"fragments_freq_count\" \"FRiP\"                 \"percent.mt\"          \n",
       "[10] \"nCount_SCT\"           \"nFeature_SCT\"         \"INT_ID\"              \n",
       "[13] \"NUM.SNPS\"             \"NUM.READS\"            \"DROPLET.TYPE\"        \n",
       "[16] \"BEST.GUESS\"           \"BEST.LLK\"             \"NEXT.GUESS\"          \n",
       "[19] \"NEXT.LLK\"             \"DIFF.LLK.BEST.NEXT\"   \"BEST.POSTERIOR\"      \n",
       "[22] \"SNG.POSTERIOR\"        \"SNG.BEST.GUESS\"       \"SNG.BEST.LLK\"        \n",
       "[25] \"SNG.NEXT.GUESS\"       \"SNG.NEXT.LLK\"         \"SNG.ONLY.POSTERIOR\"  \n",
       "[28] \"DBL.BEST.GUESS\"       \"DBL.BEST.LLK\"         \"DIFF.LLK.SNG.DBL\"    \n",
       "[31] \"nCount_ATAC_comb\"     \"nFeature_ATAC_comb\"  "
      ]
     },
     "metadata": {},
     "output_type": "display_data"
    }
   ],
   "source": [
    "colnames(sobj@meta.data)"
   ]
  },
  {
   "cell_type": "code",
   "execution_count": 8,
   "id": "da0c2cf6",
   "metadata": {},
   "outputs": [
    {
     "data": {
      "text/html": [
       "<table class=\"dataframe\">\n",
       "<caption>A data.frame: 6 × 32</caption>\n",
       "<thead>\n",
       "\t<tr><th></th><th scope=col>BARCODE</th><th scope=col>orig.ident</th><th scope=col>nCount_RNA</th><th scope=col>nFeature_RNA</th><th scope=col>nCount_ATAC</th><th scope=col>nFeature_ATAC</th><th scope=col>fragments_freq_count</th><th scope=col>FRiP</th><th scope=col>percent.mt</th><th scope=col>nCount_SCT</th><th scope=col>nFeature_SCT</th><th scope=col>INT_ID</th><th scope=col>NUM.SNPS</th><th scope=col>NUM.READS</th><th scope=col>DROPLET.TYPE</th><th scope=col>BEST.GUESS</th><th scope=col>BEST.LLK</th><th scope=col>NEXT.GUESS</th><th scope=col>NEXT.LLK</th><th scope=col>DIFF.LLK.BEST.NEXT</th><th scope=col>BEST.POSTERIOR</th><th scope=col>SNG.POSTERIOR</th><th scope=col>SNG.BEST.GUESS</th><th scope=col>SNG.BEST.LLK</th><th scope=col>SNG.NEXT.GUESS</th><th scope=col>SNG.NEXT.LLK</th><th scope=col>SNG.ONLY.POSTERIOR</th><th scope=col>DBL.BEST.GUESS</th><th scope=col>DBL.BEST.LLK</th><th scope=col>DIFF.LLK.SNG.DBL</th><th scope=col>nCount_ATAC_comb</th><th scope=col>nFeature_ATAC_comb</th></tr>\n",
       "\t<tr><th></th><th scope=col>&lt;chr&gt;</th><th scope=col>&lt;chr&gt;</th><th scope=col>&lt;dbl&gt;</th><th scope=col>&lt;int&gt;</th><th scope=col>&lt;dbl&gt;</th><th scope=col>&lt;int&gt;</th><th scope=col>&lt;dbl&gt;</th><th scope=col>&lt;dbl&gt;</th><th scope=col>&lt;dbl&gt;</th><th scope=col>&lt;dbl&gt;</th><th scope=col>&lt;int&gt;</th><th scope=col>&lt;int&gt;</th><th scope=col>&lt;int&gt;</th><th scope=col>&lt;int&gt;</th><th scope=col>&lt;chr&gt;</th><th scope=col>&lt;chr&gt;</th><th scope=col>&lt;dbl&gt;</th><th scope=col>&lt;chr&gt;</th><th scope=col>&lt;dbl&gt;</th><th scope=col>&lt;dbl&gt;</th><th scope=col>&lt;dbl&gt;</th><th scope=col>&lt;dbl&gt;</th><th scope=col>&lt;chr&gt;</th><th scope=col>&lt;dbl&gt;</th><th scope=col>&lt;chr&gt;</th><th scope=col>&lt;dbl&gt;</th><th scope=col>&lt;dbl&gt;</th><th scope=col>&lt;chr&gt;</th><th scope=col>&lt;dbl&gt;</th><th scope=col>&lt;dbl&gt;</th><th scope=col>&lt;dbl&gt;</th><th scope=col>&lt;int&gt;</th></tr>\n",
       "</thead>\n",
       "<tbody>\n",
       "\t<tr><th scope=row>QY_2225_2_QY_2224_2_AAACAGCCAAACGGGC-1</th><td>AAACAGCCAAACGGGC-1</td><td>QY_2225_2_QY_2224_2</td><td> 6581</td><td>3072</td><td>5854</td><td>2926</td><td> 9272</td><td>0.6313632</td><td>1.1092539</td><td>6172</td><td>3071</td><td>  7</td><td>1349</td><td>1351</td><td>SNG</td><td>UCSDX51_UCSDX51,UCSDX51_UCSDX51,0.00</td><td>-243.32</td><td>D381_D381,UCSDX51_UCSDX51,0.50      </td><td>-301.66</td><td>58.34</td><td> -2.5e+02</td><td>1</td><td>UCSDX51_UCSDX51</td><td>-243.32</td><td>D371_D371      </td><td>-574.97</td><td>0</td><td>D381_D381,UCSDX51_UCSDX51,0.50      </td><td>-301.66</td><td>  58.34</td><td>3588</td><td>3295</td></tr>\n",
       "\t<tr><th scope=row>QY_2225_2_QY_2224_2_AAACAGCCAAAGGTAC-1</th><td>AAACAGCCAAAGGTAC-1</td><td>QY_2225_2_QY_2224_2</td><td> 6785</td><td>2512</td><td>2357</td><td>1209</td><td> 3871</td><td>0.6088866</td><td>3.3898305</td><td>6013</td><td>2512</td><td> 18</td><td> 672</td><td> 743</td><td>SNG</td><td>D265_D265,D265_D265,0.00            </td><td>-173.03</td><td>D265_D265,UCSDX3_UCSDX3,0.50        </td><td>-182.59</td><td> 9.56</td><td> -1.8e+02</td><td>1</td><td>D265_D265      </td><td>-173.03</td><td>UCSDX3_UCSDX3  </td><td>-291.65</td><td>0</td><td>D265_D265,UCSDX3_UCSDX3,0.50        </td><td>-182.59</td><td>   9.56</td><td>1408</td><td>1327</td></tr>\n",
       "\t<tr><th scope=row>QY_2225_2_QY_2224_2_AAACAGCCAAATACCT-1</th><td>AAACAGCCAAATACCT-1</td><td>QY_2225_2_QY_2224_2</td><td>  773</td><td> 607</td><td>2335</td><td>1213</td><td> 3731</td><td>0.6258376</td><td>1.1642950</td><td>4272</td><td>1536</td><td> 19</td><td> 378</td><td> 378</td><td>SNG</td><td>UCSDX19_UCSDX19,UCSDX19_UCSDX19,0.00</td><td> -68.06</td><td>UCSDX19_UCSDX19,UCSDX31_UCSDX31,0.50</td><td> -79.20</td><td>11.14</td><td> -7.2e+01</td><td>1</td><td>UCSDX19_UCSDX19</td><td> -68.06</td><td>UCSDX51_UCSDX51</td><td>-145.11</td><td>0</td><td>UCSDX19_UCSDX19,UCSDX31_UCSDX31,0.50</td><td> -79.20</td><td>  11.14</td><td>1383</td><td>1332</td></tr>\n",
       "\t<tr><th scope=row>QY_2225_2_QY_2224_2_AAACAGCCAATTGACT-1</th><td>AAACAGCCAATTGACT-1</td><td>QY_2225_2_QY_2224_2</td><td> 1709</td><td>1121</td><td>8280</td><td>4112</td><td>20682</td><td>0.4003481</td><td>2.5746050</td><td>4407</td><td>1349</td><td>102</td><td>1938</td><td>1938</td><td>SNG</td><td>UCSDX42_UCSDX42,UCSDX42_UCSDX42,0.00</td><td>-391.82</td><td>UCSDX40_UCSDX40,UCSDX42_UCSDX42,0.50</td><td>-486.25</td><td>94.43</td><td> -4.0e+02</td><td>1</td><td>UCSDX42_UCSDX42</td><td>-391.82</td><td>UCSDX40_UCSDX40</td><td>-956.91</td><td>0</td><td>UCSDX40_UCSDX40,UCSDX42_UCSDX42,0.50</td><td>-486.25</td><td>  94.43</td><td>5443</td><td>4916</td></tr>\n",
       "\t<tr><th scope=row>QY_2225_2_QY_2224_2_AAACAGCCACATAGCC-1</th><td>AAACAGCCACATAGCC-1</td><td>QY_2225_2_QY_2224_2</td><td> 5791</td><td>2752</td><td>  84</td><td>  43</td><td>   81</td><td>1.0370370</td><td>0.4144362</td><td>5755</td><td>2752</td><td>132</td><td> 312</td><td> 317</td><td>SNG</td><td>D339_D339,D339_D339,0.00            </td><td> -45.57</td><td>D339_D339,D371_D371,0.50            </td><td> -62.54</td><td>16.96</td><td> -5.0e+01</td><td>1</td><td>D339_D339      </td><td> -45.57</td><td>UCSDX2_UCSDX2  </td><td>-129.87</td><td>0</td><td>D339_D339,D371_D371,0.50            </td><td> -62.54</td><td>  16.96</td><td>  47</td><td>  46</td></tr>\n",
       "\t<tr><th scope=row>QY_2225_2_QY_2224_2_AAACAGCCACCAGCAT-1</th><td>AAACAGCCACCAGCAT-1</td><td>QY_2225_2_QY_2224_2</td><td>13831</td><td>4553</td><td>7542</td><td>3804</td><td> 9703</td><td>0.7772854</td><td>0.6217916</td><td>6228</td><td>3301</td><td>139</td><td>1859</td><td>1884</td><td>DBL</td><td>UCSDX19_UCSDX19,UCSDX44_UCSDX44,0.50</td><td>-468.25</td><td>UCSDX44_UCSDX44,UCSDX19_UCSDX19,0.50</td><td>-468.25</td><td> 0.00</td><td> 5.0e-207</td><td>1</td><td>UCSDX44_UCSDX44</td><td>-625.03</td><td>UCSDX19_UCSDX19</td><td>-680.52</td><td>0</td><td>UCSDX19_UCSDX19,UCSDX44_UCSDX44,0.50</td><td>-468.25</td><td>-156.78</td><td>4544</td><td>4212</td></tr>\n",
       "</tbody>\n",
       "</table>\n"
      ],
      "text/latex": [
       "A data.frame: 6 × 32\n",
       "\\begin{tabular}{r|llllllllllllllllllllllllllllllll}\n",
       "  & BARCODE & orig.ident & nCount\\_RNA & nFeature\\_RNA & nCount\\_ATAC & nFeature\\_ATAC & fragments\\_freq\\_count & FRiP & percent.mt & nCount\\_SCT & nFeature\\_SCT & INT\\_ID & NUM.SNPS & NUM.READS & DROPLET.TYPE & BEST.GUESS & BEST.LLK & NEXT.GUESS & NEXT.LLK & DIFF.LLK.BEST.NEXT & BEST.POSTERIOR & SNG.POSTERIOR & SNG.BEST.GUESS & SNG.BEST.LLK & SNG.NEXT.GUESS & SNG.NEXT.LLK & SNG.ONLY.POSTERIOR & DBL.BEST.GUESS & DBL.BEST.LLK & DIFF.LLK.SNG.DBL & nCount\\_ATAC\\_comb & nFeature\\_ATAC\\_comb\\\\\n",
       "  & <chr> & <chr> & <dbl> & <int> & <dbl> & <int> & <dbl> & <dbl> & <dbl> & <dbl> & <int> & <int> & <int> & <int> & <chr> & <chr> & <dbl> & <chr> & <dbl> & <dbl> & <dbl> & <dbl> & <chr> & <dbl> & <chr> & <dbl> & <dbl> & <chr> & <dbl> & <dbl> & <dbl> & <int>\\\\\n",
       "\\hline\n",
       "\tQY\\_2225\\_2\\_QY\\_2224\\_2\\_AAACAGCCAAACGGGC-1 & AAACAGCCAAACGGGC-1 & QY\\_2225\\_2\\_QY\\_2224\\_2 &  6581 & 3072 & 5854 & 2926 &  9272 & 0.6313632 & 1.1092539 & 6172 & 3071 &   7 & 1349 & 1351 & SNG & UCSDX51\\_UCSDX51,UCSDX51\\_UCSDX51,0.00 & -243.32 & D381\\_D381,UCSDX51\\_UCSDX51,0.50       & -301.66 & 58.34 &  -2.5e+02 & 1 & UCSDX51\\_UCSDX51 & -243.32 & D371\\_D371       & -574.97 & 0 & D381\\_D381,UCSDX51\\_UCSDX51,0.50       & -301.66 &   58.34 & 3588 & 3295\\\\\n",
       "\tQY\\_2225\\_2\\_QY\\_2224\\_2\\_AAACAGCCAAAGGTAC-1 & AAACAGCCAAAGGTAC-1 & QY\\_2225\\_2\\_QY\\_2224\\_2 &  6785 & 2512 & 2357 & 1209 &  3871 & 0.6088866 & 3.3898305 & 6013 & 2512 &  18 &  672 &  743 & SNG & D265\\_D265,D265\\_D265,0.00             & -173.03 & D265\\_D265,UCSDX3\\_UCSDX3,0.50         & -182.59 &  9.56 &  -1.8e+02 & 1 & D265\\_D265       & -173.03 & UCSDX3\\_UCSDX3   & -291.65 & 0 & D265\\_D265,UCSDX3\\_UCSDX3,0.50         & -182.59 &    9.56 & 1408 & 1327\\\\\n",
       "\tQY\\_2225\\_2\\_QY\\_2224\\_2\\_AAACAGCCAAATACCT-1 & AAACAGCCAAATACCT-1 & QY\\_2225\\_2\\_QY\\_2224\\_2 &   773 &  607 & 2335 & 1213 &  3731 & 0.6258376 & 1.1642950 & 4272 & 1536 &  19 &  378 &  378 & SNG & UCSDX19\\_UCSDX19,UCSDX19\\_UCSDX19,0.00 &  -68.06 & UCSDX19\\_UCSDX19,UCSDX31\\_UCSDX31,0.50 &  -79.20 & 11.14 &  -7.2e+01 & 1 & UCSDX19\\_UCSDX19 &  -68.06 & UCSDX51\\_UCSDX51 & -145.11 & 0 & UCSDX19\\_UCSDX19,UCSDX31\\_UCSDX31,0.50 &  -79.20 &   11.14 & 1383 & 1332\\\\\n",
       "\tQY\\_2225\\_2\\_QY\\_2224\\_2\\_AAACAGCCAATTGACT-1 & AAACAGCCAATTGACT-1 & QY\\_2225\\_2\\_QY\\_2224\\_2 &  1709 & 1121 & 8280 & 4112 & 20682 & 0.4003481 & 2.5746050 & 4407 & 1349 & 102 & 1938 & 1938 & SNG & UCSDX42\\_UCSDX42,UCSDX42\\_UCSDX42,0.00 & -391.82 & UCSDX40\\_UCSDX40,UCSDX42\\_UCSDX42,0.50 & -486.25 & 94.43 &  -4.0e+02 & 1 & UCSDX42\\_UCSDX42 & -391.82 & UCSDX40\\_UCSDX40 & -956.91 & 0 & UCSDX40\\_UCSDX40,UCSDX42\\_UCSDX42,0.50 & -486.25 &   94.43 & 5443 & 4916\\\\\n",
       "\tQY\\_2225\\_2\\_QY\\_2224\\_2\\_AAACAGCCACATAGCC-1 & AAACAGCCACATAGCC-1 & QY\\_2225\\_2\\_QY\\_2224\\_2 &  5791 & 2752 &   84 &   43 &    81 & 1.0370370 & 0.4144362 & 5755 & 2752 & 132 &  312 &  317 & SNG & D339\\_D339,D339\\_D339,0.00             &  -45.57 & D339\\_D339,D371\\_D371,0.50             &  -62.54 & 16.96 &  -5.0e+01 & 1 & D339\\_D339       &  -45.57 & UCSDX2\\_UCSDX2   & -129.87 & 0 & D339\\_D339,D371\\_D371,0.50             &  -62.54 &   16.96 &   47 &   46\\\\\n",
       "\tQY\\_2225\\_2\\_QY\\_2224\\_2\\_AAACAGCCACCAGCAT-1 & AAACAGCCACCAGCAT-1 & QY\\_2225\\_2\\_QY\\_2224\\_2 & 13831 & 4553 & 7542 & 3804 &  9703 & 0.7772854 & 0.6217916 & 6228 & 3301 & 139 & 1859 & 1884 & DBL & UCSDX19\\_UCSDX19,UCSDX44\\_UCSDX44,0.50 & -468.25 & UCSDX44\\_UCSDX44,UCSDX19\\_UCSDX19,0.50 & -468.25 &  0.00 &  5.0e-207 & 1 & UCSDX44\\_UCSDX44 & -625.03 & UCSDX19\\_UCSDX19 & -680.52 & 0 & UCSDX19\\_UCSDX19,UCSDX44\\_UCSDX44,0.50 & -468.25 & -156.78 & 4544 & 4212\\\\\n",
       "\\end{tabular}\n"
      ],
      "text/markdown": [
       "\n",
       "A data.frame: 6 × 32\n",
       "\n",
       "| <!--/--> | BARCODE &lt;chr&gt; | orig.ident &lt;chr&gt; | nCount_RNA &lt;dbl&gt; | nFeature_RNA &lt;int&gt; | nCount_ATAC &lt;dbl&gt; | nFeature_ATAC &lt;int&gt; | fragments_freq_count &lt;dbl&gt; | FRiP &lt;dbl&gt; | percent.mt &lt;dbl&gt; | nCount_SCT &lt;dbl&gt; | nFeature_SCT &lt;int&gt; | INT_ID &lt;int&gt; | NUM.SNPS &lt;int&gt; | NUM.READS &lt;int&gt; | DROPLET.TYPE &lt;chr&gt; | BEST.GUESS &lt;chr&gt; | BEST.LLK &lt;dbl&gt; | NEXT.GUESS &lt;chr&gt; | NEXT.LLK &lt;dbl&gt; | DIFF.LLK.BEST.NEXT &lt;dbl&gt; | BEST.POSTERIOR &lt;dbl&gt; | SNG.POSTERIOR &lt;dbl&gt; | SNG.BEST.GUESS &lt;chr&gt; | SNG.BEST.LLK &lt;dbl&gt; | SNG.NEXT.GUESS &lt;chr&gt; | SNG.NEXT.LLK &lt;dbl&gt; | SNG.ONLY.POSTERIOR &lt;dbl&gt; | DBL.BEST.GUESS &lt;chr&gt; | DBL.BEST.LLK &lt;dbl&gt; | DIFF.LLK.SNG.DBL &lt;dbl&gt; | nCount_ATAC_comb &lt;dbl&gt; | nFeature_ATAC_comb &lt;int&gt; |\n",
       "|---|---|---|---|---|---|---|---|---|---|---|---|---|---|---|---|---|---|---|---|---|---|---|---|---|---|---|---|---|---|---|---|---|\n",
       "| QY_2225_2_QY_2224_2_AAACAGCCAAACGGGC-1 | AAACAGCCAAACGGGC-1 | QY_2225_2_QY_2224_2 |  6581 | 3072 | 5854 | 2926 |  9272 | 0.6313632 | 1.1092539 | 6172 | 3071 |   7 | 1349 | 1351 | SNG | UCSDX51_UCSDX51,UCSDX51_UCSDX51,0.00 | -243.32 | D381_D381,UCSDX51_UCSDX51,0.50       | -301.66 | 58.34 |  -2.5e+02 | 1 | UCSDX51_UCSDX51 | -243.32 | D371_D371       | -574.97 | 0 | D381_D381,UCSDX51_UCSDX51,0.50       | -301.66 |   58.34 | 3588 | 3295 |\n",
       "| QY_2225_2_QY_2224_2_AAACAGCCAAAGGTAC-1 | AAACAGCCAAAGGTAC-1 | QY_2225_2_QY_2224_2 |  6785 | 2512 | 2357 | 1209 |  3871 | 0.6088866 | 3.3898305 | 6013 | 2512 |  18 |  672 |  743 | SNG | D265_D265,D265_D265,0.00             | -173.03 | D265_D265,UCSDX3_UCSDX3,0.50         | -182.59 |  9.56 |  -1.8e+02 | 1 | D265_D265       | -173.03 | UCSDX3_UCSDX3   | -291.65 | 0 | D265_D265,UCSDX3_UCSDX3,0.50         | -182.59 |    9.56 | 1408 | 1327 |\n",
       "| QY_2225_2_QY_2224_2_AAACAGCCAAATACCT-1 | AAACAGCCAAATACCT-1 | QY_2225_2_QY_2224_2 |   773 |  607 | 2335 | 1213 |  3731 | 0.6258376 | 1.1642950 | 4272 | 1536 |  19 |  378 |  378 | SNG | UCSDX19_UCSDX19,UCSDX19_UCSDX19,0.00 |  -68.06 | UCSDX19_UCSDX19,UCSDX31_UCSDX31,0.50 |  -79.20 | 11.14 |  -7.2e+01 | 1 | UCSDX19_UCSDX19 |  -68.06 | UCSDX51_UCSDX51 | -145.11 | 0 | UCSDX19_UCSDX19,UCSDX31_UCSDX31,0.50 |  -79.20 |   11.14 | 1383 | 1332 |\n",
       "| QY_2225_2_QY_2224_2_AAACAGCCAATTGACT-1 | AAACAGCCAATTGACT-1 | QY_2225_2_QY_2224_2 |  1709 | 1121 | 8280 | 4112 | 20682 | 0.4003481 | 2.5746050 | 4407 | 1349 | 102 | 1938 | 1938 | SNG | UCSDX42_UCSDX42,UCSDX42_UCSDX42,0.00 | -391.82 | UCSDX40_UCSDX40,UCSDX42_UCSDX42,0.50 | -486.25 | 94.43 |  -4.0e+02 | 1 | UCSDX42_UCSDX42 | -391.82 | UCSDX40_UCSDX40 | -956.91 | 0 | UCSDX40_UCSDX40,UCSDX42_UCSDX42,0.50 | -486.25 |   94.43 | 5443 | 4916 |\n",
       "| QY_2225_2_QY_2224_2_AAACAGCCACATAGCC-1 | AAACAGCCACATAGCC-1 | QY_2225_2_QY_2224_2 |  5791 | 2752 |   84 |   43 |    81 | 1.0370370 | 0.4144362 | 5755 | 2752 | 132 |  312 |  317 | SNG | D339_D339,D339_D339,0.00             |  -45.57 | D339_D339,D371_D371,0.50             |  -62.54 | 16.96 |  -5.0e+01 | 1 | D339_D339       |  -45.57 | UCSDX2_UCSDX2   | -129.87 | 0 | D339_D339,D371_D371,0.50             |  -62.54 |   16.96 |   47 |   46 |\n",
       "| QY_2225_2_QY_2224_2_AAACAGCCACCAGCAT-1 | AAACAGCCACCAGCAT-1 | QY_2225_2_QY_2224_2 | 13831 | 4553 | 7542 | 3804 |  9703 | 0.7772854 | 0.6217916 | 6228 | 3301 | 139 | 1859 | 1884 | DBL | UCSDX19_UCSDX19,UCSDX44_UCSDX44,0.50 | -468.25 | UCSDX44_UCSDX44,UCSDX19_UCSDX19,0.50 | -468.25 |  0.00 |  5.0e-207 | 1 | UCSDX44_UCSDX44 | -625.03 | UCSDX19_UCSDX19 | -680.52 | 0 | UCSDX19_UCSDX19,UCSDX44_UCSDX44,0.50 | -468.25 | -156.78 | 4544 | 4212 |\n",
       "\n"
      ],
      "text/plain": [
       "                                       BARCODE            orig.ident         \n",
       "QY_2225_2_QY_2224_2_AAACAGCCAAACGGGC-1 AAACAGCCAAACGGGC-1 QY_2225_2_QY_2224_2\n",
       "QY_2225_2_QY_2224_2_AAACAGCCAAAGGTAC-1 AAACAGCCAAAGGTAC-1 QY_2225_2_QY_2224_2\n",
       "QY_2225_2_QY_2224_2_AAACAGCCAAATACCT-1 AAACAGCCAAATACCT-1 QY_2225_2_QY_2224_2\n",
       "QY_2225_2_QY_2224_2_AAACAGCCAATTGACT-1 AAACAGCCAATTGACT-1 QY_2225_2_QY_2224_2\n",
       "QY_2225_2_QY_2224_2_AAACAGCCACATAGCC-1 AAACAGCCACATAGCC-1 QY_2225_2_QY_2224_2\n",
       "QY_2225_2_QY_2224_2_AAACAGCCACCAGCAT-1 AAACAGCCACCAGCAT-1 QY_2225_2_QY_2224_2\n",
       "                                       nCount_RNA nFeature_RNA nCount_ATAC\n",
       "QY_2225_2_QY_2224_2_AAACAGCCAAACGGGC-1  6581      3072         5854       \n",
       "QY_2225_2_QY_2224_2_AAACAGCCAAAGGTAC-1  6785      2512         2357       \n",
       "QY_2225_2_QY_2224_2_AAACAGCCAAATACCT-1   773       607         2335       \n",
       "QY_2225_2_QY_2224_2_AAACAGCCAATTGACT-1  1709      1121         8280       \n",
       "QY_2225_2_QY_2224_2_AAACAGCCACATAGCC-1  5791      2752           84       \n",
       "QY_2225_2_QY_2224_2_AAACAGCCACCAGCAT-1 13831      4553         7542       \n",
       "                                       nFeature_ATAC fragments_freq_count\n",
       "QY_2225_2_QY_2224_2_AAACAGCCAAACGGGC-1 2926           9272               \n",
       "QY_2225_2_QY_2224_2_AAACAGCCAAAGGTAC-1 1209           3871               \n",
       "QY_2225_2_QY_2224_2_AAACAGCCAAATACCT-1 1213           3731               \n",
       "QY_2225_2_QY_2224_2_AAACAGCCAATTGACT-1 4112          20682               \n",
       "QY_2225_2_QY_2224_2_AAACAGCCACATAGCC-1   43             81               \n",
       "QY_2225_2_QY_2224_2_AAACAGCCACCAGCAT-1 3804           9703               \n",
       "                                       FRiP      percent.mt nCount_SCT\n",
       "QY_2225_2_QY_2224_2_AAACAGCCAAACGGGC-1 0.6313632 1.1092539  6172      \n",
       "QY_2225_2_QY_2224_2_AAACAGCCAAAGGTAC-1 0.6088866 3.3898305  6013      \n",
       "QY_2225_2_QY_2224_2_AAACAGCCAAATACCT-1 0.6258376 1.1642950  4272      \n",
       "QY_2225_2_QY_2224_2_AAACAGCCAATTGACT-1 0.4003481 2.5746050  4407      \n",
       "QY_2225_2_QY_2224_2_AAACAGCCACATAGCC-1 1.0370370 0.4144362  5755      \n",
       "QY_2225_2_QY_2224_2_AAACAGCCACCAGCAT-1 0.7772854 0.6217916  6228      \n",
       "                                       nFeature_SCT INT_ID NUM.SNPS NUM.READS\n",
       "QY_2225_2_QY_2224_2_AAACAGCCAAACGGGC-1 3071           7    1349     1351     \n",
       "QY_2225_2_QY_2224_2_AAACAGCCAAAGGTAC-1 2512          18     672      743     \n",
       "QY_2225_2_QY_2224_2_AAACAGCCAAATACCT-1 1536          19     378      378     \n",
       "QY_2225_2_QY_2224_2_AAACAGCCAATTGACT-1 1349         102    1938     1938     \n",
       "QY_2225_2_QY_2224_2_AAACAGCCACATAGCC-1 2752         132     312      317     \n",
       "QY_2225_2_QY_2224_2_AAACAGCCACCAGCAT-1 3301         139    1859     1884     \n",
       "                                       DROPLET.TYPE\n",
       "QY_2225_2_QY_2224_2_AAACAGCCAAACGGGC-1 SNG         \n",
       "QY_2225_2_QY_2224_2_AAACAGCCAAAGGTAC-1 SNG         \n",
       "QY_2225_2_QY_2224_2_AAACAGCCAAATACCT-1 SNG         \n",
       "QY_2225_2_QY_2224_2_AAACAGCCAATTGACT-1 SNG         \n",
       "QY_2225_2_QY_2224_2_AAACAGCCACATAGCC-1 SNG         \n",
       "QY_2225_2_QY_2224_2_AAACAGCCACCAGCAT-1 DBL         \n",
       "                                       BEST.GUESS                          \n",
       "QY_2225_2_QY_2224_2_AAACAGCCAAACGGGC-1 UCSDX51_UCSDX51,UCSDX51_UCSDX51,0.00\n",
       "QY_2225_2_QY_2224_2_AAACAGCCAAAGGTAC-1 D265_D265,D265_D265,0.00            \n",
       "QY_2225_2_QY_2224_2_AAACAGCCAAATACCT-1 UCSDX19_UCSDX19,UCSDX19_UCSDX19,0.00\n",
       "QY_2225_2_QY_2224_2_AAACAGCCAATTGACT-1 UCSDX42_UCSDX42,UCSDX42_UCSDX42,0.00\n",
       "QY_2225_2_QY_2224_2_AAACAGCCACATAGCC-1 D339_D339,D339_D339,0.00            \n",
       "QY_2225_2_QY_2224_2_AAACAGCCACCAGCAT-1 UCSDX19_UCSDX19,UCSDX44_UCSDX44,0.50\n",
       "                                       BEST.LLK\n",
       "QY_2225_2_QY_2224_2_AAACAGCCAAACGGGC-1 -243.32 \n",
       "QY_2225_2_QY_2224_2_AAACAGCCAAAGGTAC-1 -173.03 \n",
       "QY_2225_2_QY_2224_2_AAACAGCCAAATACCT-1  -68.06 \n",
       "QY_2225_2_QY_2224_2_AAACAGCCAATTGACT-1 -391.82 \n",
       "QY_2225_2_QY_2224_2_AAACAGCCACATAGCC-1  -45.57 \n",
       "QY_2225_2_QY_2224_2_AAACAGCCACCAGCAT-1 -468.25 \n",
       "                                       NEXT.GUESS                          \n",
       "QY_2225_2_QY_2224_2_AAACAGCCAAACGGGC-1 D381_D381,UCSDX51_UCSDX51,0.50      \n",
       "QY_2225_2_QY_2224_2_AAACAGCCAAAGGTAC-1 D265_D265,UCSDX3_UCSDX3,0.50        \n",
       "QY_2225_2_QY_2224_2_AAACAGCCAAATACCT-1 UCSDX19_UCSDX19,UCSDX31_UCSDX31,0.50\n",
       "QY_2225_2_QY_2224_2_AAACAGCCAATTGACT-1 UCSDX40_UCSDX40,UCSDX42_UCSDX42,0.50\n",
       "QY_2225_2_QY_2224_2_AAACAGCCACATAGCC-1 D339_D339,D371_D371,0.50            \n",
       "QY_2225_2_QY_2224_2_AAACAGCCACCAGCAT-1 UCSDX44_UCSDX44,UCSDX19_UCSDX19,0.50\n",
       "                                       NEXT.LLK DIFF.LLK.BEST.NEXT\n",
       "QY_2225_2_QY_2224_2_AAACAGCCAAACGGGC-1 -301.66  58.34             \n",
       "QY_2225_2_QY_2224_2_AAACAGCCAAAGGTAC-1 -182.59   9.56             \n",
       "QY_2225_2_QY_2224_2_AAACAGCCAAATACCT-1  -79.20  11.14             \n",
       "QY_2225_2_QY_2224_2_AAACAGCCAATTGACT-1 -486.25  94.43             \n",
       "QY_2225_2_QY_2224_2_AAACAGCCACATAGCC-1  -62.54  16.96             \n",
       "QY_2225_2_QY_2224_2_AAACAGCCACCAGCAT-1 -468.25   0.00             \n",
       "                                       BEST.POSTERIOR SNG.POSTERIOR\n",
       "QY_2225_2_QY_2224_2_AAACAGCCAAACGGGC-1  -2.5e+02      1            \n",
       "QY_2225_2_QY_2224_2_AAACAGCCAAAGGTAC-1  -1.8e+02      1            \n",
       "QY_2225_2_QY_2224_2_AAACAGCCAAATACCT-1  -7.2e+01      1            \n",
       "QY_2225_2_QY_2224_2_AAACAGCCAATTGACT-1  -4.0e+02      1            \n",
       "QY_2225_2_QY_2224_2_AAACAGCCACATAGCC-1  -5.0e+01      1            \n",
       "QY_2225_2_QY_2224_2_AAACAGCCACCAGCAT-1  5.0e-207      1            \n",
       "                                       SNG.BEST.GUESS  SNG.BEST.LLK\n",
       "QY_2225_2_QY_2224_2_AAACAGCCAAACGGGC-1 UCSDX51_UCSDX51 -243.32     \n",
       "QY_2225_2_QY_2224_2_AAACAGCCAAAGGTAC-1 D265_D265       -173.03     \n",
       "QY_2225_2_QY_2224_2_AAACAGCCAAATACCT-1 UCSDX19_UCSDX19  -68.06     \n",
       "QY_2225_2_QY_2224_2_AAACAGCCAATTGACT-1 UCSDX42_UCSDX42 -391.82     \n",
       "QY_2225_2_QY_2224_2_AAACAGCCACATAGCC-1 D339_D339        -45.57     \n",
       "QY_2225_2_QY_2224_2_AAACAGCCACCAGCAT-1 UCSDX44_UCSDX44 -625.03     \n",
       "                                       SNG.NEXT.GUESS  SNG.NEXT.LLK\n",
       "QY_2225_2_QY_2224_2_AAACAGCCAAACGGGC-1 D371_D371       -574.97     \n",
       "QY_2225_2_QY_2224_2_AAACAGCCAAAGGTAC-1 UCSDX3_UCSDX3   -291.65     \n",
       "QY_2225_2_QY_2224_2_AAACAGCCAAATACCT-1 UCSDX51_UCSDX51 -145.11     \n",
       "QY_2225_2_QY_2224_2_AAACAGCCAATTGACT-1 UCSDX40_UCSDX40 -956.91     \n",
       "QY_2225_2_QY_2224_2_AAACAGCCACATAGCC-1 UCSDX2_UCSDX2   -129.87     \n",
       "QY_2225_2_QY_2224_2_AAACAGCCACCAGCAT-1 UCSDX19_UCSDX19 -680.52     \n",
       "                                       SNG.ONLY.POSTERIOR\n",
       "QY_2225_2_QY_2224_2_AAACAGCCAAACGGGC-1 0                 \n",
       "QY_2225_2_QY_2224_2_AAACAGCCAAAGGTAC-1 0                 \n",
       "QY_2225_2_QY_2224_2_AAACAGCCAAATACCT-1 0                 \n",
       "QY_2225_2_QY_2224_2_AAACAGCCAATTGACT-1 0                 \n",
       "QY_2225_2_QY_2224_2_AAACAGCCACATAGCC-1 0                 \n",
       "QY_2225_2_QY_2224_2_AAACAGCCACCAGCAT-1 0                 \n",
       "                                       DBL.BEST.GUESS                      \n",
       "QY_2225_2_QY_2224_2_AAACAGCCAAACGGGC-1 D381_D381,UCSDX51_UCSDX51,0.50      \n",
       "QY_2225_2_QY_2224_2_AAACAGCCAAAGGTAC-1 D265_D265,UCSDX3_UCSDX3,0.50        \n",
       "QY_2225_2_QY_2224_2_AAACAGCCAAATACCT-1 UCSDX19_UCSDX19,UCSDX31_UCSDX31,0.50\n",
       "QY_2225_2_QY_2224_2_AAACAGCCAATTGACT-1 UCSDX40_UCSDX40,UCSDX42_UCSDX42,0.50\n",
       "QY_2225_2_QY_2224_2_AAACAGCCACATAGCC-1 D339_D339,D371_D371,0.50            \n",
       "QY_2225_2_QY_2224_2_AAACAGCCACCAGCAT-1 UCSDX19_UCSDX19,UCSDX44_UCSDX44,0.50\n",
       "                                       DBL.BEST.LLK DIFF.LLK.SNG.DBL\n",
       "QY_2225_2_QY_2224_2_AAACAGCCAAACGGGC-1 -301.66        58.34         \n",
       "QY_2225_2_QY_2224_2_AAACAGCCAAAGGTAC-1 -182.59         9.56         \n",
       "QY_2225_2_QY_2224_2_AAACAGCCAAATACCT-1  -79.20        11.14         \n",
       "QY_2225_2_QY_2224_2_AAACAGCCAATTGACT-1 -486.25        94.43         \n",
       "QY_2225_2_QY_2224_2_AAACAGCCACATAGCC-1  -62.54        16.96         \n",
       "QY_2225_2_QY_2224_2_AAACAGCCACCAGCAT-1 -468.25      -156.78         \n",
       "                                       nCount_ATAC_comb nFeature_ATAC_comb\n",
       "QY_2225_2_QY_2224_2_AAACAGCCAAACGGGC-1 3588             3295              \n",
       "QY_2225_2_QY_2224_2_AAACAGCCAAAGGTAC-1 1408             1327              \n",
       "QY_2225_2_QY_2224_2_AAACAGCCAAATACCT-1 1383             1332              \n",
       "QY_2225_2_QY_2224_2_AAACAGCCAATTGACT-1 5443             4916              \n",
       "QY_2225_2_QY_2224_2_AAACAGCCACATAGCC-1   47               46              \n",
       "QY_2225_2_QY_2224_2_AAACAGCCACCAGCAT-1 4544             4212              "
      ]
     },
     "metadata": {},
     "output_type": "display_data"
    }
   ],
   "source": [
    "library(repr)\n",
    "options(repr.matrix.max.cols=50, repr.matrix.max.rows=100)\n",
    "\n",
    "head(sobj@meta.data)"
   ]
  },
  {
   "cell_type": "code",
   "execution_count": 10,
   "id": "7e42941b",
   "metadata": {},
   "outputs": [],
   "source": [
    "donor51 <- subset(sobj, subset = SNG.BEST.GUESS == \"UCSDX51_UCSDX51\")"
   ]
  },
  {
   "cell_type": "code",
   "execution_count": 11,
   "id": "09f207c1",
   "metadata": {},
   "outputs": [
    {
     "data": {
      "text/plain": [
       "An object of class Seurat \n",
       "242016 features across 7336 samples within 3 assays \n",
       "Active assay: ATAC_comb (172997 features, 0 variable features)\n",
       " 2 other assays present: RNA, SCT"
      ]
     },
     "metadata": {},
     "output_type": "display_data"
    }
   ],
   "source": [
    "donor51"
   ]
  },
  {
   "cell_type": "code",
   "execution_count": 12,
   "id": "6beea1a1",
   "metadata": {},
   "outputs": [],
   "source": [
    "saveRDS(donor51, \"/projects/ps-epigen/users/cmiciano/Lung/lungmap_3/UCSDX51.RDS\")"
   ]
  },
  {
   "cell_type": "code",
   "execution_count": 9,
   "id": "1bb514d8",
   "metadata": {},
   "outputs": [
    {
     "data": {
      "text/html": [
       "<style>\n",
       ".list-inline {list-style: none; margin:0; padding: 0}\n",
       ".list-inline>li {display: inline-block}\n",
       ".list-inline>li:not(:last-child)::after {content: \"\\00b7\"; padding: 0 .5ex}\n",
       "</style>\n",
       "<ol class=list-inline><li>'UCSDX51_UCSDX51'</li><li>'D265_D265'</li><li>'UCSDX19_UCSDX19'</li><li>'UCSDX42_UCSDX42'</li><li>'D339_D339'</li><li>'UCSDX44_UCSDX44'</li><li>'D335_D335'</li><li>'UCSDX31_UCSDX31'</li><li>'UCSDX40_UCSDX40'</li><li>'UCSDX53_UCSDX53'</li><li>'D357_D357'</li><li>'UCSDX3_UCSDX3'</li><li>'D381_D381'</li><li>'UCSDX24_UCSDX24'</li><li>'UCSDX7_UCSDX7'</li><li>'UCSDX50_UCSDX50'</li><li>'D347_D347'</li><li>'UCSDX28_UCSDX28'</li><li>'UCSDX13_UCSDX13'</li><li>'D356_D356'</li><li>'UCSDX21_UCSDX21'</li><li>'UCSDX2_UCSDX2'</li><li>'D116_D116'</li><li>'D283_D283'</li><li>'UCSDX38_UCSDX38'</li><li>'UCSDX58_UCSDX58'</li><li>'D071_D071'</li><li>'D371_D371'</li><li>'D239_D239'</li><li>'UCSDX8_UCSDX8'</li></ol>\n"
      ],
      "text/latex": [
       "\\begin{enumerate*}\n",
       "\\item 'UCSDX51\\_UCSDX51'\n",
       "\\item 'D265\\_D265'\n",
       "\\item 'UCSDX19\\_UCSDX19'\n",
       "\\item 'UCSDX42\\_UCSDX42'\n",
       "\\item 'D339\\_D339'\n",
       "\\item 'UCSDX44\\_UCSDX44'\n",
       "\\item 'D335\\_D335'\n",
       "\\item 'UCSDX31\\_UCSDX31'\n",
       "\\item 'UCSDX40\\_UCSDX40'\n",
       "\\item 'UCSDX53\\_UCSDX53'\n",
       "\\item 'D357\\_D357'\n",
       "\\item 'UCSDX3\\_UCSDX3'\n",
       "\\item 'D381\\_D381'\n",
       "\\item 'UCSDX24\\_UCSDX24'\n",
       "\\item 'UCSDX7\\_UCSDX7'\n",
       "\\item 'UCSDX50\\_UCSDX50'\n",
       "\\item 'D347\\_D347'\n",
       "\\item 'UCSDX28\\_UCSDX28'\n",
       "\\item 'UCSDX13\\_UCSDX13'\n",
       "\\item 'D356\\_D356'\n",
       "\\item 'UCSDX21\\_UCSDX21'\n",
       "\\item 'UCSDX2\\_UCSDX2'\n",
       "\\item 'D116\\_D116'\n",
       "\\item 'D283\\_D283'\n",
       "\\item 'UCSDX38\\_UCSDX38'\n",
       "\\item 'UCSDX58\\_UCSDX58'\n",
       "\\item 'D071\\_D071'\n",
       "\\item 'D371\\_D371'\n",
       "\\item 'D239\\_D239'\n",
       "\\item 'UCSDX8\\_UCSDX8'\n",
       "\\end{enumerate*}\n"
      ],
      "text/markdown": [
       "1. 'UCSDX51_UCSDX51'\n",
       "2. 'D265_D265'\n",
       "3. 'UCSDX19_UCSDX19'\n",
       "4. 'UCSDX42_UCSDX42'\n",
       "5. 'D339_D339'\n",
       "6. 'UCSDX44_UCSDX44'\n",
       "7. 'D335_D335'\n",
       "8. 'UCSDX31_UCSDX31'\n",
       "9. 'UCSDX40_UCSDX40'\n",
       "10. 'UCSDX53_UCSDX53'\n",
       "11. 'D357_D357'\n",
       "12. 'UCSDX3_UCSDX3'\n",
       "13. 'D381_D381'\n",
       "14. 'UCSDX24_UCSDX24'\n",
       "15. 'UCSDX7_UCSDX7'\n",
       "16. 'UCSDX50_UCSDX50'\n",
       "17. 'D347_D347'\n",
       "18. 'UCSDX28_UCSDX28'\n",
       "19. 'UCSDX13_UCSDX13'\n",
       "20. 'D356_D356'\n",
       "21. 'UCSDX21_UCSDX21'\n",
       "22. 'UCSDX2_UCSDX2'\n",
       "23. 'D116_D116'\n",
       "24. 'D283_D283'\n",
       "25. 'UCSDX38_UCSDX38'\n",
       "26. 'UCSDX58_UCSDX58'\n",
       "27. 'D071_D071'\n",
       "28. 'D371_D371'\n",
       "29. 'D239_D239'\n",
       "30. 'UCSDX8_UCSDX8'\n",
       "\n",
       "\n"
      ],
      "text/plain": [
       " [1] \"UCSDX51_UCSDX51\" \"D265_D265\"       \"UCSDX19_UCSDX19\" \"UCSDX42_UCSDX42\"\n",
       " [5] \"D339_D339\"       \"UCSDX44_UCSDX44\" \"D335_D335\"       \"UCSDX31_UCSDX31\"\n",
       " [9] \"UCSDX40_UCSDX40\" \"UCSDX53_UCSDX53\" \"D357_D357\"       \"UCSDX3_UCSDX3\"  \n",
       "[13] \"D381_D381\"       \"UCSDX24_UCSDX24\" \"UCSDX7_UCSDX7\"   \"UCSDX50_UCSDX50\"\n",
       "[17] \"D347_D347\"       \"UCSDX28_UCSDX28\" \"UCSDX13_UCSDX13\" \"D356_D356\"      \n",
       "[21] \"UCSDX21_UCSDX21\" \"UCSDX2_UCSDX2\"   \"D116_D116\"       \"D283_D283\"      \n",
       "[25] \"UCSDX38_UCSDX38\" \"UCSDX58_UCSDX58\" \"D071_D071\"       \"D371_D371\"      \n",
       "[29] \"D239_D239\"       \"UCSDX8_UCSDX8\"  "
      ]
     },
     "metadata": {},
     "output_type": "display_data"
    }
   ],
   "source": [
    "unique(sobj$SNG.BEST.GUESS)"
   ]
  },
  {
   "cell_type": "code",
   "execution_count": null,
   "id": "8fef6ef2",
   "metadata": {},
   "outputs": [],
   "source": [
    "donor51"
   ]
  },
  {
   "cell_type": "code",
   "execution_count": 14,
   "id": "7bad65bc",
   "metadata": {},
   "outputs": [],
   "source": [
    "correction <- 'nobatch'"
   ]
  },
  {
   "cell_type": "code",
   "execution_count": 17,
   "id": "a4427c80",
   "metadata": {},
   "outputs": [],
   "source": [
    "red_nm_rna <- ifelse(correction == \"batch\", \"harmony.rna\", \"pca\")\n",
    "red_nm_rna_umap <- ifelse(correction == \"batch\", \"umap.hrm.rna\", \"umap.rna\")"
   ]
  },
  {
   "cell_type": "code",
   "execution_count": null,
   "id": "b03d798a",
   "metadata": {},
   "outputs": [],
   "source": [
    "# during doubletfinder finder sct was done per lane (done for each of the 8 reactions)"
   ]
  },
  {
   "cell_type": "code",
   "execution_count": null,
   "id": "8eda45d5",
   "metadata": {},
   "outputs": [],
   "source": []
  },
  {
   "cell_type": "code",
   "execution_count": 18,
   "id": "f7878c63",
   "metadata": {},
   "outputs": [
    {
     "data": {
      "text/plain": [
       "[1] \"2023-11-20 11:25:22 PST\""
      ]
     },
     "metadata": {},
     "output_type": "display_data"
    },
    {
     "name": "stdout",
     "output_type": "stream",
     "text": [
      "[1] \"Processing RNA\"\n"
     ]
    },
    {
     "name": "stderr",
     "output_type": "stream",
     "text": [
      "Centering and scaling data matrix\n",
      "\n"
     ]
    },
    {
     "ename": "ERROR",
     "evalue": "Error in args$correction: object of type 'closure' is not subsettable\n",
     "output_type": "error",
     "traceback": [
      "Error in args$correction: object of type 'closure' is not subsettable\nTraceback:\n"
     ]
    }
   ],
   "source": [
    "Sys.time()\n",
    "#### RNA processing\n",
    "print(\"Processing RNA\")\n",
    "DefaultAssay(sobj) <- 'RNA'\n",
    "sobj <- NormalizeData(sobj, normalization.method = \"LogNormalize\", scale.factor = 10000)\n",
    "sobj <- FindVariableFeatures(sobj, selection.method = \"vst\", nfeatures = 2000)\n",
    "sobj <- ScaleData(sobj)\n",
    "\n",
    "sobj <- RunPCA(sobj, features = VariableFeatures(object = sobj), verbose = F)\n",
    "if (correction == \"batch\") {\n",
    "   sobj <- RunHarmony(sobj, reduction = \"pca\", group.by.vars = 'orig.ident',\n",
    "               assay.use = DefaultAssay(sobj),\n",
    "               reduction.save = red_nm_rna)\n",
    "}\n",
    "\n",
    "sobj <- FindNeighbors(sobj, dims = 1:10)\n",
    "sobj <- FindClusters(sobj, resolution = 0.5)\n",
    "sobj <- RunUMAP(sobj, dims = 1:10, reduction = red_nm_rna,\n",
    "                reduction.name =  red_nm_rna_umap ,  verbose = F)\n",
    "Sys.time()"
   ]
  },
  {
   "cell_type": "code",
   "execution_count": 19,
   "id": "6a67d6a5",
   "metadata": {},
   "outputs": [
    {
     "ename": "ERROR",
     "evalue": "Error: Unable to find a DimReduc matching one of 'umap', 'tsne', or 'pca', please specify a dimensional reduction to use\n",
     "output_type": "error",
     "traceback": [
      "Error: Unable to find a DimReduc matching one of 'umap', 'tsne', or 'pca', please specify a dimensional reduction to use\nTraceback:\n",
      "1. DimPlot(donor51, group.by = \"DROPLET.TYPE\")",
      "2. reduction %||% DefaultDimReduc(object = object)",
      "3. DefaultDimReduc(object = object)",
      "4. stop(\"Unable to find a DimReduc matching one of '\", paste(drs.use[1:(length(x = drs.use) - \n .     1)], collapse = \"', '\"), \"', or '\", drs.use[length(x = drs.use)], \n .     \"', please specify a dimensional reduction to use\", call. = FALSE)"
     ]
    }
   ],
   "source": [
    "DimPlot(donor51, group.by = \"DROPLET.TYPE\")"
   ]
  },
  {
   "cell_type": "code",
   "execution_count": null,
   "id": "e0bcc862",
   "metadata": {},
   "outputs": [],
   "source": [
    "print(\"Running DoubletFinder\")\n",
    "#print(\"Finding pK...\")\n",
    "\n",
    "sweep.sobj <- paramSweep_v3(sobj, PCs = 1:15, sct = TRUE)\n",
    "sweep.stats.sobj <- summarizeSweep(sweep.sobj, GT = FALSE)\n",
    "bcmvn.sobj <- find.pK(sweep.stats.sobj)\n",
    "datatable(bcmvn.sobj, rownames = F)\n",
    "\n",
    "# choosing maxima of BCmetric\n",
    "pK <- as.numeric(as.character(bcmvn.sobj$pK))\n",
    "top_pK <- pK[which(bcmvn.sobj$BCmetric %in% max(bcmvn.sobj$BCmetric))]\n",
    "print(paste(\"Potential pK:\", top_pK, sep = \" \"))\n",
    "\n",
    "## You will see this \"bcmvn.sobj\" is a dataframe with 5 columns, which are: ParamID, pK, MeanBC,  VarBC, BCmetric\n",
    "\n",
    "## Note that the \"pK\" column could be a factor, so converted to character and then numeric might be necessary.\n",
    "dir.create(path= paste0(out,\"pK_plots\"), showWarnings= FALSE)\n",
    "pdf(file=paste0(out,\"pK_plots/\",lib_rna_atac_id, \"_pKplot.pdf\"), title= paste0(lib_rna_atac_id,\"_pKplot\"), width= 12, height= 10, compress=FALSE)\n",
    "plot(x = as.numeric(as.character(bcmvn.sobj$pK)), y = as.numeric(bcmvn.sobj$BCmetric), pch = 16, col = \"#41b6c4\", cex = 0.75, xlab=\"pK\", ylab=\"BCmetric\")\n",
    "lines(x = as.numeric(as.character(bcmvn.sobj$pK)), y = bcmvn.sobj$BCmetric, col = \"#41b6c4\")\n",
    "title(main = paste0(lib_rna_atac_id,\" \", \"Top pK: \", top_pK))\n",
    "abline(v=top_pK,lwd=2,col='red',lty=2)\n",
    "dev.off()\n",
    "\n",
    "\n",
    "# Calculating nEXP\n",
    "# jb185 (est # cells - 8644)\n",
    "\n",
    "print(\"Calculating nExp...\")\n",
    "cells_aft_filt <- nrow(sobj@meta.data)\n",
    "calc_nExp <- find_nexp(cells_aft_filt)\n",
    "nExp_poi_sobj <- round(calc_nExp*nrow(sobj@meta.data))\n",
    "print(paste0(\"Calculated nExp: \", calc_nExp))\n",
    "\n",
    "sobj <- doubletFinder_v3(sobj, PCs = 1:15, pN = 0.25 , pK = top_pK, nExp = calc_nExp, reuse.pANN = FALSE, sct = TRUE)\n",
    "\n",
    "\n",
    "md <- sobj@meta.data\n",
    "df_col_nm <-  grep(\"DF.classifications\",colnames(md), value = T)\n",
    "cell_num <- length(colnames(sobj)) #number of barcodes\n",
    "dbs_plt <- DimPlot(sobj,pt.size = 1,label=TRUE, label.size = 5,reduction = \"umap\",group.by = df_col_nm )+theme(aspect.ratio = 1) + ggtitle(paste0(df_col_nm , \"\\n\", \"n=\", cell_num))\n",
    "\n",
    "\n",
    "print(\"Creating doublet plots...\")\n",
    "dir.create(path= paste0(out,\"doublet_plots\"), showWarnings= FALSE)\n",
    "pdf(file=paste0(out,\"doublet_plots/\",lib_rna_atac_id, \"_dbplots.pdf\"), title= paste0(lib_rna_atac_id,\"_doublet_plots\"), width= 12, height= 10, compress=FALSE)\n",
    "dbs_plt\n",
    "dev.off()\n"
   ]
  },
  {
   "cell_type": "code",
   "execution_count": 20,
   "id": "36bac088",
   "metadata": {},
   "outputs": [],
   "source": [
    "df_obj1 <- readRDS('/projects/ps-epigen/users/cmiciano/Lung/lungmap_3/01_DoubletFinder/df_objs/QY_2225_2_QY_2224_2_DF.0.05.RDS')"
   ]
  },
  {
   "cell_type": "code",
   "execution_count": 21,
   "id": "8d073cd7",
   "metadata": {},
   "outputs": [
    {
     "data": {
      "text/html": [
       "<style>\n",
       ".list-inline {list-style: none; margin:0; padding: 0}\n",
       ".list-inline>li {display: inline-block}\n",
       ".list-inline>li:not(:last-child)::after {content: \"\\00b7\"; padding: 0 .5ex}\n",
       "</style>\n",
       "<ol class=list-inline><li>'orig.ident'</li><li>'nCount_RNA'</li><li>'nFeature_RNA'</li><li>'nCount_ATAC'</li><li>'nFeature_ATAC'</li><li>'fragments_freq_count'</li><li>'FRiP'</li><li>'percent.mt'</li><li>'nCount_SCT'</li><li>'nFeature_SCT'</li></ol>\n"
      ],
      "text/latex": [
       "\\begin{enumerate*}\n",
       "\\item 'orig.ident'\n",
       "\\item 'nCount\\_RNA'\n",
       "\\item 'nFeature\\_RNA'\n",
       "\\item 'nCount\\_ATAC'\n",
       "\\item 'nFeature\\_ATAC'\n",
       "\\item 'fragments\\_freq\\_count'\n",
       "\\item 'FRiP'\n",
       "\\item 'percent.mt'\n",
       "\\item 'nCount\\_SCT'\n",
       "\\item 'nFeature\\_SCT'\n",
       "\\end{enumerate*}\n"
      ],
      "text/markdown": [
       "1. 'orig.ident'\n",
       "2. 'nCount_RNA'\n",
       "3. 'nFeature_RNA'\n",
       "4. 'nCount_ATAC'\n",
       "5. 'nFeature_ATAC'\n",
       "6. 'fragments_freq_count'\n",
       "7. 'FRiP'\n",
       "8. 'percent.mt'\n",
       "9. 'nCount_SCT'\n",
       "10. 'nFeature_SCT'\n",
       "\n",
       "\n"
      ],
      "text/plain": [
       " [1] \"orig.ident\"           \"nCount_RNA\"           \"nFeature_RNA\"        \n",
       " [4] \"nCount_ATAC\"          \"nFeature_ATAC\"        \"fragments_freq_count\"\n",
       " [7] \"FRiP\"                 \"percent.mt\"           \"nCount_SCT\"          \n",
       "[10] \"nFeature_SCT\"        "
      ]
     },
     "metadata": {},
     "output_type": "display_data"
    }
   ],
   "source": [
    "colnames(df_obj1@meta.data)"
   ]
  }
 ],
 "metadata": {
  "kernelspec": {
   "display_name": "R [conda env:ressen3]",
   "language": "R",
   "name": "conda-env-ressen3-r"
  },
  "language_info": {
   "codemirror_mode": "r",
   "file_extension": ".r",
   "mimetype": "text/x-r-source",
   "name": "R",
   "pygments_lexer": "r",
   "version": "4.1.1"
  }
 },
 "nbformat": 4,
 "nbformat_minor": 5
}
