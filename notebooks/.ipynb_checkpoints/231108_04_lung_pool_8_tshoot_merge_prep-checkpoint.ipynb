{
 "cells": [
  {
   "cell_type": "code",
   "execution_count": 1,
   "id": "a4b5cbbc",
   "metadata": {},
   "outputs": [
    {
     "name": "stderr",
     "output_type": "stream",
     "text": [
      "The legacy packages maptools, rgdal, and rgeos, underpinning the sp package,\n",
      "which was just loaded, will retire in October 2023.\n",
      "Please refer to R-spatial evolution reports for details, especially\n",
      "https://r-spatial.org/r/2023/05/15/evolution4.html.\n",
      "It may be desirable to make the sf package available;\n",
      "package maintainers should consider adding sf to Suggests:.\n",
      "The sp package is now running under evolution status 2\n",
      "     (status 2 uses the sf package in place of rgdal)\n",
      "\n",
      "Attaching SeuratObject\n",
      "\n",
      "Loading required package: stats4\n",
      "\n",
      "Loading required package: BiocGenerics\n",
      "\n",
      "\n",
      "Attaching package: ‘BiocGenerics’\n",
      "\n",
      "\n",
      "The following objects are masked from ‘package:stats’:\n",
      "\n",
      "    IQR, mad, sd, var, xtabs\n",
      "\n",
      "\n",
      "The following objects are masked from ‘package:base’:\n",
      "\n",
      "    anyDuplicated, append, as.data.frame, basename, cbind, colnames,\n",
      "    dirname, do.call, duplicated, eval, evalq, Filter, Find, get, grep,\n",
      "    grepl, intersect, is.unsorted, lapply, Map, mapply, match, mget,\n",
      "    order, paste, pmax, pmax.int, pmin, pmin.int, Position, rank,\n",
      "    rbind, Reduce, rownames, sapply, setdiff, sort, table, tapply,\n",
      "    union, unique, unsplit, which.max, which.min\n",
      "\n",
      "\n",
      "Loading required package: S4Vectors\n",
      "\n",
      "\n",
      "Attaching package: ‘S4Vectors’\n",
      "\n",
      "\n",
      "The following objects are masked from ‘package:base’:\n",
      "\n",
      "    expand.grid, I, unname\n",
      "\n",
      "\n",
      "Loading required package: IRanges\n",
      "\n",
      "Loading required package: GenomeInfoDb\n",
      "\n",
      "Warning message:\n",
      "“package ‘GenomeInfoDb’ was built under R version 4.1.3”\n"
     ]
    }
   ],
   "source": [
    "library(Seurat)\n",
    "library(Signac)\n",
    "library(parallel)\n",
    "library(GenomicRanges)"
   ]
  },
  {
   "cell_type": "code",
   "execution_count": null,
   "id": "19506347",
   "metadata": {},
   "outputs": [],
   "source": [
    "# trying to figure out why \n",
    "\n",
    "# Error: Can't extract columns that don't exist.\n",
    "# x Column ranges doesn't exist.\n",
    "\n",
    "#https://github.com/stuart-lab/signac/issues/221"
   ]
  },
  {
   "cell_type": "code",
   "execution_count": 2,
   "id": "8e5078bc",
   "metadata": {},
   "outputs": [],
   "source": [
    "read_objects <- function(ipath1, ipath2=NULL){\n",
    "    objs <- list.files(ipath1)\n",
    "    obj_list <- c()\n",
    "\n",
    "    for(o in objs){\n",
    "        temp_obj <- readRDS(paste0(ipath1,o))\n",
    "        rownames(temp_obj@meta.data) <- temp_obj$BARCODE\n",
    "        obj_list <- append(obj_list, temp_obj)\n",
    "    }\n",
    "\n",
    "    if (is.null(ipath2) == FALSE){\n",
    "        objs2 <- list.files(ipath2)\n",
    "        for(o in objs2){\n",
    "        temp_obj2 <- readRDS(paste0(ipath2,o))\n",
    "        obj_list <- append(obj_list, temp_obj2)\n",
    "        }\n",
    "    }\n",
    "\n",
    "    return(obj_list)\n",
    "}\n"
   ]
  },
  {
   "cell_type": "code",
   "execution_count": 52,
   "id": "d7800479",
   "metadata": {},
   "outputs": [],
   "source": [
    "\n",
    "# Prepare objects for merging\n",
    "merge_prep <- function(inp_obj, reduced_peaks){\n",
    "    #### Extract fragments as frags objects from each dataset\n",
    "    frags <- Fragments(inp_obj)\n",
    "    #### Built feature matrices\n",
    "    counts <- FeatureMatrix(\n",
    "      fragments = frags,\n",
    "      features = reduced_peaks,\n",
    "      cells = rownames(inp_obj@meta.data)\n",
    "    )\n",
    "    print(head(rownames(inp_obj@meta.data)))\n",
    "    print(counts )\n",
    "    #### Create Chromatin assays.. obviously\n",
    "    # for the multiome, originally did min.features = -1 for each individual obj\n",
    "    # orig only min.features = -1 for lung pool 4 \n",
    "    # min.features = 1 min.cells = 1 doesn't work\n",
    "    #assay <- CreateChromatinAssay(counts, fragments = frags, min.features = -1)\n",
    "    #### Create new object from each assay\n",
    "    # ******* change project to orig.ident if appropriate *******\n",
    "    #inp_obj[[\"ATAC_comb\"]] <- assay\n",
    "    return(inp_obj)\n",
    "}\n",
    "\n"
   ]
  },
  {
   "cell_type": "code",
   "execution_count": 31,
   "id": "4675c39a",
   "metadata": {},
   "outputs": [],
   "source": [
    "# NOTE may need to change\n",
    "extract_samp_nm <- function(obs_list){\n",
    "    samp_nms <- c()\n",
    "    for (o in obs_list) {\n",
    "        samp_nm <- as.character(o@meta.data$orig.ident[1])\n",
    "        samp_nms <- append(samp_nms, samp_nm)\n",
    "    }\n",
    "    return(samp_nms)\n",
    "}\n",
    "\n"
   ]
  },
  {
   "cell_type": "code",
   "execution_count": 5,
   "id": "b16be828",
   "metadata": {},
   "outputs": [],
   "source": [
    "\n",
    "args = commandArgs(trailingOnly=TRUE)\n",
    "ipath1 <- \"/home/rlancione/ps-epigen/users/rlan/Donor_Demultiplexing/Objects/\"\n",
    "outp <- \"/oasis/tscc/scratch/cmiciano/Lung/lungmap_3/04_multiome_merge_8/\"\n",
    "proj <- \"231108_merged_multiome_lung8\"\n",
    "# min.features = -1 important \n",
    "# for cells with 0 features, end up in infinite loop without this if the cell numbers are different between rna and atac\n",
    "#ipath1 <- \"/projects/ps-epigen/users/cmiciano/SenNet_Multiome/07_DoubletFinder_Rep2/df_objs_md_liver/\"\n",
    "\n",
    "Sys.time()\n",
    "li <- read_objects(ipath1=ipath1)\n",
    "Sys.time()\n"
   ]
  },
  {
   "cell_type": "code",
   "execution_count": 32,
   "id": "fc306539",
   "metadata": {},
   "outputs": [
    {
     "data": {
      "text/plain": [
       "[[1]]\n",
       "An object of class Seurat \n",
       "179768 features across 20000 samples within 3 assays \n",
       "Active assay: ATAC (112851 features, 0 variable features)\n",
       " 2 other assays present: RNA, SCT\n",
       " 2 dimensional reductions calculated: pca, umap\n",
       "\n",
       "[[2]]\n",
       "An object of class Seurat \n",
       "181455 features across 20000 samples within 3 assays \n",
       "Active assay: ATAC (114468 features, 0 variable features)\n",
       " 2 other assays present: RNA, SCT\n",
       " 2 dimensional reductions calculated: pca, umap\n",
       "\n",
       "[[3]]\n",
       "An object of class Seurat \n",
       "182529 features across 20000 samples within 3 assays \n",
       "Active assay: ATAC (114880 features, 0 variable features)\n",
       " 2 other assays present: RNA, SCT\n",
       " 2 dimensional reductions calculated: pca, umap\n",
       "\n",
       "[[4]]\n",
       "An object of class Seurat \n",
       "179142 features across 20000 samples within 3 assays \n",
       "Active assay: ATAC (111805 features, 0 variable features)\n",
       " 2 other assays present: RNA, SCT\n",
       " 2 dimensional reductions calculated: pca, umap\n",
       "\n",
       "[[5]]\n",
       "An object of class Seurat \n",
       "182425 features across 20000 samples within 3 assays \n",
       "Active assay: ATAC (114920 features, 0 variable features)\n",
       " 2 other assays present: RNA, SCT\n",
       " 2 dimensional reductions calculated: pca, umap\n",
       "\n",
       "[[6]]\n",
       "An object of class Seurat \n",
       "183861 features across 20000 samples within 3 assays \n",
       "Active assay: ATAC (116543 features, 0 variable features)\n",
       " 2 other assays present: RNA, SCT\n",
       " 2 dimensional reductions calculated: pca, umap\n",
       "\n",
       "[[7]]\n",
       "An object of class Seurat \n",
       "182516 features across 20000 samples within 3 assays \n",
       "Active assay: ATAC (114923 features, 0 variable features)\n",
       " 2 other assays present: RNA, SCT\n",
       " 2 dimensional reductions calculated: pca, umap\n",
       "\n",
       "[[8]]\n",
       "An object of class Seurat \n",
       "181374 features across 19947 samples within 3 assays \n",
       "Active assay: ATAC (114018 features, 0 variable features)\n",
       " 2 other assays present: RNA, SCT\n",
       " 2 dimensional reductions calculated: pca, umap\n"
      ]
     },
     "metadata": {},
     "output_type": "display_data"
    }
   ],
   "source": [
    "li"
   ]
  },
  {
   "cell_type": "code",
   "execution_count": 7,
   "id": "c426eadb",
   "metadata": {},
   "outputs": [
    {
     "name": "stdout",
     "output_type": "stream",
     "text": [
      "An object of class Seurat \n",
      "179768 features across 20000 samples within 3 assays \n",
      "Active assay: SCT (30316 features, 3000 variable features)\n",
      " 2 other assays present: RNA, ATAC\n",
      " 2 dimensional reductions calculated: pca, umap\n",
      "An object of class Seurat \n",
      "181455 features across 20000 samples within 3 assays \n",
      "Active assay: SCT (30386 features, 3000 variable features)\n",
      " 2 other assays present: RNA, ATAC\n",
      " 2 dimensional reductions calculated: pca, umap\n",
      "An object of class Seurat \n",
      "182529 features across 20000 samples within 3 assays \n",
      "Active assay: SCT (31048 features, 3000 variable features)\n",
      " 2 other assays present: RNA, ATAC\n",
      " 2 dimensional reductions calculated: pca, umap\n",
      "An object of class Seurat \n",
      "179142 features across 20000 samples within 3 assays \n",
      "Active assay: SCT (30736 features, 3000 variable features)\n",
      " 2 other assays present: RNA, ATAC\n",
      " 2 dimensional reductions calculated: pca, umap\n",
      "An object of class Seurat \n",
      "182425 features across 20000 samples within 3 assays \n",
      "Active assay: SCT (30904 features, 3000 variable features)\n",
      " 2 other assays present: RNA, ATAC\n",
      " 2 dimensional reductions calculated: pca, umap\n",
      "An object of class Seurat \n",
      "183861 features across 20000 samples within 3 assays \n",
      "Active assay: SCT (30717 features, 3000 variable features)\n",
      " 2 other assays present: RNA, ATAC\n",
      " 2 dimensional reductions calculated: pca, umap\n",
      "An object of class Seurat \n",
      "182516 features across 20000 samples within 3 assays \n",
      "Active assay: SCT (30992 features, 3000 variable features)\n",
      " 2 other assays present: RNA, ATAC\n",
      " 2 dimensional reductions calculated: pca, umap\n",
      "An object of class Seurat \n",
      "181374 features across 19947 samples within 3 assays \n",
      "Active assay: SCT (30755 features, 3000 variable features)\n",
      " 2 other assays present: RNA, ATAC\n",
      " 2 dimensional reductions calculated: pca, umap\n",
      "An object of class Seurat \n",
      "179768 features across 20000 samples within 3 assays \n",
      "Active assay: ATAC (112851 features, 0 variable features)\n",
      " 2 other assays present: RNA, SCT\n",
      " 2 dimensional reductions calculated: pca, umap\n",
      "An object of class Seurat \n",
      "181455 features across 20000 samples within 3 assays \n",
      "Active assay: ATAC (114468 features, 0 variable features)\n",
      " 2 other assays present: RNA, SCT\n",
      " 2 dimensional reductions calculated: pca, umap\n",
      "An object of class Seurat \n",
      "182529 features across 20000 samples within 3 assays \n",
      "Active assay: ATAC (114880 features, 0 variable features)\n",
      " 2 other assays present: RNA, SCT\n",
      " 2 dimensional reductions calculated: pca, umap\n",
      "An object of class Seurat \n",
      "179142 features across 20000 samples within 3 assays \n",
      "Active assay: ATAC (111805 features, 0 variable features)\n",
      " 2 other assays present: RNA, SCT\n",
      " 2 dimensional reductions calculated: pca, umap\n",
      "An object of class Seurat \n",
      "182425 features across 20000 samples within 3 assays \n",
      "Active assay: ATAC (114920 features, 0 variable features)\n",
      " 2 other assays present: RNA, SCT\n",
      " 2 dimensional reductions calculated: pca, umap\n",
      "An object of class Seurat \n",
      "183861 features across 20000 samples within 3 assays \n",
      "Active assay: ATAC (116543 features, 0 variable features)\n",
      " 2 other assays present: RNA, SCT\n",
      " 2 dimensional reductions calculated: pca, umap\n",
      "An object of class Seurat \n",
      "182516 features across 20000 samples within 3 assays \n",
      "Active assay: ATAC (114923 features, 0 variable features)\n",
      " 2 other assays present: RNA, SCT\n",
      " 2 dimensional reductions calculated: pca, umap\n",
      "An object of class Seurat \n",
      "181374 features across 19947 samples within 3 assays \n",
      "Active assay: ATAC (114018 features, 0 variable features)\n",
      " 2 other assays present: RNA, SCT\n",
      " 2 dimensional reductions calculated: pca, umap\n"
     ]
    }
   ],
   "source": [
    "\n",
    "# change default assay to atac\n",
    "# assign to default cellranger ATAC peaks for each object, so the peaks are actually used when calling featurematrix\n",
    "for (obj in 1:length(li)) {\n",
    "   print(li[[obj]])\n",
    "   DefaultAssay(li[[obj]]) <- 'ATAC'\n",
    "\n",
    "}\n",
    "\n",
    "for (obj in 1:length(li)) {\n",
    "   print(li[[obj]])\n",
    "}"
   ]
  },
  {
   "cell_type": "code",
   "execution_count": 33,
   "id": "89c293b2",
   "metadata": {},
   "outputs": [],
   "source": [
    "### create list of genomic ranges. Change to \"objects\"\n",
    "granges <- mclapply(mc.cores=detectCores()*.75, X= li, FUN=Signac::granges)\n",
    "\n",
    "\n",
    "### concatonate them\n",
    "grang.c <- c()\n",
    "\n",
    "\n",
    "for (g in granges){grang.c <- append(grang.c, g)}\n",
    "### Create a unified set of peaks to quantify in each dataset\n",
    "\n",
    "\n",
    "combined.peaks <- reduce(grang.c)\n",
    "### create proprocessed merged object list\n",
    "\n",
    "\n"
   ]
  },
  {
   "cell_type": "code",
   "execution_count": 50,
   "id": "2bd6757c",
   "metadata": {},
   "outputs": [
    {
     "data": {
      "text/plain": [
       "GRanges object with 172997 ranges and 0 metadata columns:\n",
       "             seqnames          ranges strand\n",
       "                <Rle>       <IRanges>  <Rle>\n",
       "       [1]       chr1      9767-10709      *\n",
       "       [2]       chr1   180707-181668      *\n",
       "       [3]       chr1   183903-184782      *\n",
       "       [4]       chr1   186352-187360      *\n",
       "       [5]       chr1   191053-191961      *\n",
       "       ...        ...             ...    ...\n",
       "  [172993] KI270728.1 1792043-1792755      *\n",
       "  [172994] KI270731.1       4419-5408      *\n",
       "  [172995] KI270734.1   116882-117921      *\n",
       "  [172996] KI270734.1   121024-121925      *\n",
       "  [172997] KI270734.1   163727-164637      *\n",
       "  -------\n",
       "  seqinfo: 37 sequences from an unspecified genome; no seqlengths"
      ]
     },
     "metadata": {},
     "output_type": "display_data"
    }
   ],
   "source": [
    "combined.peaks"
   ]
  },
  {
   "cell_type": "code",
   "execution_count": 53,
   "id": "4346d381",
   "metadata": {},
   "outputs": [
    {
     "data": {
      "text/plain": [
       "[1] \"2023-11-08 15:36:55 PST\""
      ]
     },
     "metadata": {},
     "output_type": "display_data"
    },
    {
     "name": "stdout",
     "output_type": "stream",
     "text": [
      "[1] \"1\" \"2\" \"3\" \"4\" \"5\" \"6\"\n",
      "NULL\n",
      "[1] \"1\" \"2\" \"3\" \"4\" \"5\" \"6\"\n",
      "NULL\n",
      "[1] \"1\" \"2\" \"3\" \"4\" \"5\" \"6\"\n",
      "NULL\n",
      "[1] \"1\" \"2\" \"3\" \"4\" \"5\" \"6\"\n",
      "NULL\n",
      "[1] \"1\" \"2\" \"3\" \"4\" \"5\" \"6\"\n",
      "NULL\n",
      "[1] \"1\" \"2\" \"3\" \"4\" \"5\" \"6\"\n",
      "NULL\n",
      "[1] \"1\" \"2\" \"3\" \"4\" \"5\" \"6\"\n",
      "NULL\n",
      "[1] \"1\" \"2\" \"3\" \"4\" \"5\" \"6\"\n",
      "NULL\n"
     ]
    },
    {
     "data": {
      "text/plain": [
       "[1] \"2023-11-08 15:36:55 PST\""
      ]
     },
     "metadata": {},
     "output_type": "display_data"
    }
   ],
   "source": [
    "\n",
    "Sys.time()\n",
    "pmo_list <- lapply( X= li, FUN=merge_prep, reduced_peaks=combined.peaks)\n",
    "Sys.time()\n"
   ]
  },
  {
   "cell_type": "code",
   "execution_count": 35,
   "id": "3979b084",
   "metadata": {},
   "outputs": [
    {
     "name": "stderr",
     "output_type": "stream",
     "text": [
      "Extracting reads overlapping genomic regions\n",
      "\n"
     ]
    }
   ],
   "source": [
    "    #### Built feature matrices\n",
    "    counts <- FeatureMatrix(\n",
    "      fragments = frags,\n",
    "      features = combined.peaks,\n",
    "      cells = rownames(sobj@meta.data)\n",
    "    )"
   ]
  },
  {
   "cell_type": "code",
   "execution_count": 13,
   "id": "82c606a6",
   "metadata": {},
   "outputs": [
    {
     "data": {
      "text/plain": [
       "[[1]]\n",
       "A Fragment object for 20000 cells\n"
      ]
     },
     "metadata": {},
     "output_type": "display_data"
    }
   ],
   "source": [
    "sobj <- li[[1]]\n",
    "frags <- Fragments(sobj)\n",
    "frags"
   ]
  },
  {
   "cell_type": "code",
   "execution_count": 20,
   "id": "e621cfc8",
   "metadata": {},
   "outputs": [
    {
     "data": {
      "text/html": [
       "<table class=\"dataframe\">\n",
       "<caption>A data.frame: 6 × 30</caption>\n",
       "<thead>\n",
       "\t<tr><th></th><th scope=col>BARCODE</th><th scope=col>orig.ident</th><th scope=col>nCount_RNA</th><th scope=col>nFeature_RNA</th><th scope=col>nCount_ATAC</th><th scope=col>nFeature_ATAC</th><th scope=col>fragments_freq_count</th><th scope=col>FRiP</th><th scope=col>percent.mt</th><th scope=col>nCount_SCT</th><th scope=col>⋯</th><th scope=col>BEST.POSTERIOR</th><th scope=col>SNG.POSTERIOR</th><th scope=col>SNG.BEST.GUESS</th><th scope=col>SNG.BEST.LLK</th><th scope=col>SNG.NEXT.GUESS</th><th scope=col>SNG.NEXT.LLK</th><th scope=col>SNG.ONLY.POSTERIOR</th><th scope=col>DBL.BEST.GUESS</th><th scope=col>DBL.BEST.LLK</th><th scope=col>DIFF.LLK.SNG.DBL</th></tr>\n",
       "\t<tr><th></th><th scope=col>&lt;chr&gt;</th><th scope=col>&lt;fct&gt;</th><th scope=col>&lt;dbl&gt;</th><th scope=col>&lt;int&gt;</th><th scope=col>&lt;dbl&gt;</th><th scope=col>&lt;int&gt;</th><th scope=col>&lt;dbl&gt;</th><th scope=col>&lt;dbl&gt;</th><th scope=col>&lt;dbl&gt;</th><th scope=col>&lt;dbl&gt;</th><th scope=col>⋯</th><th scope=col>&lt;dbl&gt;</th><th scope=col>&lt;dbl&gt;</th><th scope=col>&lt;chr&gt;</th><th scope=col>&lt;dbl&gt;</th><th scope=col>&lt;chr&gt;</th><th scope=col>&lt;dbl&gt;</th><th scope=col>&lt;dbl&gt;</th><th scope=col>&lt;chr&gt;</th><th scope=col>&lt;dbl&gt;</th><th scope=col>&lt;dbl&gt;</th></tr>\n",
       "</thead>\n",
       "<tbody>\n",
       "\t<tr><th scope=row>1</th><td>AAACAGCCAAACGGGC-1</td><td>QY_2225_2_QY_2224_2</td><td> 6581</td><td>3072</td><td>5854</td><td>2926</td><td> 9272</td><td>0.6313632</td><td>1.1092539</td><td>6172</td><td>⋯</td><td> -2.5e+02</td><td>1</td><td>UCSDX51_UCSDX51</td><td>-243.32</td><td>D371_D371      </td><td>-574.97</td><td>0</td><td>D381_D381,UCSDX51_UCSDX51,0.50      </td><td>-301.66</td><td>  58.34</td></tr>\n",
       "\t<tr><th scope=row>2</th><td>AAACAGCCAAAGGTAC-1</td><td>QY_2225_2_QY_2224_2</td><td> 6785</td><td>2512</td><td>2357</td><td>1209</td><td> 3871</td><td>0.6088866</td><td>3.3898305</td><td>6013</td><td>⋯</td><td> -1.8e+02</td><td>1</td><td>D265_D265      </td><td>-173.03</td><td>UCSDX3_UCSDX3  </td><td>-291.65</td><td>0</td><td>D265_D265,UCSDX3_UCSDX3,0.50        </td><td>-182.59</td><td>   9.56</td></tr>\n",
       "\t<tr><th scope=row>3</th><td>AAACAGCCAAATACCT-1</td><td>QY_2225_2_QY_2224_2</td><td>  773</td><td> 607</td><td>2335</td><td>1213</td><td> 3731</td><td>0.6258376</td><td>1.1642950</td><td>4272</td><td>⋯</td><td> -7.2e+01</td><td>1</td><td>UCSDX19_UCSDX19</td><td> -68.06</td><td>UCSDX51_UCSDX51</td><td>-145.11</td><td>0</td><td>UCSDX19_UCSDX19,UCSDX31_UCSDX31,0.50</td><td> -79.20</td><td>  11.14</td></tr>\n",
       "\t<tr><th scope=row>4</th><td>AAACAGCCAATTGACT-1</td><td>QY_2225_2_QY_2224_2</td><td> 1709</td><td>1121</td><td>8280</td><td>4112</td><td>20682</td><td>0.4003481</td><td>2.5746050</td><td>4407</td><td>⋯</td><td> -4.0e+02</td><td>1</td><td>UCSDX42_UCSDX42</td><td>-391.82</td><td>UCSDX40_UCSDX40</td><td>-956.91</td><td>0</td><td>UCSDX40_UCSDX40,UCSDX42_UCSDX42,0.50</td><td>-486.25</td><td>  94.43</td></tr>\n",
       "\t<tr><th scope=row>5</th><td>AAACAGCCACATAGCC-1</td><td>QY_2225_2_QY_2224_2</td><td> 5791</td><td>2752</td><td>  84</td><td>  43</td><td>   81</td><td>1.0370370</td><td>0.4144362</td><td>5755</td><td>⋯</td><td> -5.0e+01</td><td>1</td><td>D339_D339      </td><td> -45.57</td><td>UCSDX2_UCSDX2  </td><td>-129.87</td><td>0</td><td>D339_D339,D371_D371,0.50            </td><td> -62.54</td><td>  16.96</td></tr>\n",
       "\t<tr><th scope=row>6</th><td>AAACAGCCACCAGCAT-1</td><td>QY_2225_2_QY_2224_2</td><td>13831</td><td>4553</td><td>7542</td><td>3804</td><td> 9703</td><td>0.7772854</td><td>0.6217916</td><td>6228</td><td>⋯</td><td> 5.0e-207</td><td>1</td><td>UCSDX44_UCSDX44</td><td>-625.03</td><td>UCSDX19_UCSDX19</td><td>-680.52</td><td>0</td><td>UCSDX19_UCSDX19,UCSDX44_UCSDX44,0.50</td><td>-468.25</td><td>-156.78</td></tr>\n",
       "</tbody>\n",
       "</table>\n"
      ],
      "text/latex": [
       "A data.frame: 6 × 30\n",
       "\\begin{tabular}{r|lllllllllllllllllllll}\n",
       "  & BARCODE & orig.ident & nCount\\_RNA & nFeature\\_RNA & nCount\\_ATAC & nFeature\\_ATAC & fragments\\_freq\\_count & FRiP & percent.mt & nCount\\_SCT & ⋯ & BEST.POSTERIOR & SNG.POSTERIOR & SNG.BEST.GUESS & SNG.BEST.LLK & SNG.NEXT.GUESS & SNG.NEXT.LLK & SNG.ONLY.POSTERIOR & DBL.BEST.GUESS & DBL.BEST.LLK & DIFF.LLK.SNG.DBL\\\\\n",
       "  & <chr> & <fct> & <dbl> & <int> & <dbl> & <int> & <dbl> & <dbl> & <dbl> & <dbl> & ⋯ & <dbl> & <dbl> & <chr> & <dbl> & <chr> & <dbl> & <dbl> & <chr> & <dbl> & <dbl>\\\\\n",
       "\\hline\n",
       "\t1 & AAACAGCCAAACGGGC-1 & QY\\_2225\\_2\\_QY\\_2224\\_2 &  6581 & 3072 & 5854 & 2926 &  9272 & 0.6313632 & 1.1092539 & 6172 & ⋯ &  -2.5e+02 & 1 & UCSDX51\\_UCSDX51 & -243.32 & D371\\_D371       & -574.97 & 0 & D381\\_D381,UCSDX51\\_UCSDX51,0.50       & -301.66 &   58.34\\\\\n",
       "\t2 & AAACAGCCAAAGGTAC-1 & QY\\_2225\\_2\\_QY\\_2224\\_2 &  6785 & 2512 & 2357 & 1209 &  3871 & 0.6088866 & 3.3898305 & 6013 & ⋯ &  -1.8e+02 & 1 & D265\\_D265       & -173.03 & UCSDX3\\_UCSDX3   & -291.65 & 0 & D265\\_D265,UCSDX3\\_UCSDX3,0.50         & -182.59 &    9.56\\\\\n",
       "\t3 & AAACAGCCAAATACCT-1 & QY\\_2225\\_2\\_QY\\_2224\\_2 &   773 &  607 & 2335 & 1213 &  3731 & 0.6258376 & 1.1642950 & 4272 & ⋯ &  -7.2e+01 & 1 & UCSDX19\\_UCSDX19 &  -68.06 & UCSDX51\\_UCSDX51 & -145.11 & 0 & UCSDX19\\_UCSDX19,UCSDX31\\_UCSDX31,0.50 &  -79.20 &   11.14\\\\\n",
       "\t4 & AAACAGCCAATTGACT-1 & QY\\_2225\\_2\\_QY\\_2224\\_2 &  1709 & 1121 & 8280 & 4112 & 20682 & 0.4003481 & 2.5746050 & 4407 & ⋯ &  -4.0e+02 & 1 & UCSDX42\\_UCSDX42 & -391.82 & UCSDX40\\_UCSDX40 & -956.91 & 0 & UCSDX40\\_UCSDX40,UCSDX42\\_UCSDX42,0.50 & -486.25 &   94.43\\\\\n",
       "\t5 & AAACAGCCACATAGCC-1 & QY\\_2225\\_2\\_QY\\_2224\\_2 &  5791 & 2752 &   84 &   43 &    81 & 1.0370370 & 0.4144362 & 5755 & ⋯ &  -5.0e+01 & 1 & D339\\_D339       &  -45.57 & UCSDX2\\_UCSDX2   & -129.87 & 0 & D339\\_D339,D371\\_D371,0.50             &  -62.54 &   16.96\\\\\n",
       "\t6 & AAACAGCCACCAGCAT-1 & QY\\_2225\\_2\\_QY\\_2224\\_2 & 13831 & 4553 & 7542 & 3804 &  9703 & 0.7772854 & 0.6217916 & 6228 & ⋯ &  5.0e-207 & 1 & UCSDX44\\_UCSDX44 & -625.03 & UCSDX19\\_UCSDX19 & -680.52 & 0 & UCSDX19\\_UCSDX19,UCSDX44\\_UCSDX44,0.50 & -468.25 & -156.78\\\\\n",
       "\\end{tabular}\n"
      ],
      "text/markdown": [
       "\n",
       "A data.frame: 6 × 30\n",
       "\n",
       "| <!--/--> | BARCODE &lt;chr&gt; | orig.ident &lt;fct&gt; | nCount_RNA &lt;dbl&gt; | nFeature_RNA &lt;int&gt; | nCount_ATAC &lt;dbl&gt; | nFeature_ATAC &lt;int&gt; | fragments_freq_count &lt;dbl&gt; | FRiP &lt;dbl&gt; | percent.mt &lt;dbl&gt; | nCount_SCT &lt;dbl&gt; | ⋯ ⋯ | BEST.POSTERIOR &lt;dbl&gt; | SNG.POSTERIOR &lt;dbl&gt; | SNG.BEST.GUESS &lt;chr&gt; | SNG.BEST.LLK &lt;dbl&gt; | SNG.NEXT.GUESS &lt;chr&gt; | SNG.NEXT.LLK &lt;dbl&gt; | SNG.ONLY.POSTERIOR &lt;dbl&gt; | DBL.BEST.GUESS &lt;chr&gt; | DBL.BEST.LLK &lt;dbl&gt; | DIFF.LLK.SNG.DBL &lt;dbl&gt; |\n",
       "|---|---|---|---|---|---|---|---|---|---|---|---|---|---|---|---|---|---|---|---|---|---|\n",
       "| 1 | AAACAGCCAAACGGGC-1 | QY_2225_2_QY_2224_2 |  6581 | 3072 | 5854 | 2926 |  9272 | 0.6313632 | 1.1092539 | 6172 | ⋯ |  -2.5e+02 | 1 | UCSDX51_UCSDX51 | -243.32 | D371_D371       | -574.97 | 0 | D381_D381,UCSDX51_UCSDX51,0.50       | -301.66 |   58.34 |\n",
       "| 2 | AAACAGCCAAAGGTAC-1 | QY_2225_2_QY_2224_2 |  6785 | 2512 | 2357 | 1209 |  3871 | 0.6088866 | 3.3898305 | 6013 | ⋯ |  -1.8e+02 | 1 | D265_D265       | -173.03 | UCSDX3_UCSDX3   | -291.65 | 0 | D265_D265,UCSDX3_UCSDX3,0.50         | -182.59 |    9.56 |\n",
       "| 3 | AAACAGCCAAATACCT-1 | QY_2225_2_QY_2224_2 |   773 |  607 | 2335 | 1213 |  3731 | 0.6258376 | 1.1642950 | 4272 | ⋯ |  -7.2e+01 | 1 | UCSDX19_UCSDX19 |  -68.06 | UCSDX51_UCSDX51 | -145.11 | 0 | UCSDX19_UCSDX19,UCSDX31_UCSDX31,0.50 |  -79.20 |   11.14 |\n",
       "| 4 | AAACAGCCAATTGACT-1 | QY_2225_2_QY_2224_2 |  1709 | 1121 | 8280 | 4112 | 20682 | 0.4003481 | 2.5746050 | 4407 | ⋯ |  -4.0e+02 | 1 | UCSDX42_UCSDX42 | -391.82 | UCSDX40_UCSDX40 | -956.91 | 0 | UCSDX40_UCSDX40,UCSDX42_UCSDX42,0.50 | -486.25 |   94.43 |\n",
       "| 5 | AAACAGCCACATAGCC-1 | QY_2225_2_QY_2224_2 |  5791 | 2752 |   84 |   43 |    81 | 1.0370370 | 0.4144362 | 5755 | ⋯ |  -5.0e+01 | 1 | D339_D339       |  -45.57 | UCSDX2_UCSDX2   | -129.87 | 0 | D339_D339,D371_D371,0.50             |  -62.54 |   16.96 |\n",
       "| 6 | AAACAGCCACCAGCAT-1 | QY_2225_2_QY_2224_2 | 13831 | 4553 | 7542 | 3804 |  9703 | 0.7772854 | 0.6217916 | 6228 | ⋯ |  5.0e-207 | 1 | UCSDX44_UCSDX44 | -625.03 | UCSDX19_UCSDX19 | -680.52 | 0 | UCSDX19_UCSDX19,UCSDX44_UCSDX44,0.50 | -468.25 | -156.78 |\n",
       "\n"
      ],
      "text/plain": [
       "  BARCODE            orig.ident          nCount_RNA nFeature_RNA nCount_ATAC\n",
       "1 AAACAGCCAAACGGGC-1 QY_2225_2_QY_2224_2  6581      3072         5854       \n",
       "2 AAACAGCCAAAGGTAC-1 QY_2225_2_QY_2224_2  6785      2512         2357       \n",
       "3 AAACAGCCAAATACCT-1 QY_2225_2_QY_2224_2   773       607         2335       \n",
       "4 AAACAGCCAATTGACT-1 QY_2225_2_QY_2224_2  1709      1121         8280       \n",
       "5 AAACAGCCACATAGCC-1 QY_2225_2_QY_2224_2  5791      2752           84       \n",
       "6 AAACAGCCACCAGCAT-1 QY_2225_2_QY_2224_2 13831      4553         7542       \n",
       "  nFeature_ATAC fragments_freq_count FRiP      percent.mt nCount_SCT ⋯\n",
       "1 2926           9272                0.6313632 1.1092539  6172       ⋯\n",
       "2 1209           3871                0.6088866 3.3898305  6013       ⋯\n",
       "3 1213           3731                0.6258376 1.1642950  4272       ⋯\n",
       "4 4112          20682                0.4003481 2.5746050  4407       ⋯\n",
       "5   43             81                1.0370370 0.4144362  5755       ⋯\n",
       "6 3804           9703                0.7772854 0.6217916  6228       ⋯\n",
       "  BEST.POSTERIOR SNG.POSTERIOR SNG.BEST.GUESS  SNG.BEST.LLK SNG.NEXT.GUESS \n",
       "1  -2.5e+02      1             UCSDX51_UCSDX51 -243.32      D371_D371      \n",
       "2  -1.8e+02      1             D265_D265       -173.03      UCSDX3_UCSDX3  \n",
       "3  -7.2e+01      1             UCSDX19_UCSDX19  -68.06      UCSDX51_UCSDX51\n",
       "4  -4.0e+02      1             UCSDX42_UCSDX42 -391.82      UCSDX40_UCSDX40\n",
       "5  -5.0e+01      1             D339_D339        -45.57      UCSDX2_UCSDX2  \n",
       "6  5.0e-207      1             UCSDX44_UCSDX44 -625.03      UCSDX19_UCSDX19\n",
       "  SNG.NEXT.LLK SNG.ONLY.POSTERIOR DBL.BEST.GUESS                      \n",
       "1 -574.97      0                  D381_D381,UCSDX51_UCSDX51,0.50      \n",
       "2 -291.65      0                  D265_D265,UCSDX3_UCSDX3,0.50        \n",
       "3 -145.11      0                  UCSDX19_UCSDX19,UCSDX31_UCSDX31,0.50\n",
       "4 -956.91      0                  UCSDX40_UCSDX40,UCSDX42_UCSDX42,0.50\n",
       "5 -129.87      0                  D339_D339,D371_D371,0.50            \n",
       "6 -680.52      0                  UCSDX19_UCSDX19,UCSDX44_UCSDX44,0.50\n",
       "  DBL.BEST.LLK DIFF.LLK.SNG.DBL\n",
       "1 -301.66        58.34         \n",
       "2 -182.59         9.56         \n",
       "3  -79.20        11.14         \n",
       "4 -486.25        94.43         \n",
       "5  -62.54        16.96         \n",
       "6 -468.25      -156.78         "
      ]
     },
     "metadata": {},
     "output_type": "display_data"
    }
   ],
   "source": [
    "head(sobj@meta.data)"
   ]
  },
  {
   "cell_type": "code",
   "execution_count": 23,
   "id": "662c9ec1",
   "metadata": {},
   "outputs": [],
   "source": [
    "rownames(sobj@meta.data) <- sobj$BARCODE"
   ]
  },
  {
   "cell_type": "code",
   "execution_count": 24,
   "id": "44d27a0c",
   "metadata": {},
   "outputs": [
    {
     "data": {
      "text/html": [
       "<table class=\"dataframe\">\n",
       "<caption>A data.frame: 6 × 30</caption>\n",
       "<thead>\n",
       "\t<tr><th></th><th scope=col>BARCODE</th><th scope=col>orig.ident</th><th scope=col>nCount_RNA</th><th scope=col>nFeature_RNA</th><th scope=col>nCount_ATAC</th><th scope=col>nFeature_ATAC</th><th scope=col>fragments_freq_count</th><th scope=col>FRiP</th><th scope=col>percent.mt</th><th scope=col>nCount_SCT</th><th scope=col>⋯</th><th scope=col>BEST.POSTERIOR</th><th scope=col>SNG.POSTERIOR</th><th scope=col>SNG.BEST.GUESS</th><th scope=col>SNG.BEST.LLK</th><th scope=col>SNG.NEXT.GUESS</th><th scope=col>SNG.NEXT.LLK</th><th scope=col>SNG.ONLY.POSTERIOR</th><th scope=col>DBL.BEST.GUESS</th><th scope=col>DBL.BEST.LLK</th><th scope=col>DIFF.LLK.SNG.DBL</th></tr>\n",
       "\t<tr><th></th><th scope=col>&lt;chr&gt;</th><th scope=col>&lt;fct&gt;</th><th scope=col>&lt;dbl&gt;</th><th scope=col>&lt;int&gt;</th><th scope=col>&lt;dbl&gt;</th><th scope=col>&lt;int&gt;</th><th scope=col>&lt;dbl&gt;</th><th scope=col>&lt;dbl&gt;</th><th scope=col>&lt;dbl&gt;</th><th scope=col>&lt;dbl&gt;</th><th scope=col>⋯</th><th scope=col>&lt;dbl&gt;</th><th scope=col>&lt;dbl&gt;</th><th scope=col>&lt;chr&gt;</th><th scope=col>&lt;dbl&gt;</th><th scope=col>&lt;chr&gt;</th><th scope=col>&lt;dbl&gt;</th><th scope=col>&lt;dbl&gt;</th><th scope=col>&lt;chr&gt;</th><th scope=col>&lt;dbl&gt;</th><th scope=col>&lt;dbl&gt;</th></tr>\n",
       "</thead>\n",
       "<tbody>\n",
       "\t<tr><th scope=row>AAACAGCCAAACGGGC-1</th><td>AAACAGCCAAACGGGC-1</td><td>QY_2225_2_QY_2224_2</td><td> 6581</td><td>3072</td><td>5854</td><td>2926</td><td> 9272</td><td>0.6313632</td><td>1.1092539</td><td>6172</td><td>⋯</td><td> -2.5e+02</td><td>1</td><td>UCSDX51_UCSDX51</td><td>-243.32</td><td>D371_D371      </td><td>-574.97</td><td>0</td><td>D381_D381,UCSDX51_UCSDX51,0.50      </td><td>-301.66</td><td>  58.34</td></tr>\n",
       "\t<tr><th scope=row>AAACAGCCAAAGGTAC-1</th><td>AAACAGCCAAAGGTAC-1</td><td>QY_2225_2_QY_2224_2</td><td> 6785</td><td>2512</td><td>2357</td><td>1209</td><td> 3871</td><td>0.6088866</td><td>3.3898305</td><td>6013</td><td>⋯</td><td> -1.8e+02</td><td>1</td><td>D265_D265      </td><td>-173.03</td><td>UCSDX3_UCSDX3  </td><td>-291.65</td><td>0</td><td>D265_D265,UCSDX3_UCSDX3,0.50        </td><td>-182.59</td><td>   9.56</td></tr>\n",
       "\t<tr><th scope=row>AAACAGCCAAATACCT-1</th><td>AAACAGCCAAATACCT-1</td><td>QY_2225_2_QY_2224_2</td><td>  773</td><td> 607</td><td>2335</td><td>1213</td><td> 3731</td><td>0.6258376</td><td>1.1642950</td><td>4272</td><td>⋯</td><td> -7.2e+01</td><td>1</td><td>UCSDX19_UCSDX19</td><td> -68.06</td><td>UCSDX51_UCSDX51</td><td>-145.11</td><td>0</td><td>UCSDX19_UCSDX19,UCSDX31_UCSDX31,0.50</td><td> -79.20</td><td>  11.14</td></tr>\n",
       "\t<tr><th scope=row>AAACAGCCAATTGACT-1</th><td>AAACAGCCAATTGACT-1</td><td>QY_2225_2_QY_2224_2</td><td> 1709</td><td>1121</td><td>8280</td><td>4112</td><td>20682</td><td>0.4003481</td><td>2.5746050</td><td>4407</td><td>⋯</td><td> -4.0e+02</td><td>1</td><td>UCSDX42_UCSDX42</td><td>-391.82</td><td>UCSDX40_UCSDX40</td><td>-956.91</td><td>0</td><td>UCSDX40_UCSDX40,UCSDX42_UCSDX42,0.50</td><td>-486.25</td><td>  94.43</td></tr>\n",
       "\t<tr><th scope=row>AAACAGCCACATAGCC-1</th><td>AAACAGCCACATAGCC-1</td><td>QY_2225_2_QY_2224_2</td><td> 5791</td><td>2752</td><td>  84</td><td>  43</td><td>   81</td><td>1.0370370</td><td>0.4144362</td><td>5755</td><td>⋯</td><td> -5.0e+01</td><td>1</td><td>D339_D339      </td><td> -45.57</td><td>UCSDX2_UCSDX2  </td><td>-129.87</td><td>0</td><td>D339_D339,D371_D371,0.50            </td><td> -62.54</td><td>  16.96</td></tr>\n",
       "\t<tr><th scope=row>AAACAGCCACCAGCAT-1</th><td>AAACAGCCACCAGCAT-1</td><td>QY_2225_2_QY_2224_2</td><td>13831</td><td>4553</td><td>7542</td><td>3804</td><td> 9703</td><td>0.7772854</td><td>0.6217916</td><td>6228</td><td>⋯</td><td> 5.0e-207</td><td>1</td><td>UCSDX44_UCSDX44</td><td>-625.03</td><td>UCSDX19_UCSDX19</td><td>-680.52</td><td>0</td><td>UCSDX19_UCSDX19,UCSDX44_UCSDX44,0.50</td><td>-468.25</td><td>-156.78</td></tr>\n",
       "</tbody>\n",
       "</table>\n"
      ],
      "text/latex": [
       "A data.frame: 6 × 30\n",
       "\\begin{tabular}{r|lllllllllllllllllllll}\n",
       "  & BARCODE & orig.ident & nCount\\_RNA & nFeature\\_RNA & nCount\\_ATAC & nFeature\\_ATAC & fragments\\_freq\\_count & FRiP & percent.mt & nCount\\_SCT & ⋯ & BEST.POSTERIOR & SNG.POSTERIOR & SNG.BEST.GUESS & SNG.BEST.LLK & SNG.NEXT.GUESS & SNG.NEXT.LLK & SNG.ONLY.POSTERIOR & DBL.BEST.GUESS & DBL.BEST.LLK & DIFF.LLK.SNG.DBL\\\\\n",
       "  & <chr> & <fct> & <dbl> & <int> & <dbl> & <int> & <dbl> & <dbl> & <dbl> & <dbl> & ⋯ & <dbl> & <dbl> & <chr> & <dbl> & <chr> & <dbl> & <dbl> & <chr> & <dbl> & <dbl>\\\\\n",
       "\\hline\n",
       "\tAAACAGCCAAACGGGC-1 & AAACAGCCAAACGGGC-1 & QY\\_2225\\_2\\_QY\\_2224\\_2 &  6581 & 3072 & 5854 & 2926 &  9272 & 0.6313632 & 1.1092539 & 6172 & ⋯ &  -2.5e+02 & 1 & UCSDX51\\_UCSDX51 & -243.32 & D371\\_D371       & -574.97 & 0 & D381\\_D381,UCSDX51\\_UCSDX51,0.50       & -301.66 &   58.34\\\\\n",
       "\tAAACAGCCAAAGGTAC-1 & AAACAGCCAAAGGTAC-1 & QY\\_2225\\_2\\_QY\\_2224\\_2 &  6785 & 2512 & 2357 & 1209 &  3871 & 0.6088866 & 3.3898305 & 6013 & ⋯ &  -1.8e+02 & 1 & D265\\_D265       & -173.03 & UCSDX3\\_UCSDX3   & -291.65 & 0 & D265\\_D265,UCSDX3\\_UCSDX3,0.50         & -182.59 &    9.56\\\\\n",
       "\tAAACAGCCAAATACCT-1 & AAACAGCCAAATACCT-1 & QY\\_2225\\_2\\_QY\\_2224\\_2 &   773 &  607 & 2335 & 1213 &  3731 & 0.6258376 & 1.1642950 & 4272 & ⋯ &  -7.2e+01 & 1 & UCSDX19\\_UCSDX19 &  -68.06 & UCSDX51\\_UCSDX51 & -145.11 & 0 & UCSDX19\\_UCSDX19,UCSDX31\\_UCSDX31,0.50 &  -79.20 &   11.14\\\\\n",
       "\tAAACAGCCAATTGACT-1 & AAACAGCCAATTGACT-1 & QY\\_2225\\_2\\_QY\\_2224\\_2 &  1709 & 1121 & 8280 & 4112 & 20682 & 0.4003481 & 2.5746050 & 4407 & ⋯ &  -4.0e+02 & 1 & UCSDX42\\_UCSDX42 & -391.82 & UCSDX40\\_UCSDX40 & -956.91 & 0 & UCSDX40\\_UCSDX40,UCSDX42\\_UCSDX42,0.50 & -486.25 &   94.43\\\\\n",
       "\tAAACAGCCACATAGCC-1 & AAACAGCCACATAGCC-1 & QY\\_2225\\_2\\_QY\\_2224\\_2 &  5791 & 2752 &   84 &   43 &    81 & 1.0370370 & 0.4144362 & 5755 & ⋯ &  -5.0e+01 & 1 & D339\\_D339       &  -45.57 & UCSDX2\\_UCSDX2   & -129.87 & 0 & D339\\_D339,D371\\_D371,0.50             &  -62.54 &   16.96\\\\\n",
       "\tAAACAGCCACCAGCAT-1 & AAACAGCCACCAGCAT-1 & QY\\_2225\\_2\\_QY\\_2224\\_2 & 13831 & 4553 & 7542 & 3804 &  9703 & 0.7772854 & 0.6217916 & 6228 & ⋯ &  5.0e-207 & 1 & UCSDX44\\_UCSDX44 & -625.03 & UCSDX19\\_UCSDX19 & -680.52 & 0 & UCSDX19\\_UCSDX19,UCSDX44\\_UCSDX44,0.50 & -468.25 & -156.78\\\\\n",
       "\\end{tabular}\n"
      ],
      "text/markdown": [
       "\n",
       "A data.frame: 6 × 30\n",
       "\n",
       "| <!--/--> | BARCODE &lt;chr&gt; | orig.ident &lt;fct&gt; | nCount_RNA &lt;dbl&gt; | nFeature_RNA &lt;int&gt; | nCount_ATAC &lt;dbl&gt; | nFeature_ATAC &lt;int&gt; | fragments_freq_count &lt;dbl&gt; | FRiP &lt;dbl&gt; | percent.mt &lt;dbl&gt; | nCount_SCT &lt;dbl&gt; | ⋯ ⋯ | BEST.POSTERIOR &lt;dbl&gt; | SNG.POSTERIOR &lt;dbl&gt; | SNG.BEST.GUESS &lt;chr&gt; | SNG.BEST.LLK &lt;dbl&gt; | SNG.NEXT.GUESS &lt;chr&gt; | SNG.NEXT.LLK &lt;dbl&gt; | SNG.ONLY.POSTERIOR &lt;dbl&gt; | DBL.BEST.GUESS &lt;chr&gt; | DBL.BEST.LLK &lt;dbl&gt; | DIFF.LLK.SNG.DBL &lt;dbl&gt; |\n",
       "|---|---|---|---|---|---|---|---|---|---|---|---|---|---|---|---|---|---|---|---|---|---|\n",
       "| AAACAGCCAAACGGGC-1 | AAACAGCCAAACGGGC-1 | QY_2225_2_QY_2224_2 |  6581 | 3072 | 5854 | 2926 |  9272 | 0.6313632 | 1.1092539 | 6172 | ⋯ |  -2.5e+02 | 1 | UCSDX51_UCSDX51 | -243.32 | D371_D371       | -574.97 | 0 | D381_D381,UCSDX51_UCSDX51,0.50       | -301.66 |   58.34 |\n",
       "| AAACAGCCAAAGGTAC-1 | AAACAGCCAAAGGTAC-1 | QY_2225_2_QY_2224_2 |  6785 | 2512 | 2357 | 1209 |  3871 | 0.6088866 | 3.3898305 | 6013 | ⋯ |  -1.8e+02 | 1 | D265_D265       | -173.03 | UCSDX3_UCSDX3   | -291.65 | 0 | D265_D265,UCSDX3_UCSDX3,0.50         | -182.59 |    9.56 |\n",
       "| AAACAGCCAAATACCT-1 | AAACAGCCAAATACCT-1 | QY_2225_2_QY_2224_2 |   773 |  607 | 2335 | 1213 |  3731 | 0.6258376 | 1.1642950 | 4272 | ⋯ |  -7.2e+01 | 1 | UCSDX19_UCSDX19 |  -68.06 | UCSDX51_UCSDX51 | -145.11 | 0 | UCSDX19_UCSDX19,UCSDX31_UCSDX31,0.50 |  -79.20 |   11.14 |\n",
       "| AAACAGCCAATTGACT-1 | AAACAGCCAATTGACT-1 | QY_2225_2_QY_2224_2 |  1709 | 1121 | 8280 | 4112 | 20682 | 0.4003481 | 2.5746050 | 4407 | ⋯ |  -4.0e+02 | 1 | UCSDX42_UCSDX42 | -391.82 | UCSDX40_UCSDX40 | -956.91 | 0 | UCSDX40_UCSDX40,UCSDX42_UCSDX42,0.50 | -486.25 |   94.43 |\n",
       "| AAACAGCCACATAGCC-1 | AAACAGCCACATAGCC-1 | QY_2225_2_QY_2224_2 |  5791 | 2752 |   84 |   43 |    81 | 1.0370370 | 0.4144362 | 5755 | ⋯ |  -5.0e+01 | 1 | D339_D339       |  -45.57 | UCSDX2_UCSDX2   | -129.87 | 0 | D339_D339,D371_D371,0.50             |  -62.54 |   16.96 |\n",
       "| AAACAGCCACCAGCAT-1 | AAACAGCCACCAGCAT-1 | QY_2225_2_QY_2224_2 | 13831 | 4553 | 7542 | 3804 |  9703 | 0.7772854 | 0.6217916 | 6228 | ⋯ |  5.0e-207 | 1 | UCSDX44_UCSDX44 | -625.03 | UCSDX19_UCSDX19 | -680.52 | 0 | UCSDX19_UCSDX19,UCSDX44_UCSDX44,0.50 | -468.25 | -156.78 |\n",
       "\n"
      ],
      "text/plain": [
       "                   BARCODE            orig.ident          nCount_RNA\n",
       "AAACAGCCAAACGGGC-1 AAACAGCCAAACGGGC-1 QY_2225_2_QY_2224_2  6581     \n",
       "AAACAGCCAAAGGTAC-1 AAACAGCCAAAGGTAC-1 QY_2225_2_QY_2224_2  6785     \n",
       "AAACAGCCAAATACCT-1 AAACAGCCAAATACCT-1 QY_2225_2_QY_2224_2   773     \n",
       "AAACAGCCAATTGACT-1 AAACAGCCAATTGACT-1 QY_2225_2_QY_2224_2  1709     \n",
       "AAACAGCCACATAGCC-1 AAACAGCCACATAGCC-1 QY_2225_2_QY_2224_2  5791     \n",
       "AAACAGCCACCAGCAT-1 AAACAGCCACCAGCAT-1 QY_2225_2_QY_2224_2 13831     \n",
       "                   nFeature_RNA nCount_ATAC nFeature_ATAC fragments_freq_count\n",
       "AAACAGCCAAACGGGC-1 3072         5854        2926           9272               \n",
       "AAACAGCCAAAGGTAC-1 2512         2357        1209           3871               \n",
       "AAACAGCCAAATACCT-1  607         2335        1213           3731               \n",
       "AAACAGCCAATTGACT-1 1121         8280        4112          20682               \n",
       "AAACAGCCACATAGCC-1 2752           84          43             81               \n",
       "AAACAGCCACCAGCAT-1 4553         7542        3804           9703               \n",
       "                   FRiP      percent.mt nCount_SCT ⋯ BEST.POSTERIOR\n",
       "AAACAGCCAAACGGGC-1 0.6313632 1.1092539  6172       ⋯  -2.5e+02     \n",
       "AAACAGCCAAAGGTAC-1 0.6088866 3.3898305  6013       ⋯  -1.8e+02     \n",
       "AAACAGCCAAATACCT-1 0.6258376 1.1642950  4272       ⋯  -7.2e+01     \n",
       "AAACAGCCAATTGACT-1 0.4003481 2.5746050  4407       ⋯  -4.0e+02     \n",
       "AAACAGCCACATAGCC-1 1.0370370 0.4144362  5755       ⋯  -5.0e+01     \n",
       "AAACAGCCACCAGCAT-1 0.7772854 0.6217916  6228       ⋯  5.0e-207     \n",
       "                   SNG.POSTERIOR SNG.BEST.GUESS  SNG.BEST.LLK SNG.NEXT.GUESS \n",
       "AAACAGCCAAACGGGC-1 1             UCSDX51_UCSDX51 -243.32      D371_D371      \n",
       "AAACAGCCAAAGGTAC-1 1             D265_D265       -173.03      UCSDX3_UCSDX3  \n",
       "AAACAGCCAAATACCT-1 1             UCSDX19_UCSDX19  -68.06      UCSDX51_UCSDX51\n",
       "AAACAGCCAATTGACT-1 1             UCSDX42_UCSDX42 -391.82      UCSDX40_UCSDX40\n",
       "AAACAGCCACATAGCC-1 1             D339_D339        -45.57      UCSDX2_UCSDX2  \n",
       "AAACAGCCACCAGCAT-1 1             UCSDX44_UCSDX44 -625.03      UCSDX19_UCSDX19\n",
       "                   SNG.NEXT.LLK SNG.ONLY.POSTERIOR\n",
       "AAACAGCCAAACGGGC-1 -574.97      0                 \n",
       "AAACAGCCAAAGGTAC-1 -291.65      0                 \n",
       "AAACAGCCAAATACCT-1 -145.11      0                 \n",
       "AAACAGCCAATTGACT-1 -956.91      0                 \n",
       "AAACAGCCACATAGCC-1 -129.87      0                 \n",
       "AAACAGCCACCAGCAT-1 -680.52      0                 \n",
       "                   DBL.BEST.GUESS                       DBL.BEST.LLK\n",
       "AAACAGCCAAACGGGC-1 D381_D381,UCSDX51_UCSDX51,0.50       -301.66     \n",
       "AAACAGCCAAAGGTAC-1 D265_D265,UCSDX3_UCSDX3,0.50         -182.59     \n",
       "AAACAGCCAAATACCT-1 UCSDX19_UCSDX19,UCSDX31_UCSDX31,0.50  -79.20     \n",
       "AAACAGCCAATTGACT-1 UCSDX40_UCSDX40,UCSDX42_UCSDX42,0.50 -486.25     \n",
       "AAACAGCCACATAGCC-1 D339_D339,D371_D371,0.50              -62.54     \n",
       "AAACAGCCACCAGCAT-1 UCSDX19_UCSDX19,UCSDX44_UCSDX44,0.50 -468.25     \n",
       "                   DIFF.LLK.SNG.DBL\n",
       "AAACAGCCAAACGGGC-1   58.34         \n",
       "AAACAGCCAAAGGTAC-1    9.56         \n",
       "AAACAGCCAAATACCT-1   11.14         \n",
       "AAACAGCCAATTGACT-1   94.43         \n",
       "AAACAGCCACATAGCC-1   16.96         \n",
       "AAACAGCCACCAGCAT-1 -156.78         "
      ]
     },
     "metadata": {},
     "output_type": "display_data"
    }
   ],
   "source": [
    "head(sobj@meta.data)"
   ]
  },
  {
   "cell_type": "code",
   "execution_count": null,
   "id": "4bccd66f",
   "metadata": {},
   "outputs": [],
   "source": []
  },
  {
   "cell_type": "code",
   "execution_count": null,
   "id": "2bda2880",
   "metadata": {},
   "outputs": [],
   "source": [
    "# metadata from rownames removed and turned to numbers\n",
    "# cell labels should be rownames(sobj@meta.data ) but are now only in BARCODE"
   ]
  },
  {
   "cell_type": "code",
   "execution_count": 22,
   "id": "1421304a",
   "metadata": {},
   "outputs": [
    {
     "data": {
      "text/html": [
       "<style>\n",
       ".dl-inline {width: auto; margin:0; padding: 0}\n",
       ".dl-inline>dt, .dl-inline>dd {float: none; width: auto; display: inline-block}\n",
       ".dl-inline>dt::after {content: \":\\0020\"; padding-right: .5ex}\n",
       ".dl-inline>dt:not(:first-of-type) {padding-left: .5ex}\n",
       "</style><dl class=dl-inline><dt>AAACAGCCAAACGGGC-1</dt><dd>'AAACAGCCAAACGGGC-1'</dd><dt>AAACAGCCAAAGGTAC-1</dt><dd>'AAACAGCCAAAGGTAC-1'</dd><dt>AAACAGCCAAATACCT-1</dt><dd>'AAACAGCCAAATACCT-1'</dd><dt>AAACAGCCAATTGACT-1</dt><dd>'AAACAGCCAATTGACT-1'</dd><dt>AAACAGCCACATAGCC-1</dt><dd>'AAACAGCCACATAGCC-1'</dd><dt>AAACAGCCACCAGCAT-1</dt><dd>'AAACAGCCACCAGCAT-1'</dd></dl>\n"
      ],
      "text/latex": [
       "\\begin{description*}\n",
       "\\item[AAACAGCCAAACGGGC-1] 'AAACAGCCAAACGGGC-1'\n",
       "\\item[AAACAGCCAAAGGTAC-1] 'AAACAGCCAAAGGTAC-1'\n",
       "\\item[AAACAGCCAAATACCT-1] 'AAACAGCCAAATACCT-1'\n",
       "\\item[AAACAGCCAATTGACT-1] 'AAACAGCCAATTGACT-1'\n",
       "\\item[AAACAGCCACATAGCC-1] 'AAACAGCCACATAGCC-1'\n",
       "\\item[AAACAGCCACCAGCAT-1] 'AAACAGCCACCAGCAT-1'\n",
       "\\end{description*}\n"
      ],
      "text/markdown": [
       "AAACAGCCAAACGGGC-1\n",
       ":   'AAACAGCCAAACGGGC-1'AAACAGCCAAAGGTAC-1\n",
       ":   'AAACAGCCAAAGGTAC-1'AAACAGCCAAATACCT-1\n",
       ":   'AAACAGCCAAATACCT-1'AAACAGCCAATTGACT-1\n",
       ":   'AAACAGCCAATTGACT-1'AAACAGCCACATAGCC-1\n",
       ":   'AAACAGCCACATAGCC-1'AAACAGCCACCAGCAT-1\n",
       ":   'AAACAGCCACCAGCAT-1'\n",
       "\n"
      ],
      "text/plain": [
       "  AAACAGCCAAACGGGC-1   AAACAGCCAAAGGTAC-1   AAACAGCCAAATACCT-1 \n",
       "\"AAACAGCCAAACGGGC-1\" \"AAACAGCCAAAGGTAC-1\" \"AAACAGCCAAATACCT-1\" \n",
       "  AAACAGCCAATTGACT-1   AAACAGCCACATAGCC-1   AAACAGCCACCAGCAT-1 \n",
       "\"AAACAGCCAATTGACT-1\" \"AAACAGCCACATAGCC-1\" \"AAACAGCCACCAGCAT-1\" "
      ]
     },
     "metadata": {},
     "output_type": "display_data"
    }
   ],
   "source": [
    "head(sobj$BARCODE)"
   ]
  },
  {
   "cell_type": "code",
   "execution_count": 38,
   "id": "dd76a2cb",
   "metadata": {},
   "outputs": [
    {
     "name": "stderr",
     "output_type": "stream",
     "text": [
      "Extracting reads overlapping genomic regions\n",
      "\n"
     ]
    }
   ],
   "source": [
    "counts <- FeatureMatrix(\n",
    "      fragments = frags,\n",
    "      features = combined.peaks,\n",
    "      cells = rownames(sobj@meta.data)\n",
    "    )"
   ]
  },
  {
   "cell_type": "code",
   "execution_count": 36,
   "id": "8486cde9",
   "metadata": {},
   "outputs": [
    {
     "data": {
      "text/plain": [
       "NULL"
      ]
     },
     "metadata": {},
     "output_type": "display_data"
    }
   ],
   "source": [
    "dim(counts)"
   ]
  },
  {
   "cell_type": "code",
   "execution_count": 37,
   "id": "3a0bf03c",
   "metadata": {},
   "outputs": [
    {
     "data": {
      "text/plain": [
       "NULL"
      ]
     },
     "metadata": {},
     "output_type": "display_data"
    }
   ],
   "source": [
    "counts"
   ]
  },
  {
   "cell_type": "code",
   "execution_count": null,
   "id": "a992c4b0",
   "metadata": {},
   "outputs": [],
   "source": [
    "assay <- CreateChromatinAssay(counts, fragments = frags)\n"
   ]
  },
  {
   "cell_type": "code",
   "execution_count": 16,
   "id": "9a2466ff",
   "metadata": {},
   "outputs": [
    {
     "data": {
      "text/plain": [
       "GRanges object with 172997 ranges and 0 metadata columns:\n",
       "             seqnames          ranges strand\n",
       "                <Rle>       <IRanges>  <Rle>\n",
       "       [1]       chr1      9767-10709      *\n",
       "       [2]       chr1   180707-181668      *\n",
       "       [3]       chr1   183903-184782      *\n",
       "       [4]       chr1   186352-187360      *\n",
       "       [5]       chr1   191053-191961      *\n",
       "       ...        ...             ...    ...\n",
       "  [172993] KI270728.1 1792043-1792755      *\n",
       "  [172994] KI270731.1       4419-5408      *\n",
       "  [172995] KI270734.1   116882-117921      *\n",
       "  [172996] KI270734.1   121024-121925      *\n",
       "  [172997] KI270734.1   163727-164637      *\n",
       "  -------\n",
       "  seqinfo: 37 sequences from an unspecified genome; no seqlengths"
      ]
     },
     "metadata": {},
     "output_type": "display_data"
    }
   ],
   "source": [
    "combined.peaks"
   ]
  },
  {
   "cell_type": "code",
   "execution_count": 15,
   "id": "388d03cb",
   "metadata": {},
   "outputs": [
    {
     "data": {
      "text/plain": [
       "NULL"
      ]
     },
     "metadata": {},
     "output_type": "display_data"
    }
   ],
   "source": [
    "counts"
   ]
  },
  {
   "cell_type": "code",
   "execution_count": 9,
   "id": "7d69dc2b",
   "metadata": {},
   "outputs": [
    {
     "data": {
      "text/plain": [
       "GRanges object with 172997 ranges and 0 metadata columns:\n",
       "             seqnames          ranges strand\n",
       "                <Rle>       <IRanges>  <Rle>\n",
       "       [1]       chr1      9767-10709      *\n",
       "       [2]       chr1   180707-181668      *\n",
       "       [3]       chr1   183903-184782      *\n",
       "       [4]       chr1   186352-187360      *\n",
       "       [5]       chr1   191053-191961      *\n",
       "       ...        ...             ...    ...\n",
       "  [172993] KI270728.1 1792043-1792755      *\n",
       "  [172994] KI270731.1       4419-5408      *\n",
       "  [172995] KI270734.1   116882-117921      *\n",
       "  [172996] KI270734.1   121024-121925      *\n",
       "  [172997] KI270734.1   163727-164637      *\n",
       "  -------\n",
       "  seqinfo: 37 sequences from an unspecified genome; no seqlengths"
      ]
     },
     "metadata": {},
     "output_type": "display_data"
    }
   ],
   "source": [
    "combined.peaks"
   ]
  },
  {
   "cell_type": "code",
   "execution_count": null,
   "id": "2dcae82d",
   "metadata": {},
   "outputs": [],
   "source": [
    "print(pmo_list) # now they all have the same number of features, using the same combined.peaks\n",
    "\n",
    "\n",
    "experiments <- extract_samp_nm(pmo_list)"
   ]
  }
 ],
 "metadata": {
  "kernelspec": {
   "display_name": "R [conda env:ressen3]",
   "language": "R",
   "name": "conda-env-ressen3-r"
  },
  "language_info": {
   "codemirror_mode": "r",
   "file_extension": ".r",
   "mimetype": "text/x-r-source",
   "name": "R",
   "pygments_lexer": "r",
   "version": "4.1.1"
  }
 },
 "nbformat": 4,
 "nbformat_minor": 5
}
