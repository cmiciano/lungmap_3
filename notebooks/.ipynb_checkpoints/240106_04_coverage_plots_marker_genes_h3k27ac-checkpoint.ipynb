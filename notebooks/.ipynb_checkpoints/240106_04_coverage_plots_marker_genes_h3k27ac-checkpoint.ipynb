{
 "cells": [
  {
   "cell_type": "code",
   "execution_count": 1,
   "id": "eabc4370",
   "metadata": {},
   "outputs": [
    {
     "name": "stderr",
     "output_type": "stream",
     "text": [
      "The legacy packages maptools, rgdal, and rgeos, underpinning the sp package,\n",
      "which was just loaded, will retire in October 2023.\n",
      "Please refer to R-spatial evolution reports for details, especially\n",
      "https://r-spatial.org/r/2023/05/15/evolution4.html.\n",
      "It may be desirable to make the sf package available;\n",
      "package maintainers should consider adding sf to Suggests:.\n",
      "The sp package is now running under evolution status 2\n",
      "     (status 2 uses the sf package in place of rgdal)\n",
      "\n",
      "Attaching SeuratObject\n",
      "\n"
     ]
    }
   ],
   "source": [
    "library(Seurat)\n",
    "library(Signac)"
   ]
  },
  {
   "cell_type": "code",
   "execution_count": 2,
   "id": "44fea9fe",
   "metadata": {},
   "outputs": [],
   "source": [
    "library(openxlsx)"
   ]
  },
  {
   "cell_type": "code",
   "execution_count": 3,
   "id": "d07df36e",
   "metadata": {},
   "outputs": [
    {
     "name": "stderr",
     "output_type": "stream",
     "text": [
      "Warning message:\n",
      "“package ‘gprofiler2’ was built under R version 4.1.3”\n"
     ]
    }
   ],
   "source": [
    "library(gprofiler2)"
   ]
  },
  {
   "cell_type": "code",
   "execution_count": 4,
   "id": "de519387",
   "metadata": {},
   "outputs": [],
   "source": [
    "# created separate notebooks to speed up the process of writing coverage plots"
   ]
  },
  {
   "cell_type": "code",
   "execution_count": 6,
   "id": "89bac983",
   "metadata": {},
   "outputs": [],
   "source": [
    "sobj_H3K27ac_cln <- readRDS(\"/projects/ps-epigen/users/cmiciano/Lung/lungmap_3/06_paired_tag_integ_atac/240105_04_indiv_h3k27ac.RDS\")"
   ]
  },
  {
   "cell_type": "code",
   "execution_count": 7,
   "id": "6f75fd61",
   "metadata": {},
   "outputs": [
    {
     "data": {
      "text/plain": [
       "An object of class Seurat \n",
       "113186 features across 6087 samples within 3 assays \n",
       "Active assay: H3K27ac (58985 features, 0 variable features)\n",
       " 2 other assays present: RNA, SCT\n",
       " 2 dimensional reductions calculated: pca, umap"
      ]
     },
     "metadata": {},
     "output_type": "display_data"
    }
   ],
   "source": [
    "sobj_H3K27ac_cln"
   ]
  },
  {
   "cell_type": "code",
   "execution_count": 8,
   "id": "d78ed24b",
   "metadata": {},
   "outputs": [
    {
     "data": {
      "text/html": [
       "<style>\n",
       ".list-inline {list-style: none; margin:0; padding: 0}\n",
       ".list-inline>li {display: inline-block}\n",
       ".list-inline>li:not(:last-child)::after {content: \"\\00b7\"; padding: 0 .5ex}\n",
       "</style>\n",
       "<ol class=list-inline><li>'orig.ident'</li><li>'nCount_H3K27ac'</li><li>'nFeature_H3K27ac'</li><li>'nCount_RNA'</li><li>'nFeature_RNA'</li><li>'percent.mt'</li><li>'fragments_freq_count'</li><li>'FRiP'</li><li>'TSS.enrichment'</li><li>'TSS.percentile'</li><li>'library_rna_atac_id'</li><li>'nCount_SCT'</li><li>'nFeature_SCT'</li><li>'pANN_0.25_0.3_1078'</li><li>'DF.classifications_0.25_0.3_1078'</li><li>'cell_barcode'</li><li>'celltype_v04'</li></ol>\n"
      ],
      "text/latex": [
       "\\begin{enumerate*}\n",
       "\\item 'orig.ident'\n",
       "\\item 'nCount\\_H3K27ac'\n",
       "\\item 'nFeature\\_H3K27ac'\n",
       "\\item 'nCount\\_RNA'\n",
       "\\item 'nFeature\\_RNA'\n",
       "\\item 'percent.mt'\n",
       "\\item 'fragments\\_freq\\_count'\n",
       "\\item 'FRiP'\n",
       "\\item 'TSS.enrichment'\n",
       "\\item 'TSS.percentile'\n",
       "\\item 'library\\_rna\\_atac\\_id'\n",
       "\\item 'nCount\\_SCT'\n",
       "\\item 'nFeature\\_SCT'\n",
       "\\item 'pANN\\_0.25\\_0.3\\_1078'\n",
       "\\item 'DF.classifications\\_0.25\\_0.3\\_1078'\n",
       "\\item 'cell\\_barcode'\n",
       "\\item 'celltype\\_v04'\n",
       "\\end{enumerate*}\n"
      ],
      "text/markdown": [
       "1. 'orig.ident'\n",
       "2. 'nCount_H3K27ac'\n",
       "3. 'nFeature_H3K27ac'\n",
       "4. 'nCount_RNA'\n",
       "5. 'nFeature_RNA'\n",
       "6. 'percent.mt'\n",
       "7. 'fragments_freq_count'\n",
       "8. 'FRiP'\n",
       "9. 'TSS.enrichment'\n",
       "10. 'TSS.percentile'\n",
       "11. 'library_rna_atac_id'\n",
       "12. 'nCount_SCT'\n",
       "13. 'nFeature_SCT'\n",
       "14. 'pANN_0.25_0.3_1078'\n",
       "15. 'DF.classifications_0.25_0.3_1078'\n",
       "16. 'cell_barcode'\n",
       "17. 'celltype_v04'\n",
       "\n",
       "\n"
      ],
      "text/plain": [
       " [1] \"orig.ident\"                       \"nCount_H3K27ac\"                  \n",
       " [3] \"nFeature_H3K27ac\"                 \"nCount_RNA\"                      \n",
       " [5] \"nFeature_RNA\"                     \"percent.mt\"                      \n",
       " [7] \"fragments_freq_count\"             \"FRiP\"                            \n",
       " [9] \"TSS.enrichment\"                   \"TSS.percentile\"                  \n",
       "[11] \"library_rna_atac_id\"              \"nCount_SCT\"                      \n",
       "[13] \"nFeature_SCT\"                     \"pANN_0.25_0.3_1078\"              \n",
       "[15] \"DF.classifications_0.25_0.3_1078\" \"cell_barcode\"                    \n",
       "[17] \"celltype_v04\"                    "
      ]
     },
     "metadata": {},
     "output_type": "display_data"
    }
   ],
   "source": [
    "colnames(sobj_H3K27ac_cln@meta.data)"
   ]
  },
  {
   "cell_type": "code",
   "execution_count": 9,
   "id": "2e1db002",
   "metadata": {},
   "outputs": [],
   "source": [
    "excel_file <- \"/projects/ps-epigen/users/cmiciano/Lung/lungbpd_rna/scripts/CellRef_Supp_Tables_LungMAP.xlsx\""
   ]
  },
  {
   "cell_type": "code",
   "execution_count": 10,
   "id": "4e682767",
   "metadata": {},
   "outputs": [
    {
     "name": "stdout",
     "output_type": "stream",
     "text": [
      "                  CellType   Marker MarkerType          NA\n",
      "2                      AF1    TCF21          p        <NA>\n",
      "3                      AF1     WNT2          p     Stromal\n",
      "4                      AF1   PCDH15          p        <NA>\n",
      "5                      AF2     CDON          p        <NA>\n",
      "6                      AF2    MFAP5          p        <NA>\n",
      "7                      AF2   SCARA5          p        <NA>\n",
      "8              Chondrocyte   COL2A1          p        <NA>\n",
      "9              Chondrocyte   HAPLN1          p        <NA>\n",
      "10             Chondrocyte     SOX9          p        <NA>\n",
      "11             Chondrocyte     ACAN          p        <NA>\n",
      "12                    SCMF    DACH2          p        <NA>\n",
      "13                    SCMF    FGF18          p        <NA>\n",
      "14                    SCMF   ITGBL1          p        <NA>\n",
      "15                    SCMF   PDGFRA          p        <NA>\n",
      "16                    ASMC      DES          p        <NA>\n",
      "17                    ASMC     LGR6          p        <NA>\n",
      "18                    VSMC     CNN1          p        <NA>\n",
      "19                    VSMC    NTRK3          p        <NA>\n",
      "20                    VSMC    ITGA7          p        <NA>\n",
      "21                Pericyte   PDGFRB          p        <NA>\n",
      "22                Pericyte    TRPC6          p        <NA>\n",
      "23                Pericyte    CSPG4          p        <NA>\n",
      "24                Pericyte    LAMC3          p        <NA>\n",
      "25             Mesothelial    UPK3B          p        <NA>\n",
      "26             Mesothelial      WT1          p        <NA>\n",
      "27             Mesothelial    CALB2          p        <NA>\n",
      "28                    CAP1     IL7R          p        <NA>\n",
      "29                    CAP1     FCN3          p        <NA>\n",
      "30                    CAP1  GPIHBP1          p Endothelial\n",
      "31                    CAP2     APLN          p        <NA>\n",
      "32                    CAP2    EDNRB          p        <NA>\n",
      "33                    CAP2     HPGD          p        <NA>\n",
      "34                    CAP2      CA4          p        <NA>\n",
      "35                     AEC     DKK2          p        <NA>\n",
      "36                     AEC     GJA5          p        <NA>\n",
      "37                     AEC      BMX          p        <NA>\n",
      "38                     VEC    ACKR1          p        <NA>\n",
      "39                     VEC    EPHB4          p        <NA>\n",
      "40                     VEC    HDAC9          p        <NA>\n",
      "41                     LEC    PROX1          p        <NA>\n",
      "42                     LEC    MMRN1          p        <NA>\n",
      "43                     LEC    CCL21          p        <NA>\n",
      "44                     LEC    LYVE1          p        <NA>\n",
      "45                    SVEC    ACKR1          p        <NA>\n",
      "46                    SVEC  COL15A1          p        <NA>\n",
      "47                    SVEC    ABCB1          p        <NA>\n",
      "48                    SVEC     VWA1          p        <NA>\n",
      "49                    PNEC    ASCL1          p        <NA>\n",
      "50                    PNEC    CALCA          p  Epithelial\n",
      "51                    PNEC      GRP          p        <NA>\n",
      "52                    PNEC    NRXN1          p        <NA>\n",
      "53                    Tuft    ASCL2          p        <NA>\n",
      "54                    Tuft   POU2F3          p        <NA>\n",
      "55                    Tuft    IL23A          p        <NA>\n",
      "56                Ionocyte    FOXI1          p        <NA>\n",
      "57                Ionocyte    ASCL3          p        <NA>\n",
      "58                Ionocyte     CFTR          p        <NA>\n",
      "59                   Basal     TP63          p        <NA>\n",
      "60                   Basal     KRT5          p        <NA>\n",
      "61                   Basal     NGFR          p        <NA>\n",
      "62               Secretory  SCGB1A1          p        <NA>\n",
      "63               Secretory   SCUBE2          p        <NA>\n",
      "64               Secretory   BPIFB1          p        <NA>\n",
      "65               Secretory     LCN2          p        <NA>\n",
      "66               Secretory   TSPAN8          p        <NA>\n",
      "67                     RAS  SCGB3A2          p        <NA>\n",
      "68                     RAS    KLK11          p        <NA>\n",
      "69                     RAS      MGP          p        <NA>\n",
      "70                     RAS     SOX4          p        <NA>\n",
      "71                  Goblet   MUC5AC          p        <NA>\n",
      "72                  Goblet    SPDEF          p        <NA>\n",
      "73                  Goblet    PCDH7          p        <NA>\n",
      "74                  Goblet  SLC4A11          p        <NA>\n",
      "75                  Goblet     AGR2          p        <NA>\n",
      "76                  Mucous    MUC5B          p        <NA>\n",
      "77                  Mucous    SPDEF          p        <NA>\n",
      "78                  Mucous   BPIFB2          p        <NA>\n",
      "79                  Mucous   MUC5AC          n        <NA>\n",
      "80                  Serous      LYZ          p        <NA>\n",
      "81                  Serous      LTF          p        <NA>\n",
      "82                  Serous      LPO          p        <NA>\n",
      "83                     MEC    KRT14          p        <NA>\n",
      "84                     MEC    EPCAM          p        <NA>\n",
      "85                     MEC    MYH11          p        <NA>\n",
      "86                Ciliated    FOXJ1          p        <NA>\n",
      "87                Ciliated    RSPH1          p        <NA>\n",
      "88                Ciliated    CDHR3          p        <NA>\n",
      "89                Ciliated    CDHR4          p        <NA>\n",
      "90            Deuterosomal    DEUP1          p        <NA>\n",
      "91            Deuterosomal    FOXN4          p        <NA>\n",
      "92            Deuterosomal   CDC20B          p        <NA>\n",
      "93          SMG Basal/Duct    KRT14          p        <NA>\n",
      "94          SMG Basal/Duct     SOX9          p        <NA>\n",
      "95          SMG Basal/Duct  ALDH1A3          p        <NA>\n",
      "96          SMG Basal/Duct      MIA          p        <NA>\n",
      "97          SMG Basal/Duct  RARRES1          p        <NA>\n",
      "98              Suprabasal    KRT19          p        <NA>\n",
      "99              Suprabasal SERPINB4          p        <NA>\n",
      "100             Suprabasal   NOTCH3          p        <NA>\n",
      "101                    AT1     AGER          p        <NA>\n",
      "102                    AT1    RTKN2          p        <NA>\n",
      "103                    AT1   SEMA3B          p        <NA>\n",
      "104                    AT2    LAMP3          p        <NA>\n",
      "105                    AT2    ABCA3          p        <NA>\n",
      "106                    AT2   KCNJ15          p        <NA>\n",
      "107                     AM  SIGLEC1          p        <NA>\n",
      "108                     AM    ABCG1          p        <NA>\n",
      "109                     AM    FABP4          p      Immune\n",
      "110                     AM    PPARG          p        <NA>\n",
      "111                     AM    MARCO          p        <NA>\n",
      "112                     AM     CD5L          p        <NA>\n",
      "113                     AM  CYP27A1          p        <NA>\n",
      "114                     IM  SLC40A1          p        <NA>\n",
      "115                     IM    FOLR2          p        <NA>\n",
      "116                     IM    F13A1          p        <NA>\n",
      "117                     IM    STAB1          p        <NA>\n",
      "118                   iMON     CD14          p        <NA>\n",
      "119                   iMON     FCN1          p        <NA>\n",
      "120                   iMON     VCAN          p        <NA>\n",
      "121                   iMON   FCGR3A          n        <NA>\n",
      "122                   pMON     FCN1          p        <NA>\n",
      "123                   pMON  TNFRSF8          p        <NA>\n",
      "124                   pMON   FCGR3A          p        <NA>\n",
      "125                   cDC1   CLEC9A          p        <NA>\n",
      "126                   cDC1     FLT3          p        <NA>\n",
      "127                   cDC1   ZBTB46          p        <NA>\n",
      "128                   cDC2  CLEC10A          p        <NA>\n",
      "129                   cDC2     CD1C          p        <NA>\n",
      "130                   cDC2     CD1E          p        <NA>\n",
      "131                   cDC2   FCGR2B          p        <NA>\n",
      "132                    pDC   CLEC4C          p        <NA>\n",
      "133                    pDC   LILRA4          p        <NA>\n",
      "134                    pDC     PLD4          p        <NA>\n",
      "135                   maDC     CCR7          p        <NA>\n",
      "136                   maDC    CCL19          p        <NA>\n",
      "137                   maDC   NCCRP1          p        <NA>\n",
      "138                   maDC     LAD1          p        <NA>\n",
      "139             Neutrophil     IL1B          p        <NA>\n",
      "140             Neutrophil    CSF3R          p        <NA>\n",
      "141             Neutrophil   FCGR3B          p        <NA>\n",
      "142          Mast/Basophil    MS4A2          p        <NA>\n",
      "143          Mast/Basophil   TPSAB1          p        <NA>\n",
      "144          Mast/Basophil    TPSB2          p        <NA>\n",
      "145                    ILC     IL7R          p        <NA>\n",
      "146                    ILC    CXCR3          p        <NA>\n",
      "147                    ILC    TBX21          p        <NA>\n",
      "148                    ILC    EOMES          n        <NA>\n",
      "149                    ILC     CD3E          n        <NA>\n",
      "150                    ILC     CD3D          n        <NA>\n",
      "151                    ILC     CD3G          n        <NA>\n",
      "152                    ILC     CD14          n        <NA>\n",
      "153                    ILC   FCGR3A          n        <NA>\n",
      "154                    ILC     CD19          n        <NA>\n",
      "155                    ILC    MS4A1          n        <NA>\n",
      "156                    ILC    NCAM1          n        <NA>\n",
      "157                     NK     NKG7          p        <NA>\n",
      "158                     NK    KLRD1          p        <NA>\n",
      "159                     NK    KLRC1          p        <NA>\n",
      "160                     NK    NCAM1          p        <NA>\n",
      "161                   Treg    FOXP3          p        <NA>\n",
      "162                   Treg    CTLA4          p        <NA>\n",
      "163                   Treg    IL2RA          p        <NA>\n",
      "164                  CD8_T     CD3E          p        <NA>\n",
      "165                  CD8_T     CD8A          p        <NA>\n",
      "166                  CD8_T     CD8B          p        <NA>\n",
      "167                  CD4_T     CD3E          p        <NA>\n",
      "168                  CD4_T      MAL          p        <NA>\n",
      "169                  CD4_T   CD40LG          p        <NA>\n",
      "170                  CD4_T      CD4          p        <NA>\n",
      "171                  CD4_T     LEF1          p        <NA>\n",
      "172                      B     CD19          p        <NA>\n",
      "173                      B    MS4A1          p        <NA>\n",
      "174                      B    BANK1          p        <NA>\n",
      "175                 Plasma     CD27          p        <NA>\n",
      "176                 Plasma     SDC1          p        <NA>\n",
      "177                 Plasma     CD38          p        <NA>\n",
      "178 Megakaryocyte/Platelet   ITGA2B          p        <NA>\n",
      "179 Megakaryocyte/Platelet    GP1BB          p        <NA>\n",
      "180 Megakaryocyte/Platelet    ITGB3          p        <NA>\n"
     ]
    }
   ],
   "source": [
    "cc <- read.xlsx(xlsxFile = excel_file , sheet = 1)\n",
    "cc <- cc[c(-1, -181),]\n",
    "cc <- cc[]\n",
    "colnames(cc) <- c(\"CellType\", \"Marker\", \"MarkerType\")\n",
    "print(cc)"
   ]
  },
  {
   "cell_type": "code",
   "execution_count": 11,
   "id": "a57d43c9",
   "metadata": {},
   "outputs": [],
   "source": [
    "celltypes <- unique(cc$CellType)"
   ]
  },
  {
   "cell_type": "code",
   "execution_count": 12,
   "id": "a49a8b5f",
   "metadata": {},
   "outputs": [],
   "source": [
    "cc.gene.set <- lapply(X = celltypes, FUN = function(X){\n",
    "    cc.markers <- cc[grep(pattern = paste0(\"^\", X ,\"$\"), x = cc$CellType),]$Marker\n",
    "    \n",
    "    return(cc.markers)\n",
    "})"
   ]
  },
  {
   "cell_type": "code",
   "execution_count": 13,
   "id": "fae52230",
   "metadata": {},
   "outputs": [],
   "source": [
    "cc.gene.set <- setNames(cc.gene.set, celltypes)"
   ]
  },
  {
   "cell_type": "code",
   "execution_count": null,
   "id": "3b98df3b",
   "metadata": {},
   "outputs": [],
   "source": []
  },
  {
   "cell_type": "code",
   "execution_count": 14,
   "id": "ba9629d1",
   "metadata": {},
   "outputs": [],
   "source": [
    "assay <- DefaultAssay(sobj_H3K27ac_cln)"
   ]
  },
  {
   "cell_type": "code",
   "execution_count": 15,
   "id": "e90db6c3",
   "metadata": {},
   "outputs": [],
   "source": [
    "dir.create(\"/projects/ps-epigen/users/cmiciano/Lung/lungmap_3/outputs/paired_tag/coverage_plots/240106/H3K27ac/\")"
   ]
  },
  {
   "cell_type": "code",
   "execution_count": 16,
   "id": "b9e60d39",
   "metadata": {},
   "outputs": [],
   "source": [
    "outdir <- \"/projects/ps-epigen/users/cmiciano/Lung/lungmap_3/outputs/paired_tag/coverage_plots/240106/H3K27ac/\""
   ]
  },
  {
   "cell_type": "code",
   "execution_count": 17,
   "id": "71bf82c8",
   "metadata": {},
   "outputs": [
    {
     "name": "stdout",
     "output_type": "stream",
     "text": [
      "[1] \"Making coverage plots for AF1\"\n",
      "[1] \"Tcf21\"\n"
     ]
    },
    {
     "name": "stderr",
     "output_type": "stream",
     "text": [
      "Warning message:\n",
      "“Removed 25 rows containing missing values (position_stack).”\n"
     ]
    },
    {
     "name": "stdout",
     "output_type": "stream",
     "text": [
      "[1] \"Wnt2\"\n",
      "[1] \"Pcdh15\"\n"
     ]
    },
    {
     "name": "stderr",
     "output_type": "stream",
     "text": [
      "Warning message:\n",
      "“Removed 5 rows containing missing values (position_stack).”\n"
     ]
    },
    {
     "name": "stdout",
     "output_type": "stream",
     "text": [
      "[1] \"Making coverage plots for AF2\"\n",
      "[1] \"Cdon\"\n"
     ]
    },
    {
     "name": "stderr",
     "output_type": "stream",
     "text": [
      "Warning message:\n",
      "“Removed 28 rows containing missing values (position_stack).”\n"
     ]
    },
    {
     "name": "stdout",
     "output_type": "stream",
     "text": [
      "[1] \"Mfap5\"\n"
     ]
    },
    {
     "name": "stderr",
     "output_type": "stream",
     "text": [
      "Warning message:\n",
      "“Removed 6 rows containing missing values (position_stack).”\n"
     ]
    },
    {
     "name": "stdout",
     "output_type": "stream",
     "text": [
      "[1] \"Scara5\"\n"
     ]
    },
    {
     "name": "stderr",
     "output_type": "stream",
     "text": [
      "Warning message:\n",
      "“Removed 11 rows containing missing values (position_stack).”\n"
     ]
    },
    {
     "name": "stdout",
     "output_type": "stream",
     "text": [
      "[1] \"Making coverage plots for Chondrocyte\"\n",
      "[1] \"Col2a1\"\n"
     ]
    },
    {
     "name": "stderr",
     "output_type": "stream",
     "text": [
      "Warning message:\n",
      "“Removed 235 rows containing missing values (position_stack).”\n"
     ]
    },
    {
     "name": "stdout",
     "output_type": "stream",
     "text": [
      "[1] \"Hapln1\"\n"
     ]
    },
    {
     "name": "stderr",
     "output_type": "stream",
     "text": [
      "Warning message:\n",
      "“Removed 24 rows containing missing values (position_stack).”\n"
     ]
    },
    {
     "name": "stdout",
     "output_type": "stream",
     "text": [
      "[1] \"Sox9\"\n"
     ]
    },
    {
     "name": "stderr",
     "output_type": "stream",
     "text": [
      "Warning message:\n",
      "“Removed 67 rows containing missing values (geom_segment).”\n",
      "Warning message:\n",
      "“Removed 1 rows containing missing values (geom_segment).”\n"
     ]
    },
    {
     "name": "stdout",
     "output_type": "stream",
     "text": [
      "[1] \"Acan\"\n"
     ]
    },
    {
     "name": "stderr",
     "output_type": "stream",
     "text": [
      "Warning message:\n",
      "“Removed 72 rows containing missing values (position_stack).”\n",
      "Warning message:\n",
      "“Removed 5 rows containing missing values (geom_segment).”\n"
     ]
    },
    {
     "name": "stdout",
     "output_type": "stream",
     "text": [
      "[1] \"Making coverage plots for SCMF\"\n",
      "[1] \"Dach2\"\n"
     ]
    },
    {
     "name": "stderr",
     "output_type": "stream",
     "text": [
      "Warning message:\n",
      "“Removed 13 rows containing missing values (position_stack).”\n"
     ]
    },
    {
     "name": "stdout",
     "output_type": "stream",
     "text": [
      "[1] \"Fgf18\"\n"
     ]
    },
    {
     "name": "stderr",
     "output_type": "stream",
     "text": [
      "Warning message:\n",
      "“Removed 14 rows containing missing values (position_stack).”\n",
      "Warning message:\n",
      "“Removed 46 rows containing missing values (geom_segment).”\n",
      "Warning message:\n",
      "“Removed 1 rows containing missing values (geom_segment).”\n"
     ]
    },
    {
     "name": "stdout",
     "output_type": "stream",
     "text": [
      "[1] \"Itgbl1\"\n"
     ]
    },
    {
     "name": "stderr",
     "output_type": "stream",
     "text": [
      "Warning message:\n",
      "“Removed 8 rows containing missing values (geom_segment).”\n"
     ]
    },
    {
     "name": "stdout",
     "output_type": "stream",
     "text": [
      "[1] \"Pdgfra\"\n",
      "[1] \"Making coverage plots for ASMC\"\n",
      "[1] \"Des\"\n",
      "[1] \"Lgr6\"\n"
     ]
    },
    {
     "name": "stderr",
     "output_type": "stream",
     "text": [
      "Warning message:\n",
      "“Removed 56 rows containing missing values (geom_segment).”\n"
     ]
    },
    {
     "name": "stdout",
     "output_type": "stream",
     "text": [
      "[1] \"Making coverage plots for VSMC\"\n",
      "[1] \"Cnn1\"\n"
     ]
    },
    {
     "name": "stderr",
     "output_type": "stream",
     "text": [
      "Warning message:\n",
      "“Removed 9 rows containing missing values (position_stack).”\n",
      "Warning message:\n",
      "“Removed 30 rows containing missing values (geom_segment).”\n"
     ]
    },
    {
     "name": "stdout",
     "output_type": "stream",
     "text": [
      "[1] \"Ntrk3\"\n"
     ]
    },
    {
     "name": "stderr",
     "output_type": "stream",
     "text": [
      "Warning message:\n",
      "“Removed 17 rows containing missing values (position_stack).”\n"
     ]
    },
    {
     "name": "stdout",
     "output_type": "stream",
     "text": [
      "[1] \"Itga7\"\n"
     ]
    },
    {
     "name": "stderr",
     "output_type": "stream",
     "text": [
      "Warning message:\n",
      "“Removed 18 rows containing missing values (geom_segment).”\n"
     ]
    },
    {
     "name": "stdout",
     "output_type": "stream",
     "text": [
      "[1] \"Making coverage plots for Pericyte\"\n",
      "[1] \"Pdgfrb\"\n"
     ]
    },
    {
     "name": "stderr",
     "output_type": "stream",
     "text": [
      "Warning message:\n",
      "“Removed 3 rows containing missing values (position_stack).”\n",
      "Warning message:\n",
      "“Removed 2 rows containing missing values (geom_segment).”\n"
     ]
    },
    {
     "name": "stdout",
     "output_type": "stream",
     "text": [
      "[1] \"Trpc6\"\n",
      "[1] \"Cspg4\"\n"
     ]
    },
    {
     "name": "stderr",
     "output_type": "stream",
     "text": [
      "Warning message:\n",
      "“Removed 9 rows containing missing values (position_stack).”\n",
      "Warning message:\n",
      "“Removed 2 rows containing missing values (geom_segment).”\n"
     ]
    },
    {
     "name": "stdout",
     "output_type": "stream",
     "text": [
      "[1] \"Lamc3\"\n"
     ]
    },
    {
     "name": "stderr",
     "output_type": "stream",
     "text": [
      "Warning message:\n",
      "“Removed 79 rows containing missing values (position_stack).”\n",
      "Warning message:\n",
      "“Removed 33 rows containing missing values (geom_segment).”\n"
     ]
    },
    {
     "name": "stdout",
     "output_type": "stream",
     "text": [
      "[1] \"Making coverage plots for Mesothelial\"\n",
      "[1] \"Upk3b\"\n"
     ]
    },
    {
     "name": "stderr",
     "output_type": "stream",
     "text": [
      "Warning message:\n",
      "“Removed 184 rows containing missing values (position_stack).”\n",
      "Warning message:\n",
      "“Removed 33 rows containing missing values (geom_segment).”\n"
     ]
    },
    {
     "name": "stdout",
     "output_type": "stream",
     "text": [
      "[1] \"Wt1\"\n"
     ]
    },
    {
     "name": "stderr",
     "output_type": "stream",
     "text": [
      "Warning message:\n",
      "“Removed 8 rows containing missing values (position_stack).”\n"
     ]
    },
    {
     "name": "stdout",
     "output_type": "stream",
     "text": [
      "[1] \"Calb2\"\n",
      "[1] \"Making coverage plots for CAP1\"\n",
      "[1] \"Il7r\"\n"
     ]
    },
    {
     "name": "stderr",
     "output_type": "stream",
     "text": [
      "Warning message:\n",
      "“Removed 20 rows containing missing values (position_stack).”\n"
     ]
    },
    {
     "name": "stdout",
     "output_type": "stream",
     "text": [
      "[1] \"Gpihbp1\"\n"
     ]
    },
    {
     "name": "stderr",
     "output_type": "stream",
     "text": [
      "Warning message:\n",
      "“Removed 1 rows containing missing values (position_stack).”\n"
     ]
    },
    {
     "name": "stdout",
     "output_type": "stream",
     "text": [
      "[1] \"Making coverage plots for CAP2\"\n",
      "[1] \"Apln\"\n",
      "[1] \"Ednrb\"\n",
      "[1] \"Hpgd\"\n",
      "[1] \"Car4\"\n"
     ]
    },
    {
     "name": "stderr",
     "output_type": "stream",
     "text": [
      "Warning message:\n",
      "“Removed 52 rows containing missing values (position_stack).”\n"
     ]
    },
    {
     "name": "stdout",
     "output_type": "stream",
     "text": [
      "[1] \"Making coverage plots for AEC\"\n",
      "[1] \"Dkk2\"\n"
     ]
    },
    {
     "name": "stderr",
     "output_type": "stream",
     "text": [
      "Warning message:\n",
      "“Removed 19 rows containing missing values (position_stack).”\n"
     ]
    },
    {
     "name": "stdout",
     "output_type": "stream",
     "text": [
      "[1] \"Gja5\"\n"
     ]
    },
    {
     "name": "stderr",
     "output_type": "stream",
     "text": [
      "Warning message:\n",
      "“Removed 41 rows containing missing values (position_stack).”\n"
     ]
    },
    {
     "name": "stdout",
     "output_type": "stream",
     "text": [
      "[1] \"Bmx\"\n"
     ]
    },
    {
     "name": "stderr",
     "output_type": "stream",
     "text": [
      "Warning message:\n",
      "“Removed 65 rows containing missing values (position_stack).”\n",
      "Warning message:\n",
      "“Removed 38 rows containing missing values (geom_segment).”\n"
     ]
    },
    {
     "name": "stdout",
     "output_type": "stream",
     "text": [
      "[1] \"Making coverage plots for VEC\"\n",
      "[1] \"Ackr1\"\n"
     ]
    },
    {
     "name": "stderr",
     "output_type": "stream",
     "text": [
      "Warning message:\n",
      "“Removed 28 rows containing missing values (geom_segment).”\n"
     ]
    },
    {
     "name": "stdout",
     "output_type": "stream",
     "text": [
      "[1] \"Ephb4\"\n"
     ]
    },
    {
     "name": "stderr",
     "output_type": "stream",
     "text": [
      "Warning message:\n",
      "“Removed 5 rows containing missing values (position_stack).”\n",
      "Warning message:\n",
      "“Removed 174 rows containing missing values (geom_segment).”\n"
     ]
    },
    {
     "name": "stdout",
     "output_type": "stream",
     "text": [
      "[1] \"Hdac9\"\n"
     ]
    },
    {
     "name": "stderr",
     "output_type": "stream",
     "text": [
      "Warning message:\n",
      "“Removed 22 rows containing missing values (position_stack).”\n"
     ]
    },
    {
     "name": "stdout",
     "output_type": "stream",
     "text": [
      "[1] \"Making coverage plots for LEC\"\n",
      "[1] \"Prox1\"\n"
     ]
    },
    {
     "name": "stderr",
     "output_type": "stream",
     "text": [
      "Warning message:\n",
      "“Removed 152 rows containing missing values (position_stack).”\n"
     ]
    },
    {
     "name": "stdout",
     "output_type": "stream",
     "text": [
      "[1] \"Mmrn1\"\n",
      "[1] \"Gm13304\"\n",
      "[1] \"Ccl21d\"\n"
     ]
    },
    {
     "ename": "ERROR",
     "evalue": "Error in FindRegion(object = object, region = region, sep = sep, assay = assay, : Gene not found\n",
     "output_type": "error",
     "traceback": [
      "Error in FindRegion(object = object, region = region, sep = sep, assay = assay, : Gene not found\nTraceback:\n",
      "1. print(CoveragePlot(sobj_H3K27ac_cln, region = gene, annotation = T, \n .     window = 2000, peaks = F, extend.upstream = 15000, extend.downstream = 5000, \n .     group.by = \"celltype_v04\"))",
      "2. CoveragePlot(sobj_H3K27ac_cln, region = gene, annotation = T, \n .     window = 2000, peaks = F, extend.upstream = 15000, extend.downstream = 5000, \n .     group.by = \"celltype_v04\")",
      "3. SingleCoveragePlot(object = object, region = region, annotation = annotation, \n .     features = features, expression.assay = expression.assay, \n .     expression.slot = expression.slot, show.bulk = show.bulk, \n .     peaks = peaks, peaks.group.by = peaks.group.by, ranges = ranges, \n .     ranges.group.by = ranges.group.by, ranges.title = ranges.title, \n .     region.highlight = region.highlight, assay = assay, links = links, \n .     tile = tile, tile.size = tile.size, tile.cells = tile.cells, \n .     bigwig = bigwig, bigwig.type = bigwig.type, group.by = group.by, \n .     window = window, extend.upstream = extend.upstream, extend.downstream = extend.downstream, \n .     ymax = ymax, scale.factor = scale.factor, cells = cells, \n .     idents = idents, sep = sep, heights = heights, max.downsample = max.downsample, \n .     downsample.rate = downsample.rate)",
      "4. FindRegion(object = object, region = region, sep = sep, assay = assay, \n .     extend.upstream = extend.upstream, extend.downstream = extend.downstream)",
      "5. stop(\"Gene not found\")"
     ]
    }
   ],
   "source": [
    "# iterate through gene set for each celltype and write out coverage plots\n",
    "\n",
    "for (i in 1:length(cc.gene.set)) {\n",
    "    gene_set_mm10 <-  gorth(cc.gene.set[[i]], source_organism = \"hsapiens\", \n",
    "                     target_organism = \"mmusculus\")$ortholog_name\n",
    "    print(paste0(\"Making coverage plots for \", names(cc.gene.set)[[i]]))\n",
    "    for (gene in gene_set_mm10) {\n",
    "        print(gene)\n",
    "        pdf(paste0(outdir, assay, \"_\", names(cc.gene.set)[[i]], \"_\", gene, \".pdf\"))\n",
    "        print(CoveragePlot(sobj_H3K27ac_cln, region = gene, annotation = T, window = 2000, peaks = F, \n",
    "                 extend.upstream = 15000, extend.downstream = 5000, group.by = \"celltype_v04\") )\n",
    "        dev.off()\n",
    "    }\n",
    "}"
   ]
  },
  {
   "cell_type": "code",
   "execution_count": 55,
   "id": "ac8bb953",
   "metadata": {},
   "outputs": [],
   "source": [
    "generateCovPlot <- function(input) {\n",
    "    gene_set_mm10 <-  gorth(cc.gene.set[[input]], source_organism = \"hsapiens\", \n",
    "                     target_organism = \"mmusculus\")$ortholog_name\n",
    "    print(paste0(\"Making coverage plots for \", names(cc.gene.set)[[input]]))\n",
    "    for (gene in gene_set_mm10) {\n",
    "        print(gene)\n",
    "        print(paste0(outdir, assay, \"_\", names(cc.gene.set)[[input]], \"_\", gene, \".pdf\"))\n",
    "        pdf(paste0(outdir, assay, \"_\", names(cc.gene.set)[[input]], \"_\", gene, \".pdf\"))\n",
    "        print(CoveragePlot(sobj_H3K27ac_cln, region = gene, annotation = T, window = 2000, peaks = F, \n",
    "                 extend.upstream = 15000, extend.downstream = 5000, group.by = \"celltype_v04\") )\n",
    "        dev.off()\n",
    "    }\n",
    "}"
   ]
  },
  {
   "cell_type": "code",
   "execution_count": 47,
   "id": "62468ec0",
   "metadata": {},
   "outputs": [
    {
     "data": {
      "text/html": [
       "'H3K27ac'"
      ],
      "text/latex": [
       "'H3K27ac'"
      ],
      "text/markdown": [
       "'H3K27ac'"
      ],
      "text/plain": [
       "[1] \"H3K27ac\""
      ]
     },
     "metadata": {},
     "output_type": "display_data"
    }
   ],
   "source": [
    "assay"
   ]
  },
  {
   "cell_type": "code",
   "execution_count": 49,
   "id": "450a9daa",
   "metadata": {},
   "outputs": [
    {
     "data": {
      "text/html": [
       "'Ccl21d'"
      ],
      "text/latex": [
       "'Ccl21d'"
      ],
      "text/markdown": [
       "'Ccl21d'"
      ],
      "text/plain": [
       "[1] \"Ccl21d\""
      ]
     },
     "metadata": {},
     "output_type": "display_data"
    }
   ],
   "source": [
    "gene"
   ]
  },
  {
   "cell_type": "code",
   "execution_count": 51,
   "id": "e4ff4ef7",
   "metadata": {},
   "outputs": [
    {
     "ename": "ERROR",
     "evalue": "Error in FindRegion(object = object, region = region, sep = sep, assay = assay, : Gene not found\n",
     "output_type": "error",
     "traceback": [
      "Error in FindRegion(object = object, region = region, sep = sep, assay = assay, : Gene not found\nTraceback:\n",
      "1. print(CoveragePlot(sobj_H3K27ac_cln, region = gene, annotation = T, \n .     window = 2000, peaks = F, extend.upstream = 15000, extend.downstream = 5000, \n .     group.by = \"celltype_v04\"))",
      "2. CoveragePlot(sobj_H3K27ac_cln, region = gene, annotation = T, \n .     window = 2000, peaks = F, extend.upstream = 15000, extend.downstream = 5000, \n .     group.by = \"celltype_v04\")",
      "3. SingleCoveragePlot(object = object, region = region, annotation = annotation, \n .     features = features, expression.assay = expression.assay, \n .     expression.slot = expression.slot, show.bulk = show.bulk, \n .     peaks = peaks, peaks.group.by = peaks.group.by, ranges = ranges, \n .     ranges.group.by = ranges.group.by, ranges.title = ranges.title, \n .     region.highlight = region.highlight, assay = assay, links = links, \n .     tile = tile, tile.size = tile.size, tile.cells = tile.cells, \n .     bigwig = bigwig, bigwig.type = bigwig.type, group.by = group.by, \n .     window = window, extend.upstream = extend.upstream, extend.downstream = extend.downstream, \n .     ymax = ymax, scale.factor = scale.factor, cells = cells, \n .     idents = idents, sep = sep, heights = heights, max.downsample = max.downsample, \n .     downsample.rate = downsample.rate)",
      "4. FindRegion(object = object, region = region, sep = sep, assay = assay, \n .     extend.upstream = extend.upstream, extend.downstream = extend.downstream)",
      "5. stop(\"Gene not found\")"
     ]
    }
   ],
   "source": [
    "print(CoveragePlot(sobj_H3K27ac_cln, region = gene, annotation = T, window = 2000, peaks = F, \n",
    "          extend.upstream = 15000, extend.downstream = 5000, group.by = \"celltype_v04\") )"
   ]
  },
  {
   "cell_type": "code",
   "execution_count": 56,
   "id": "5bb3e0da",
   "metadata": {},
   "outputs": [
    {
     "name": "stdout",
     "output_type": "stream",
     "text": [
      "[1] 14\n",
      "[1] \"Making coverage plots for SVEC\"\n",
      "[1] \"Ackr1\"\n",
      "[1] \"/projects/ps-epigen/users/cmiciano/Lung/lungmap_3/outputs/paired_tag/coverage_plots/240106/H3K27ac/H3K27ac_SVEC_Ackr1.pdf\"\n"
     ]
    },
    {
     "name": "stderr",
     "output_type": "stream",
     "text": [
      "Warning message:\n",
      "“Removed 28 rows containing missing values (geom_segment).”\n"
     ]
    },
    {
     "name": "stdout",
     "output_type": "stream",
     "text": [
      "[1] \"Col15a1\"\n",
      "[1] \"/projects/ps-epigen/users/cmiciano/Lung/lungmap_3/outputs/paired_tag/coverage_plots/240106/H3K27ac/H3K27ac_SVEC_Col15a1.pdf\"\n"
     ]
    },
    {
     "name": "stderr",
     "output_type": "stream",
     "text": [
      "Warning message:\n",
      "“Removed 2 rows containing missing values (position_stack).”\n"
     ]
    },
    {
     "name": "stdout",
     "output_type": "stream",
     "text": [
      "[1] \"Abcb1b\"\n",
      "[1] \"/projects/ps-epigen/users/cmiciano/Lung/lungmap_3/outputs/paired_tag/coverage_plots/240106/H3K27ac/H3K27ac_SVEC_Abcb1b.pdf\"\n"
     ]
    },
    {
     "name": "stderr",
     "output_type": "stream",
     "text": [
      "Warning message:\n",
      "“Removed 36 rows containing missing values (position_stack).”\n",
      "Warning message:\n",
      "“Removed 1 rows containing missing values (geom_segment).”\n"
     ]
    },
    {
     "name": "stdout",
     "output_type": "stream",
     "text": [
      "[1] \"Abcb1a\"\n",
      "[1] \"/projects/ps-epigen/users/cmiciano/Lung/lungmap_3/outputs/paired_tag/coverage_plots/240106/H3K27ac/H3K27ac_SVEC_Abcb1a.pdf\"\n"
     ]
    },
    {
     "name": "stderr",
     "output_type": "stream",
     "text": [
      "Warning message:\n",
      "“Removed 3 rows containing missing values (position_stack).”\n"
     ]
    },
    {
     "name": "stdout",
     "output_type": "stream",
     "text": [
      "[1] \"Vwa1\"\n",
      "[1] \"/projects/ps-epigen/users/cmiciano/Lung/lungmap_3/outputs/paired_tag/coverage_plots/240106/H3K27ac/H3K27ac_SVEC_Vwa1.pdf\"\n"
     ]
    },
    {
     "name": "stderr",
     "output_type": "stream",
     "text": [
      "Warning message:\n",
      "“Removed 197 rows containing missing values (position_stack).”\n",
      "Warning message:\n",
      "“Removed 25 rows containing missing values (geom_segment).”\n"
     ]
    },
    {
     "name": "stdout",
     "output_type": "stream",
     "text": [
      "[1] 15\n",
      "[1] \"Making coverage plots for PNEC\"\n",
      "[1] \"Ascl1\"\n",
      "[1] \"/projects/ps-epigen/users/cmiciano/Lung/lungmap_3/outputs/paired_tag/coverage_plots/240106/H3K27ac/H3K27ac_PNEC_Ascl1.pdf\"\n"
     ]
    },
    {
     "name": "stderr",
     "output_type": "stream",
     "text": [
      "Warning message:\n",
      "“Removed 380 rows containing missing values (position_stack).”\n"
     ]
    },
    {
     "name": "stdout",
     "output_type": "stream",
     "text": [
      "[1] \"Calca\"\n",
      "[1] \"/projects/ps-epigen/users/cmiciano/Lung/lungmap_3/outputs/paired_tag/coverage_plots/240106/H3K27ac/H3K27ac_PNEC_Calca.pdf\"\n"
     ]
    },
    {
     "name": "stderr",
     "output_type": "stream",
     "text": [
      "Warning message:\n",
      "“Removed 234 rows containing missing values (position_stack).”\n"
     ]
    },
    {
     "name": "stdout",
     "output_type": "stream",
     "text": [
      "[1] \"Grp\"\n",
      "[1] \"/projects/ps-epigen/users/cmiciano/Lung/lungmap_3/outputs/paired_tag/coverage_plots/240106/H3K27ac/H3K27ac_PNEC_Grp.pdf\"\n",
      "[1] \"Ucma\"\n",
      "[1] \"/projects/ps-epigen/users/cmiciano/Lung/lungmap_3/outputs/paired_tag/coverage_plots/240106/H3K27ac/H3K27ac_PNEC_Ucma.pdf\"\n"
     ]
    },
    {
     "name": "stderr",
     "output_type": "stream",
     "text": [
      "Warning message:\n",
      "“Removed 81 rows containing missing values (geom_segment).”\n"
     ]
    },
    {
     "name": "stdout",
     "output_type": "stream",
     "text": [
      "[1] \"Nrxn1\"\n",
      "[1] \"/projects/ps-epigen/users/cmiciano/Lung/lungmap_3/outputs/paired_tag/coverage_plots/240106/H3K27ac/H3K27ac_PNEC_Nrxn1.pdf\"\n"
     ]
    },
    {
     "name": "stderr",
     "output_type": "stream",
     "text": [
      "Warning message:\n",
      "“Removed 10 rows containing missing values (position_stack).”\n"
     ]
    },
    {
     "name": "stdout",
     "output_type": "stream",
     "text": [
      "[1] 16\n",
      "[1] \"Making coverage plots for Tuft\"\n",
      "[1] \"Ascl2\"\n",
      "[1] \"/projects/ps-epigen/users/cmiciano/Lung/lungmap_3/outputs/paired_tag/coverage_plots/240106/H3K27ac/H3K27ac_Tuft_Ascl2.pdf\"\n"
     ]
    },
    {
     "name": "stderr",
     "output_type": "stream",
     "text": [
      "Warning message:\n",
      "“Removed 210 rows containing missing values (position_stack).”\n"
     ]
    },
    {
     "name": "stdout",
     "output_type": "stream",
     "text": [
      "[1] \"Pou2f3\"\n",
      "[1] \"/projects/ps-epigen/users/cmiciano/Lung/lungmap_3/outputs/paired_tag/coverage_plots/240106/H3K27ac/H3K27ac_Tuft_Pou2f3.pdf\"\n"
     ]
    },
    {
     "name": "stderr",
     "output_type": "stream",
     "text": [
      "Warning message:\n",
      "“Removed 5 rows containing missing values (position_stack).”\n",
      "Warning message:\n",
      "“Removed 1 rows containing missing values (geom_segment).”\n"
     ]
    },
    {
     "name": "stdout",
     "output_type": "stream",
     "text": [
      "[1] \"Il23a\"\n",
      "[1] \"/projects/ps-epigen/users/cmiciano/Lung/lungmap_3/outputs/paired_tag/coverage_plots/240106/H3K27ac/H3K27ac_Tuft_Il23a.pdf\"\n"
     ]
    },
    {
     "name": "stderr",
     "output_type": "stream",
     "text": [
      "Warning message:\n",
      "“Removed 46 rows containing missing values (position_stack).”\n",
      "Warning message:\n",
      "“Removed 18 rows containing missing values (geom_segment).”\n"
     ]
    },
    {
     "name": "stdout",
     "output_type": "stream",
     "text": [
      "[1] 17\n",
      "[1] \"Making coverage plots for Ionocyte\"\n",
      "[1] \"Foxi1\"\n",
      "[1] \"/projects/ps-epigen/users/cmiciano/Lung/lungmap_3/outputs/paired_tag/coverage_plots/240106/H3K27ac/H3K27ac_Ionocyte_Foxi1.pdf\"\n",
      "[1] \"Ascl3\"\n",
      "[1] \"/projects/ps-epigen/users/cmiciano/Lung/lungmap_3/outputs/paired_tag/coverage_plots/240106/H3K27ac/H3K27ac_Ionocyte_Ascl3.pdf\"\n"
     ]
    },
    {
     "name": "stderr",
     "output_type": "stream",
     "text": [
      "Warning message:\n",
      "“Removed 15 rows containing missing values (geom_segment).”\n",
      "Warning message:\n",
      "“Removed 1 rows containing missing values (geom_segment).”\n"
     ]
    },
    {
     "name": "stdout",
     "output_type": "stream",
     "text": [
      "[1] \"Cftr\"\n",
      "[1] \"/projects/ps-epigen/users/cmiciano/Lung/lungmap_3/outputs/paired_tag/coverage_plots/240106/H3K27ac/H3K27ac_Ionocyte_Cftr.pdf\"\n"
     ]
    },
    {
     "name": "stderr",
     "output_type": "stream",
     "text": [
      "Warning message:\n",
      "“Removed 15 rows containing missing values (position_stack).”\n"
     ]
    },
    {
     "name": "stdout",
     "output_type": "stream",
     "text": [
      "[1] 18\n",
      "[1] \"Making coverage plots for Basal\"\n",
      "[1] \"Trp63\"\n",
      "[1] \"/projects/ps-epigen/users/cmiciano/Lung/lungmap_3/outputs/paired_tag/coverage_plots/240106/H3K27ac/H3K27ac_Basal_Trp63.pdf\"\n"
     ]
    },
    {
     "name": "stderr",
     "output_type": "stream",
     "text": [
      "Warning message:\n",
      "“Removed 24 rows containing missing values (position_stack).”\n"
     ]
    },
    {
     "name": "stdout",
     "output_type": "stream",
     "text": [
      "[1] \"Krt5\"\n",
      "[1] \"/projects/ps-epigen/users/cmiciano/Lung/lungmap_3/outputs/paired_tag/coverage_plots/240106/H3K27ac/H3K27ac_Basal_Krt5.pdf\"\n"
     ]
    },
    {
     "name": "stderr",
     "output_type": "stream",
     "text": [
      "Warning message:\n",
      "“Removed 4 rows containing missing values (geom_segment).”\n"
     ]
    },
    {
     "name": "stdout",
     "output_type": "stream",
     "text": [
      "[1] \"Gm5478\"\n",
      "[1] \"/projects/ps-epigen/users/cmiciano/Lung/lungmap_3/outputs/paired_tag/coverage_plots/240106/H3K27ac/H3K27ac_Basal_Gm5478.pdf\"\n"
     ]
    },
    {
     "name": "stderr",
     "output_type": "stream",
     "text": [
      "Warning message:\n",
      "“Removed 9 rows containing missing values (geom_segment).”\n"
     ]
    },
    {
     "name": "stdout",
     "output_type": "stream",
     "text": [
      "[1] \"Ngfr\"\n",
      "[1] \"/projects/ps-epigen/users/cmiciano/Lung/lungmap_3/outputs/paired_tag/coverage_plots/240106/H3K27ac/H3K27ac_Basal_Ngfr.pdf\"\n",
      "[1] 19\n",
      "[1] \"Making coverage plots for Secretory\"\n",
      "[1] \"Scgb1a1\"\n",
      "[1] \"/projects/ps-epigen/users/cmiciano/Lung/lungmap_3/outputs/paired_tag/coverage_plots/240106/H3K27ac/H3K27ac_Secretory_Scgb1a1.pdf\"\n"
     ]
    },
    {
     "name": "stderr",
     "output_type": "stream",
     "text": [
      "Warning message:\n",
      "“Removed 10 rows containing missing values (geom_segment).”\n"
     ]
    },
    {
     "name": "stdout",
     "output_type": "stream",
     "text": [
      "[1] \"Scube2\"\n",
      "[1] \"/projects/ps-epigen/users/cmiciano/Lung/lungmap_3/outputs/paired_tag/coverage_plots/240106/H3K27ac/H3K27ac_Secretory_Scube2.pdf\"\n"
     ]
    },
    {
     "name": "stderr",
     "output_type": "stream",
     "text": [
      "Warning message:\n",
      "“Removed 16 rows containing missing values (position_stack).”\n"
     ]
    },
    {
     "name": "stdout",
     "output_type": "stream",
     "text": [
      "[1] \"Bpifb1\"\n",
      "[1] \"/projects/ps-epigen/users/cmiciano/Lung/lungmap_3/outputs/paired_tag/coverage_plots/240106/H3K27ac/H3K27ac_Secretory_Bpifb1.pdf\"\n"
     ]
    },
    {
     "name": "stderr",
     "output_type": "stream",
     "text": [
      "Warning message:\n",
      "“Removed 72 rows containing missing values (position_stack).”\n",
      "Warning message:\n",
      "“Removed 13 rows containing missing values (geom_segment).”\n"
     ]
    },
    {
     "name": "stdout",
     "output_type": "stream",
     "text": [
      "[1] \"Lcn2\"\n",
      "[1] \"/projects/ps-epigen/users/cmiciano/Lung/lungmap_3/outputs/paired_tag/coverage_plots/240106/H3K27ac/H3K27ac_Secretory_Lcn2.pdf\"\n"
     ]
    },
    {
     "name": "stderr",
     "output_type": "stream",
     "text": [
      "Warning message:\n",
      "“Removed 53 rows containing missing values (geom_segment).”\n"
     ]
    },
    {
     "name": "stdout",
     "output_type": "stream",
     "text": [
      "[1] \"Tspan8\"\n",
      "[1] \"/projects/ps-epigen/users/cmiciano/Lung/lungmap_3/outputs/paired_tag/coverage_plots/240106/H3K27ac/H3K27ac_Secretory_Tspan8.pdf\"\n",
      "[1] 20\n",
      "[1] \"Making coverage plots for RAS\"\n",
      "[1] \"Scgb3a2\"\n",
      "[1] \"/projects/ps-epigen/users/cmiciano/Lung/lungmap_3/outputs/paired_tag/coverage_plots/240106/H3K27ac/H3K27ac_RAS_Scgb3a2.pdf\"\n"
     ]
    },
    {
     "name": "stderr",
     "output_type": "stream",
     "text": [
      "Warning message:\n",
      "“Removed 420 rows containing missing values (position_stack).”\n"
     ]
    },
    {
     "name": "stdout",
     "output_type": "stream",
     "text": [
      "[1] \"Klk11\"\n",
      "[1] \"/projects/ps-epigen/users/cmiciano/Lung/lungmap_3/outputs/paired_tag/coverage_plots/240106/H3K27ac/H3K27ac_RAS_Klk11.pdf\"\n"
     ]
    },
    {
     "name": "stderr",
     "output_type": "stream",
     "text": [
      "Warning message:\n",
      "“Removed 12 rows containing missing values (geom_segment).”\n"
     ]
    },
    {
     "name": "stdout",
     "output_type": "stream",
     "text": [
      "[1] \"Mgp\"\n",
      "[1] \"/projects/ps-epigen/users/cmiciano/Lung/lungmap_3/outputs/paired_tag/coverage_plots/240106/H3K27ac/H3K27ac_RAS_Mgp.pdf\"\n"
     ]
    },
    {
     "name": "stderr",
     "output_type": "stream",
     "text": [
      "Warning message:\n",
      "“Removed 3 rows containing missing values (geom_segment).”\n"
     ]
    },
    {
     "name": "stdout",
     "output_type": "stream",
     "text": [
      "[1] \"Sox4\"\n",
      "[1] \"/projects/ps-epigen/users/cmiciano/Lung/lungmap_3/outputs/paired_tag/coverage_plots/240106/H3K27ac/H3K27ac_RAS_Sox4.pdf\"\n"
     ]
    },
    {
     "name": "stderr",
     "output_type": "stream",
     "text": [
      "Warning message:\n",
      "“Removed 107 rows containing missing values (position_stack).”\n"
     ]
    },
    {
     "name": "stdout",
     "output_type": "stream",
     "text": [
      "[1] 21\n",
      "[1] \"Making coverage plots for Goblet\"\n",
      "[1] \"Muc5ac\"\n",
      "[1] \"/projects/ps-epigen/users/cmiciano/Lung/lungmap_3/outputs/paired_tag/coverage_plots/240106/H3K27ac/H3K27ac_Goblet_Muc5ac.pdf\"\n"
     ]
    },
    {
     "name": "stderr",
     "output_type": "stream",
     "text": [
      "Warning message:\n",
      "“Removed 111 rows containing missing values (position_stack).”\n"
     ]
    },
    {
     "name": "stdout",
     "output_type": "stream",
     "text": [
      "[1] \"Spdef\"\n",
      "[1] \"/projects/ps-epigen/users/cmiciano/Lung/lungmap_3/outputs/paired_tag/coverage_plots/240106/H3K27ac/H3K27ac_Goblet_Spdef.pdf\"\n"
     ]
    },
    {
     "name": "stderr",
     "output_type": "stream",
     "text": [
      "Warning message:\n",
      "“Removed 149 rows containing missing values (position_stack).”\n",
      "Warning message:\n",
      "“Removed 6 rows containing missing values (geom_segment).”\n"
     ]
    },
    {
     "name": "stdout",
     "output_type": "stream",
     "text": [
      "[1] \"Pcdh7\"\n",
      "[1] \"/projects/ps-epigen/users/cmiciano/Lung/lungmap_3/outputs/paired_tag/coverage_plots/240106/H3K27ac/H3K27ac_Goblet_Pcdh7.pdf\"\n"
     ]
    },
    {
     "name": "stderr",
     "output_type": "stream",
     "text": [
      "Warning message:\n",
      "“Removed 8 rows containing missing values (position_stack).”\n"
     ]
    },
    {
     "name": "stdout",
     "output_type": "stream",
     "text": [
      "[1] \"Slc4a11\"\n",
      "[1] \"/projects/ps-epigen/users/cmiciano/Lung/lungmap_3/outputs/paired_tag/coverage_plots/240106/H3K27ac/H3K27ac_Goblet_Slc4a11.pdf\"\n"
     ]
    },
    {
     "name": "stderr",
     "output_type": "stream",
     "text": [
      "Warning message:\n",
      "“Removed 162 rows containing missing values (position_stack).”\n",
      "Warning message:\n",
      "“Removed 5 rows containing missing values (geom_segment).”\n"
     ]
    },
    {
     "name": "stdout",
     "output_type": "stream",
     "text": [
      "[1] \"Agr2\"\n",
      "[1] \"/projects/ps-epigen/users/cmiciano/Lung/lungmap_3/outputs/paired_tag/coverage_plots/240106/H3K27ac/H3K27ac_Goblet_Agr2.pdf\"\n",
      "[1] 22\n",
      "[1] \"Making coverage plots for Mucous\"\n",
      "[1] \"Muc5b\"\n",
      "[1] \"/projects/ps-epigen/users/cmiciano/Lung/lungmap_3/outputs/paired_tag/coverage_plots/240106/H3K27ac/H3K27ac_Mucous_Muc5b.pdf\"\n"
     ]
    },
    {
     "name": "stderr",
     "output_type": "stream",
     "text": [
      "Warning message:\n",
      "“Removed 84 rows containing missing values (position_stack).”\n",
      "Warning message:\n",
      "“Removed 21 rows containing missing values (geom_segment).”\n"
     ]
    },
    {
     "name": "stdout",
     "output_type": "stream",
     "text": [
      "[1] \"Spdef\"\n",
      "[1] \"/projects/ps-epigen/users/cmiciano/Lung/lungmap_3/outputs/paired_tag/coverage_plots/240106/H3K27ac/H3K27ac_Mucous_Spdef.pdf\"\n"
     ]
    },
    {
     "name": "stderr",
     "output_type": "stream",
     "text": [
      "Warning message:\n",
      "“Removed 146 rows containing missing values (position_stack).”\n",
      "Warning message:\n",
      "“Removed 6 rows containing missing values (geom_segment).”\n"
     ]
    },
    {
     "name": "stdout",
     "output_type": "stream",
     "text": [
      "[1] \"Bpifb2\"\n",
      "[1] \"/projects/ps-epigen/users/cmiciano/Lung/lungmap_3/outputs/paired_tag/coverage_plots/240106/H3K27ac/H3K27ac_Mucous_Bpifb2.pdf\"\n"
     ]
    },
    {
     "name": "stderr",
     "output_type": "stream",
     "text": [
      "Warning message:\n",
      "“Removed 3 rows containing missing values (geom_segment).”\n"
     ]
    },
    {
     "name": "stdout",
     "output_type": "stream",
     "text": [
      "[1] \"Muc5ac\"\n",
      "[1] \"/projects/ps-epigen/users/cmiciano/Lung/lungmap_3/outputs/paired_tag/coverage_plots/240106/H3K27ac/H3K27ac_Mucous_Muc5ac.pdf\"\n"
     ]
    },
    {
     "name": "stderr",
     "output_type": "stream",
     "text": [
      "Warning message:\n",
      "“Removed 122 rows containing missing values (position_stack).”\n"
     ]
    },
    {
     "name": "stdout",
     "output_type": "stream",
     "text": [
      "[1] 23\n",
      "[1] \"Making coverage plots for Serous\"\n",
      "[1] \"9530003J23Rik\"\n",
      "[1] \"/projects/ps-epigen/users/cmiciano/Lung/lungmap_3/outputs/paired_tag/coverage_plots/240106/H3K27ac/H3K27ac_Serous_9530003J23Rik.pdf\"\n"
     ]
    },
    {
     "name": "stderr",
     "output_type": "stream",
     "text": [
      "Warning message:\n",
      "“Removed 9 rows containing missing values (position_stack).”\n",
      "Warning message:\n",
      "“Removed 2 rows containing missing values (geom_segment).”\n"
     ]
    },
    {
     "name": "stdout",
     "output_type": "stream",
     "text": [
      "[1] \"Ltf\"\n",
      "[1] \"/projects/ps-epigen/users/cmiciano/Lung/lungmap_3/outputs/paired_tag/coverage_plots/240106/H3K27ac/H3K27ac_Serous_Ltf.pdf\"\n",
      "[1] \"Lpo\"\n",
      "[1] \"/projects/ps-epigen/users/cmiciano/Lung/lungmap_3/outputs/paired_tag/coverage_plots/240106/H3K27ac/H3K27ac_Serous_Lpo.pdf\"\n",
      "[1] 24\n",
      "[1] \"Making coverage plots for MEC\"\n",
      "[1] \"Krt14\"\n",
      "[1] \"/projects/ps-epigen/users/cmiciano/Lung/lungmap_3/outputs/paired_tag/coverage_plots/240106/H3K27ac/H3K27ac_MEC_Krt14.pdf\"\n"
     ]
    },
    {
     "name": "stderr",
     "output_type": "stream",
     "text": [
      "Warning message:\n",
      "“Removed 182 rows containing missing values (position_stack).”\n",
      "Warning message:\n",
      "“Removed 1 rows containing missing values (geom_segment).”\n"
     ]
    },
    {
     "name": "stdout",
     "output_type": "stream",
     "text": [
      "[1] \"Epcam\"\n",
      "[1] \"/projects/ps-epigen/users/cmiciano/Lung/lungmap_3/outputs/paired_tag/coverage_plots/240106/H3K27ac/H3K27ac_MEC_Epcam.pdf\"\n"
     ]
    },
    {
     "name": "stderr",
     "output_type": "stream",
     "text": [
      "Warning message:\n",
      "“Removed 35 rows containing missing values (position_stack).”\n"
     ]
    },
    {
     "name": "stdout",
     "output_type": "stream",
     "text": [
      "[1] \"Myh11\"\n",
      "[1] \"/projects/ps-epigen/users/cmiciano/Lung/lungmap_3/outputs/paired_tag/coverage_plots/240106/H3K27ac/H3K27ac_MEC_Myh11.pdf\"\n"
     ]
    },
    {
     "name": "stderr",
     "output_type": "stream",
     "text": [
      "Warning message:\n",
      "“Removed 2 rows containing missing values (position_stack).”\n",
      "Warning message:\n",
      "“Removed 21 rows containing missing values (geom_segment).”\n"
     ]
    },
    {
     "name": "stdout",
     "output_type": "stream",
     "text": [
      "[1] 25\n",
      "[1] \"Making coverage plots for Ciliated\"\n",
      "[1] \"Foxj1\"\n",
      "[1] \"/projects/ps-epigen/users/cmiciano/Lung/lungmap_3/outputs/paired_tag/coverage_plots/240106/H3K27ac/H3K27ac_Ciliated_Foxj1.pdf\"\n"
     ]
    },
    {
     "name": "stderr",
     "output_type": "stream",
     "text": [
      "Warning message:\n",
      "“Removed 29 rows containing missing values (position_stack).”\n",
      "Warning message:\n",
      "“Removed 74 rows containing missing values (geom_segment).”\n"
     ]
    },
    {
     "name": "stdout",
     "output_type": "stream",
     "text": [
      "[1] \"Rsph1\"\n",
      "[1] \"/projects/ps-epigen/users/cmiciano/Lung/lungmap_3/outputs/paired_tag/coverage_plots/240106/H3K27ac/H3K27ac_Ciliated_Rsph1.pdf\"\n"
     ]
    },
    {
     "name": "stderr",
     "output_type": "stream",
     "text": [
      "Warning message:\n",
      "“Removed 47 rows containing missing values (position_stack).”\n",
      "Warning message:\n",
      "“Removed 37 rows containing missing values (geom_segment).”\n"
     ]
    },
    {
     "name": "stdout",
     "output_type": "stream",
     "text": [
      "[1] \"Cdhr3\"\n",
      "[1] \"/projects/ps-epigen/users/cmiciano/Lung/lungmap_3/outputs/paired_tag/coverage_plots/240106/H3K27ac/H3K27ac_Ciliated_Cdhr3.pdf\"\n",
      "[1] \"Cdhr4\"\n",
      "[1] \"/projects/ps-epigen/users/cmiciano/Lung/lungmap_3/outputs/paired_tag/coverage_plots/240106/H3K27ac/H3K27ac_Ciliated_Cdhr4.pdf\"\n"
     ]
    },
    {
     "name": "stderr",
     "output_type": "stream",
     "text": [
      "Warning message:\n",
      "“Removed 107 rows containing missing values (geom_segment).”\n"
     ]
    },
    {
     "name": "stdout",
     "output_type": "stream",
     "text": [
      "[1] 26\n",
      "[1] \"Making coverage plots for Deuterosomal\"\n",
      "[1] \"Deup1\"\n",
      "[1] \"/projects/ps-epigen/users/cmiciano/Lung/lungmap_3/outputs/paired_tag/coverage_plots/240106/H3K27ac/H3K27ac_Deuterosomal_Deup1.pdf\"\n",
      "[1] 27\n",
      "[1] \"Making coverage plots for SMG Basal/Duct\"\n",
      "[1] \"Krt14\"\n",
      "[1] \"/projects/ps-epigen/users/cmiciano/Lung/lungmap_3/outputs/paired_tag/coverage_plots/240106/H3K27ac/H3K27ac_SMG Basal/Duct_Krt14.pdf\"\n",
      "[1] 28\n",
      "[1] \"Making coverage plots for Suprabasal\"\n",
      "[1] \"Krt19\"\n",
      "[1] \"/projects/ps-epigen/users/cmiciano/Lung/lungmap_3/outputs/paired_tag/coverage_plots/240106/H3K27ac/H3K27ac_Suprabasal_Krt19.pdf\"\n",
      "[1] \"Serpinb3a\"\n",
      "[1] \"/projects/ps-epigen/users/cmiciano/Lung/lungmap_3/outputs/paired_tag/coverage_plots/240106/H3K27ac/H3K27ac_Suprabasal_Serpinb3a.pdf\"\n",
      "[1] \"Serpinb3d\"\n",
      "[1] \"/projects/ps-epigen/users/cmiciano/Lung/lungmap_3/outputs/paired_tag/coverage_plots/240106/H3K27ac/H3K27ac_Suprabasal_Serpinb3d.pdf\"\n",
      "[1] \"Serpinb3c\"\n",
      "[1] \"/projects/ps-epigen/users/cmiciano/Lung/lungmap_3/outputs/paired_tag/coverage_plots/240106/H3K27ac/H3K27ac_Suprabasal_Serpinb3c.pdf\"\n"
     ]
    },
    {
     "name": "stderr",
     "output_type": "stream",
     "text": [
      "Warning message:\n",
      "“Removed 15 rows containing missing values (geom_segment).”\n"
     ]
    },
    {
     "name": "stdout",
     "output_type": "stream",
     "text": [
      "[1] \"Serpinb3b\"\n",
      "[1] \"/projects/ps-epigen/users/cmiciano/Lung/lungmap_3/outputs/paired_tag/coverage_plots/240106/H3K27ac/H3K27ac_Suprabasal_Serpinb3b.pdf\"\n",
      "[1] \"Notch3\"\n",
      "[1] \"/projects/ps-epigen/users/cmiciano/Lung/lungmap_3/outputs/paired_tag/coverage_plots/240106/H3K27ac/H3K27ac_Suprabasal_Notch3.pdf\"\n"
     ]
    },
    {
     "name": "stderr",
     "output_type": "stream",
     "text": [
      "Warning message:\n",
      "“Removed 16 rows containing missing values (position_stack).”\n"
     ]
    },
    {
     "name": "stdout",
     "output_type": "stream",
     "text": [
      "[1] 29\n",
      "[1] \"Making coverage plots for AT1\"\n",
      "[1] \"Ager\"\n",
      "[1] \"/projects/ps-epigen/users/cmiciano/Lung/lungmap_3/outputs/paired_tag/coverage_plots/240106/H3K27ac/H3K27ac_AT1_Ager.pdf\"\n"
     ]
    },
    {
     "name": "stderr",
     "output_type": "stream",
     "text": [
      "Warning message:\n",
      "“Removed 94 rows containing missing values (geom_segment).”\n"
     ]
    },
    {
     "name": "stdout",
     "output_type": "stream",
     "text": [
      "[1] \"Rtkn2\"\n",
      "[1] \"/projects/ps-epigen/users/cmiciano/Lung/lungmap_3/outputs/paired_tag/coverage_plots/240106/H3K27ac/H3K27ac_AT1_Rtkn2.pdf\"\n"
     ]
    },
    {
     "name": "stderr",
     "output_type": "stream",
     "text": [
      "Warning message:\n",
      "“Removed 1 rows containing missing values (position_stack).”\n"
     ]
    },
    {
     "name": "stdout",
     "output_type": "stream",
     "text": [
      "[1] \"Sema3b\"\n",
      "[1] \"/projects/ps-epigen/users/cmiciano/Lung/lungmap_3/outputs/paired_tag/coverage_plots/240106/H3K27ac/H3K27ac_AT1_Sema3b.pdf\"\n"
     ]
    },
    {
     "name": "stderr",
     "output_type": "stream",
     "text": [
      "Warning message:\n",
      "“Removed 59 rows containing missing values (geom_segment).”\n",
      "Warning message:\n",
      "“Removed 1 rows containing missing values (geom_segment).”\n"
     ]
    },
    {
     "name": "stdout",
     "output_type": "stream",
     "text": [
      "[1] 30\n",
      "[1] \"Making coverage plots for AT2\"\n",
      "[1] \"Abca3\"\n",
      "[1] \"/projects/ps-epigen/users/cmiciano/Lung/lungmap_3/outputs/paired_tag/coverage_plots/240106/H3K27ac/H3K27ac_AT2_Abca3.pdf\"\n"
     ]
    },
    {
     "name": "stderr",
     "output_type": "stream",
     "text": [
      "Warning message:\n",
      "“Removed 76 rows containing missing values (geom_segment).”\n",
      "Warning message:\n",
      "“Removed 1 rows containing missing values (geom_segment).”\n"
     ]
    },
    {
     "name": "stdout",
     "output_type": "stream",
     "text": [
      "[1] \"Kcnj15\"\n",
      "[1] \"/projects/ps-epigen/users/cmiciano/Lung/lungmap_3/outputs/paired_tag/coverage_plots/240106/H3K27ac/H3K27ac_AT2_Kcnj15.pdf\"\n",
      "[1] 31\n",
      "[1] \"Making coverage plots for AM\"\n",
      "[1] \"Siglec1\"\n",
      "[1] \"/projects/ps-epigen/users/cmiciano/Lung/lungmap_3/outputs/paired_tag/coverage_plots/240106/H3K27ac/H3K27ac_AM_Siglec1.pdf\"\n"
     ]
    },
    {
     "name": "stderr",
     "output_type": "stream",
     "text": [
      "Warning message:\n",
      "“Removed 60 rows containing missing values (geom_segment).”\n"
     ]
    },
    {
     "name": "stdout",
     "output_type": "stream",
     "text": [
      "[1] \"Abcg1\"\n",
      "[1] \"/projects/ps-epigen/users/cmiciano/Lung/lungmap_3/outputs/paired_tag/coverage_plots/240106/H3K27ac/H3K27ac_AM_Abcg1.pdf\"\n"
     ]
    },
    {
     "name": "stderr",
     "output_type": "stream",
     "text": [
      "Warning message:\n",
      "“Removed 1 rows containing missing values (position_stack).”\n"
     ]
    },
    {
     "name": "stdout",
     "output_type": "stream",
     "text": [
      "[1] \"Fabp4\"\n",
      "[1] \"/projects/ps-epigen/users/cmiciano/Lung/lungmap_3/outputs/paired_tag/coverage_plots/240106/H3K27ac/H3K27ac_AM_Fabp4.pdf\"\n"
     ]
    },
    {
     "name": "stderr",
     "output_type": "stream",
     "text": [
      "Warning message:\n",
      "“Removed 122 rows containing missing values (position_stack).”\n",
      "Warning message:\n",
      "“Removed 3 rows containing missing values (geom_segment).”\n"
     ]
    },
    {
     "name": "stdout",
     "output_type": "stream",
     "text": [
      "[1] \"Pparg\"\n",
      "[1] \"/projects/ps-epigen/users/cmiciano/Lung/lungmap_3/outputs/paired_tag/coverage_plots/240106/H3K27ac/H3K27ac_AM_Pparg.pdf\"\n"
     ]
    },
    {
     "name": "stderr",
     "output_type": "stream",
     "text": [
      "Warning message:\n",
      "“Removed 8 rows containing missing values (position_stack).”\n"
     ]
    },
    {
     "name": "stdout",
     "output_type": "stream",
     "text": [
      "[1] \"Marco\"\n",
      "[1] \"/projects/ps-epigen/users/cmiciano/Lung/lungmap_3/outputs/paired_tag/coverage_plots/240106/H3K27ac/H3K27ac_AM_Marco.pdf\"\n"
     ]
    },
    {
     "name": "stderr",
     "output_type": "stream",
     "text": [
      "Warning message:\n",
      "“Removed 3 rows containing missing values (position_stack).”\n"
     ]
    },
    {
     "name": "stdout",
     "output_type": "stream",
     "text": [
      "[1] \"Cd5l\"\n",
      "[1] \"/projects/ps-epigen/users/cmiciano/Lung/lungmap_3/outputs/paired_tag/coverage_plots/240106/H3K27ac/H3K27ac_AM_Cd5l.pdf\"\n"
     ]
    },
    {
     "name": "stderr",
     "output_type": "stream",
     "text": [
      "Warning message:\n",
      "“Removed 175 rows containing missing values (position_stack).”\n"
     ]
    },
    {
     "name": "stdout",
     "output_type": "stream",
     "text": [
      "[1] \"Cyp27a1\"\n",
      "[1] \"/projects/ps-epigen/users/cmiciano/Lung/lungmap_3/outputs/paired_tag/coverage_plots/240106/H3K27ac/H3K27ac_AM_Cyp27a1.pdf\"\n"
     ]
    },
    {
     "name": "stderr",
     "output_type": "stream",
     "text": [
      "Warning message:\n",
      "“Removed 40 rows containing missing values (position_stack).”\n",
      "Warning message:\n",
      "“Removed 133 rows containing missing values (geom_segment).”\n"
     ]
    },
    {
     "name": "stdout",
     "output_type": "stream",
     "text": [
      "[1] 32\n",
      "[1] \"Making coverage plots for IM\"\n",
      "[1] \"Slc40a1\"\n",
      "[1] \"/projects/ps-epigen/users/cmiciano/Lung/lungmap_3/outputs/paired_tag/coverage_plots/240106/H3K27ac/H3K27ac_IM_Slc40a1.pdf\"\n"
     ]
    },
    {
     "name": "stderr",
     "output_type": "stream",
     "text": [
      "Warning message:\n",
      "“Removed 80 rows containing missing values (position_stack).”\n"
     ]
    },
    {
     "name": "stdout",
     "output_type": "stream",
     "text": [
      "[1] \"Folr2\"\n",
      "[1] \"/projects/ps-epigen/users/cmiciano/Lung/lungmap_3/outputs/paired_tag/coverage_plots/240106/H3K27ac/H3K27ac_IM_Folr2.pdf\"\n"
     ]
    },
    {
     "name": "stderr",
     "output_type": "stream",
     "text": [
      "Warning message:\n",
      "“Removed 55 rows containing missing values (position_stack).”\n",
      "Warning message:\n",
      "“Removed 9 rows containing missing values (geom_segment).”\n"
     ]
    },
    {
     "name": "stdout",
     "output_type": "stream",
     "text": [
      "[1] \"F13a1\"\n",
      "[1] \"/projects/ps-epigen/users/cmiciano/Lung/lungmap_3/outputs/paired_tag/coverage_plots/240106/H3K27ac/H3K27ac_IM_F13a1.pdf\"\n"
     ]
    },
    {
     "name": "stderr",
     "output_type": "stream",
     "text": [
      "Warning message:\n",
      "“Removed 27 rows containing missing values (position_stack).”\n"
     ]
    },
    {
     "name": "stdout",
     "output_type": "stream",
     "text": [
      "[1] \"Stab1\"\n",
      "[1] \"/projects/ps-epigen/users/cmiciano/Lung/lungmap_3/outputs/paired_tag/coverage_plots/240106/H3K27ac/H3K27ac_IM_Stab1.pdf\"\n"
     ]
    },
    {
     "name": "stderr",
     "output_type": "stream",
     "text": [
      "Warning message:\n",
      "“Removed 137 rows containing missing values (geom_segment).”\n"
     ]
    },
    {
     "name": "stdout",
     "output_type": "stream",
     "text": [
      "[1] 33\n",
      "[1] \"Making coverage plots for iMON\"\n",
      "[1] \"Cd14\"\n",
      "[1] \"/projects/ps-epigen/users/cmiciano/Lung/lungmap_3/outputs/paired_tag/coverage_plots/240106/H3K27ac/H3K27ac_iMON_Cd14.pdf\"\n"
     ]
    },
    {
     "name": "stderr",
     "output_type": "stream",
     "text": [
      "Warning message:\n",
      "“Removed 67 rows containing missing values (position_stack).”\n"
     ]
    },
    {
     "name": "stdout",
     "output_type": "stream",
     "text": [
      "[1] \"Fcnb\"\n",
      "[1] \"/projects/ps-epigen/users/cmiciano/Lung/lungmap_3/outputs/paired_tag/coverage_plots/240106/H3K27ac/H3K27ac_iMON_Fcnb.pdf\"\n",
      "[1] \"Vcan\"\n",
      "[1] \"/projects/ps-epigen/users/cmiciano/Lung/lungmap_3/outputs/paired_tag/coverage_plots/240106/H3K27ac/H3K27ac_iMON_Vcan.pdf\"\n"
     ]
    },
    {
     "name": "stderr",
     "output_type": "stream",
     "text": [
      "Warning message:\n",
      "“Removed 1 rows containing missing values (position_stack).”\n",
      "Warning message:\n",
      "“Removed 2 rows containing missing values (geom_segment).”\n"
     ]
    },
    {
     "name": "stdout",
     "output_type": "stream",
     "text": [
      "[1] \"Fcgr4\"\n",
      "[1] \"/projects/ps-epigen/users/cmiciano/Lung/lungmap_3/outputs/paired_tag/coverage_plots/240106/H3K27ac/H3K27ac_iMON_Fcgr4.pdf\"\n"
     ]
    },
    {
     "name": "stderr",
     "output_type": "stream",
     "text": [
      "Warning message:\n",
      "“Removed 108 rows containing missing values (position_stack).”\n"
     ]
    },
    {
     "name": "stdout",
     "output_type": "stream",
     "text": [
      "[1] 34\n",
      "[1] \"Making coverage plots for pMON\"\n",
      "[1] \"Fcnb\"\n",
      "[1] \"/projects/ps-epigen/users/cmiciano/Lung/lungmap_3/outputs/paired_tag/coverage_plots/240106/H3K27ac/H3K27ac_pMON_Fcnb.pdf\"\n",
      "[1] \"Tnfrsf8\"\n",
      "[1] \"/projects/ps-epigen/users/cmiciano/Lung/lungmap_3/outputs/paired_tag/coverage_plots/240106/H3K27ac/H3K27ac_pMON_Tnfrsf8.pdf\"\n",
      "[1] \"Fcgr4\"\n",
      "[1] \"/projects/ps-epigen/users/cmiciano/Lung/lungmap_3/outputs/paired_tag/coverage_plots/240106/H3K27ac/H3K27ac_pMON_Fcgr4.pdf\"\n",
      "[1] 35\n",
      "[1] \"Making coverage plots for cDC1\"\n",
      "[1] \"Clec9a\"\n",
      "[1] \"/projects/ps-epigen/users/cmiciano/Lung/lungmap_3/outputs/paired_tag/coverage_plots/240106/H3K27ac/H3K27ac_cDC1_Clec9a.pdf\"\n"
     ]
    },
    {
     "name": "stderr",
     "output_type": "stream",
     "text": [
      "Warning message:\n",
      "“Removed 5 rows containing missing values (geom_segment).”\n"
     ]
    },
    {
     "name": "stdout",
     "output_type": "stream",
     "text": [
      "[1] \"Flt3\"\n",
      "[1] \"/projects/ps-epigen/users/cmiciano/Lung/lungmap_3/outputs/paired_tag/coverage_plots/240106/H3K27ac/H3K27ac_cDC1_Flt3.pdf\"\n"
     ]
    },
    {
     "name": "stderr",
     "output_type": "stream",
     "text": [
      "Warning message:\n",
      "“Removed 66 rows containing missing values (position_stack).”\n",
      "Warning message:\n",
      "“Removed 1 rows containing missing values (geom_segment).”\n"
     ]
    },
    {
     "name": "stdout",
     "output_type": "stream",
     "text": [
      "[1] \"Zbtb46\"\n",
      "[1] \"/projects/ps-epigen/users/cmiciano/Lung/lungmap_3/outputs/paired_tag/coverage_plots/240106/H3K27ac/H3K27ac_cDC1_Zbtb46.pdf\"\n"
     ]
    },
    {
     "name": "stderr",
     "output_type": "stream",
     "text": [
      "Warning message:\n",
      "“Removed 21 rows containing missing values (position_stack).”\n",
      "Warning message:\n",
      "“Removed 5 rows containing missing values (geom_segment).”\n"
     ]
    },
    {
     "name": "stdout",
     "output_type": "stream",
     "text": [
      "[1] 36\n",
      "[1] \"Making coverage plots for cDC2\"\n",
      "[1] \"Clec10a\"\n",
      "[1] \"/projects/ps-epigen/users/cmiciano/Lung/lungmap_3/outputs/paired_tag/coverage_plots/240106/H3K27ac/H3K27ac_cDC2_Clec10a.pdf\"\n",
      "[1] \"Mgl2\"\n",
      "[1] \"/projects/ps-epigen/users/cmiciano/Lung/lungmap_3/outputs/paired_tag/coverage_plots/240106/H3K27ac/H3K27ac_cDC2_Mgl2.pdf\"\n",
      "[1] \"Fcgr2b\"\n",
      "[1] \"/projects/ps-epigen/users/cmiciano/Lung/lungmap_3/outputs/paired_tag/coverage_plots/240106/H3K27ac/H3K27ac_cDC2_Fcgr2b.pdf\"\n"
     ]
    },
    {
     "name": "stderr",
     "output_type": "stream",
     "text": [
      "Warning message:\n",
      "“Removed 29 rows containing missing values (position_stack).”\n"
     ]
    },
    {
     "name": "stdout",
     "output_type": "stream",
     "text": [
      "[1] \"Fcgr3\"\n",
      "[1] \"/projects/ps-epigen/users/cmiciano/Lung/lungmap_3/outputs/paired_tag/coverage_plots/240106/H3K27ac/H3K27ac_cDC2_Fcgr3.pdf\"\n"
     ]
    },
    {
     "name": "stderr",
     "output_type": "stream",
     "text": [
      "Warning message:\n",
      "“Removed 1 rows containing missing values (position_stack).”\n"
     ]
    },
    {
     "name": "stdout",
     "output_type": "stream",
     "text": [
      "[1] 37\n",
      "[1] \"Making coverage plots for pDC\"\n",
      "[1] \"Clec4b1\"\n",
      "[1] \"/projects/ps-epigen/users/cmiciano/Lung/lungmap_3/outputs/paired_tag/coverage_plots/240106/H3K27ac/H3K27ac_pDC_Clec4b1.pdf\"\n"
     ]
    },
    {
     "name": "stderr",
     "output_type": "stream",
     "text": [
      "Warning message:\n",
      "“Removed 29 rows containing missing values (position_stack).”\n"
     ]
    },
    {
     "name": "stdout",
     "output_type": "stream",
     "text": [
      "[1] \"Clec4a2\"\n",
      "[1] \"/projects/ps-epigen/users/cmiciano/Lung/lungmap_3/outputs/paired_tag/coverage_plots/240106/H3K27ac/H3K27ac_pDC_Clec4a2.pdf\"\n",
      "[1] \"Clec4a3\"\n",
      "[1] \"/projects/ps-epigen/users/cmiciano/Lung/lungmap_3/outputs/paired_tag/coverage_plots/240106/H3K27ac/H3K27ac_pDC_Clec4a3.pdf\"\n"
     ]
    },
    {
     "name": "stderr",
     "output_type": "stream",
     "text": [
      "Warning message:\n",
      "“Removed 85 rows containing missing values (position_stack).”\n"
     ]
    },
    {
     "name": "stdout",
     "output_type": "stream",
     "text": [
      "[1] \"Clec4a4\"\n",
      "[1] \"/projects/ps-epigen/users/cmiciano/Lung/lungmap_3/outputs/paired_tag/coverage_plots/240106/H3K27ac/H3K27ac_pDC_Clec4a4.pdf\"\n"
     ]
    },
    {
     "name": "stderr",
     "output_type": "stream",
     "text": [
      "Warning message:\n",
      "“Removed 88 rows containing missing values (position_stack).”\n"
     ]
    },
    {
     "name": "stdout",
     "output_type": "stream",
     "text": [
      "[1] \"Clec4b2\"\n",
      "[1] \"/projects/ps-epigen/users/cmiciano/Lung/lungmap_3/outputs/paired_tag/coverage_plots/240106/H3K27ac/H3K27ac_pDC_Clec4b2.pdf\"\n"
     ]
    },
    {
     "name": "stderr",
     "output_type": "stream",
     "text": [
      "Warning message:\n",
      "“Removed 338 rows containing missing values (position_stack).”\n"
     ]
    },
    {
     "name": "stdout",
     "output_type": "stream",
     "text": [
      "[1] \"Pld4\"\n",
      "[1] \"/projects/ps-epigen/users/cmiciano/Lung/lungmap_3/outputs/paired_tag/coverage_plots/240106/H3K27ac/H3K27ac_pDC_Pld4.pdf\"\n"
     ]
    },
    {
     "name": "stderr",
     "output_type": "stream",
     "text": [
      "Warning message:\n",
      "“Removed 36 rows containing missing values (position_stack).”\n",
      "Warning message:\n",
      "“Removed 66 rows containing missing values (geom_segment).”\n"
     ]
    },
    {
     "name": "stdout",
     "output_type": "stream",
     "text": [
      "[1] 38\n",
      "[1] \"Making coverage plots for maDC\"\n",
      "[1] \"Ccr7\"\n",
      "[1] \"/projects/ps-epigen/users/cmiciano/Lung/lungmap_3/outputs/paired_tag/coverage_plots/240106/H3K27ac/H3K27ac_maDC_Ccr7.pdf\"\n"
     ]
    },
    {
     "name": "stderr",
     "output_type": "stream",
     "text": [
      "Warning message:\n",
      "“Removed 12 rows containing missing values (position_stack).”\n"
     ]
    },
    {
     "name": "stdout",
     "output_type": "stream",
     "text": [
      "[1] \"Ccl19\"\n",
      "[1] \"/projects/ps-epigen/users/cmiciano/Lung/lungmap_3/outputs/paired_tag/coverage_plots/240106/H3K27ac/H3K27ac_maDC_Ccl19.pdf\"\n"
     ]
    },
    {
     "name": "stderr",
     "output_type": "stream",
     "text": [
      "Warning message:\n",
      "“Removed 10 rows containing missing values (geom_segment).”\n"
     ]
    },
    {
     "name": "stdout",
     "output_type": "stream",
     "text": [
      "[1] \"Nccrp1\"\n",
      "[1] \"/projects/ps-epigen/users/cmiciano/Lung/lungmap_3/outputs/paired_tag/coverage_plots/240106/H3K27ac/H3K27ac_maDC_Nccrp1.pdf\"\n"
     ]
    },
    {
     "name": "stderr",
     "output_type": "stream",
     "text": [
      "Warning message:\n",
      "“Removed 37 rows containing missing values (geom_segment).”\n"
     ]
    },
    {
     "name": "stdout",
     "output_type": "stream",
     "text": [
      "[1] \"Lad1\"\n",
      "[1] \"/projects/ps-epigen/users/cmiciano/Lung/lungmap_3/outputs/paired_tag/coverage_plots/240106/H3K27ac/H3K27ac_maDC_Lad1.pdf\"\n"
     ]
    },
    {
     "name": "stderr",
     "output_type": "stream",
     "text": [
      "Warning message:\n",
      "“Removed 129 rows containing missing values (position_stack).”\n",
      "Warning message:\n",
      "“Removed 198 rows containing missing values (geom_segment).”\n"
     ]
    },
    {
     "name": "stdout",
     "output_type": "stream",
     "text": [
      "[1] 39\n",
      "[1] \"Making coverage plots for Neutrophil\"\n",
      "[1] \"Il1b\"\n",
      "[1] \"/projects/ps-epigen/users/cmiciano/Lung/lungmap_3/outputs/paired_tag/coverage_plots/240106/H3K27ac/H3K27ac_Neutrophil_Il1b.pdf\"\n"
     ]
    },
    {
     "name": "stderr",
     "output_type": "stream",
     "text": [
      "Warning message:\n",
      "“Removed 14 rows containing missing values (position_stack).”\n"
     ]
    },
    {
     "name": "stdout",
     "output_type": "stream",
     "text": [
      "[1] \"Csf3r\"\n",
      "[1] \"/projects/ps-epigen/users/cmiciano/Lung/lungmap_3/outputs/paired_tag/coverage_plots/240106/H3K27ac/H3K27ac_Neutrophil_Csf3r.pdf\"\n"
     ]
    },
    {
     "name": "stderr",
     "output_type": "stream",
     "text": [
      "Warning message:\n",
      "“Removed 35 rows containing missing values (position_stack).”\n",
      "Warning message:\n",
      "“Removed 8 rows containing missing values (geom_segment).”\n"
     ]
    },
    {
     "name": "stdout",
     "output_type": "stream",
     "text": [
      "[1] \"Fcgr4\"\n",
      "[1] \"/projects/ps-epigen/users/cmiciano/Lung/lungmap_3/outputs/paired_tag/coverage_plots/240106/H3K27ac/H3K27ac_Neutrophil_Fcgr4.pdf\"\n",
      "[1] 40\n",
      "[1] \"Making coverage plots for Mast/Basophil\"\n",
      "[1] \"Ms4a2\"\n",
      "[1] \"/projects/ps-epigen/users/cmiciano/Lung/lungmap_3/outputs/paired_tag/coverage_plots/240106/H3K27ac/H3K27ac_Mast/Basophil_Ms4a2.pdf\"\n",
      "[1] 41\n",
      "[1] \"Making coverage plots for ILC\"\n",
      "[1] \"Il7r\"\n",
      "[1] \"/projects/ps-epigen/users/cmiciano/Lung/lungmap_3/outputs/paired_tag/coverage_plots/240106/H3K27ac/H3K27ac_ILC_Il7r.pdf\"\n"
     ]
    },
    {
     "name": "stderr",
     "output_type": "stream",
     "text": [
      "Warning message:\n",
      "“Removed 20 rows containing missing values (position_stack).”\n"
     ]
    },
    {
     "name": "stdout",
     "output_type": "stream",
     "text": [
      "[1] \"Cxcr3\"\n",
      "[1] \"/projects/ps-epigen/users/cmiciano/Lung/lungmap_3/outputs/paired_tag/coverage_plots/240106/H3K27ac/H3K27ac_ILC_Cxcr3.pdf\"\n",
      "[1] \"Tbx21\"\n",
      "[1] \"/projects/ps-epigen/users/cmiciano/Lung/lungmap_3/outputs/paired_tag/coverage_plots/240106/H3K27ac/H3K27ac_ILC_Tbx21.pdf\"\n",
      "[1] \"Eomes\"\n",
      "[1] \"/projects/ps-epigen/users/cmiciano/Lung/lungmap_3/outputs/paired_tag/coverage_plots/240106/H3K27ac/H3K27ac_ILC_Eomes.pdf\"\n"
     ]
    },
    {
     "name": "stderr",
     "output_type": "stream",
     "text": [
      "Warning message:\n",
      "“Removed 125 rows containing missing values (position_stack).”\n"
     ]
    },
    {
     "name": "stdout",
     "output_type": "stream",
     "text": [
      "[1] \"Cd3e\"\n",
      "[1] \"/projects/ps-epigen/users/cmiciano/Lung/lungmap_3/outputs/paired_tag/coverage_plots/240106/H3K27ac/H3K27ac_ILC_Cd3e.pdf\"\n"
     ]
    },
    {
     "name": "stderr",
     "output_type": "stream",
     "text": [
      "Warning message:\n",
      "“Removed 26 rows containing missing values (position_stack).”\n",
      "Warning message:\n",
      "“Removed 1 rows containing missing values (geom_segment).”\n"
     ]
    },
    {
     "name": "stdout",
     "output_type": "stream",
     "text": [
      "[1] \"Cd3d\"\n",
      "[1] \"/projects/ps-epigen/users/cmiciano/Lung/lungmap_3/outputs/paired_tag/coverage_plots/240106/H3K27ac/H3K27ac_ILC_Cd3d.pdf\"\n"
     ]
    },
    {
     "name": "stderr",
     "output_type": "stream",
     "text": [
      "Warning message:\n",
      "“Removed 6 rows containing missing values (position_stack).”\n"
     ]
    },
    {
     "name": "stdout",
     "output_type": "stream",
     "text": [
      "[1] \"Cd3g\"\n",
      "[1] \"/projects/ps-epigen/users/cmiciano/Lung/lungmap_3/outputs/paired_tag/coverage_plots/240106/H3K27ac/H3K27ac_ILC_Cd3g.pdf\"\n"
     ]
    },
    {
     "name": "stderr",
     "output_type": "stream",
     "text": [
      "Warning message:\n",
      "“Removed 5 rows containing missing values (position_stack).”\n",
      "Warning message:\n",
      "“Removed 74 rows containing missing values (geom_segment).”\n"
     ]
    },
    {
     "name": "stdout",
     "output_type": "stream",
     "text": [
      "[1] \"Cd14\"\n",
      "[1] \"/projects/ps-epigen/users/cmiciano/Lung/lungmap_3/outputs/paired_tag/coverage_plots/240106/H3K27ac/H3K27ac_ILC_Cd14.pdf\"\n"
     ]
    },
    {
     "name": "stderr",
     "output_type": "stream",
     "text": [
      "Warning message:\n",
      "“Removed 74 rows containing missing values (position_stack).”\n"
     ]
    },
    {
     "name": "stdout",
     "output_type": "stream",
     "text": [
      "[1] \"Fcgr4\"\n",
      "[1] \"/projects/ps-epigen/users/cmiciano/Lung/lungmap_3/outputs/paired_tag/coverage_plots/240106/H3K27ac/H3K27ac_ILC_Fcgr4.pdf\"\n",
      "[1] \"Cd19\"\n",
      "[1] \"/projects/ps-epigen/users/cmiciano/Lung/lungmap_3/outputs/paired_tag/coverage_plots/240106/H3K27ac/H3K27ac_ILC_Cd19.pdf\"\n"
     ]
    },
    {
     "name": "stderr",
     "output_type": "stream",
     "text": [
      "Warning message:\n",
      "“Removed 8 rows containing missing values (geom_segment).”\n"
     ]
    },
    {
     "name": "stdout",
     "output_type": "stream",
     "text": [
      "[1] \"Ms4a1\"\n",
      "[1] \"/projects/ps-epigen/users/cmiciano/Lung/lungmap_3/outputs/paired_tag/coverage_plots/240106/H3K27ac/H3K27ac_ILC_Ms4a1.pdf\"\n"
     ]
    },
    {
     "name": "stderr",
     "output_type": "stream",
     "text": [
      "Warning message:\n",
      "“Removed 10 rows containing missing values (position_stack).”\n"
     ]
    },
    {
     "name": "stdout",
     "output_type": "stream",
     "text": [
      "[1] \"Ncam1\"\n",
      "[1] \"/projects/ps-epigen/users/cmiciano/Lung/lungmap_3/outputs/paired_tag/coverage_plots/240106/H3K27ac/H3K27ac_ILC_Ncam1.pdf\"\n"
     ]
    },
    {
     "name": "stderr",
     "output_type": "stream",
     "text": [
      "Warning message:\n",
      "“Removed 16 rows containing missing values (position_stack).”\n"
     ]
    },
    {
     "name": "stdout",
     "output_type": "stream",
     "text": [
      "[1] 42\n",
      "[1] \"Making coverage plots for NK\"\n",
      "[1] \"Nkg7\"\n",
      "[1] \"/projects/ps-epigen/users/cmiciano/Lung/lungmap_3/outputs/paired_tag/coverage_plots/240106/H3K27ac/H3K27ac_NK_Nkg7.pdf\"\n"
     ]
    },
    {
     "name": "stderr",
     "output_type": "stream",
     "text": [
      "Warning message:\n",
      "“Removed 166 rows containing missing values (position_stack).”\n",
      "Warning message:\n",
      "“Removed 1 rows containing missing values (geom_segment).”\n"
     ]
    },
    {
     "name": "stdout",
     "output_type": "stream",
     "text": [
      "[1] \"Klrd1\"\n",
      "[1] \"/projects/ps-epigen/users/cmiciano/Lung/lungmap_3/outputs/paired_tag/coverage_plots/240106/H3K27ac/H3K27ac_NK_Klrd1.pdf\"\n"
     ]
    },
    {
     "name": "stderr",
     "output_type": "stream",
     "text": [
      "Warning message:\n",
      "“Removed 26 rows containing missing values (position_stack).”\n"
     ]
    },
    {
     "name": "stdout",
     "output_type": "stream",
     "text": [
      "[1] \"Klrc1\"\n",
      "[1] \"/projects/ps-epigen/users/cmiciano/Lung/lungmap_3/outputs/paired_tag/coverage_plots/240106/H3K27ac/H3K27ac_NK_Klrc1.pdf\"\n"
     ]
    },
    {
     "name": "stderr",
     "output_type": "stream",
     "text": [
      "Warning message:\n",
      "“Removed 5 rows containing missing values (geom_segment).”\n"
     ]
    },
    {
     "name": "stdout",
     "output_type": "stream",
     "text": [
      "[1] \"Klrc3\"\n",
      "[1] \"/projects/ps-epigen/users/cmiciano/Lung/lungmap_3/outputs/paired_tag/coverage_plots/240106/H3K27ac/H3K27ac_NK_Klrc3.pdf\"\n"
     ]
    },
    {
     "name": "stderr",
     "output_type": "stream",
     "text": [
      "Warning message:\n",
      "“Removed 55 rows containing missing values (position_stack).”\n",
      "Warning message:\n",
      "“Removed 34 rows containing missing values (geom_segment).”\n",
      "Warning message:\n",
      "“Removed 1 rows containing missing values (geom_segment).”\n"
     ]
    },
    {
     "name": "stdout",
     "output_type": "stream",
     "text": [
      "[1] \"Klri2\"\n",
      "[1] \"/projects/ps-epigen/users/cmiciano/Lung/lungmap_3/outputs/paired_tag/coverage_plots/240106/H3K27ac/H3K27ac_NK_Klri2.pdf\"\n"
     ]
    },
    {
     "name": "stderr",
     "output_type": "stream",
     "text": [
      "Warning message:\n",
      "“Removed 41 rows containing missing values (position_stack).”\n",
      "Warning message:\n",
      "“Removed 5 rows containing missing values (geom_segment).”\n"
     ]
    },
    {
     "name": "stdout",
     "output_type": "stream",
     "text": [
      "[1] \"Clec2m\"\n",
      "[1] \"/projects/ps-epigen/users/cmiciano/Lung/lungmap_3/outputs/paired_tag/coverage_plots/240106/H3K27ac/H3K27ac_NK_Clec2m.pdf\"\n",
      "[1] 43\n",
      "[1] \"Making coverage plots for Treg\"\n",
      "[1] \"Foxp3\"\n",
      "[1] \"/projects/ps-epigen/users/cmiciano/Lung/lungmap_3/outputs/paired_tag/coverage_plots/240106/H3K27ac/H3K27ac_Treg_Foxp3.pdf\"\n"
     ]
    },
    {
     "name": "stderr",
     "output_type": "stream",
     "text": [
      "Warning message:\n",
      "“Removed 27 rows containing missing values (geom_segment).”\n"
     ]
    },
    {
     "name": "stdout",
     "output_type": "stream",
     "text": [
      "[1] \"Ctla4\"\n",
      "[1] \"/projects/ps-epigen/users/cmiciano/Lung/lungmap_3/outputs/paired_tag/coverage_plots/240106/H3K27ac/H3K27ac_Treg_Ctla4.pdf\"\n",
      "[1] \"Il2ra\"\n",
      "[1] \"/projects/ps-epigen/users/cmiciano/Lung/lungmap_3/outputs/paired_tag/coverage_plots/240106/H3K27ac/H3K27ac_Treg_Il2ra.pdf\"\n",
      "[1] 44\n",
      "[1] \"Making coverage plots for CD8_T\"\n",
      "[1] \"Cd3e\"\n",
      "[1] \"/projects/ps-epigen/users/cmiciano/Lung/lungmap_3/outputs/paired_tag/coverage_plots/240106/H3K27ac/H3K27ac_CD8_T_Cd3e.pdf\"\n"
     ]
    },
    {
     "name": "stderr",
     "output_type": "stream",
     "text": [
      "Warning message:\n",
      "“Removed 23 rows containing missing values (position_stack).”\n",
      "Warning message:\n",
      "“Removed 1 rows containing missing values (geom_segment).”\n"
     ]
    },
    {
     "name": "stdout",
     "output_type": "stream",
     "text": [
      "[1] \"Cd8a\"\n",
      "[1] \"/projects/ps-epigen/users/cmiciano/Lung/lungmap_3/outputs/paired_tag/coverage_plots/240106/H3K27ac/H3K27ac_CD8_T_Cd8a.pdf\"\n"
     ]
    },
    {
     "name": "stderr",
     "output_type": "stream",
     "text": [
      "Warning message:\n",
      "“Removed 436 rows containing missing values (position_stack).”\n"
     ]
    },
    {
     "name": "stdout",
     "output_type": "stream",
     "text": [
      "[1] \"Cd8b1\"\n",
      "[1] \"/projects/ps-epigen/users/cmiciano/Lung/lungmap_3/outputs/paired_tag/coverage_plots/240106/H3K27ac/H3K27ac_CD8_T_Cd8b1.pdf\"\n"
     ]
    },
    {
     "name": "stderr",
     "output_type": "stream",
     "text": [
      "Warning message:\n",
      "“Removed 32 rows containing missing values (geom_segment).”\n"
     ]
    },
    {
     "name": "stdout",
     "output_type": "stream",
     "text": [
      "[1] 45\n",
      "[1] \"Making coverage plots for CD4_T\"\n",
      "[1] \"Cd3e\"\n",
      "[1] \"/projects/ps-epigen/users/cmiciano/Lung/lungmap_3/outputs/paired_tag/coverage_plots/240106/H3K27ac/H3K27ac_CD4_T_Cd3e.pdf\"\n"
     ]
    },
    {
     "name": "stderr",
     "output_type": "stream",
     "text": [
      "Warning message:\n",
      "“Removed 28 rows containing missing values (position_stack).”\n",
      "Warning message:\n",
      "“Removed 1 rows containing missing values (geom_segment).”\n"
     ]
    },
    {
     "name": "stdout",
     "output_type": "stream",
     "text": [
      "[1] \"Mal\"\n",
      "[1] \"/projects/ps-epigen/users/cmiciano/Lung/lungmap_3/outputs/paired_tag/coverage_plots/240106/H3K27ac/H3K27ac_CD4_T_Mal.pdf\"\n"
     ]
    },
    {
     "name": "stderr",
     "output_type": "stream",
     "text": [
      "Warning message:\n",
      "“Removed 18 rows containing missing values (position_stack).”\n"
     ]
    },
    {
     "name": "stdout",
     "output_type": "stream",
     "text": [
      "[1] \"Cd40lg\"\n",
      "[1] \"/projects/ps-epigen/users/cmiciano/Lung/lungmap_3/outputs/paired_tag/coverage_plots/240106/H3K27ac/H3K27ac_CD4_T_Cd40lg.pdf\"\n"
     ]
    },
    {
     "name": "stderr",
     "output_type": "stream",
     "text": [
      "Warning message:\n",
      "“Removed 79 rows containing missing values (position_stack).”\n"
     ]
    },
    {
     "name": "stdout",
     "output_type": "stream",
     "text": [
      "[1] \"Cd4\"\n",
      "[1] \"/projects/ps-epigen/users/cmiciano/Lung/lungmap_3/outputs/paired_tag/coverage_plots/240106/H3K27ac/H3K27ac_CD4_T_Cd4.pdf\"\n"
     ]
    },
    {
     "name": "stderr",
     "output_type": "stream",
     "text": [
      "Warning message:\n",
      "“Removed 135 rows containing missing values (position_stack).”\n",
      "Warning message:\n",
      "“Removed 17 rows containing missing values (geom_segment).”\n"
     ]
    },
    {
     "name": "stdout",
     "output_type": "stream",
     "text": [
      "[1] \"Lef1\"\n",
      "[1] \"/projects/ps-epigen/users/cmiciano/Lung/lungmap_3/outputs/paired_tag/coverage_plots/240106/H3K27ac/H3K27ac_CD4_T_Lef1.pdf\"\n"
     ]
    },
    {
     "name": "stderr",
     "output_type": "stream",
     "text": [
      "Warning message:\n",
      "“Removed 24 rows containing missing values (position_stack).”\n"
     ]
    },
    {
     "name": "stdout",
     "output_type": "stream",
     "text": [
      "[1] 46\n",
      "[1] \"Making coverage plots for B\"\n",
      "[1] \"Cd19\"\n",
      "[1] \"/projects/ps-epigen/users/cmiciano/Lung/lungmap_3/outputs/paired_tag/coverage_plots/240106/H3K27ac/H3K27ac_B_Cd19.pdf\"\n"
     ]
    },
    {
     "name": "stderr",
     "output_type": "stream",
     "text": [
      "Warning message:\n",
      "“Removed 8 rows containing missing values (geom_segment).”\n"
     ]
    },
    {
     "name": "stdout",
     "output_type": "stream",
     "text": [
      "[1] \"Ms4a1\"\n",
      "[1] \"/projects/ps-epigen/users/cmiciano/Lung/lungmap_3/outputs/paired_tag/coverage_plots/240106/H3K27ac/H3K27ac_B_Ms4a1.pdf\"\n"
     ]
    },
    {
     "name": "stderr",
     "output_type": "stream",
     "text": [
      "Warning message:\n",
      "“Removed 11 rows containing missing values (position_stack).”\n"
     ]
    },
    {
     "name": "stdout",
     "output_type": "stream",
     "text": [
      "[1] \"Bank1\"\n",
      "[1] \"/projects/ps-epigen/users/cmiciano/Lung/lungmap_3/outputs/paired_tag/coverage_plots/240106/H3K27ac/H3K27ac_B_Bank1.pdf\"\n",
      "[1] 47\n",
      "[1] \"Making coverage plots for Plasma\"\n",
      "[1] \"Cd27\"\n",
      "[1] \"/projects/ps-epigen/users/cmiciano/Lung/lungmap_3/outputs/paired_tag/coverage_plots/240106/H3K27ac/H3K27ac_Plasma_Cd27.pdf\"\n"
     ]
    },
    {
     "name": "stderr",
     "output_type": "stream",
     "text": [
      "Warning message:\n",
      "“Removed 38 rows containing missing values (position_stack).”\n",
      "Warning message:\n",
      "“Removed 4 rows containing missing values (geom_segment).”\n"
     ]
    },
    {
     "name": "stdout",
     "output_type": "stream",
     "text": [
      "[1] \"Sdc1\"\n",
      "[1] \"/projects/ps-epigen/users/cmiciano/Lung/lungmap_3/outputs/paired_tag/coverage_plots/240106/H3K27ac/H3K27ac_Plasma_Sdc1.pdf\"\n"
     ]
    },
    {
     "name": "stderr",
     "output_type": "stream",
     "text": [
      "Warning message:\n",
      "“Removed 2 rows containing missing values (position_stack).”\n"
     ]
    },
    {
     "name": "stdout",
     "output_type": "stream",
     "text": [
      "[1] \"Cd38\"\n",
      "[1] \"/projects/ps-epigen/users/cmiciano/Lung/lungmap_3/outputs/paired_tag/coverage_plots/240106/H3K27ac/H3K27ac_Plasma_Cd38.pdf\"\n"
     ]
    },
    {
     "name": "stderr",
     "output_type": "stream",
     "text": [
      "Warning message:\n",
      "“Removed 14 rows containing missing values (position_stack).”\n"
     ]
    },
    {
     "name": "stdout",
     "output_type": "stream",
     "text": [
      "[1] 48\n",
      "[1] \"Making coverage plots for Megakaryocyte/Platelet\"\n",
      "[1] \"Itga2b\"\n",
      "[1] \"/projects/ps-epigen/users/cmiciano/Lung/lungmap_3/outputs/paired_tag/coverage_plots/240106/H3K27ac/H3K27ac_Megakaryocyte/Platelet_Itga2b.pdf\"\n"
     ]
    }
   ],
   "source": [
    "for (i in 14:length(cc.gene.set)) {\n",
    "  \n",
    "  skip_to_next <- FALSE\n",
    "\n",
    "  # Note that print(b) fails since b doesn't exist\n",
    "  print(i)\n",
    "  tryCatch( \n",
    "            generateCovPlot(i)\n",
    "           , error = function(e) { \n",
    "               skip_to_next <<- TRUE})\n",
    "\n",
    "  if(skip_to_next) { next }  \n",
    "    \n",
    "    \n",
    "}"
   ]
  },
  {
   "cell_type": "code",
   "execution_count": null,
   "id": "71a692be",
   "metadata": {},
   "outputs": [],
   "source": []
  }
 ],
 "metadata": {
  "kernelspec": {
   "display_name": "R [conda env:ressen3]",
   "language": "R",
   "name": "conda-env-ressen3-r"
  },
  "language_info": {
   "codemirror_mode": "r",
   "file_extension": ".r",
   "mimetype": "text/x-r-source",
   "name": "R",
   "pygments_lexer": "r",
   "version": "4.1.1"
  }
 },
 "nbformat": 4,
 "nbformat_minor": 5
}
