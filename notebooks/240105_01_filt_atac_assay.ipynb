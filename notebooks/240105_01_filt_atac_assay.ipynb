{
 "cells": [
  {
   "cell_type": "code",
   "execution_count": 1,
   "id": "6182ade6",
   "metadata": {},
   "outputs": [
    {
     "name": "stderr",
     "output_type": "stream",
     "text": [
      "The legacy packages maptools, rgdal, and rgeos, underpinning the sp package,\n",
      "which was just loaded, will retire in October 2023.\n",
      "Please refer to R-spatial evolution reports for details, especially\n",
      "https://r-spatial.org/r/2023/05/15/evolution4.html.\n",
      "It may be desirable to make the sf package available;\n",
      "package maintainers should consider adding sf to Suggests:.\n",
      "The sp package is now running under evolution status 2\n",
      "     (status 2 uses the sf package in place of rgdal)\n",
      "\n",
      "Attaching SeuratObject\n",
      "\n"
     ]
    }
   ],
   "source": [
    "library(Seurat)\n",
    "library(Signac)"
   ]
  },
  {
   "cell_type": "code",
   "execution_count": null,
   "id": "3c50a78c",
   "metadata": {},
   "outputs": [],
   "source": [
    "## additional filtering low quality ATAC, subset the ATAC assay so nCount_ATAC > 500"
   ]
  },
  {
   "cell_type": "code",
   "execution_count": 3,
   "id": "4f1cbdf8",
   "metadata": {},
   "outputs": [
    {
     "data": {
      "text/plain": [
       "[1] \"2024-01-05 09:16:06 PST\""
      ]
     },
     "metadata": {},
     "output_type": "display_data"
    },
    {
     "data": {
      "text/plain": [
       "[1] \"2024-01-05 09:16:21 PST\""
      ]
     },
     "metadata": {},
     "output_type": "display_data"
    }
   ],
   "source": [
    "Sys.time()\n",
    "sobj <- readRDS(\"/projects/ps-epigen/users/cmiciano/Lung/lungmap_3/06_paired_tag_integ_atac/240104_lung_pt_integ_atac_nodoub.RDS\")\n",
    "Sys.time()"
   ]
  },
  {
   "cell_type": "code",
   "execution_count": null,
   "id": "ffa9580e",
   "metadata": {},
   "outputs": [],
   "source": [
    "# sobj_filt_atac <- subset(sobj_atac, nCount_ATAC > 500)\n",
    "# sobj_filt_atac"
   ]
  },
  {
   "cell_type": "code",
   "execution_count": null,
   "id": "c5515ef4",
   "metadata": {},
   "outputs": [],
   "source": [
    "# filter for atac low quality"
   ]
  },
  {
   "cell_type": "code",
   "execution_count": 4,
   "id": "8a5c76d7",
   "metadata": {},
   "outputs": [
    {
     "data": {
      "text/plain": [
       "An object of class Seurat \n",
       "224815 features across 22242 samples within 7 assays \n",
       "Active assay: integrated_atac (2000 features, 2000 variable features)\n",
       " 6 other assays present: RNA, H3K27me3, H3K27ac, integrated, ATAC, SCT\n",
       " 2 dimensional reductions calculated: pca, integrated.atac.umap"
      ]
     },
     "metadata": {},
     "output_type": "display_data"
    }
   ],
   "source": [
    "sobj"
   ]
  },
  {
   "cell_type": "code",
   "execution_count": 5,
   "id": "12f60e01",
   "metadata": {},
   "outputs": [
    {
     "data": {
      "text/html": [
       "<style>\n",
       ".list-inline {list-style: none; margin:0; padding: 0}\n",
       ".list-inline>li {display: inline-block}\n",
       ".list-inline>li:not(:last-child)::after {content: \"\\00b7\"; padding: 0 .5ex}\n",
       "</style>\n",
       "<ol class=list-inline><li>'orig.ident'</li><li>'nCount_RNA'</li><li>'nFeature_RNA'</li><li>'percent.mt'</li><li>'nCount_H3K27me3'</li><li>'nFeature_H3K27me3'</li><li>'library_rna_atac_id'</li><li>'RNA_snn_res.0.5'</li><li>'seurat_clusters'</li><li>'nCount_H3K27ac'</li><li>'nFeature_H3K27ac'</li><li>'integrated_snn_res.0.5'</li><li>'predicted.id'</li><li>'prediction.score.unclassified'</li><li>'prediction.score.vascular.smooth.muscle'</li><li>'prediction.score.alveolar.developmental'</li><li>'prediction.score.ciliated'</li><li>'prediction.score.myofibroblast'</li><li>'prediction.score.fibroblast'</li><li>'prediction.score.endothelium'</li><li>'prediction.score.alveolar.type.1'</li><li>'prediction.score.alveolar.type.2'</li><li>'prediction.score.macrophage'</li><li>'prediction.score.pulmonary.neuroendocrine'</li><li>'prediction.score.airway.smooth.muscle'</li><li>'prediction.score.NK.T.cell'</li><li>'prediction.score.B.cell'</li><li>'prediction.score.max'</li><li>'DF.classifications'</li><li>'celltype'</li><li>'celltype_v02'</li><li>'nCount_ATAC'</li><li>'nFeature_ATAC'</li><li>'fragments_freq_count'</li><li>'FRiP'</li><li>'nCount_SCT'</li><li>'nFeature_SCT'</li><li>'DF.classifications_RNA'</li><li>'pANN_RNA'</li><li>'integrated_atac_snn_res.0.5'</li><li>'celltype_v03'</li><li>'nCount_integrated'</li><li>'nFeature_integrated'</li><li>'celltype_v04'</li></ol>\n"
      ],
      "text/latex": [
       "\\begin{enumerate*}\n",
       "\\item 'orig.ident'\n",
       "\\item 'nCount\\_RNA'\n",
       "\\item 'nFeature\\_RNA'\n",
       "\\item 'percent.mt'\n",
       "\\item 'nCount\\_H3K27me3'\n",
       "\\item 'nFeature\\_H3K27me3'\n",
       "\\item 'library\\_rna\\_atac\\_id'\n",
       "\\item 'RNA\\_snn\\_res.0.5'\n",
       "\\item 'seurat\\_clusters'\n",
       "\\item 'nCount\\_H3K27ac'\n",
       "\\item 'nFeature\\_H3K27ac'\n",
       "\\item 'integrated\\_snn\\_res.0.5'\n",
       "\\item 'predicted.id'\n",
       "\\item 'prediction.score.unclassified'\n",
       "\\item 'prediction.score.vascular.smooth.muscle'\n",
       "\\item 'prediction.score.alveolar.developmental'\n",
       "\\item 'prediction.score.ciliated'\n",
       "\\item 'prediction.score.myofibroblast'\n",
       "\\item 'prediction.score.fibroblast'\n",
       "\\item 'prediction.score.endothelium'\n",
       "\\item 'prediction.score.alveolar.type.1'\n",
       "\\item 'prediction.score.alveolar.type.2'\n",
       "\\item 'prediction.score.macrophage'\n",
       "\\item 'prediction.score.pulmonary.neuroendocrine'\n",
       "\\item 'prediction.score.airway.smooth.muscle'\n",
       "\\item 'prediction.score.NK.T.cell'\n",
       "\\item 'prediction.score.B.cell'\n",
       "\\item 'prediction.score.max'\n",
       "\\item 'DF.classifications'\n",
       "\\item 'celltype'\n",
       "\\item 'celltype\\_v02'\n",
       "\\item 'nCount\\_ATAC'\n",
       "\\item 'nFeature\\_ATAC'\n",
       "\\item 'fragments\\_freq\\_count'\n",
       "\\item 'FRiP'\n",
       "\\item 'nCount\\_SCT'\n",
       "\\item 'nFeature\\_SCT'\n",
       "\\item 'DF.classifications\\_RNA'\n",
       "\\item 'pANN\\_RNA'\n",
       "\\item 'integrated\\_atac\\_snn\\_res.0.5'\n",
       "\\item 'celltype\\_v03'\n",
       "\\item 'nCount\\_integrated'\n",
       "\\item 'nFeature\\_integrated'\n",
       "\\item 'celltype\\_v04'\n",
       "\\end{enumerate*}\n"
      ],
      "text/markdown": [
       "1. 'orig.ident'\n",
       "2. 'nCount_RNA'\n",
       "3. 'nFeature_RNA'\n",
       "4. 'percent.mt'\n",
       "5. 'nCount_H3K27me3'\n",
       "6. 'nFeature_H3K27me3'\n",
       "7. 'library_rna_atac_id'\n",
       "8. 'RNA_snn_res.0.5'\n",
       "9. 'seurat_clusters'\n",
       "10. 'nCount_H3K27ac'\n",
       "11. 'nFeature_H3K27ac'\n",
       "12. 'integrated_snn_res.0.5'\n",
       "13. 'predicted.id'\n",
       "14. 'prediction.score.unclassified'\n",
       "15. 'prediction.score.vascular.smooth.muscle'\n",
       "16. 'prediction.score.alveolar.developmental'\n",
       "17. 'prediction.score.ciliated'\n",
       "18. 'prediction.score.myofibroblast'\n",
       "19. 'prediction.score.fibroblast'\n",
       "20. 'prediction.score.endothelium'\n",
       "21. 'prediction.score.alveolar.type.1'\n",
       "22. 'prediction.score.alveolar.type.2'\n",
       "23. 'prediction.score.macrophage'\n",
       "24. 'prediction.score.pulmonary.neuroendocrine'\n",
       "25. 'prediction.score.airway.smooth.muscle'\n",
       "26. 'prediction.score.NK.T.cell'\n",
       "27. 'prediction.score.B.cell'\n",
       "28. 'prediction.score.max'\n",
       "29. 'DF.classifications'\n",
       "30. 'celltype'\n",
       "31. 'celltype_v02'\n",
       "32. 'nCount_ATAC'\n",
       "33. 'nFeature_ATAC'\n",
       "34. 'fragments_freq_count'\n",
       "35. 'FRiP'\n",
       "36. 'nCount_SCT'\n",
       "37. 'nFeature_SCT'\n",
       "38. 'DF.classifications_RNA'\n",
       "39. 'pANN_RNA'\n",
       "40. 'integrated_atac_snn_res.0.5'\n",
       "41. 'celltype_v03'\n",
       "42. 'nCount_integrated'\n",
       "43. 'nFeature_integrated'\n",
       "44. 'celltype_v04'\n",
       "\n",
       "\n"
      ],
      "text/plain": [
       " [1] \"orig.ident\"                               \n",
       " [2] \"nCount_RNA\"                               \n",
       " [3] \"nFeature_RNA\"                             \n",
       " [4] \"percent.mt\"                               \n",
       " [5] \"nCount_H3K27me3\"                          \n",
       " [6] \"nFeature_H3K27me3\"                        \n",
       " [7] \"library_rna_atac_id\"                      \n",
       " [8] \"RNA_snn_res.0.5\"                          \n",
       " [9] \"seurat_clusters\"                          \n",
       "[10] \"nCount_H3K27ac\"                           \n",
       "[11] \"nFeature_H3K27ac\"                         \n",
       "[12] \"integrated_snn_res.0.5\"                   \n",
       "[13] \"predicted.id\"                             \n",
       "[14] \"prediction.score.unclassified\"            \n",
       "[15] \"prediction.score.vascular.smooth.muscle\"  \n",
       "[16] \"prediction.score.alveolar.developmental\"  \n",
       "[17] \"prediction.score.ciliated\"                \n",
       "[18] \"prediction.score.myofibroblast\"           \n",
       "[19] \"prediction.score.fibroblast\"              \n",
       "[20] \"prediction.score.endothelium\"             \n",
       "[21] \"prediction.score.alveolar.type.1\"         \n",
       "[22] \"prediction.score.alveolar.type.2\"         \n",
       "[23] \"prediction.score.macrophage\"              \n",
       "[24] \"prediction.score.pulmonary.neuroendocrine\"\n",
       "[25] \"prediction.score.airway.smooth.muscle\"    \n",
       "[26] \"prediction.score.NK.T.cell\"               \n",
       "[27] \"prediction.score.B.cell\"                  \n",
       "[28] \"prediction.score.max\"                     \n",
       "[29] \"DF.classifications\"                       \n",
       "[30] \"celltype\"                                 \n",
       "[31] \"celltype_v02\"                             \n",
       "[32] \"nCount_ATAC\"                              \n",
       "[33] \"nFeature_ATAC\"                            \n",
       "[34] \"fragments_freq_count\"                     \n",
       "[35] \"FRiP\"                                     \n",
       "[36] \"nCount_SCT\"                               \n",
       "[37] \"nFeature_SCT\"                             \n",
       "[38] \"DF.classifications_RNA\"                   \n",
       "[39] \"pANN_RNA\"                                 \n",
       "[40] \"integrated_atac_snn_res.0.5\"              \n",
       "[41] \"celltype_v03\"                             \n",
       "[42] \"nCount_integrated\"                        \n",
       "[43] \"nFeature_integrated\"                      \n",
       "[44] \"celltype_v04\"                             "
      ]
     },
     "metadata": {},
     "output_type": "display_data"
    }
   ],
   "source": [
    "colnames(sobj@meta.data)"
   ]
  },
  {
   "cell_type": "code",
   "execution_count": 9,
   "id": "77fd47df",
   "metadata": {},
   "outputs": [
    {
     "data": {
      "text/plain": [
       "Assay data with 2000 features for 22242 cells\n",
       "Top 10 variable features:\n",
       " Galntl6, Kcnq5, F13a1, Chil3, Ctnna3, Nxph1, Gpc6, Htr2c, Grip1,\n",
       "Cfap299 "
      ]
     },
     "metadata": {},
     "output_type": "display_data"
    },
    {
     "data": {
      "text/plain": [
       "Assay data with 2000 features for 22242 cells\n",
       "First 10 features:\n",
       " Ttn, Myh6, Fgf12, Ryr2, Kcnj3, D830005E20Rik, Cdc20b, Car3, Mlip, Rbm20 "
      ]
     },
     "metadata": {},
     "output_type": "display_data"
    },
    {
     "data": {
      "text/plain": [
       "Assay data with 32285 features for 22242 cells\n",
       "First 10 features:\n",
       " Xkr4, Gm1992, Gm19938, Gm37381, Rp1, Sox17, Gm37587, Gm37323, Mrpl15,\n",
       "Lypla1 "
      ]
     },
     "metadata": {},
     "output_type": "display_data"
    },
    {
     "data": {
      "text/plain": [
       "Assay data with 75257 features for 22242 cells\n",
       "First 10 features:\n",
       " chr1-3670536-3671156, chr1-3671301-3672191, chr1-3913332-3914171,\n",
       "chr1-3915425-3916295, chr1-4255582-4256448, chr1-4259855-4260687,\n",
       "chr1-4412190-4413102, chr1-4426673-4427603, chr1-4456410-4457357,\n",
       "chr1-4470987-4472294 "
      ]
     },
     "metadata": {},
     "output_type": "display_data"
    }
   ],
   "source": [
    "sobj[['integrated_atac']]\n",
    "sobj[['integrated']]\n",
    "sobj[['RNA']]\n",
    "sobj[['ATAC']]\n",
    "\n"
   ]
  },
  {
   "cell_type": "code",
   "execution_count": 24,
   "id": "ad7b8a77",
   "metadata": {},
   "outputs": [
    {
     "data": {
      "text/plain": [
       "Assay data with 75257 features for 22242 cells\n",
       "First 10 features:\n",
       " chr1-3670536-3671156, chr1-3671301-3672191, chr1-3913332-3914171,\n",
       "chr1-3915425-3916295, chr1-4255582-4256448, chr1-4259855-4260687,\n",
       "chr1-4412190-4413102, chr1-4426673-4427603, chr1-4456410-4457357,\n",
       "chr1-4470987-4472294 "
      ]
     },
     "metadata": {},
     "output_type": "display_data"
    },
    {
     "data": {
      "text/plain": [
       "ChromatinAssay data with 23296 features for 22242 cells\n",
       "Variable features: 0 \n",
       "Genome: \n",
       "Annotation present: TRUE \n",
       "Motifs present: FALSE \n",
       "Fragment files: 1 "
      ]
     },
     "metadata": {},
     "output_type": "display_data"
    },
    {
     "data": {
      "text/plain": [
       "Assay data with 71449 features for 22242 cells\n",
       "First 10 features:\n",
       " chr1-3514511-3515425, chr1-3670705-3671174, chr1-3671301-3672079,\n",
       "chr1-3913364-3914223, chr1-4408825-4409545, chr1-4412196-4413074,\n",
       "chr1-4456478-4457389, chr1-4471192-4471869, chr1-4489814-4490155,\n",
       "chr1-4490261-4490799 "
      ]
     },
     "metadata": {},
     "output_type": "display_data"
    }
   ],
   "source": [
    "sobj[['ATAC']]\n",
    "sobj[['H3K27me3']]\n",
    "sobj[['H3K27ac']]"
   ]
  },
  {
   "cell_type": "code",
   "execution_count": null,
   "id": "c358a70f",
   "metadata": {},
   "outputs": [],
   "source": [
    "# seems like after integration they turn into plain assays"
   ]
  },
  {
   "cell_type": "code",
   "execution_count": 16,
   "id": "16df4e95",
   "metadata": {},
   "outputs": [],
   "source": [
    "DefaultAssay(sobj) <- 'ATAC'\n",
    "# even when you specify assay it tries to use the default assay"
   ]
  },
  {
   "cell_type": "code",
   "execution_count": 17,
   "id": "65d23838",
   "metadata": {},
   "outputs": [
    {
     "ename": "ERROR",
     "evalue": "Error in SingleCoveragePlot(object = object, region = region, annotation = annotation, : Requested assay is not a ChromatinAssay.\n",
     "output_type": "error",
     "traceback": [
      "Error in SingleCoveragePlot(object = object, region = region, annotation = annotation, : Requested assay is not a ChromatinAssay.\nTraceback:\n",
      "1. CoveragePlot(sobj, region = \"Nkx2-1\", annotation = T, window = 2000, \n .     peaks = F, extend.upstream = 15000, extend.downstream = 5000, \n .     assay = \"ATAC\")",
      "2. SingleCoveragePlot(object = object, region = region, annotation = annotation, \n .     features = features, expression.assay = expression.assay, \n .     expression.slot = expression.slot, show.bulk = show.bulk, \n .     peaks = peaks, peaks.group.by = peaks.group.by, ranges = ranges, \n .     ranges.group.by = ranges.group.by, ranges.title = ranges.title, \n .     region.highlight = region.highlight, assay = assay, links = links, \n .     tile = tile, tile.size = tile.size, tile.cells = tile.cells, \n .     bigwig = bigwig, bigwig.type = bigwig.type, group.by = group.by, \n .     window = window, extend.upstream = extend.upstream, extend.downstream = extend.downstream, \n .     ymax = ymax, scale.factor = scale.factor, cells = cells, \n .     idents = idents, sep = sep, heights = heights, max.downsample = max.downsample, \n .     downsample.rate = downsample.rate)",
      "3. stop(\"Requested assay is not a ChromatinAssay.\")"
     ]
    }
   ],
   "source": [
    "CoveragePlot(sobj, region = \"Nkx2-1\", annotation = T, window = 2000, peaks = F, \n",
    "             extend.upstream = 15000, extend.downstream = 5000, assay = \"ATAC\") & scale_fill_manual(values = cols)"
   ]
  },
  {
   "cell_type": "code",
   "execution_count": 19,
   "id": "3ec975f9",
   "metadata": {},
   "outputs": [],
   "source": [
    "library(ggplot2) # & scale_fill_manual(values = cols)"
   ]
  },
  {
   "cell_type": "code",
   "execution_count": 22,
   "id": "363ad394",
   "metadata": {},
   "outputs": [],
   "source": [
    "Idents(sobj) <- 'celltype_v04'"
   ]
  },
  {
   "cell_type": "code",
   "execution_count": null,
   "id": "8b9b4b6e",
   "metadata": {},
   "outputs": [],
   "source": [
    "# # Error: Cannot find 'nCount_integrated_atac' in this Seurat object, swithch the default assay and it works\n"
   ]
  },
  {
   "cell_type": "code",
   "execution_count": 23,
   "id": "15c13c94",
   "metadata": {},
   "outputs": [
    {
     "data": {
      "image/png": "[encoded data removed]",
      "text/plain": [
       "plot without title"
      ]
     },
     "metadata": {
      "image/png": {
       "height": 420,
       "width": 420
      }
     },
     "output_type": "display_data"
    }
   ],
   "source": [
    "\n",
    "DefaultAssay(sobj) <- 'H3K27me3'\n",
    "\n",
    "CoveragePlot(sobj, region = \"Nkx2-1\", annotation = T, window = 2000, peaks = F, \n",
    "             extend.upstream = 15000, extend.downstream = 5000, assay = \"H3K27me3\")"
   ]
  },
  {
   "cell_type": "code",
   "execution_count": 14,
   "id": "40d4c677",
   "metadata": {},
   "outputs": [
    {
     "ename": "ERROR",
     "evalue": "Error in SingleCoveragePlot(object = object, region = region, annotation = annotation, : Requested assay is not a ChromatinAssay.\n",
     "output_type": "error",
     "traceback": [
      "Error in SingleCoveragePlot(object = object, region = region, annotation = annotation, : Requested assay is not a ChromatinAssay.\nTraceback:\n",
      "1. CoveragePlot(sobj, region = \"Nkx2-1\", annotation = T, window = 2000, \n .     peaks = F, extend.upstream = 15000, extend.downstream = 5000, \n .     assay = \"H3K27ac\")",
      "2. SingleCoveragePlot(object = object, region = region, annotation = annotation, \n .     features = features, expression.assay = expression.assay, \n .     expression.slot = expression.slot, show.bulk = show.bulk, \n .     peaks = peaks, peaks.group.by = peaks.group.by, ranges = ranges, \n .     ranges.group.by = ranges.group.by, ranges.title = ranges.title, \n .     region.highlight = region.highlight, assay = assay, links = links, \n .     tile = tile, tile.size = tile.size, tile.cells = tile.cells, \n .     bigwig = bigwig, bigwig.type = bigwig.type, group.by = group.by, \n .     window = window, extend.upstream = extend.upstream, extend.downstream = extend.downstream, \n .     ymax = ymax, scale.factor = scale.factor, cells = cells, \n .     idents = idents, sep = sep, heights = heights, max.downsample = max.downsample, \n .     downsample.rate = downsample.rate)",
      "3. stop(\"Requested assay is not a ChromatinAssay.\")"
     ]
    }
   ],
   "source": [
    "CoveragePlot(sobj, region = \"Nkx2-1\", annotation = T, window = 2000, peaks = F, \n",
    "             extend.upstream = 15000, extend.downstream = 5000, assay = \"H3K27ac\") & scale_fill_manual(values = cols)"
   ]
  },
  {
   "cell_type": "code",
   "execution_count": 28,
   "id": "25790824",
   "metadata": {},
   "outputs": [
    {
     "data": {
      "text/plain": [
       "An object of class Seurat \n",
       "224815 features across 22242 samples within 7 assays \n",
       "Active assay: H3K27me3 (23296 features, 0 variable features)\n",
       " 6 other assays present: RNA, H3K27ac, integrated, ATAC, SCT, integrated_atac\n",
       " 2 dimensional reductions calculated: pca, integrated.atac.umap"
      ]
     },
     "metadata": {},
     "output_type": "display_data"
    }
   ],
   "source": [
    "sobj"
   ]
  },
  {
   "cell_type": "code",
   "execution_count": 26,
   "id": "056e3124",
   "metadata": {},
   "outputs": [
    {
     "data": {
      "text/html": [
       "<style>\n",
       ".dl-inline {width: auto; margin:0; padding: 0}\n",
       ".dl-inline>dt, .dl-inline>dd {float: none; width: auto; display: inline-block}\n",
       ".dl-inline>dt::after {content: \":\\0020\"; padding-right: .5ex}\n",
       ".dl-inline>dt:not(:first-of-type) {padding-left: .5ex}\n",
       "</style><dl class=dl-inline><dt>0%</dt><dd>0</dd><dt>25%</dt><dd>0</dd><dt>50%</dt><dd>0</dd><dt>75%</dt><dd>457</dd><dt>100%</dt><dd>60581</dd></dl>\n"
      ],
      "text/latex": [
       "\\begin{description*}\n",
       "\\item[0\\textbackslash{}\\%] 0\n",
       "\\item[25\\textbackslash{}\\%] 0\n",
       "\\item[50\\textbackslash{}\\%] 0\n",
       "\\item[75\\textbackslash{}\\%] 457\n",
       "\\item[100\\textbackslash{}\\%] 60581\n",
       "\\end{description*}\n"
      ],
      "text/markdown": [
       "0%\n",
       ":   025%\n",
       ":   050%\n",
       ":   075%\n",
       ":   457100%\n",
       ":   60581\n",
       "\n"
      ],
      "text/plain": [
       "   0%   25%   50%   75%  100% \n",
       "    0     0     0   457 60581 "
      ]
     },
     "metadata": {},
     "output_type": "display_data"
    },
    {
     "data": {
      "text/html": [
       "<style>\n",
       ".dl-inline {width: auto; margin:0; padding: 0}\n",
       ".dl-inline>dt, .dl-inline>dd {float: none; width: auto; display: inline-block}\n",
       ".dl-inline>dt::after {content: \":\\0020\"; padding-right: .5ex}\n",
       ".dl-inline>dt:not(:first-of-type) {padding-left: .5ex}\n",
       "</style><dl class=dl-inline><dt>0%</dt><dd>0</dd><dt>25%</dt><dd>0</dd><dt>50%</dt><dd>0</dd><dt>75%</dt><dd>229</dd><dt>100%</dt><dd>20756</dd></dl>\n"
      ],
      "text/latex": [
       "\\begin{description*}\n",
       "\\item[0\\textbackslash{}\\%] 0\n",
       "\\item[25\\textbackslash{}\\%] 0\n",
       "\\item[50\\textbackslash{}\\%] 0\n",
       "\\item[75\\textbackslash{}\\%] 229\n",
       "\\item[100\\textbackslash{}\\%] 20756\n",
       "\\end{description*}\n"
      ],
      "text/markdown": [
       "0%\n",
       ":   025%\n",
       ":   050%\n",
       ":   075%\n",
       ":   229100%\n",
       ":   20756\n",
       "\n"
      ],
      "text/plain": [
       "   0%   25%   50%   75%  100% \n",
       "    0     0     0   229 20756 "
      ]
     },
     "metadata": {},
     "output_type": "display_data"
    }
   ],
   "source": [
    "quantile(sobj$nCount_ATAC)\n",
    "quantile(sobj$nFeature_ATAC)\n",
    "\n",
    "# missing values and NaN's not allowed if 'na.rm' is FALSE percent.mt probs due to empty droplets"
   ]
  },
  {
   "cell_type": "code",
   "execution_count": 30,
   "id": "69a26051",
   "metadata": {},
   "outputs": [],
   "source": [
    "sobj_filt_atac <- subset(sobj, nCount_ATAC > 200)"
   ]
  },
  {
   "cell_type": "code",
   "execution_count": 31,
   "id": "202e9ff0",
   "metadata": {},
   "outputs": [
    {
     "data": {
      "text/plain": [
       "An object of class Seurat \n",
       "224815 features across 6774 samples within 7 assays \n",
       "Active assay: H3K27me3 (23296 features, 0 variable features)\n",
       " 6 other assays present: RNA, H3K27ac, integrated, ATAC, SCT, integrated_atac\n",
       " 2 dimensional reductions calculated: pca, integrated.atac.umap"
      ]
     },
     "metadata": {},
     "output_type": "display_data"
    }
   ],
   "source": [
    "sobj_filt_atac"
   ]
  },
  {
   "cell_type": "code",
   "execution_count": 27,
   "id": "dd06a1e6",
   "metadata": {},
   "outputs": [],
   "source": [
    "sobj_filt_atac <- subset(sobj, nCount_ATAC > 500)"
   ]
  },
  {
   "cell_type": "code",
   "execution_count": null,
   "id": "2edeeadf",
   "metadata": {},
   "outputs": [],
   "source": []
  },
  {
   "cell_type": "code",
   "execution_count": 29,
   "id": "a7098708",
   "metadata": {},
   "outputs": [
    {
     "data": {
      "text/plain": [
       "An object of class Seurat \n",
       "224815 features across 5392 samples within 7 assays \n",
       "Active assay: H3K27me3 (23296 features, 0 variable features)\n",
       " 6 other assays present: RNA, H3K27ac, integrated, ATAC, SCT, integrated_atac\n",
       " 2 dimensional reductions calculated: pca, integrated.atac.umap"
      ]
     },
     "metadata": {},
     "output_type": "display_data"
    }
   ],
   "source": [
    "sobj_filt_atac"
   ]
  },
  {
   "cell_type": "code",
   "execution_count": 32,
   "id": "5f8a0d4b",
   "metadata": {},
   "outputs": [
    {
     "data": {
      "text/plain": [
       "An object of class Seurat \n",
       "224815 features across 5788 samples within 7 assays \n",
       "Active assay: H3K27me3 (23296 features, 0 variable features)\n",
       " 6 other assays present: RNA, H3K27ac, integrated, ATAC, SCT, integrated_atac\n",
       " 2 dimensional reductions calculated: pca, integrated.atac.umap"
      ]
     },
     "metadata": {},
     "output_type": "display_data"
    }
   ],
   "source": [
    "sobj_filt_atac <- subset(sobj, nFeature_ATAC > 200)\n",
    "sobj_filt_atac"
   ]
  },
  {
   "cell_type": "code",
   "execution_count": 34,
   "id": "60b1670c",
   "metadata": {},
   "outputs": [
    {
     "data": {
      "text/plain": [
       "An object of class Seurat \n",
       "224815 features across 3964 samples within 7 assays \n",
       "Active assay: H3K27me3 (23296 features, 0 variable features)\n",
       " 6 other assays present: RNA, H3K27ac, integrated, ATAC, SCT, integrated_atac\n",
       " 2 dimensional reductions calculated: pca, integrated.atac.umap"
      ]
     },
     "metadata": {},
     "output_type": "display_data"
    }
   ],
   "source": [
    "sobj_filt_atac <- subset(sobj, nFeature_ATAC > 500)\n",
    "sobj_filt_atac"
   ]
  },
  {
   "cell_type": "code",
   "execution_count": 35,
   "id": "2dd423d0",
   "metadata": {},
   "outputs": [],
   "source": [
    "sobj_atac <- readRDS(\"/projects/ps-epigen/users/cmiciano/Lung/lungmap_3/02_DoubletFinder/df_objs/JL_10_1_2_JL_09_1_2_DF.0.05.RDS\")"
   ]
  },
  {
   "cell_type": "code",
   "execution_count": 36,
   "id": "ea033d12",
   "metadata": {},
   "outputs": [
    {
     "data": {
      "text/plain": [
       "An object of class Seurat \n",
       "126070 features across 9603 samples within 3 assays \n",
       "Active assay: SCT (18528 features, 3000 variable features)\n",
       " 2 other assays present: RNA, ATAC\n",
       " 2 dimensional reductions calculated: pca, umap"
      ]
     },
     "metadata": {},
     "output_type": "display_data"
    }
   ],
   "source": [
    "sobj_atac"
   ]
  },
  {
   "cell_type": "code",
   "execution_count": 37,
   "id": "c641457c",
   "metadata": {},
   "outputs": [
    {
     "data": {
      "text/plain": [
       "An object of class Seurat \n",
       "126070 features across 6345 samples within 3 assays \n",
       "Active assay: SCT (18528 features, 3000 variable features)\n",
       " 2 other assays present: RNA, ATAC\n",
       " 2 dimensional reductions calculated: pca, umap"
      ]
     },
     "metadata": {},
     "output_type": "display_data"
    }
   ],
   "source": [
    "sobj_filt_atac <- subset(sobj_atac, nCount_ATAC > 500)\n",
    "sobj_filt_atac"
   ]
  },
  {
   "cell_type": "code",
   "execution_count": 46,
   "id": "39ffaf7c",
   "metadata": {},
   "outputs": [
    {
     "data": {
      "text/plain": [
       "An object of class Seurat \n",
       "126070 features across 3258 samples within 3 assays \n",
       "Active assay: SCT (18528 features, 3000 variable features)\n",
       " 2 other assays present: RNA, ATAC\n",
       " 2 dimensional reductions calculated: pca, umap"
      ]
     },
     "metadata": {},
     "output_type": "display_data"
    }
   ],
   "source": [
    "# remove these cells from the cleaned merged object\n",
    "sobj_rm_atac <- subset(sobj_atac, nCount_ATAC > 500, invert = T)\n",
    "sobj_rm_atac"
   ]
  },
  {
   "cell_type": "code",
   "execution_count": 47,
   "id": "683a185e",
   "metadata": {},
   "outputs": [],
   "source": [
    "cells_rm_atac <- colnames(sobj_rm_atac)"
   ]
  },
  {
   "cell_type": "code",
   "execution_count": 48,
   "id": "c318a3a3",
   "metadata": {},
   "outputs": [
    {
     "data": {
      "text/html": [
       "<style>\n",
       ".list-inline {list-style: none; margin:0; padding: 0}\n",
       ".list-inline>li {display: inline-block}\n",
       ".list-inline>li:not(:last-child)::after {content: \"\\00b7\"; padding: 0 .5ex}\n",
       "</style>\n",
       "<ol class=list-inline><li>'AAACAGCCACTAAGTT-1'</li><li>'AAACAGCCAGGAAGCC-1'</li><li>'AAACAGCCATTGGGAG-1'</li><li>'AAACCGAAGCCAAATC-1'</li><li>'AAACCGAAGCTAATTG-1'</li><li>'AAACCGAAGGAGGACT-1'</li></ol>\n"
      ],
      "text/latex": [
       "\\begin{enumerate*}\n",
       "\\item 'AAACAGCCACTAAGTT-1'\n",
       "\\item 'AAACAGCCAGGAAGCC-1'\n",
       "\\item 'AAACAGCCATTGGGAG-1'\n",
       "\\item 'AAACCGAAGCCAAATC-1'\n",
       "\\item 'AAACCGAAGCTAATTG-1'\n",
       "\\item 'AAACCGAAGGAGGACT-1'\n",
       "\\end{enumerate*}\n"
      ],
      "text/markdown": [
       "1. 'AAACAGCCACTAAGTT-1'\n",
       "2. 'AAACAGCCAGGAAGCC-1'\n",
       "3. 'AAACAGCCATTGGGAG-1'\n",
       "4. 'AAACCGAAGCCAAATC-1'\n",
       "5. 'AAACCGAAGCTAATTG-1'\n",
       "6. 'AAACCGAAGGAGGACT-1'\n",
       "\n",
       "\n"
      ],
      "text/plain": [
       "[1] \"AAACAGCCACTAAGTT-1\" \"AAACAGCCAGGAAGCC-1\" \"AAACAGCCATTGGGAG-1\"\n",
       "[4] \"AAACCGAAGCCAAATC-1\" \"AAACCGAAGCTAATTG-1\" \"AAACCGAAGGAGGACT-1\""
      ]
     },
     "metadata": {},
     "output_type": "display_data"
    }
   ],
   "source": [
    "head(cells_rm_atac)"
   ]
  },
  {
   "cell_type": "code",
   "execution_count": null,
   "id": "850c75eb",
   "metadata": {},
   "outputs": [],
   "source": [
    "create cell names as metadata colum\n",
    "Patient.combined[[\"CellName\"]] <- colnames(Patient.combined)\n",
    "#get the required cells\n",
    "Name_of_Normal_Cells_NotImmune <- c('CGCAGGTTCAGCCTTC', 'GTGCTTCGTTGTAAAG', 'AAAGTCCCATCCTAAG', 'AACCATGGTAAGATAC')\n",
    "#subset the required cells\n",
    "Patient.combined.Normal.NotImmune <- subset(Patient.combined, subset = CellName %in% Name_of_Normal_Cells_NotImmune )\n"
   ]
  },
  {
   "cell_type": "code",
   "execution_count": 45,
   "id": "20d62b65",
   "metadata": {},
   "outputs": [],
   "source": [
    "sobj$cell_barcode <- colnames(sobj)"
   ]
  },
  {
   "cell_type": "code",
   "execution_count": null,
   "id": "ccad922a",
   "metadata": {},
   "outputs": [],
   "source": []
  },
  {
   "cell_type": "code",
   "execution_count": 49,
   "id": "7ec15678",
   "metadata": {},
   "outputs": [
    {
     "data": {
      "text/plain": [
       "An object of class Seurat \n",
       "224815 features across 22242 samples within 7 assays \n",
       "Active assay: H3K27me3 (23296 features, 0 variable features)\n",
       " 6 other assays present: RNA, H3K27ac, integrated, ATAC, SCT, integrated_atac\n",
       " 2 dimensional reductions calculated: pca, integrated.atac.umap"
      ]
     },
     "metadata": {},
     "output_type": "display_data"
    }
   ],
   "source": [
    "sobj"
   ]
  },
  {
   "cell_type": "code",
   "execution_count": null,
   "id": "3589e97e",
   "metadata": {},
   "outputs": [],
   "source": [
    "# subset the cleaned object for "
   ]
  },
  {
   "cell_type": "code",
   "execution_count": 50,
   "id": "852fda06",
   "metadata": {},
   "outputs": [],
   "source": [
    "sobj_cln_filt_atac <- subset(sobj, subset = cell_barcode %in% cells_rm_atac , invert = T)"
   ]
  },
  {
   "cell_type": "code",
   "execution_count": 51,
   "id": "ee697518",
   "metadata": {},
   "outputs": [
    {
     "data": {
      "text/plain": [
       "An object of class Seurat \n",
       "224815 features across 19260 samples within 7 assays \n",
       "Active assay: H3K27me3 (23296 features, 0 variable features)\n",
       " 6 other assays present: RNA, H3K27ac, integrated, ATAC, SCT, integrated_atac\n",
       " 2 dimensional reductions calculated: pca, integrated.atac.umap"
      ]
     },
     "metadata": {},
     "output_type": "display_data"
    }
   ],
   "source": [
    "sobj_cln_filt_atac"
   ]
  },
  {
   "cell_type": "code",
   "execution_count": 54,
   "id": "b3cd1958",
   "metadata": {},
   "outputs": [
    {
     "data": {
      "image/png": "[encoded data removed]",
      "text/plain": [
       "plot without title"
      ]
     },
     "metadata": {
      "image/png": {
       "height": 420,
       "width": 420
      }
     },
     "output_type": "display_data"
    }
   ],
   "source": [
    "DimPlot(sobj)"
   ]
  },
  {
   "cell_type": "code",
   "execution_count": 53,
   "id": "137d387a",
   "metadata": {},
   "outputs": [
    {
     "data": {
      "image/png": "[encoded data removed]",
      "text/plain": [
       "plot without title"
      ]
     },
     "metadata": {
      "image/png": {
       "height": 420,
       "width": 420
      }
     },
     "output_type": "display_data"
    }
   ],
   "source": [
    "DimPlot(sobj_cln_filt_atac)"
   ]
  },
  {
   "cell_type": "code",
   "execution_count": 52,
   "id": "75e4432e",
   "metadata": {},
   "outputs": [
    {
     "data": {
      "text/html": [
       "2982"
      ],
      "text/latex": [
       "2982"
      ],
      "text/markdown": [
       "2982"
      ],
      "text/plain": [
       "[1] 2982"
      ]
     },
     "metadata": {},
     "output_type": "display_data"
    }
   ],
   "source": [
    "22242-19260"
   ]
  },
  {
   "cell_type": "code",
   "execution_count": null,
   "id": "8e7c0418",
   "metadata": {},
   "outputs": [],
   "source": [
    "subset(sobj, )"
   ]
  },
  {
   "cell_type": "code",
   "execution_count": null,
   "id": "3569699b",
   "metadata": {},
   "outputs": [],
   "source": [
    "# seems like 2982 cells removed with atac filter, maybe the other cells are actually removed when \n",
    "# removing doublets and removing small clusters"
   ]
  },
  {
   "cell_type": "code",
   "execution_count": 43,
   "id": "c0643ae6",
   "metadata": {},
   "outputs": [
    {
     "data": {
      "text/html": [
       "'AAACAGCCAATAACGA-1_1'"
      ],
      "text/latex": [
       "'AAACAGCCAATAACGA-1\\_1'"
      ],
      "text/markdown": [
       "'AAACAGCCAATAACGA-1_1'"
      ],
      "text/plain": [
       "[1] \"AAACAGCCAATAACGA-1_1\""
      ]
     },
     "metadata": {},
     "output_type": "display_data"
    }
   ],
   "source": [
    "grep(\"AAACAGCCAATAACGA\", colnames(sobj), value = T)"
   ]
  },
  {
   "cell_type": "code",
   "execution_count": 40,
   "id": "deb3d889",
   "metadata": {},
   "outputs": [
    {
     "data": {
      "text/html": [
       "<style>\n",
       ".list-inline {list-style: none; margin:0; padding: 0}\n",
       ".list-inline>li {display: inline-block}\n",
       ".list-inline>li:not(:last-child)::after {content: \"\\00b7\"; padding: 0 .5ex}\n",
       "</style>\n",
       "<ol class=list-inline><li>'AAACAGCCAATAACGA-1_1'</li><li>'AAACAGCCAGTTTACG-1_1'</li><li>'AAACAGCCATAAAGCA-1_1'</li><li>'AAACAGCCATCATGTG-1_1'</li><li>'AAACATGCAATCCCTT-1_1'</li><li>'AAACATGCAGTTAAAG-1_1'</li></ol>\n"
      ],
      "text/latex": [
       "\\begin{enumerate*}\n",
       "\\item 'AAACAGCCAATAACGA-1\\_1'\n",
       "\\item 'AAACAGCCAGTTTACG-1\\_1'\n",
       "\\item 'AAACAGCCATAAAGCA-1\\_1'\n",
       "\\item 'AAACAGCCATCATGTG-1\\_1'\n",
       "\\item 'AAACATGCAATCCCTT-1\\_1'\n",
       "\\item 'AAACATGCAGTTAAAG-1\\_1'\n",
       "\\end{enumerate*}\n"
      ],
      "text/markdown": [
       "1. 'AAACAGCCAATAACGA-1_1'\n",
       "2. 'AAACAGCCAGTTTACG-1_1'\n",
       "3. 'AAACAGCCATAAAGCA-1_1'\n",
       "4. 'AAACAGCCATCATGTG-1_1'\n",
       "5. 'AAACATGCAATCCCTT-1_1'\n",
       "6. 'AAACATGCAGTTAAAG-1_1'\n",
       "\n",
       "\n"
      ],
      "text/plain": [
       "[1] \"AAACAGCCAATAACGA-1_1\" \"AAACAGCCAGTTTACG-1_1\" \"AAACAGCCATAAAGCA-1_1\"\n",
       "[4] \"AAACAGCCATCATGTG-1_1\" \"AAACATGCAATCCCTT-1_1\" \"AAACATGCAGTTAAAG-1_1\""
      ]
     },
     "metadata": {},
     "output_type": "display_data"
    }
   ],
   "source": [
    "head(colnames(sobj))"
   ]
  },
  {
   "cell_type": "code",
   "execution_count": 41,
   "id": "65858ef5",
   "metadata": {},
   "outputs": [
    {
     "data": {
      "text/html": [
       "<style>\n",
       ".list-inline {list-style: none; margin:0; padding: 0}\n",
       ".list-inline>li {display: inline-block}\n",
       ".list-inline>li:not(:last-child)::after {content: \"\\00b7\"; padding: 0 .5ex}\n",
       "</style>\n",
       "<ol class=list-inline><li>'TTTGTGTTCGTTACTT-1'</li><li>'TTTGTTGGTATTCGCT-1'</li><li>'TTTGTTGGTCACTCGC-1'</li><li>'TTTGTTGGTGATCAGC-1'</li><li>'TTTGTTGGTTAGGTTG-1'</li><li>'TTTGTTGGTTTCCTCC-1'</li></ol>\n"
      ],
      "text/latex": [
       "\\begin{enumerate*}\n",
       "\\item 'TTTGTGTTCGTTACTT-1'\n",
       "\\item 'TTTGTTGGTATTCGCT-1'\n",
       "\\item 'TTTGTTGGTCACTCGC-1'\n",
       "\\item 'TTTGTTGGTGATCAGC-1'\n",
       "\\item 'TTTGTTGGTTAGGTTG-1'\n",
       "\\item 'TTTGTTGGTTTCCTCC-1'\n",
       "\\end{enumerate*}\n"
      ],
      "text/markdown": [
       "1. 'TTTGTGTTCGTTACTT-1'\n",
       "2. 'TTTGTTGGTATTCGCT-1'\n",
       "3. 'TTTGTTGGTCACTCGC-1'\n",
       "4. 'TTTGTTGGTGATCAGC-1'\n",
       "5. 'TTTGTTGGTTAGGTTG-1'\n",
       "6. 'TTTGTTGGTTTCCTCC-1'\n",
       "\n",
       "\n"
      ],
      "text/plain": [
       "[1] \"TTTGTGTTCGTTACTT-1\" \"TTTGTTGGTATTCGCT-1\" \"TTTGTTGGTCACTCGC-1\"\n",
       "[4] \"TTTGTTGGTGATCAGC-1\" \"TTTGTTGGTTAGGTTG-1\" \"TTTGTTGGTTTCCTCC-1\""
      ]
     },
     "metadata": {},
     "output_type": "display_data"
    }
   ],
   "source": [
    "tail(colnames(sobj))"
   ]
  },
  {
   "cell_type": "code",
   "execution_count": 39,
   "id": "4855b672",
   "metadata": {},
   "outputs": [
    {
     "data": {
      "text/plain": [
       "An object of class Seurat \n",
       "224815 features across 22242 samples within 7 assays \n",
       "Active assay: H3K27me3 (23296 features, 0 variable features)\n",
       " 6 other assays present: RNA, H3K27ac, integrated, ATAC, SCT, integrated_atac\n",
       " 2 dimensional reductions calculated: pca, integrated.atac.umap"
      ]
     },
     "metadata": {},
     "output_type": "display_data"
    }
   ],
   "source": [
    "sobj"
   ]
  },
  {
   "cell_type": "code",
   "execution_count": 55,
   "id": "782798c9",
   "metadata": {},
   "outputs": [
    {
     "data": {
      "text/plain": [
       "An object of class Seurat \n",
       "224815 features across 19260 samples within 7 assays \n",
       "Active assay: H3K27me3 (23296 features, 0 variable features)\n",
       " 6 other assays present: RNA, H3K27ac, integrated, ATAC, SCT, integrated_atac\n",
       " 2 dimensional reductions calculated: pca, integrated.atac.umap"
      ]
     },
     "metadata": {},
     "output_type": "display_data"
    }
   ],
   "source": [
    "sobj_cln_filt_atac"
   ]
  },
  {
   "cell_type": "code",
   "execution_count": 56,
   "id": "ec5c5d3c",
   "metadata": {},
   "outputs": [
    {
     "data": {
      "text/plain": [
       "[1] \"2024-01-05 11:23:30 PST\""
      ]
     },
     "metadata": {},
     "output_type": "display_data"
    },
    {
     "data": {
      "text/plain": [
       "[1] \"2024-01-05 11:24:36 PST\""
      ]
     },
     "metadata": {},
     "output_type": "display_data"
    }
   ],
   "source": [
    "Sys.time()\n",
    "saveRDS(sobj_cln_filt_atac, \"/projects/ps-epigen/users/cmiciano/Lung/lungmap_3/06_paired_tag_integ_atac/240105_01_lung_pt_integ_atac_nodoub_filt_atac.RDS\")\n",
    "Sys.time()"
   ]
  },
  {
   "cell_type": "code",
   "execution_count": 66,
   "id": "5d84a1a9",
   "metadata": {},
   "outputs": [
    {
     "data": {
      "text/html": [
       "<style>\n",
       ".dl-inline {width: auto; margin:0; padding: 0}\n",
       ".dl-inline>dt, .dl-inline>dd {float: none; width: auto; display: inline-block}\n",
       ".dl-inline>dt::after {content: \":\\0020\"; padding-right: .5ex}\n",
       ".dl-inline>dt:not(:first-of-type) {padding-left: .5ex}\n",
       "</style><dl class=dl-inline><dt>0%</dt><dd>0</dd><dt>25%</dt><dd>0</dd><dt>50%</dt><dd>0</dd><dt>75%</dt><dd>672</dd><dt>100%</dt><dd>60581</dd></dl>\n"
      ],
      "text/latex": [
       "\\begin{description*}\n",
       "\\item[0\\textbackslash{}\\%] 0\n",
       "\\item[25\\textbackslash{}\\%] 0\n",
       "\\item[50\\textbackslash{}\\%] 0\n",
       "\\item[75\\textbackslash{}\\%] 672\n",
       "\\item[100\\textbackslash{}\\%] 60581\n",
       "\\end{description*}\n"
      ],
      "text/markdown": [
       "0%\n",
       ":   025%\n",
       ":   050%\n",
       ":   075%\n",
       ":   672100%\n",
       ":   60581\n",
       "\n"
      ],
      "text/plain": [
       "   0%   25%   50%   75%  100% \n",
       "    0     0     0   672 60581 "
      ]
     },
     "metadata": {},
     "output_type": "display_data"
    },
    {
     "data": {
      "text/html": [
       "<style>\n",
       ".dl-inline {width: auto; margin:0; padding: 0}\n",
       ".dl-inline>dt, .dl-inline>dd {float: none; width: auto; display: inline-block}\n",
       ".dl-inline>dt::after {content: \":\\0020\"; padding-right: .5ex}\n",
       ".dl-inline>dt:not(:first-of-type) {padding-left: .5ex}\n",
       "</style><dl class=dl-inline><dt>0%</dt><dd>0</dd><dt>25%</dt><dd>0</dd><dt>50%</dt><dd>0</dd><dt>75%</dt><dd>333</dd><dt>100%</dt><dd>20756</dd></dl>\n"
      ],
      "text/latex": [
       "\\begin{description*}\n",
       "\\item[0\\textbackslash{}\\%] 0\n",
       "\\item[25\\textbackslash{}\\%] 0\n",
       "\\item[50\\textbackslash{}\\%] 0\n",
       "\\item[75\\textbackslash{}\\%] 333\n",
       "\\item[100\\textbackslash{}\\%] 20756\n",
       "\\end{description*}\n"
      ],
      "text/markdown": [
       "0%\n",
       ":   025%\n",
       ":   050%\n",
       ":   075%\n",
       ":   333100%\n",
       ":   20756\n",
       "\n"
      ],
      "text/plain": [
       "   0%   25%   50%   75%  100% \n",
       "    0     0     0   333 20756 "
      ]
     },
     "metadata": {},
     "output_type": "display_data"
    }
   ],
   "source": [
    "quantile(sobj_cln_filt_atac$nCount_ATAC)\n",
    "quantile(sobj_cln_filt_atac$nFeature_ATAC)\n",
    "\n",
    "# missing values and NaN's not allowed if 'na.rm' is FALSE percent.mt probs due to empty droplets"
   ]
  },
  {
   "cell_type": "code",
   "execution_count": 67,
   "id": "0f271bcf",
   "metadata": {},
   "outputs": [
    {
     "data": {
      "text/html": [
       "<style>\n",
       ".dl-inline {width: auto; margin:0; padding: 0}\n",
       ".dl-inline>dt, .dl-inline>dd {float: none; width: auto; display: inline-block}\n",
       ".dl-inline>dt::after {content: \":\\0020\"; padding-right: .5ex}\n",
       ".dl-inline>dt:not(:first-of-type) {padding-left: .5ex}\n",
       "</style><dl class=dl-inline><dt>0%</dt><dd>151</dd><dt>25%</dt><dd>1608</dd><dt>50%</dt><dd>2346</dd><dt>75%</dt><dd>3567</dd><dt>100%</dt><dd>19018</dd></dl>\n"
      ],
      "text/latex": [
       "\\begin{description*}\n",
       "\\item[0\\textbackslash{}\\%] 151\n",
       "\\item[25\\textbackslash{}\\%] 1608\n",
       "\\item[50\\textbackslash{}\\%] 2346\n",
       "\\item[75\\textbackslash{}\\%] 3567\n",
       "\\item[100\\textbackslash{}\\%] 19018\n",
       "\\end{description*}\n"
      ],
      "text/markdown": [
       "0%\n",
       ":   15125%\n",
       ":   160850%\n",
       ":   234675%\n",
       ":   3567100%\n",
       ":   19018\n",
       "\n"
      ],
      "text/plain": [
       "   0%   25%   50%   75%  100% \n",
       "  151  1608  2346  3567 19018 "
      ]
     },
     "metadata": {},
     "output_type": "display_data"
    },
    {
     "data": {
      "text/html": [
       "<style>\n",
       ".dl-inline {width: auto; margin:0; padding: 0}\n",
       ".dl-inline>dt, .dl-inline>dd {float: none; width: auto; display: inline-block}\n",
       ".dl-inline>dt::after {content: \":\\0020\"; padding-right: .5ex}\n",
       ".dl-inline>dt:not(:first-of-type) {padding-left: .5ex}\n",
       "</style><dl class=dl-inline><dt>0%</dt><dd>134</dd><dt>25%</dt><dd>1004</dd><dt>50%</dt><dd>1328</dd><dt>75%</dt><dd>1770</dd><dt>100%</dt><dd>5304</dd></dl>\n"
      ],
      "text/latex": [
       "\\begin{description*}\n",
       "\\item[0\\textbackslash{}\\%] 134\n",
       "\\item[25\\textbackslash{}\\%] 1004\n",
       "\\item[50\\textbackslash{}\\%] 1328\n",
       "\\item[75\\textbackslash{}\\%] 1770\n",
       "\\item[100\\textbackslash{}\\%] 5304\n",
       "\\end{description*}\n"
      ],
      "text/markdown": [
       "0%\n",
       ":   13425%\n",
       ":   100450%\n",
       ":   132875%\n",
       ":   1770100%\n",
       ":   5304\n",
       "\n"
      ],
      "text/plain": [
       "  0%  25%  50%  75% 100% \n",
       " 134 1004 1328 1770 5304 "
      ]
     },
     "metadata": {},
     "output_type": "display_data"
    }
   ],
   "source": [
    "quantile(sobj_cln_filt_atac$nCount_RNA)\n",
    "quantile(sobj_cln_filt_atac$nFeature_RNA)\n",
    "\n",
    "# missing values and NaN's not allowed if 'na.rm' is FALSE percent.mt probs due to empty droplets"
   ]
  },
  {
   "cell_type": "code",
   "execution_count": null,
   "id": "29c5c531",
   "metadata": {},
   "outputs": [],
   "source": []
  },
  {
   "cell_type": "code",
   "execution_count": null,
   "id": "bfe503be",
   "metadata": {},
   "outputs": [],
   "source": [
    "\n",
    "\n",
    "## uncleaned atac obj, doublets still in, small clusters not removed"
   ]
  },
  {
   "cell_type": "code",
   "execution_count": null,
   "id": "250e13a6",
   "metadata": {},
   "outputs": [],
   "source": [
    "## should hopefully see the 3258 cells removed"
   ]
  },
  {
   "cell_type": "code",
   "execution_count": 57,
   "id": "12a3f5d9",
   "metadata": {},
   "outputs": [],
   "source": [
    "## object before cleaning (ATAC is not filtered, doublets present and low qc clusters still present)\n",
    "obj <- readRDS(\"/projects/ps-epigen/users/cmiciano/Lung/lungmap_3/06_paired_tag_integ_atac/240103_lung_pt_integ_atac.RDS\")"
   ]
  },
  {
   "cell_type": "code",
   "execution_count": 58,
   "id": "d800934d",
   "metadata": {},
   "outputs": [
    {
     "data": {
      "text/plain": [
       "An object of class Seurat \n",
       "224815 features across 24559 samples within 7 assays \n",
       "Active assay: integrated_atac (2000 features, 2000 variable features)\n",
       " 6 other assays present: RNA, H3K27me3, H3K27ac, integrated, ATAC, SCT\n",
       " 2 dimensional reductions calculated: pca, integrated.atac.umap"
      ]
     },
     "metadata": {},
     "output_type": "display_data"
    }
   ],
   "source": [
    "obj"
   ]
  },
  {
   "cell_type": "code",
   "execution_count": 62,
   "id": "3ad2b0a2",
   "metadata": {},
   "outputs": [],
   "source": [
    "obj$cell_barcode <- colnames(obj)"
   ]
  },
  {
   "cell_type": "code",
   "execution_count": 63,
   "id": "e359aca8",
   "metadata": {},
   "outputs": [],
   "source": [
    "sobj_ucln_filt_atac <- subset(obj, subset = cell_barcode %in% cells_rm_atac , invert = T)"
   ]
  },
  {
   "cell_type": "code",
   "execution_count": 64,
   "id": "a6f1ad92",
   "metadata": {},
   "outputs": [
    {
     "data": {
      "text/plain": [
       "An object of class Seurat \n",
       "224815 features across 21301 samples within 7 assays \n",
       "Active assay: integrated_atac (2000 features, 2000 variable features)\n",
       " 6 other assays present: RNA, H3K27me3, H3K27ac, integrated, ATAC, SCT\n",
       " 2 dimensional reductions calculated: pca, integrated.atac.umap"
      ]
     },
     "metadata": {},
     "output_type": "display_data"
    }
   ],
   "source": [
    "sobj_ucln_filt_atac "
   ]
  },
  {
   "cell_type": "code",
   "execution_count": 65,
   "id": "32ca53e9",
   "metadata": {},
   "outputs": [
    {
     "data": {
      "text/html": [
       "3258"
      ],
      "text/latex": [
       "3258"
      ],
      "text/markdown": [
       "3258"
      ],
      "text/plain": [
       "[1] 3258"
      ]
     },
     "metadata": {},
     "output_type": "display_data"
    }
   ],
   "source": [
    "24559-21301"
   ]
  },
  {
   "cell_type": "code",
   "execution_count": 68,
   "id": "9636fe58",
   "metadata": {},
   "outputs": [
    {
     "data": {
      "text/plain": [
       "An object of class Seurat \n",
       "126070 features across 9603 samples within 3 assays \n",
       "Active assay: SCT (18528 features, 3000 variable features)\n",
       " 2 other assays present: RNA, ATAC\n",
       " 2 dimensional reductions calculated: pca, umap"
      ]
     },
     "metadata": {},
     "output_type": "display_data"
    }
   ],
   "source": [
    "sobj_atac"
   ]
  },
  {
   "cell_type": "code",
   "execution_count": null,
   "id": "23f2df1c",
   "metadata": {},
   "outputs": [],
   "source": [
    "## maybe check distribution of just atac assay to see if they're different"
   ]
  },
  {
   "cell_type": "code",
   "execution_count": 70,
   "id": "ff690210",
   "metadata": {},
   "outputs": [],
   "source": [
    "sobj_atac$cell_barcode <- colnames(sobj_atac)"
   ]
  },
  {
   "cell_type": "code",
   "execution_count": 74,
   "id": "2c49d626",
   "metadata": {},
   "outputs": [],
   "source": [
    "# this is the latest object (doublets removed, low qc clusters removed, and ATAC filtered nCount>500)\n",
    "# subsetting for just ATAC barcodes to see quantile distribution\n",
    "only_cln_atac <- subset(sobj_cln_filt_atac, subset = cell_barcode %in% colnames(sobj_atac))"
   ]
  },
  {
   "cell_type": "code",
   "execution_count": 75,
   "id": "27365283",
   "metadata": {},
   "outputs": [
    {
     "data": {
      "text/plain": [
       "An object of class Seurat \n",
       "224815 features across 5392 samples within 7 assays \n",
       "Active assay: H3K27me3 (23296 features, 0 variable features)\n",
       " 6 other assays present: RNA, H3K27ac, integrated, ATAC, SCT, integrated_atac\n",
       " 2 dimensional reductions calculated: pca, integrated.atac.umap"
      ]
     },
     "metadata": {},
     "output_type": "display_data"
    }
   ],
   "source": [
    "only_cln_atac"
   ]
  },
  {
   "cell_type": "code",
   "execution_count": 76,
   "id": "d489bac2",
   "metadata": {},
   "outputs": [
    {
     "data": {
      "text/html": [
       "<style>\n",
       ".dl-inline {width: auto; margin:0; padding: 0}\n",
       ".dl-inline>dt, .dl-inline>dd {float: none; width: auto; display: inline-block}\n",
       ".dl-inline>dt::after {content: \":\\0020\"; padding-right: .5ex}\n",
       ".dl-inline>dt:not(:first-of-type) {padding-left: .5ex}\n",
       "</style><dl class=dl-inline><dt>0%</dt><dd>501</dd><dt>25%</dt><dd>991</dd><dt>50%</dt><dd>1969.5</dd><dt>75%</dt><dd>4687</dd><dt>100%</dt><dd>60581</dd></dl>\n"
      ],
      "text/latex": [
       "\\begin{description*}\n",
       "\\item[0\\textbackslash{}\\%] 501\n",
       "\\item[25\\textbackslash{}\\%] 991\n",
       "\\item[50\\textbackslash{}\\%] 1969.5\n",
       "\\item[75\\textbackslash{}\\%] 4687\n",
       "\\item[100\\textbackslash{}\\%] 60581\n",
       "\\end{description*}\n"
      ],
      "text/markdown": [
       "0%\n",
       ":   50125%\n",
       ":   99150%\n",
       ":   1969.575%\n",
       ":   4687100%\n",
       ":   60581\n",
       "\n"
      ],
      "text/plain": [
       "     0%     25%     50%     75%    100% \n",
       "  501.0   991.0  1969.5  4687.0 60581.0 "
      ]
     },
     "metadata": {},
     "output_type": "display_data"
    },
    {
     "data": {
      "text/html": [
       "<style>\n",
       ".dl-inline {width: auto; margin:0; padding: 0}\n",
       ".dl-inline>dt, .dl-inline>dd {float: none; width: auto; display: inline-block}\n",
       ".dl-inline>dt::after {content: \":\\0020\"; padding-right: .5ex}\n",
       ".dl-inline>dt:not(:first-of-type) {padding-left: .5ex}\n",
       "</style><dl class=dl-inline><dt>0%</dt><dd>221</dd><dt>25%</dt><dd>481.75</dd><dt>50%</dt><dd>948.5</dd><dt>75%</dt><dd>2148.25</dd><dt>100%</dt><dd>20756</dd></dl>\n"
      ],
      "text/latex": [
       "\\begin{description*}\n",
       "\\item[0\\textbackslash{}\\%] 221\n",
       "\\item[25\\textbackslash{}\\%] 481.75\n",
       "\\item[50\\textbackslash{}\\%] 948.5\n",
       "\\item[75\\textbackslash{}\\%] 2148.25\n",
       "\\item[100\\textbackslash{}\\%] 20756\n",
       "\\end{description*}\n"
      ],
      "text/markdown": [
       "0%\n",
       ":   22125%\n",
       ":   481.7550%\n",
       ":   948.575%\n",
       ":   2148.25100%\n",
       ":   20756\n",
       "\n"
      ],
      "text/plain": [
       "      0%      25%      50%      75%     100% \n",
       "  221.00   481.75   948.50  2148.25 20756.00 "
      ]
     },
     "metadata": {},
     "output_type": "display_data"
    }
   ],
   "source": [
    "quantile(only_cln_atac$nCount_ATAC) #okay so it did actually filter the nCounts\n",
    "quantile(only_cln_atac$nFeature_ATAC)\n",
    "\n",
    "# missing values and NaN's not allowed if 'na.rm' is FALSE percent.mt probs due to empty droplets"
   ]
  },
  {
   "cell_type": "code",
   "execution_count": 77,
   "id": "253533b4",
   "metadata": {},
   "outputs": [],
   "source": [
    "# cleaned but not cleaned atac\n",
    "# this is the latest object (doublets removed, low qc clusters removed, but ATAC not filtered)\n",
    "# subsetting for just ATAC barcodes to see quantile distribution\n",
    "not_cln_atac <- subset(sobj, subset = cell_barcode %in% colnames(sobj_atac))"
   ]
  },
  {
   "cell_type": "code",
   "execution_count": 78,
   "id": "cae0d590",
   "metadata": {},
   "outputs": [
    {
     "data": {
      "text/plain": [
       "An object of class Seurat \n",
       "224815 features across 8374 samples within 7 assays \n",
       "Active assay: H3K27me3 (23296 features, 0 variable features)\n",
       " 6 other assays present: RNA, H3K27ac, integrated, ATAC, SCT, integrated_atac\n",
       " 2 dimensional reductions calculated: pca, integrated.atac.umap"
      ]
     },
     "metadata": {},
     "output_type": "display_data"
    }
   ],
   "source": [
    "not_cln_atac"
   ]
  },
  {
   "cell_type": "code",
   "execution_count": 80,
   "id": "413eefb3",
   "metadata": {},
   "outputs": [
    {
     "data": {
      "text/html": [
       "<style>\n",
       ".dl-inline {width: auto; margin:0; padding: 0}\n",
       ".dl-inline>dt, .dl-inline>dd {float: none; width: auto; display: inline-block}\n",
       ".dl-inline>dt::after {content: \":\\0020\"; padding-right: .5ex}\n",
       ".dl-inline>dt:not(:first-of-type) {padding-left: .5ex}\n",
       "</style><dl class=dl-inline><dt>0%</dt><dd>2</dd><dt>25%</dt><dd>292</dd><dt>50%</dt><dd>923.5</dd><dt>75%</dt><dd>2846</dd><dt>100%</dt><dd>60581</dd></dl>\n"
      ],
      "text/latex": [
       "\\begin{description*}\n",
       "\\item[0\\textbackslash{}\\%] 2\n",
       "\\item[25\\textbackslash{}\\%] 292\n",
       "\\item[50\\textbackslash{}\\%] 923.5\n",
       "\\item[75\\textbackslash{}\\%] 2846\n",
       "\\item[100\\textbackslash{}\\%] 60581\n",
       "\\end{description*}\n"
      ],
      "text/markdown": [
       "0%\n",
       ":   225%\n",
       ":   29250%\n",
       ":   923.575%\n",
       ":   2846100%\n",
       ":   60581\n",
       "\n"
      ],
      "text/plain": [
       "     0%     25%     50%     75%    100% \n",
       "    2.0   292.0   923.5  2846.0 60581.0 "
      ]
     },
     "metadata": {},
     "output_type": "display_data"
    },
    {
     "data": {
      "text/html": [
       "<style>\n",
       ".dl-inline {width: auto; margin:0; padding: 0}\n",
       ".dl-inline>dt, .dl-inline>dd {float: none; width: auto; display: inline-block}\n",
       ".dl-inline>dt::after {content: \":\\0020\"; padding-right: .5ex}\n",
       ".dl-inline>dt:not(:first-of-type) {padding-left: .5ex}\n",
       "</style><dl class=dl-inline><dt>0%</dt><dd>1</dd><dt>25%</dt><dd>146.25</dd><dt>50%</dt><dd>452</dd><dt>75%</dt><dd>1321.75</dd><dt>100%</dt><dd>20756</dd></dl>\n"
      ],
      "text/latex": [
       "\\begin{description*}\n",
       "\\item[0\\textbackslash{}\\%] 1\n",
       "\\item[25\\textbackslash{}\\%] 146.25\n",
       "\\item[50\\textbackslash{}\\%] 452\n",
       "\\item[75\\textbackslash{}\\%] 1321.75\n",
       "\\item[100\\textbackslash{}\\%] 20756\n",
       "\\end{description*}\n"
      ],
      "text/markdown": [
       "0%\n",
       ":   125%\n",
       ":   146.2550%\n",
       ":   45275%\n",
       ":   1321.75100%\n",
       ":   20756\n",
       "\n"
      ],
      "text/plain": [
       "      0%      25%      50%      75%     100% \n",
       "    1.00   146.25   452.00  1321.75 20756.00 "
      ]
     },
     "metadata": {},
     "output_type": "display_data"
    }
   ],
   "source": [
    "quantile(not_cln_atac$nCount_ATAC) #okay so it did actually filter the nCounts\n",
    "quantile(not_cln_atac$nFeature_ATAC)"
   ]
  }
 ],
 "metadata": {
  "kernelspec": {
   "display_name": "R [conda env:ressen3]",
   "language": "R",
   "name": "conda-env-ressen3-r"
  },
  "language_info": {
   "codemirror_mode": "r",
   "file_extension": ".r",
   "mimetype": "text/x-r-source",
   "name": "R",
   "pygments_lexer": "r",
   "version": "4.1.1"
  }
 },
 "nbformat": 4,
 "nbformat_minor": 5
}
