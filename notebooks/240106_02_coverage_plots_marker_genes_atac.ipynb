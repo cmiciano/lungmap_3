{
 "cells": [
  {
   "cell_type": "code",
   "execution_count": 1,
   "id": "5cf885e4",
   "metadata": {},
   "outputs": [
    {
     "name": "stderr",
     "output_type": "stream",
     "text": [
      "The legacy packages maptools, rgdal, and rgeos, underpinning the sp package,\n",
      "which was just loaded, will retire in October 2023.\n",
      "Please refer to R-spatial evolution reports for details, especially\n",
      "https://r-spatial.org/r/2023/05/15/evolution4.html.\n",
      "It may be desirable to make the sf package available;\n",
      "package maintainers should consider adding sf to Suggests:.\n",
      "The sp package is now running under evolution status 2\n",
      "     (status 2 uses the sf package in place of rgdal)\n",
      "\n",
      "Attaching SeuratObject\n",
      "\n"
     ]
    }
   ],
   "source": [
    "library(Seurat)\n",
    "library(Signac)"
   ]
  },
  {
   "cell_type": "code",
   "execution_count": null,
   "id": "633a0f10",
   "metadata": {},
   "outputs": [],
   "source": [
    "# writes out coverage plots for all of the cellcards gene markers\n",
    "# skips if the gene is not found"
   ]
  },
  {
   "cell_type": "code",
   "execution_count": 4,
   "id": "faf9f132",
   "metadata": {},
   "outputs": [],
   "source": [
    "sobj_atac_cln <- readRDS(\"/projects/ps-epigen/users/cmiciano/Lung/lungmap_3/06_paired_tag_integ_atac/240105_02_indiv_atac.RDS\")"
   ]
  },
  {
   "cell_type": "code",
   "execution_count": 5,
   "id": "69303c59",
   "metadata": {},
   "outputs": [
    {
     "data": {
      "text/plain": [
       "An object of class Seurat \n",
       "126070 features across 5392 samples within 3 assays \n",
       "Active assay: ATAC (75257 features, 0 variable features)\n",
       " 2 other assays present: RNA, SCT\n",
       " 2 dimensional reductions calculated: pca, umap"
      ]
     },
     "metadata": {},
     "output_type": "display_data"
    }
   ],
   "source": [
    "sobj_atac_cln"
   ]
  },
  {
   "cell_type": "code",
   "execution_count": 6,
   "id": "cb2c9fbc",
   "metadata": {},
   "outputs": [
    {
     "data": {
      "text/html": [
       "<style>\n",
       ".list-inline {list-style: none; margin:0; padding: 0}\n",
       ".list-inline>li {display: inline-block}\n",
       ".list-inline>li:not(:last-child)::after {content: \"\\00b7\"; padding: 0 .5ex}\n",
       "</style>\n",
       "<ol class=list-inline><li>'orig.ident'</li><li>'nCount_RNA'</li><li>'nFeature_RNA'</li><li>'nCount_ATAC'</li><li>'nFeature_ATAC'</li><li>'fragments_freq_count'</li><li>'FRiP'</li><li>'percent.mt'</li><li>'nCount_SCT'</li><li>'nFeature_SCT'</li><li>'pANN_0.25_0.04_707'</li><li>'DF.classifications_0.25_0.04_707'</li><li>'cell_barcode'</li><li>'celltype_v04'</li></ol>\n"
      ],
      "text/latex": [
       "\\begin{enumerate*}\n",
       "\\item 'orig.ident'\n",
       "\\item 'nCount\\_RNA'\n",
       "\\item 'nFeature\\_RNA'\n",
       "\\item 'nCount\\_ATAC'\n",
       "\\item 'nFeature\\_ATAC'\n",
       "\\item 'fragments\\_freq\\_count'\n",
       "\\item 'FRiP'\n",
       "\\item 'percent.mt'\n",
       "\\item 'nCount\\_SCT'\n",
       "\\item 'nFeature\\_SCT'\n",
       "\\item 'pANN\\_0.25\\_0.04\\_707'\n",
       "\\item 'DF.classifications\\_0.25\\_0.04\\_707'\n",
       "\\item 'cell\\_barcode'\n",
       "\\item 'celltype\\_v04'\n",
       "\\end{enumerate*}\n"
      ],
      "text/markdown": [
       "1. 'orig.ident'\n",
       "2. 'nCount_RNA'\n",
       "3. 'nFeature_RNA'\n",
       "4. 'nCount_ATAC'\n",
       "5. 'nFeature_ATAC'\n",
       "6. 'fragments_freq_count'\n",
       "7. 'FRiP'\n",
       "8. 'percent.mt'\n",
       "9. 'nCount_SCT'\n",
       "10. 'nFeature_SCT'\n",
       "11. 'pANN_0.25_0.04_707'\n",
       "12. 'DF.classifications_0.25_0.04_707'\n",
       "13. 'cell_barcode'\n",
       "14. 'celltype_v04'\n",
       "\n",
       "\n"
      ],
      "text/plain": [
       " [1] \"orig.ident\"                       \"nCount_RNA\"                      \n",
       " [3] \"nFeature_RNA\"                     \"nCount_ATAC\"                     \n",
       " [5] \"nFeature_ATAC\"                    \"fragments_freq_count\"            \n",
       " [7] \"FRiP\"                             \"percent.mt\"                      \n",
       " [9] \"nCount_SCT\"                       \"nFeature_SCT\"                    \n",
       "[11] \"pANN_0.25_0.04_707\"               \"DF.classifications_0.25_0.04_707\"\n",
       "[13] \"cell_barcode\"                     \"celltype_v04\"                    "
      ]
     },
     "metadata": {},
     "output_type": "display_data"
    }
   ],
   "source": [
    "colnames(sobj_atac_cln@meta.data)"
   ]
  },
  {
   "cell_type": "code",
   "execution_count": 12,
   "id": "4d07c8f2",
   "metadata": {},
   "outputs": [],
   "source": [
    "excel_file <- \"/projects/ps-epigen/users/cmiciano/Lung/lungbpd_rna/scripts/CellRef_Supp_Tables_LungMAP.xlsx\""
   ]
  },
  {
   "cell_type": "code",
   "execution_count": 13,
   "id": "0abb37b3",
   "metadata": {},
   "outputs": [],
   "source": [
    "library(openxlsx)"
   ]
  },
  {
   "cell_type": "code",
   "execution_count": 16,
   "id": "b3b8e1df",
   "metadata": {},
   "outputs": [
    {
     "name": "stdout",
     "output_type": "stream",
     "text": [
      "                  CellType   Marker MarkerType          NA\n",
      "2                      AF1    TCF21          p        <NA>\n",
      "3                      AF1     WNT2          p     Stromal\n",
      "4                      AF1   PCDH15          p        <NA>\n",
      "5                      AF2     CDON          p        <NA>\n",
      "6                      AF2    MFAP5          p        <NA>\n",
      "7                      AF2   SCARA5          p        <NA>\n",
      "8              Chondrocyte   COL2A1          p        <NA>\n",
      "9              Chondrocyte   HAPLN1          p        <NA>\n",
      "10             Chondrocyte     SOX9          p        <NA>\n",
      "11             Chondrocyte     ACAN          p        <NA>\n",
      "12                    SCMF    DACH2          p        <NA>\n",
      "13                    SCMF    FGF18          p        <NA>\n",
      "14                    SCMF   ITGBL1          p        <NA>\n",
      "15                    SCMF   PDGFRA          p        <NA>\n",
      "16                    ASMC      DES          p        <NA>\n",
      "17                    ASMC     LGR6          p        <NA>\n",
      "18                    VSMC     CNN1          p        <NA>\n",
      "19                    VSMC    NTRK3          p        <NA>\n",
      "20                    VSMC    ITGA7          p        <NA>\n",
      "21                Pericyte   PDGFRB          p        <NA>\n",
      "22                Pericyte    TRPC6          p        <NA>\n",
      "23                Pericyte    CSPG4          p        <NA>\n",
      "24                Pericyte    LAMC3          p        <NA>\n",
      "25             Mesothelial    UPK3B          p        <NA>\n",
      "26             Mesothelial      WT1          p        <NA>\n",
      "27             Mesothelial    CALB2          p        <NA>\n",
      "28                    CAP1     IL7R          p        <NA>\n",
      "29                    CAP1     FCN3          p        <NA>\n",
      "30                    CAP1  GPIHBP1          p Endothelial\n",
      "31                    CAP2     APLN          p        <NA>\n",
      "32                    CAP2    EDNRB          p        <NA>\n",
      "33                    CAP2     HPGD          p        <NA>\n",
      "34                    CAP2      CA4          p        <NA>\n",
      "35                     AEC     DKK2          p        <NA>\n",
      "36                     AEC     GJA5          p        <NA>\n",
      "37                     AEC      BMX          p        <NA>\n",
      "38                     VEC    ACKR1          p        <NA>\n",
      "39                     VEC    EPHB4          p        <NA>\n",
      "40                     VEC    HDAC9          p        <NA>\n",
      "41                     LEC    PROX1          p        <NA>\n",
      "42                     LEC    MMRN1          p        <NA>\n",
      "43                     LEC    CCL21          p        <NA>\n",
      "44                     LEC    LYVE1          p        <NA>\n",
      "45                    SVEC    ACKR1          p        <NA>\n",
      "46                    SVEC  COL15A1          p        <NA>\n",
      "47                    SVEC    ABCB1          p        <NA>\n",
      "48                    SVEC     VWA1          p        <NA>\n",
      "49                    PNEC    ASCL1          p        <NA>\n",
      "50                    PNEC    CALCA          p  Epithelial\n",
      "51                    PNEC      GRP          p        <NA>\n",
      "52                    PNEC    NRXN1          p        <NA>\n",
      "53                    Tuft    ASCL2          p        <NA>\n",
      "54                    Tuft   POU2F3          p        <NA>\n",
      "55                    Tuft    IL23A          p        <NA>\n",
      "56                Ionocyte    FOXI1          p        <NA>\n",
      "57                Ionocyte    ASCL3          p        <NA>\n",
      "58                Ionocyte     CFTR          p        <NA>\n",
      "59                   Basal     TP63          p        <NA>\n",
      "60                   Basal     KRT5          p        <NA>\n",
      "61                   Basal     NGFR          p        <NA>\n",
      "62               Secretory  SCGB1A1          p        <NA>\n",
      "63               Secretory   SCUBE2          p        <NA>\n",
      "64               Secretory   BPIFB1          p        <NA>\n",
      "65               Secretory     LCN2          p        <NA>\n",
      "66               Secretory   TSPAN8          p        <NA>\n",
      "67                     RAS  SCGB3A2          p        <NA>\n",
      "68                     RAS    KLK11          p        <NA>\n",
      "69                     RAS      MGP          p        <NA>\n",
      "70                     RAS     SOX4          p        <NA>\n",
      "71                  Goblet   MUC5AC          p        <NA>\n",
      "72                  Goblet    SPDEF          p        <NA>\n",
      "73                  Goblet    PCDH7          p        <NA>\n",
      "74                  Goblet  SLC4A11          p        <NA>\n",
      "75                  Goblet     AGR2          p        <NA>\n",
      "76                  Mucous    MUC5B          p        <NA>\n",
      "77                  Mucous    SPDEF          p        <NA>\n",
      "78                  Mucous   BPIFB2          p        <NA>\n",
      "79                  Mucous   MUC5AC          n        <NA>\n",
      "80                  Serous      LYZ          p        <NA>\n",
      "81                  Serous      LTF          p        <NA>\n",
      "82                  Serous      LPO          p        <NA>\n",
      "83                     MEC    KRT14          p        <NA>\n",
      "84                     MEC    EPCAM          p        <NA>\n",
      "85                     MEC    MYH11          p        <NA>\n",
      "86                Ciliated    FOXJ1          p        <NA>\n",
      "87                Ciliated    RSPH1          p        <NA>\n",
      "88                Ciliated    CDHR3          p        <NA>\n",
      "89                Ciliated    CDHR4          p        <NA>\n",
      "90            Deuterosomal    DEUP1          p        <NA>\n",
      "91            Deuterosomal    FOXN4          p        <NA>\n",
      "92            Deuterosomal   CDC20B          p        <NA>\n",
      "93          SMG Basal/Duct    KRT14          p        <NA>\n",
      "94          SMG Basal/Duct     SOX9          p        <NA>\n",
      "95          SMG Basal/Duct  ALDH1A3          p        <NA>\n",
      "96          SMG Basal/Duct      MIA          p        <NA>\n",
      "97          SMG Basal/Duct  RARRES1          p        <NA>\n",
      "98              Suprabasal    KRT19          p        <NA>\n",
      "99              Suprabasal SERPINB4          p        <NA>\n",
      "100             Suprabasal   NOTCH3          p        <NA>\n",
      "101                    AT1     AGER          p        <NA>\n",
      "102                    AT1    RTKN2          p        <NA>\n",
      "103                    AT1   SEMA3B          p        <NA>\n",
      "104                    AT2    LAMP3          p        <NA>\n",
      "105                    AT2    ABCA3          p        <NA>\n",
      "106                    AT2   KCNJ15          p        <NA>\n",
      "107                     AM  SIGLEC1          p        <NA>\n",
      "108                     AM    ABCG1          p        <NA>\n",
      "109                     AM    FABP4          p      Immune\n",
      "110                     AM    PPARG          p        <NA>\n",
      "111                     AM    MARCO          p        <NA>\n",
      "112                     AM     CD5L          p        <NA>\n",
      "113                     AM  CYP27A1          p        <NA>\n",
      "114                     IM  SLC40A1          p        <NA>\n",
      "115                     IM    FOLR2          p        <NA>\n",
      "116                     IM    F13A1          p        <NA>\n",
      "117                     IM    STAB1          p        <NA>\n",
      "118                   iMON     CD14          p        <NA>\n",
      "119                   iMON     FCN1          p        <NA>\n",
      "120                   iMON     VCAN          p        <NA>\n",
      "121                   iMON   FCGR3A          n        <NA>\n",
      "122                   pMON     FCN1          p        <NA>\n",
      "123                   pMON  TNFRSF8          p        <NA>\n",
      "124                   pMON   FCGR3A          p        <NA>\n",
      "125                   cDC1   CLEC9A          p        <NA>\n",
      "126                   cDC1     FLT3          p        <NA>\n",
      "127                   cDC1   ZBTB46          p        <NA>\n",
      "128                   cDC2  CLEC10A          p        <NA>\n",
      "129                   cDC2     CD1C          p        <NA>\n",
      "130                   cDC2     CD1E          p        <NA>\n",
      "131                   cDC2   FCGR2B          p        <NA>\n",
      "132                    pDC   CLEC4C          p        <NA>\n",
      "133                    pDC   LILRA4          p        <NA>\n",
      "134                    pDC     PLD4          p        <NA>\n",
      "135                   maDC     CCR7          p        <NA>\n",
      "136                   maDC    CCL19          p        <NA>\n",
      "137                   maDC   NCCRP1          p        <NA>\n",
      "138                   maDC     LAD1          p        <NA>\n",
      "139             Neutrophil     IL1B          p        <NA>\n",
      "140             Neutrophil    CSF3R          p        <NA>\n",
      "141             Neutrophil   FCGR3B          p        <NA>\n",
      "142          Mast/Basophil    MS4A2          p        <NA>\n",
      "143          Mast/Basophil   TPSAB1          p        <NA>\n",
      "144          Mast/Basophil    TPSB2          p        <NA>\n",
      "145                    ILC     IL7R          p        <NA>\n",
      "146                    ILC    CXCR3          p        <NA>\n",
      "147                    ILC    TBX21          p        <NA>\n",
      "148                    ILC    EOMES          n        <NA>\n",
      "149                    ILC     CD3E          n        <NA>\n",
      "150                    ILC     CD3D          n        <NA>\n",
      "151                    ILC     CD3G          n        <NA>\n",
      "152                    ILC     CD14          n        <NA>\n",
      "153                    ILC   FCGR3A          n        <NA>\n",
      "154                    ILC     CD19          n        <NA>\n",
      "155                    ILC    MS4A1          n        <NA>\n",
      "156                    ILC    NCAM1          n        <NA>\n",
      "157                     NK     NKG7          p        <NA>\n",
      "158                     NK    KLRD1          p        <NA>\n",
      "159                     NK    KLRC1          p        <NA>\n",
      "160                     NK    NCAM1          p        <NA>\n",
      "161                   Treg    FOXP3          p        <NA>\n",
      "162                   Treg    CTLA4          p        <NA>\n",
      "163                   Treg    IL2RA          p        <NA>\n",
      "164                  CD8_T     CD3E          p        <NA>\n",
      "165                  CD8_T     CD8A          p        <NA>\n",
      "166                  CD8_T     CD8B          p        <NA>\n",
      "167                  CD4_T     CD3E          p        <NA>\n",
      "168                  CD4_T      MAL          p        <NA>\n",
      "169                  CD4_T   CD40LG          p        <NA>\n",
      "170                  CD4_T      CD4          p        <NA>\n",
      "171                  CD4_T     LEF1          p        <NA>\n",
      "172                      B     CD19          p        <NA>\n",
      "173                      B    MS4A1          p        <NA>\n",
      "174                      B    BANK1          p        <NA>\n",
      "175                 Plasma     CD27          p        <NA>\n",
      "176                 Plasma     SDC1          p        <NA>\n",
      "177                 Plasma     CD38          p        <NA>\n",
      "178 Megakaryocyte/Platelet   ITGA2B          p        <NA>\n",
      "179 Megakaryocyte/Platelet    GP1BB          p        <NA>\n",
      "180 Megakaryocyte/Platelet    ITGB3          p        <NA>\n"
     ]
    }
   ],
   "source": [
    "cc <- read.xlsx(xlsxFile = excel_file , sheet = 1)\n",
    "cc <- cc[c(-1, -181),]\n",
    "cc <- cc[]\n",
    "colnames(cc) <- c(\"CellType\", \"Marker\", \"MarkerType\")\n",
    "print(cc)"
   ]
  },
  {
   "cell_type": "code",
   "execution_count": 17,
   "id": "c992c65e",
   "metadata": {},
   "outputs": [],
   "source": [
    "celltypes <- unique(cc$CellType)"
   ]
  },
  {
   "cell_type": "code",
   "execution_count": 18,
   "id": "705684e5",
   "metadata": {},
   "outputs": [],
   "source": [
    "cc.gene.set <- lapply(X = celltypes, FUN = function(X){\n",
    "    cc.markers <- cc[grep(pattern = paste0(\"^\", X ,\"$\"), x = cc$CellType),]$Marker\n",
    "    \n",
    "    return(cc.markers)\n",
    "})"
   ]
  },
  {
   "cell_type": "code",
   "execution_count": 19,
   "id": "29514afc",
   "metadata": {},
   "outputs": [],
   "source": [
    "cc.gene.set <- setNames(cc.gene.set, celltypes)"
   ]
  },
  {
   "cell_type": "code",
   "execution_count": 21,
   "id": "cdddeb17",
   "metadata": {},
   "outputs": [
    {
     "data": {
      "text/html": [
       "<style>\n",
       ".list-inline {list-style: none; margin:0; padding: 0}\n",
       ".list-inline>li {display: inline-block}\n",
       ".list-inline>li:not(:last-child)::after {content: \"\\00b7\"; padding: 0 .5ex}\n",
       "</style>\n",
       "<ol class=list-inline><li>'TCF21'</li><li>'WNT2'</li><li>'PCDH15'</li></ol>\n"
      ],
      "text/latex": [
       "\\begin{enumerate*}\n",
       "\\item 'TCF21'\n",
       "\\item 'WNT2'\n",
       "\\item 'PCDH15'\n",
       "\\end{enumerate*}\n"
      ],
      "text/markdown": [
       "1. 'TCF21'\n",
       "2. 'WNT2'\n",
       "3. 'PCDH15'\n",
       "\n",
       "\n"
      ],
      "text/plain": [
       "[1] \"TCF21\"  \"WNT2\"   \"PCDH15\""
      ]
     },
     "metadata": {},
     "output_type": "display_data"
    }
   ],
   "source": [
    "cc.gene.set[[1]]"
   ]
  },
  {
   "cell_type": "code",
   "execution_count": 26,
   "id": "6fac8850",
   "metadata": {},
   "outputs": [
    {
     "name": "stderr",
     "output_type": "stream",
     "text": [
      "Warning message:\n",
      "“package ‘gprofiler2’ was built under R version 4.1.3”\n"
     ]
    }
   ],
   "source": [
    "library(gprofiler2)"
   ]
  },
  {
   "cell_type": "code",
   "execution_count": 27,
   "id": "44459b9d",
   "metadata": {},
   "outputs": [],
   "source": [
    "gene_set_mm10 <-  gorth(cc.gene.set[[1]], source_organism = \"hsapiens\", \n",
    "                 target_organism = \"mmusculus\")$ortholog_name"
   ]
  },
  {
   "cell_type": "code",
   "execution_count": 28,
   "id": "e2e76f38",
   "metadata": {},
   "outputs": [
    {
     "data": {
      "text/html": [
       "<style>\n",
       ".list-inline {list-style: none; margin:0; padding: 0}\n",
       ".list-inline>li {display: inline-block}\n",
       ".list-inline>li:not(:last-child)::after {content: \"\\00b7\"; padding: 0 .5ex}\n",
       "</style>\n",
       "<ol class=list-inline><li>'Tcf21'</li><li>'Wnt2'</li><li>'Pcdh15'</li></ol>\n"
      ],
      "text/latex": [
       "\\begin{enumerate*}\n",
       "\\item 'Tcf21'\n",
       "\\item 'Wnt2'\n",
       "\\item 'Pcdh15'\n",
       "\\end{enumerate*}\n"
      ],
      "text/markdown": [
       "1. 'Tcf21'\n",
       "2. 'Wnt2'\n",
       "3. 'Pcdh15'\n",
       "\n",
       "\n"
      ],
      "text/plain": [
       "[1] \"Tcf21\"  \"Wnt2\"   \"Pcdh15\""
      ]
     },
     "metadata": {},
     "output_type": "display_data"
    }
   ],
   "source": [
    "gene_set_mm10"
   ]
  },
  {
   "cell_type": "code",
   "execution_count": 36,
   "id": "c58fec8a",
   "metadata": {},
   "outputs": [],
   "source": [
    "assay <- DefaultAssay(sobj_atac_cln)"
   ]
  },
  {
   "cell_type": "code",
   "execution_count": 38,
   "id": "ee20d4ae",
   "metadata": {},
   "outputs": [],
   "source": [
    "dir.create(\"/projects/ps-epigen/users/cmiciano/Lung/lungmap_3/outputs/paired_tag/coverage_plots/\")"
   ]
  },
  {
   "cell_type": "code",
   "execution_count": 39,
   "id": "9af173be",
   "metadata": {},
   "outputs": [],
   "source": [
    "dir.create(\"/projects/ps-epigen/users/cmiciano/Lung/lungmap_3/outputs/paired_tag/coverage_plots/240106/\")"
   ]
  },
  {
   "cell_type": "code",
   "execution_count": 40,
   "id": "2e5b7535",
   "metadata": {},
   "outputs": [],
   "source": [
    "dir.create(\"/projects/ps-epigen/users/cmiciano/Lung/lungmap_3/outputs/paired_tag/coverage_plots/240106/ATAC/\")"
   ]
  },
  {
   "cell_type": "code",
   "execution_count": 41,
   "id": "3f1f40cc",
   "metadata": {},
   "outputs": [],
   "source": [
    "outdir <- \"/projects/ps-epigen/users/cmiciano/Lung/lungmap_3/outputs/paired_tag/coverage_plots/240106/ATAC/\""
   ]
  },
  {
   "cell_type": "code",
   "execution_count": 37,
   "id": "40ec808f",
   "metadata": {},
   "outputs": [
    {
     "data": {
      "text/html": [
       "'ATAC_AF1_Tcf21.pdf'"
      ],
      "text/latex": [
       "'ATAC\\_AF1\\_Tcf21.pdf'"
      ],
      "text/markdown": [
       "'ATAC_AF1_Tcf21.pdf'"
      ],
      "text/plain": [
       "[1] \"ATAC_AF1_Tcf21.pdf\""
      ]
     },
     "metadata": {},
     "output_type": "display_data"
    }
   ],
   "source": [
    "paste0(assay, \"_\", names(cc.gene.set)[[1]], \"_\", gene_set_mm10[1], \".pdf\")"
   ]
  },
  {
   "cell_type": "code",
   "execution_count": 45,
   "id": "bc49f53a",
   "metadata": {},
   "outputs": [
    {
     "data": {
      "text/html": [
       "<style>\n",
       ".list-inline {list-style: none; margin:0; padding: 0}\n",
       ".list-inline>li {display: inline-block}\n",
       ".list-inline>li:not(:last-child)::after {content: \"\\00b7\"; padding: 0 .5ex}\n",
       "</style>\n",
       "<ol class=list-inline><li>'Tcf21'</li><li>'Wnt2'</li><li>'Pcdh15'</li></ol>\n"
      ],
      "text/latex": [
       "\\begin{enumerate*}\n",
       "\\item 'Tcf21'\n",
       "\\item 'Wnt2'\n",
       "\\item 'Pcdh15'\n",
       "\\end{enumerate*}\n"
      ],
      "text/markdown": [
       "1. 'Tcf21'\n",
       "2. 'Wnt2'\n",
       "3. 'Pcdh15'\n",
       "\n",
       "\n"
      ],
      "text/plain": [
       "[1] \"Tcf21\"  \"Wnt2\"   \"Pcdh15\""
      ]
     },
     "metadata": {},
     "output_type": "display_data"
    }
   ],
   "source": [
    "gene_set_mm10"
   ]
  },
  {
   "cell_type": "code",
   "execution_count": 48,
   "id": "bfc945ce",
   "metadata": {},
   "outputs": [
    {
     "data": {
      "text/html": [
       "48"
      ],
      "text/latex": [
       "48"
      ],
      "text/markdown": [
       "48"
      ],
      "text/plain": [
       "[1] 48"
      ]
     },
     "metadata": {},
     "output_type": "display_data"
    }
   ],
   "source": [
    "length(cc.gene.set)"
   ]
  },
  {
   "cell_type": "code",
   "execution_count": 47,
   "id": "4624d14c",
   "metadata": {},
   "outputs": [
    {
     "name": "stdout",
     "output_type": "stream",
     "text": [
      "[1] \"Tcf21\"\n",
      "[1] \"Wnt2\"\n",
      "[1] \"Pcdh15\"\n"
     ]
    }
   ],
   "source": [
    "gene_set_mm10 <-  gorth(cc.gene.set[[1]], source_organism = \"hsapiens\", \n",
    "                 target_organism = \"mmusculus\")$ortholog_name\n",
    "for (gene in gene_set_mm10) {\n",
    "    print(gene)\n",
    "    pdf(paste0(outdir, assay, \"_\", names(cc.gene.set)[[1]], \"_\", gene, \".pdf\"))\n",
    "    print(CoveragePlot(sobj_atac_cln, region = gene, annotation = T, window = 2000, peaks = F, \n",
    "             extend.upstream = 15000, extend.downstream = 5000, group.by = \"celltype_v04\") )\n",
    "    dev.off()\n",
    "}"
   ]
  },
  {
   "cell_type": "code",
   "execution_count": 30,
   "id": "7d53295a",
   "metadata": {},
   "outputs": [
    {
     "data": {
      "image/png": "[encoded data removed]",
      "text/plain": [
       "plot without title"
      ]
     },
     "metadata": {
      "image/png": {
       "height": 420,
       "width": 420
      }
     },
     "output_type": "display_data"
    },
    {
     "data": {
      "image/png": "[encoded data removed]",
      "text/plain": [
       "plot without title"
      ]
     },
     "metadata": {
      "image/png": {
       "height": 420,
       "width": 420
      }
     },
     "output_type": "display_data"
    },
    {
     "data": {
      "image/png": "[encoded data removed]",
      "text/plain": [
       "plot without title"
      ]
     },
     "metadata": {
      "image/png": {
       "height": 420,
       "width": 420
      }
     },
     "output_type": "display_data"
    }
   ],
   "source": [
    "for (gene in gene_set_mm10) {\n",
    "    print(CoveragePlot(sobj_atac_cln, region = gene, annotation = T, window = 2000, peaks = F, \n",
    "             extend.upstream = 15000, extend.downstream = 5000, group.by = \"celltype_v04\") )\n",
    "}"
   ]
  },
  {
   "cell_type": "code",
   "execution_count": 50,
   "id": "dfcac1de",
   "metadata": {},
   "outputs": [
    {
     "name": "stdout",
     "output_type": "stream",
     "text": [
      "[1] \"Making coverage plots for AF1\"\n",
      "[1] \"Tcf21\"\n",
      "[1] \"Wnt2\"\n",
      "[1] \"Pcdh15\"\n",
      "[1] \"Making coverage plots for AF2\"\n",
      "[1] \"Cdon\"\n"
     ]
    },
    {
     "name": "stderr",
     "output_type": "stream",
     "text": [
      "Warning message:\n",
      "“Removed 3 rows containing missing values (position_stack).”\n"
     ]
    },
    {
     "name": "stdout",
     "output_type": "stream",
     "text": [
      "[1] \"Mfap5\"\n"
     ]
    },
    {
     "name": "stderr",
     "output_type": "stream",
     "text": [
      "Warning message:\n",
      "“Removed 36 rows containing missing values (position_stack).”\n"
     ]
    },
    {
     "name": "stdout",
     "output_type": "stream",
     "text": [
      "[1] \"Scara5\"\n",
      "[1] \"Making coverage plots for Chondrocyte\"\n",
      "[1] \"Col2a1\"\n"
     ]
    },
    {
     "name": "stderr",
     "output_type": "stream",
     "text": [
      "Warning message:\n",
      "“Removed 6 rows containing missing values (position_stack).”\n"
     ]
    },
    {
     "name": "stdout",
     "output_type": "stream",
     "text": [
      "[1] \"Hapln1\"\n",
      "[1] \"Sox9\"\n"
     ]
    },
    {
     "name": "stderr",
     "output_type": "stream",
     "text": [
      "Warning message:\n",
      "“Removed 67 rows containing missing values (geom_segment).”\n",
      "Warning message:\n",
      "“Removed 1 rows containing missing values (geom_segment).”\n"
     ]
    },
    {
     "name": "stdout",
     "output_type": "stream",
     "text": [
      "[1] \"Acan\"\n"
     ]
    },
    {
     "name": "stderr",
     "output_type": "stream",
     "text": [
      "Warning message:\n",
      "“Removed 5 rows containing missing values (geom_segment).”\n"
     ]
    },
    {
     "name": "stdout",
     "output_type": "stream",
     "text": [
      "[1] \"Making coverage plots for SCMF\"\n",
      "[1] \"Dach2\"\n",
      "[1] \"Fgf18\"\n"
     ]
    },
    {
     "name": "stderr",
     "output_type": "stream",
     "text": [
      "Warning message:\n",
      "“Removed 46 rows containing missing values (geom_segment).”\n",
      "Warning message:\n",
      "“Removed 1 rows containing missing values (geom_segment).”\n"
     ]
    },
    {
     "name": "stdout",
     "output_type": "stream",
     "text": [
      "[1] \"Itgbl1\"\n"
     ]
    },
    {
     "name": "stderr",
     "output_type": "stream",
     "text": [
      "Warning message:\n",
      "“Removed 8 rows containing missing values (geom_segment).”\n"
     ]
    },
    {
     "name": "stdout",
     "output_type": "stream",
     "text": [
      "[1] \"Pdgfra\"\n",
      "[1] \"Making coverage plots for ASMC\"\n",
      "[1] \"Des\"\n",
      "[1] \"Lgr6\"\n"
     ]
    },
    {
     "name": "stderr",
     "output_type": "stream",
     "text": [
      "Warning message:\n",
      "“Removed 56 rows containing missing values (geom_segment).”\n"
     ]
    },
    {
     "name": "stdout",
     "output_type": "stream",
     "text": [
      "[1] \"Making coverage plots for VSMC\"\n",
      "[1] \"Cnn1\"\n"
     ]
    },
    {
     "name": "stderr",
     "output_type": "stream",
     "text": [
      "Warning message:\n",
      "“Removed 9 rows containing missing values (position_stack).”\n",
      "Warning message:\n",
      "“Removed 30 rows containing missing values (geom_segment).”\n"
     ]
    },
    {
     "name": "stdout",
     "output_type": "stream",
     "text": [
      "[1] \"Ntrk3\"\n",
      "[1] \"Itga7\"\n"
     ]
    },
    {
     "name": "stderr",
     "output_type": "stream",
     "text": [
      "Warning message:\n",
      "“Removed 43 rows containing missing values (position_stack).”\n",
      "Warning message:\n",
      "“Removed 18 rows containing missing values (geom_segment).”\n"
     ]
    },
    {
     "name": "stdout",
     "output_type": "stream",
     "text": [
      "[1] \"Making coverage plots for Pericyte\"\n",
      "[1] \"Pdgfrb\"\n"
     ]
    },
    {
     "name": "stderr",
     "output_type": "stream",
     "text": [
      "Warning message:\n",
      "“Removed 2 rows containing missing values (geom_segment).”\n"
     ]
    },
    {
     "name": "stdout",
     "output_type": "stream",
     "text": [
      "[1] \"Trpc6\"\n"
     ]
    },
    {
     "name": "stderr",
     "output_type": "stream",
     "text": [
      "Warning message:\n",
      "“Removed 30 rows containing missing values (position_stack).”\n"
     ]
    },
    {
     "name": "stdout",
     "output_type": "stream",
     "text": [
      "[1] \"Cspg4\"\n"
     ]
    },
    {
     "name": "stderr",
     "output_type": "stream",
     "text": [
      "Warning message:\n",
      "“Removed 2 rows containing missing values (geom_segment).”\n"
     ]
    },
    {
     "name": "stdout",
     "output_type": "stream",
     "text": [
      "[1] \"Lamc3\"\n"
     ]
    },
    {
     "name": "stderr",
     "output_type": "stream",
     "text": [
      "Warning message:\n",
      "“Removed 33 rows containing missing values (geom_segment).”\n"
     ]
    },
    {
     "name": "stdout",
     "output_type": "stream",
     "text": [
      "[1] \"Making coverage plots for Mesothelial\"\n",
      "[1] \"Upk3b\"\n"
     ]
    },
    {
     "name": "stderr",
     "output_type": "stream",
     "text": [
      "Warning message:\n",
      "“Removed 33 rows containing missing values (geom_segment).”\n"
     ]
    },
    {
     "name": "stdout",
     "output_type": "stream",
     "text": [
      "[1] \"Wt1\"\n",
      "[1] \"Calb2\"\n"
     ]
    },
    {
     "name": "stderr",
     "output_type": "stream",
     "text": [
      "Warning message:\n",
      "“Removed 7 rows containing missing values (position_stack).”\n"
     ]
    },
    {
     "name": "stdout",
     "output_type": "stream",
     "text": [
      "[1] \"Making coverage plots for CAP1\"\n",
      "[1] \"Il7r\"\n"
     ]
    },
    {
     "name": "stderr",
     "output_type": "stream",
     "text": [
      "Warning message:\n",
      "“Removed 12 rows containing missing values (position_stack).”\n"
     ]
    },
    {
     "name": "stdout",
     "output_type": "stream",
     "text": [
      "[1] \"Gpihbp1\"\n"
     ]
    },
    {
     "name": "stderr",
     "output_type": "stream",
     "text": [
      "Warning message:\n",
      "“Removed 5 rows containing missing values (position_stack).”\n"
     ]
    },
    {
     "name": "stdout",
     "output_type": "stream",
     "text": [
      "[1] \"Making coverage plots for CAP2\"\n",
      "[1] \"Apln\"\n",
      "[1] \"Ednrb\"\n",
      "[1] \"Hpgd\"\n",
      "[1] \"Car4\"\n"
     ]
    },
    {
     "name": "stderr",
     "output_type": "stream",
     "text": [
      "Warning message:\n",
      "“Removed 27 rows containing missing values (position_stack).”\n"
     ]
    },
    {
     "name": "stdout",
     "output_type": "stream",
     "text": [
      "[1] \"Making coverage plots for AEC\"\n",
      "[1] \"Dkk2\"\n",
      "[1] \"Gja5\"\n"
     ]
    },
    {
     "name": "stderr",
     "output_type": "stream",
     "text": [
      "Warning message:\n",
      "“Removed 20 rows containing missing values (position_stack).”\n"
     ]
    },
    {
     "name": "stdout",
     "output_type": "stream",
     "text": [
      "[1] \"Bmx\"\n"
     ]
    },
    {
     "name": "stderr",
     "output_type": "stream",
     "text": [
      "Warning message:\n",
      "“Removed 38 rows containing missing values (geom_segment).”\n"
     ]
    },
    {
     "name": "stdout",
     "output_type": "stream",
     "text": [
      "[1] \"Making coverage plots for VEC\"\n",
      "[1] \"Ackr1\"\n"
     ]
    },
    {
     "name": "stderr",
     "output_type": "stream",
     "text": [
      "Warning message:\n",
      "“Removed 28 rows containing missing values (geom_segment).”\n"
     ]
    },
    {
     "name": "stdout",
     "output_type": "stream",
     "text": [
      "[1] \"Ephb4\"\n"
     ]
    },
    {
     "name": "stderr",
     "output_type": "stream",
     "text": [
      "Warning message:\n",
      "“Removed 22 rows containing missing values (position_stack).”\n",
      "Warning message:\n",
      "“Removed 174 rows containing missing values (geom_segment).”\n"
     ]
    },
    {
     "name": "stdout",
     "output_type": "stream",
     "text": [
      "[1] \"Hdac9\"\n"
     ]
    },
    {
     "name": "stderr",
     "output_type": "stream",
     "text": [
      "Warning message:\n",
      "“Removed 1 rows containing missing values (position_stack).”\n"
     ]
    },
    {
     "name": "stdout",
     "output_type": "stream",
     "text": [
      "[1] \"Making coverage plots for LEC\"\n",
      "[1] \"Prox1\"\n",
      "[1] \"Mmrn1\"\n",
      "[1] \"Gm13304\"\n",
      "[1] \"Ccl21d\"\n"
     ]
    },
    {
     "ename": "ERROR",
     "evalue": "Error in FindRegion(object = object, region = region, sep = sep, assay = assay, : Gene not found\n",
     "output_type": "error",
     "traceback": [
      "Error in FindRegion(object = object, region = region, sep = sep, assay = assay, : Gene not found\nTraceback:\n",
      "1. print(CoveragePlot(sobj_atac_cln, region = gene, annotation = T, \n .     window = 2000, peaks = F, extend.upstream = 15000, extend.downstream = 5000, \n .     group.by = \"celltype_v04\"))",
      "2. CoveragePlot(sobj_atac_cln, region = gene, annotation = T, window = 2000, \n .     peaks = F, extend.upstream = 15000, extend.downstream = 5000, \n .     group.by = \"celltype_v04\")",
      "3. SingleCoveragePlot(object = object, region = region, annotation = annotation, \n .     features = features, expression.assay = expression.assay, \n .     expression.slot = expression.slot, show.bulk = show.bulk, \n .     peaks = peaks, peaks.group.by = peaks.group.by, ranges = ranges, \n .     ranges.group.by = ranges.group.by, ranges.title = ranges.title, \n .     region.highlight = region.highlight, assay = assay, links = links, \n .     tile = tile, tile.size = tile.size, tile.cells = tile.cells, \n .     bigwig = bigwig, bigwig.type = bigwig.type, group.by = group.by, \n .     window = window, extend.upstream = extend.upstream, extend.downstream = extend.downstream, \n .     ymax = ymax, scale.factor = scale.factor, cells = cells, \n .     idents = idents, sep = sep, heights = heights, max.downsample = max.downsample, \n .     downsample.rate = downsample.rate)",
      "4. FindRegion(object = object, region = region, sep = sep, assay = assay, \n .     extend.upstream = extend.upstream, extend.downstream = extend.downstream)",
      "5. stop(\"Gene not found\")"
     ]
    }
   ],
   "source": [
    "# iterate through gene set for each celltype and write out coverage plots\n",
    "\n",
    "for (i in 1:length(cc.gene.set)) {\n",
    "    gene_set_mm10 <-  gorth(cc.gene.set[[i]], source_organism = \"hsapiens\", \n",
    "                     target_organism = \"mmusculus\")$ortholog_name\n",
    "    print(paste0(\"Making coverage plots for \", names(cc.gene.set)[[i]]))\n",
    "    for (gene in gene_set_mm10) {\n",
    "        print(gene)\n",
    "        pdf(paste0(outdir, assay, \"_\", names(cc.gene.set)[[i]], \"_\", gene, \".pdf\"))\n",
    "        print(CoveragePlot(sobj_atac_cln, region = gene, annotation = T, window = 2000, peaks = F, \n",
    "                 extend.upstream = 15000, extend.downstream = 5000, group.by = \"celltype_v04\") )\n",
    "        dev.off()\n",
    "    }\n",
    "}"
   ]
  },
  {
   "cell_type": "code",
   "execution_count": 52,
   "id": "65f4ca16",
   "metadata": {},
   "outputs": [
    {
     "data": {
      "text/html": [
       "13"
      ],
      "text/latex": [
       "13"
      ],
      "text/markdown": [
       "13"
      ],
      "text/plain": [
       "[1] 13"
      ]
     },
     "metadata": {},
     "output_type": "display_data"
    }
   ],
   "source": [
    "i"
   ]
  },
  {
   "cell_type": "code",
   "execution_count": 54,
   "id": "36d7b080",
   "metadata": {},
   "outputs": [],
   "source": [
    "generateCovPlot <- function(input) {\n",
    "    gene_set_mm10 <-  gorth(cc.gene.set[[input]], source_organism = \"hsapiens\", \n",
    "                     target_organism = \"mmusculus\")$ortholog_name\n",
    "    print(paste0(\"Making coverage plots for \", names(cc.gene.set)[[input]]))\n",
    "    for (gene in gene_set_mm10) {\n",
    "        print(gene)\n",
    "        pdf(paste0(outdir, assay, \"_\", names(cc.gene.set)[[input]], \"_\", gene, \".pdf\"))\n",
    "        print(CoveragePlot(sobj_atac_cln, region = gene, annotation = T, window = 2000, peaks = F, \n",
    "                 extend.upstream = 15000, extend.downstream = 5000, group.by = \"celltype_v04\") )\n",
    "        dev.off()\n",
    "    }\n",
    "}"
   ]
  },
  {
   "cell_type": "code",
   "execution_count": 57,
   "id": "01cf41d0",
   "metadata": {},
   "outputs": [
    {
     "name": "stdout",
     "output_type": "stream",
     "text": [
      "[1] 14\n",
      "[1] \"Making coverage plots for SVEC\"\n",
      "[1] \"Ackr1\"\n"
     ]
    },
    {
     "name": "stderr",
     "output_type": "stream",
     "text": [
      "Warning message:\n",
      "“Removed 28 rows containing missing values (geom_segment).”\n"
     ]
    },
    {
     "name": "stdout",
     "output_type": "stream",
     "text": [
      "[1] \"Col15a1\"\n"
     ]
    },
    {
     "name": "stderr",
     "output_type": "stream",
     "text": [
      "Warning message:\n",
      "“Removed 3 rows containing missing values (position_stack).”\n"
     ]
    },
    {
     "name": "stdout",
     "output_type": "stream",
     "text": [
      "[1] \"Abcb1b\"\n"
     ]
    },
    {
     "name": "stderr",
     "output_type": "stream",
     "text": [
      "Warning message:\n",
      "“Removed 1 rows containing missing values (geom_segment).”\n"
     ]
    },
    {
     "name": "stdout",
     "output_type": "stream",
     "text": [
      "[1] \"Abcb1a\"\n",
      "[1] \"Vwa1\"\n"
     ]
    },
    {
     "name": "stderr",
     "output_type": "stream",
     "text": [
      "Warning message:\n",
      "“Removed 25 rows containing missing values (geom_segment).”\n"
     ]
    },
    {
     "name": "stdout",
     "output_type": "stream",
     "text": [
      "[1] 15\n",
      "[1] \"Making coverage plots for PNEC\"\n",
      "[1] \"Ascl1\"\n",
      "[1] \"Calca\"\n",
      "[1] \"Grp\"\n",
      "[1] \"Ucma\"\n"
     ]
    },
    {
     "name": "stderr",
     "output_type": "stream",
     "text": [
      "Warning message:\n",
      "“Removed 9 rows containing missing values (position_stack).”\n",
      "Warning message:\n",
      "“Removed 81 rows containing missing values (geom_segment).”\n"
     ]
    },
    {
     "name": "stdout",
     "output_type": "stream",
     "text": [
      "[1] \"Nrxn1\"\n",
      "[1] 16\n",
      "[1] \"Making coverage plots for Tuft\"\n",
      "[1] \"Ascl2\"\n"
     ]
    },
    {
     "name": "stderr",
     "output_type": "stream",
     "text": [
      "Warning message:\n",
      "“Removed 6 rows containing missing values (position_stack).”\n"
     ]
    },
    {
     "name": "stdout",
     "output_type": "stream",
     "text": [
      "[1] \"Pou2f3\"\n"
     ]
    },
    {
     "name": "stderr",
     "output_type": "stream",
     "text": [
      "Warning message:\n",
      "“Removed 1 rows containing missing values (geom_segment).”\n"
     ]
    },
    {
     "name": "stdout",
     "output_type": "stream",
     "text": [
      "[1] \"Il23a\"\n"
     ]
    },
    {
     "name": "stderr",
     "output_type": "stream",
     "text": [
      "Warning message:\n",
      "“Removed 1 rows containing missing values (position_stack).”\n",
      "Warning message:\n",
      "“Removed 18 rows containing missing values (geom_segment).”\n"
     ]
    },
    {
     "name": "stdout",
     "output_type": "stream",
     "text": [
      "[1] 17\n",
      "[1] \"Making coverage plots for Ionocyte\"\n",
      "[1] \"Foxi1\"\n",
      "[1] \"Ascl3\"\n"
     ]
    },
    {
     "name": "stderr",
     "output_type": "stream",
     "text": [
      "Warning message:\n",
      "“Removed 3 rows containing missing values (position_stack).”\n",
      "Warning message:\n",
      "“Removed 15 rows containing missing values (geom_segment).”\n",
      "Warning message:\n",
      "“Removed 1 rows containing missing values (geom_segment).”\n"
     ]
    },
    {
     "name": "stdout",
     "output_type": "stream",
     "text": [
      "[1] \"Cftr\"\n",
      "[1] 18\n",
      "[1] \"Making coverage plots for Basal\"\n",
      "[1] \"Trp63\"\n",
      "[1] \"Krt5\"\n"
     ]
    },
    {
     "name": "stderr",
     "output_type": "stream",
     "text": [
      "Warning message:\n",
      "“Removed 139 rows containing missing values (position_stack).”\n",
      "Warning message:\n",
      "“Removed 4 rows containing missing values (geom_segment).”\n"
     ]
    },
    {
     "name": "stdout",
     "output_type": "stream",
     "text": [
      "[1] \"Gm5478\"\n"
     ]
    },
    {
     "name": "stderr",
     "output_type": "stream",
     "text": [
      "Warning message:\n",
      "“Removed 9 rows containing missing values (geom_segment).”\n"
     ]
    },
    {
     "name": "stdout",
     "output_type": "stream",
     "text": [
      "[1] \"Ngfr\"\n",
      "[1] 19\n",
      "[1] \"Making coverage plots for Secretory\"\n",
      "[1] \"Scgb1a1\"\n"
     ]
    },
    {
     "name": "stderr",
     "output_type": "stream",
     "text": [
      "Warning message:\n",
      "“Removed 33 rows containing missing values (position_stack).”\n",
      "Warning message:\n",
      "“Removed 10 rows containing missing values (geom_segment).”\n"
     ]
    },
    {
     "name": "stdout",
     "output_type": "stream",
     "text": [
      "[1] \"Scube2\"\n",
      "[1] \"Bpifb1\"\n"
     ]
    },
    {
     "name": "stderr",
     "output_type": "stream",
     "text": [
      "Warning message:\n",
      "“Removed 6 rows containing missing values (position_stack).”\n",
      "Warning message:\n",
      "“Removed 13 rows containing missing values (geom_segment).”\n"
     ]
    },
    {
     "name": "stdout",
     "output_type": "stream",
     "text": [
      "[1] \"Lcn2\"\n"
     ]
    },
    {
     "name": "stderr",
     "output_type": "stream",
     "text": [
      "Warning message:\n",
      "“Removed 53 rows containing missing values (geom_segment).”\n"
     ]
    },
    {
     "name": "stdout",
     "output_type": "stream",
     "text": [
      "[1] \"Tspan8\"\n",
      "[1] 20\n",
      "[1] \"Making coverage plots for RAS\"\n",
      "[1] \"Scgb3a2\"\n",
      "[1] \"Klk11\"\n"
     ]
    },
    {
     "name": "stderr",
     "output_type": "stream",
     "text": [
      "Warning message:\n",
      "“Removed 12 rows containing missing values (geom_segment).”\n"
     ]
    },
    {
     "name": "stdout",
     "output_type": "stream",
     "text": [
      "[1] \"Mgp\"\n"
     ]
    },
    {
     "name": "stderr",
     "output_type": "stream",
     "text": [
      "Warning message:\n",
      "“Removed 1 rows containing missing values (position_stack).”\n",
      "Warning message:\n",
      "“Removed 3 rows containing missing values (geom_segment).”\n"
     ]
    },
    {
     "name": "stdout",
     "output_type": "stream",
     "text": [
      "[1] \"Sox4\"\n"
     ]
    },
    {
     "name": "stderr",
     "output_type": "stream",
     "text": [
      "Warning message:\n",
      "“Removed 8 rows containing missing values (position_stack).”\n"
     ]
    },
    {
     "name": "stdout",
     "output_type": "stream",
     "text": [
      "[1] 21\n",
      "[1] \"Making coverage plots for Goblet\"\n",
      "[1] \"Muc5ac\"\n",
      "[1] \"Spdef\"\n"
     ]
    },
    {
     "name": "stderr",
     "output_type": "stream",
     "text": [
      "Warning message:\n",
      "“Removed 106 rows containing missing values (position_stack).”\n",
      "Warning message:\n",
      "“Removed 6 rows containing missing values (geom_segment).”\n"
     ]
    },
    {
     "name": "stdout",
     "output_type": "stream",
     "text": [
      "[1] \"Pcdh7\"\n",
      "[1] \"Slc4a11\"\n"
     ]
    },
    {
     "name": "stderr",
     "output_type": "stream",
     "text": [
      "Warning message:\n",
      "“Removed 5 rows containing missing values (geom_segment).”\n"
     ]
    },
    {
     "name": "stdout",
     "output_type": "stream",
     "text": [
      "[1] \"Agr2\"\n",
      "[1] 22\n",
      "[1] \"Making coverage plots for Mucous\"\n",
      "[1] \"Muc5b\"\n"
     ]
    },
    {
     "name": "stderr",
     "output_type": "stream",
     "text": [
      "Warning message:\n",
      "“Removed 12 rows containing missing values (position_stack).”\n",
      "Warning message:\n",
      "“Removed 21 rows containing missing values (geom_segment).”\n"
     ]
    },
    {
     "name": "stdout",
     "output_type": "stream",
     "text": [
      "[1] \"Spdef\"\n"
     ]
    },
    {
     "name": "stderr",
     "output_type": "stream",
     "text": [
      "Warning message:\n",
      "“Removed 108 rows containing missing values (position_stack).”\n",
      "Warning message:\n",
      "“Removed 6 rows containing missing values (geom_segment).”\n"
     ]
    },
    {
     "name": "stdout",
     "output_type": "stream",
     "text": [
      "[1] \"Bpifb2\"\n"
     ]
    },
    {
     "name": "stderr",
     "output_type": "stream",
     "text": [
      "Warning message:\n",
      "“Removed 3 rows containing missing values (geom_segment).”\n"
     ]
    },
    {
     "name": "stdout",
     "output_type": "stream",
     "text": [
      "[1] \"Muc5ac\"\n",
      "[1] 23\n",
      "[1] \"Making coverage plots for Serous\"\n",
      "[1] \"9530003J23Rik\"\n"
     ]
    },
    {
     "name": "stderr",
     "output_type": "stream",
     "text": [
      "Warning message:\n",
      "“Removed 2 rows containing missing values (geom_segment).”\n"
     ]
    },
    {
     "name": "stdout",
     "output_type": "stream",
     "text": [
      "[1] \"Ltf\"\n"
     ]
    },
    {
     "name": "stderr",
     "output_type": "stream",
     "text": [
      "Warning message:\n",
      "“Removed 2 rows containing missing values (position_stack).”\n"
     ]
    },
    {
     "name": "stdout",
     "output_type": "stream",
     "text": [
      "[1] \"Lpo\"\n",
      "[1] 24\n",
      "[1] \"Making coverage plots for MEC\"\n",
      "[1] \"Krt14\"\n"
     ]
    },
    {
     "name": "stderr",
     "output_type": "stream",
     "text": [
      "Warning message:\n",
      "“Removed 1 rows containing missing values (geom_segment).”\n"
     ]
    },
    {
     "name": "stdout",
     "output_type": "stream",
     "text": [
      "[1] \"Epcam\"\n",
      "[1] \"Myh11\"\n"
     ]
    },
    {
     "name": "stderr",
     "output_type": "stream",
     "text": [
      "Warning message:\n",
      "“Removed 21 rows containing missing values (geom_segment).”\n"
     ]
    },
    {
     "name": "stdout",
     "output_type": "stream",
     "text": [
      "[1] 25\n",
      "[1] \"Making coverage plots for Ciliated\"\n",
      "[1] \"Foxj1\"\n"
     ]
    },
    {
     "name": "stderr",
     "output_type": "stream",
     "text": [
      "Warning message:\n",
      "“Removed 74 rows containing missing values (geom_segment).”\n"
     ]
    },
    {
     "name": "stdout",
     "output_type": "stream",
     "text": [
      "[1] \"Rsph1\"\n"
     ]
    },
    {
     "name": "stderr",
     "output_type": "stream",
     "text": [
      "Warning message:\n",
      "“Removed 37 rows containing missing values (geom_segment).”\n"
     ]
    },
    {
     "name": "stdout",
     "output_type": "stream",
     "text": [
      "[1] \"Cdhr3\"\n",
      "[1] \"Cdhr4\"\n"
     ]
    },
    {
     "name": "stderr",
     "output_type": "stream",
     "text": [
      "Warning message:\n",
      "“Removed 107 rows containing missing values (geom_segment).”\n"
     ]
    },
    {
     "name": "stdout",
     "output_type": "stream",
     "text": [
      "[1] 26\n",
      "[1] \"Making coverage plots for Deuterosomal\"\n",
      "[1] \"Deup1\"\n",
      "[1] 27\n",
      "[1] \"Making coverage plots for SMG Basal/Duct\"\n",
      "[1] \"Krt14\"\n",
      "[1] 28\n",
      "[1] \"Making coverage plots for Suprabasal\"\n",
      "[1] \"Krt19\"\n",
      "[1] \"Serpinb3a\"\n"
     ]
    },
    {
     "name": "stderr",
     "output_type": "stream",
     "text": [
      "Warning message:\n",
      "“Removed 5 rows containing missing values (position_stack).”\n"
     ]
    },
    {
     "name": "stdout",
     "output_type": "stream",
     "text": [
      "[1] \"Serpinb3d\"\n",
      "[1] \"Serpinb3c\"\n"
     ]
    },
    {
     "name": "stderr",
     "output_type": "stream",
     "text": [
      "Warning message:\n",
      "“Removed 15 rows containing missing values (geom_segment).”\n"
     ]
    },
    {
     "name": "stdout",
     "output_type": "stream",
     "text": [
      "[1] \"Serpinb3b\"\n",
      "[1] \"Notch3\"\n",
      "[1] 29\n",
      "[1] \"Making coverage plots for AT1\"\n",
      "[1] \"Ager\"\n"
     ]
    },
    {
     "name": "stderr",
     "output_type": "stream",
     "text": [
      "Warning message:\n",
      "“Removed 36 rows containing missing values (position_stack).”\n",
      "Warning message:\n",
      "“Removed 94 rows containing missing values (geom_segment).”\n"
     ]
    },
    {
     "name": "stdout",
     "output_type": "stream",
     "text": [
      "[1] \"Rtkn2\"\n",
      "[1] \"Sema3b\"\n"
     ]
    },
    {
     "name": "stderr",
     "output_type": "stream",
     "text": [
      "Warning message:\n",
      "“Removed 59 rows containing missing values (geom_segment).”\n",
      "Warning message:\n",
      "“Removed 1 rows containing missing values (geom_segment).”\n"
     ]
    },
    {
     "name": "stdout",
     "output_type": "stream",
     "text": [
      "[1] 30\n",
      "[1] \"Making coverage plots for AT2\"\n",
      "[1] \"Abca3\"\n"
     ]
    },
    {
     "name": "stderr",
     "output_type": "stream",
     "text": [
      "Warning message:\n",
      "“Removed 76 rows containing missing values (geom_segment).”\n",
      "Warning message:\n",
      "“Removed 1 rows containing missing values (geom_segment).”\n"
     ]
    },
    {
     "name": "stdout",
     "output_type": "stream",
     "text": [
      "[1] \"Kcnj15\"\n",
      "[1] 31\n",
      "[1] \"Making coverage plots for AM\"\n",
      "[1] \"Siglec1\"\n"
     ]
    },
    {
     "name": "stderr",
     "output_type": "stream",
     "text": [
      "Warning message:\n",
      "“Removed 34 rows containing missing values (position_stack).”\n",
      "Warning message:\n",
      "“Removed 60 rows containing missing values (geom_segment).”\n"
     ]
    },
    {
     "name": "stdout",
     "output_type": "stream",
     "text": [
      "[1] \"Abcg1\"\n",
      "[1] \"Fabp4\"\n"
     ]
    },
    {
     "name": "stderr",
     "output_type": "stream",
     "text": [
      "Warning message:\n",
      "“Removed 3 rows containing missing values (geom_segment).”\n"
     ]
    },
    {
     "name": "stdout",
     "output_type": "stream",
     "text": [
      "[1] \"Pparg\"\n",
      "[1] \"Marco\"\n",
      "[1] \"Cd5l\"\n",
      "[1] \"Cyp27a1\"\n"
     ]
    },
    {
     "name": "stderr",
     "output_type": "stream",
     "text": [
      "Warning message:\n",
      "“Removed 133 rows containing missing values (geom_segment).”\n"
     ]
    },
    {
     "name": "stdout",
     "output_type": "stream",
     "text": [
      "[1] 32\n",
      "[1] \"Making coverage plots for IM\"\n",
      "[1] \"Slc40a1\"\n"
     ]
    },
    {
     "name": "stderr",
     "output_type": "stream",
     "text": [
      "Warning message:\n",
      "“Removed 16 rows containing missing values (position_stack).”\n"
     ]
    },
    {
     "name": "stdout",
     "output_type": "stream",
     "text": [
      "[1] \"Folr2\"\n"
     ]
    },
    {
     "name": "stderr",
     "output_type": "stream",
     "text": [
      "Warning message:\n",
      "“Removed 32 rows containing missing values (position_stack).”\n",
      "Warning message:\n",
      "“Removed 9 rows containing missing values (geom_segment).”\n"
     ]
    },
    {
     "name": "stdout",
     "output_type": "stream",
     "text": [
      "[1] \"F13a1\"\n"
     ]
    },
    {
     "name": "stderr",
     "output_type": "stream",
     "text": [
      "Warning message:\n",
      "“Removed 2 rows containing missing values (position_stack).”\n"
     ]
    },
    {
     "name": "stdout",
     "output_type": "stream",
     "text": [
      "[1] \"Stab1\"\n"
     ]
    },
    {
     "name": "stderr",
     "output_type": "stream",
     "text": [
      "Warning message:\n",
      "“Removed 1 rows containing missing values (position_stack).”\n",
      "Warning message:\n",
      "“Removed 137 rows containing missing values (geom_segment).”\n"
     ]
    },
    {
     "name": "stdout",
     "output_type": "stream",
     "text": [
      "[1] 33\n",
      "[1] \"Making coverage plots for iMON\"\n",
      "[1] \"Cd14\"\n"
     ]
    },
    {
     "name": "stderr",
     "output_type": "stream",
     "text": [
      "Warning message:\n",
      "“Removed 120 rows containing missing values (position_stack).”\n"
     ]
    },
    {
     "name": "stdout",
     "output_type": "stream",
     "text": [
      "[1] \"Fcnb\"\n",
      "[1] \"Vcan\"\n"
     ]
    },
    {
     "name": "stderr",
     "output_type": "stream",
     "text": [
      "Warning message:\n",
      "“Removed 2 rows containing missing values (geom_segment).”\n"
     ]
    },
    {
     "name": "stdout",
     "output_type": "stream",
     "text": [
      "[1] \"Fcgr4\"\n",
      "[1] 34\n",
      "[1] \"Making coverage plots for pMON\"\n",
      "[1] \"Fcnb\"\n",
      "[1] \"Tnfrsf8\"\n",
      "[1] \"Fcgr4\"\n",
      "[1] 35\n",
      "[1] \"Making coverage plots for cDC1\"\n",
      "[1] \"Clec9a\"\n"
     ]
    },
    {
     "name": "stderr",
     "output_type": "stream",
     "text": [
      "Warning message:\n",
      "“Removed 29 rows containing missing values (position_stack).”\n",
      "Warning message:\n",
      "“Removed 5 rows containing missing values (geom_segment).”\n"
     ]
    },
    {
     "name": "stdout",
     "output_type": "stream",
     "text": [
      "[1] \"Flt3\"\n"
     ]
    },
    {
     "name": "stderr",
     "output_type": "stream",
     "text": [
      "Warning message:\n",
      "“Removed 22 rows containing missing values (position_stack).”\n",
      "Warning message:\n",
      "“Removed 1 rows containing missing values (geom_segment).”\n"
     ]
    },
    {
     "name": "stdout",
     "output_type": "stream",
     "text": [
      "[1] \"Zbtb46\"\n"
     ]
    },
    {
     "name": "stderr",
     "output_type": "stream",
     "text": [
      "Warning message:\n",
      "“Removed 4 rows containing missing values (position_stack).”\n",
      "Warning message:\n",
      "“Removed 5 rows containing missing values (geom_segment).”\n"
     ]
    },
    {
     "name": "stdout",
     "output_type": "stream",
     "text": [
      "[1] 36\n",
      "[1] \"Making coverage plots for cDC2\"\n",
      "[1] \"Clec10a\"\n"
     ]
    },
    {
     "name": "stderr",
     "output_type": "stream",
     "text": [
      "Warning message:\n",
      "“Removed 30 rows containing missing values (position_stack).”\n"
     ]
    },
    {
     "name": "stdout",
     "output_type": "stream",
     "text": [
      "[1] \"Mgl2\"\n",
      "[1] \"Fcgr2b\"\n",
      "[1] \"Fcgr3\"\n",
      "[1] 37\n",
      "[1] \"Making coverage plots for pDC\"\n",
      "[1] \"Clec4b1\"\n",
      "[1] \"Clec4a2\"\n",
      "[1] \"Clec4a3\"\n"
     ]
    },
    {
     "name": "stderr",
     "output_type": "stream",
     "text": [
      "Warning message:\n",
      "“Removed 92 rows containing missing values (position_stack).”\n"
     ]
    },
    {
     "name": "stdout",
     "output_type": "stream",
     "text": [
      "[1] \"Clec4a4\"\n"
     ]
    },
    {
     "name": "stderr",
     "output_type": "stream",
     "text": [
      "Warning message:\n",
      "“Removed 63 rows containing missing values (position_stack).”\n"
     ]
    },
    {
     "name": "stdout",
     "output_type": "stream",
     "text": [
      "[1] \"Clec4b2\"\n",
      "[1] \"Pld4\"\n"
     ]
    },
    {
     "name": "stderr",
     "output_type": "stream",
     "text": [
      "Warning message:\n",
      "“Removed 1 rows containing missing values (position_stack).”\n",
      "Warning message:\n",
      "“Removed 66 rows containing missing values (geom_segment).”\n"
     ]
    },
    {
     "name": "stdout",
     "output_type": "stream",
     "text": [
      "[1] 38\n",
      "[1] \"Making coverage plots for maDC\"\n",
      "[1] \"Ccr7\"\n"
     ]
    },
    {
     "name": "stderr",
     "output_type": "stream",
     "text": [
      "Warning message:\n",
      "“Removed 8 rows containing missing values (position_stack).”\n"
     ]
    },
    {
     "name": "stdout",
     "output_type": "stream",
     "text": [
      "[1] \"Ccl19\"\n"
     ]
    },
    {
     "name": "stderr",
     "output_type": "stream",
     "text": [
      "Warning message:\n",
      "“Removed 10 rows containing missing values (geom_segment).”\n"
     ]
    },
    {
     "name": "stdout",
     "output_type": "stream",
     "text": [
      "[1] \"Nccrp1\"\n"
     ]
    },
    {
     "name": "stderr",
     "output_type": "stream",
     "text": [
      "Warning message:\n",
      "“Removed 37 rows containing missing values (geom_segment).”\n"
     ]
    },
    {
     "name": "stdout",
     "output_type": "stream",
     "text": [
      "[1] \"Lad1\"\n"
     ]
    },
    {
     "name": "stderr",
     "output_type": "stream",
     "text": [
      "Warning message:\n",
      "“Removed 198 rows containing missing values (geom_segment).”\n"
     ]
    },
    {
     "name": "stdout",
     "output_type": "stream",
     "text": [
      "[1] 39\n",
      "[1] \"Making coverage plots for Neutrophil\"\n",
      "[1] \"Il1b\"\n",
      "[1] \"Csf3r\"\n"
     ]
    },
    {
     "name": "stderr",
     "output_type": "stream",
     "text": [
      "Warning message:\n",
      "“Removed 10 rows containing missing values (position_stack).”\n",
      "Warning message:\n",
      "“Removed 8 rows containing missing values (geom_segment).”\n"
     ]
    },
    {
     "name": "stdout",
     "output_type": "stream",
     "text": [
      "[1] \"Fcgr4\"\n",
      "[1] 40\n",
      "[1] \"Making coverage plots for Mast/Basophil\"\n",
      "[1] \"Ms4a2\"\n",
      "[1] 41\n",
      "[1] \"Making coverage plots for ILC\"\n",
      "[1] \"Il7r\"\n"
     ]
    },
    {
     "name": "stderr",
     "output_type": "stream",
     "text": [
      "Warning message:\n",
      "“Removed 2 rows containing missing values (position_stack).”\n"
     ]
    },
    {
     "name": "stdout",
     "output_type": "stream",
     "text": [
      "[1] \"Cxcr3\"\n",
      "[1] \"Tbx21\"\n"
     ]
    },
    {
     "name": "stderr",
     "output_type": "stream",
     "text": [
      "Warning message:\n",
      "“Removed 27 rows containing missing values (position_stack).”\n"
     ]
    },
    {
     "name": "stdout",
     "output_type": "stream",
     "text": [
      "[1] \"Eomes\"\n",
      "[1] \"Cd3e\"\n"
     ]
    },
    {
     "name": "stderr",
     "output_type": "stream",
     "text": [
      "Warning message:\n",
      "“Removed 10 rows containing missing values (position_stack).”\n",
      "Warning message:\n",
      "“Removed 1 rows containing missing values (geom_segment).”\n"
     ]
    },
    {
     "name": "stdout",
     "output_type": "stream",
     "text": [
      "[1] \"Cd3d\"\n"
     ]
    },
    {
     "name": "stderr",
     "output_type": "stream",
     "text": [
      "Warning message:\n",
      "“Removed 10 rows containing missing values (position_stack).”\n"
     ]
    },
    {
     "name": "stdout",
     "output_type": "stream",
     "text": [
      "[1] \"Cd3g\"\n"
     ]
    },
    {
     "name": "stderr",
     "output_type": "stream",
     "text": [
      "Warning message:\n",
      "“Removed 74 rows containing missing values (geom_segment).”\n"
     ]
    },
    {
     "name": "stdout",
     "output_type": "stream",
     "text": [
      "[1] \"Cd14\"\n"
     ]
    },
    {
     "name": "stderr",
     "output_type": "stream",
     "text": [
      "Warning message:\n",
      "“Removed 115 rows containing missing values (position_stack).”\n"
     ]
    },
    {
     "name": "stdout",
     "output_type": "stream",
     "text": [
      "[1] \"Fcgr4\"\n",
      "[1] \"Cd19\"\n"
     ]
    },
    {
     "name": "stderr",
     "output_type": "stream",
     "text": [
      "Warning message:\n",
      "“Removed 18 rows containing missing values (position_stack).”\n",
      "Warning message:\n",
      "“Removed 8 rows containing missing values (geom_segment).”\n"
     ]
    },
    {
     "name": "stdout",
     "output_type": "stream",
     "text": [
      "[1] \"Ms4a1\"\n",
      "[1] \"Ncam1\"\n"
     ]
    },
    {
     "name": "stderr",
     "output_type": "stream",
     "text": [
      "Warning message:\n",
      "“Removed 2 rows containing missing values (position_stack).”\n"
     ]
    },
    {
     "name": "stdout",
     "output_type": "stream",
     "text": [
      "[1] 42\n",
      "[1] \"Making coverage plots for NK\"\n",
      "[1] \"Nkg7\"\n"
     ]
    },
    {
     "name": "stderr",
     "output_type": "stream",
     "text": [
      "Warning message:\n",
      "“Removed 1 rows containing missing values (geom_segment).”\n"
     ]
    },
    {
     "name": "stdout",
     "output_type": "stream",
     "text": [
      "[1] \"Klrd1\"\n"
     ]
    },
    {
     "name": "stderr",
     "output_type": "stream",
     "text": [
      "Warning message:\n",
      "“Removed 3 rows containing missing values (position_stack).”\n"
     ]
    },
    {
     "name": "stdout",
     "output_type": "stream",
     "text": [
      "[1] \"Klrc1\"\n"
     ]
    },
    {
     "name": "stderr",
     "output_type": "stream",
     "text": [
      "Warning message:\n",
      "“Removed 7 rows containing missing values (position_stack).”\n",
      "Warning message:\n",
      "“Removed 5 rows containing missing values (geom_segment).”\n"
     ]
    },
    {
     "name": "stdout",
     "output_type": "stream",
     "text": [
      "[1] \"Klrc3\"\n"
     ]
    },
    {
     "name": "stderr",
     "output_type": "stream",
     "text": [
      "Warning message:\n",
      "“Removed 13 rows containing missing values (position_stack).”\n",
      "Warning message:\n",
      "“Removed 34 rows containing missing values (geom_segment).”\n",
      "Warning message:\n",
      "“Removed 1 rows containing missing values (geom_segment).”\n"
     ]
    },
    {
     "name": "stdout",
     "output_type": "stream",
     "text": [
      "[1] \"Klri2\"\n"
     ]
    },
    {
     "name": "stderr",
     "output_type": "stream",
     "text": [
      "Warning message:\n",
      "“Removed 5 rows containing missing values (geom_segment).”\n"
     ]
    },
    {
     "name": "stdout",
     "output_type": "stream",
     "text": [
      "[1] \"Clec2m\"\n",
      "[1] 43\n",
      "[1] \"Making coverage plots for Treg\"\n",
      "[1] \"Foxp3\"\n"
     ]
    },
    {
     "name": "stderr",
     "output_type": "stream",
     "text": [
      "Warning message:\n",
      "“Removed 2 rows containing missing values (position_stack).”\n",
      "Warning message:\n",
      "“Removed 27 rows containing missing values (geom_segment).”\n"
     ]
    },
    {
     "name": "stdout",
     "output_type": "stream",
     "text": [
      "[1] \"Ctla4\"\n",
      "[1] \"Il2ra\"\n",
      "[1] 44\n",
      "[1] \"Making coverage plots for CD8_T\"\n",
      "[1] \"Cd3e\"\n"
     ]
    },
    {
     "name": "stderr",
     "output_type": "stream",
     "text": [
      "Warning message:\n",
      "“Removed 12 rows containing missing values (position_stack).”\n",
      "Warning message:\n",
      "“Removed 1 rows containing missing values (geom_segment).”\n"
     ]
    },
    {
     "name": "stdout",
     "output_type": "stream",
     "text": [
      "[1] \"Cd8a\"\n",
      "[1] \"Cd8b1\"\n"
     ]
    },
    {
     "name": "stderr",
     "output_type": "stream",
     "text": [
      "Warning message:\n",
      "“Removed 32 rows containing missing values (geom_segment).”\n"
     ]
    },
    {
     "name": "stdout",
     "output_type": "stream",
     "text": [
      "[1] 45\n",
      "[1] \"Making coverage plots for CD4_T\"\n",
      "[1] \"Cd3e\"\n"
     ]
    },
    {
     "name": "stderr",
     "output_type": "stream",
     "text": [
      "Warning message:\n",
      "“Removed 8 rows containing missing values (position_stack).”\n",
      "Warning message:\n",
      "“Removed 1 rows containing missing values (geom_segment).”\n"
     ]
    },
    {
     "name": "stdout",
     "output_type": "stream",
     "text": [
      "[1] \"Mal\"\n"
     ]
    },
    {
     "name": "stderr",
     "output_type": "stream",
     "text": [
      "Warning message:\n",
      "“Removed 2 rows containing missing values (position_stack).”\n"
     ]
    },
    {
     "name": "stdout",
     "output_type": "stream",
     "text": [
      "[1] \"Cd40lg\"\n"
     ]
    },
    {
     "name": "stderr",
     "output_type": "stream",
     "text": [
      "Warning message:\n",
      "“Removed 9 rows containing missing values (position_stack).”\n"
     ]
    },
    {
     "name": "stdout",
     "output_type": "stream",
     "text": [
      "[1] \"Cd4\"\n"
     ]
    },
    {
     "name": "stderr",
     "output_type": "stream",
     "text": [
      "Warning message:\n",
      "“Removed 15 rows containing missing values (position_stack).”\n",
      "Warning message:\n",
      "“Removed 17 rows containing missing values (geom_segment).”\n"
     ]
    },
    {
     "name": "stdout",
     "output_type": "stream",
     "text": [
      "[1] \"Lef1\"\n",
      "[1] 46\n",
      "[1] \"Making coverage plots for B\"\n",
      "[1] \"Cd19\"\n"
     ]
    },
    {
     "name": "stderr",
     "output_type": "stream",
     "text": [
      "Warning message:\n",
      "“Removed 20 rows containing missing values (position_stack).”\n",
      "Warning message:\n",
      "“Removed 8 rows containing missing values (geom_segment).”\n"
     ]
    },
    {
     "name": "stdout",
     "output_type": "stream",
     "text": [
      "[1] \"Ms4a1\"\n",
      "[1] \"Bank1\"\n"
     ]
    },
    {
     "name": "stderr",
     "output_type": "stream",
     "text": [
      "Warning message:\n",
      "“Removed 9 rows containing missing values (position_stack).”\n"
     ]
    },
    {
     "name": "stdout",
     "output_type": "stream",
     "text": [
      "[1] 47\n",
      "[1] \"Making coverage plots for Plasma\"\n",
      "[1] \"Cd27\"\n"
     ]
    },
    {
     "name": "stderr",
     "output_type": "stream",
     "text": [
      "Warning message:\n",
      "“Removed 4 rows containing missing values (geom_segment).”\n"
     ]
    },
    {
     "name": "stdout",
     "output_type": "stream",
     "text": [
      "[1] \"Sdc1\"\n"
     ]
    },
    {
     "name": "stderr",
     "output_type": "stream",
     "text": [
      "Warning message:\n",
      "“Removed 20 rows containing missing values (position_stack).”\n"
     ]
    },
    {
     "name": "stdout",
     "output_type": "stream",
     "text": [
      "[1] \"Cd38\"\n"
     ]
    },
    {
     "name": "stderr",
     "output_type": "stream",
     "text": [
      "Warning message:\n",
      "“Removed 1 rows containing missing values (position_stack).”\n"
     ]
    },
    {
     "name": "stdout",
     "output_type": "stream",
     "text": [
      "[1] 48\n",
      "[1] \"Making coverage plots for Megakaryocyte/Platelet\"\n",
      "[1] \"Itga2b\"\n"
     ]
    }
   ],
   "source": [
    "for (i in 14:length(cc.gene.set)) {\n",
    "  \n",
    "  skip_to_next <- FALSE\n",
    "\n",
    "  # Note that print(b) fails since b doesn't exist\n",
    "  print(i)\n",
    "  tryCatch( \n",
    "            generateCovPlot(i)\n",
    "           , error = function(e) { \n",
    "               skip_to_next <<- TRUE})\n",
    "\n",
    "  if(skip_to_next) { next }  \n",
    "    \n",
    "    \n",
    "}"
   ]
  },
  {
   "cell_type": "code",
   "execution_count": null,
   "id": "a1daf18e",
   "metadata": {},
   "outputs": [],
   "source": [
    "## for me3"
   ]
  },
  {
   "cell_type": "code",
   "execution_count": null,
   "id": "ef4dee4f",
   "metadata": {},
   "outputs": [],
   "source": [
    "sobj_H3K27me3_cln <- readRDS(\"/projects/ps-epigen/users/cmiciano/Lung/lungmap_3/06_paired_tag_integ_H3K27me3/240105_03_indiv_h3k27me3.\")"
   ]
  },
  {
   "cell_type": "code",
   "execution_count": null,
   "id": "f6e57aa5",
   "metadata": {},
   "outputs": [],
   "source": [
    "dir.create(\"/projects/ps-epigen/users/cmiciano/Lung/lungmap_3/outputs/paired_tag/coverage_plots/240106/H3K27me3/\")"
   ]
  },
  {
   "cell_type": "code",
   "execution_count": null,
   "id": "8196dc1d",
   "metadata": {},
   "outputs": [],
   "source": [
    "outdir <- \"/projects/ps-epigen/users/cmiciano/Lung/lungmap_3/outputs/paired_tag/coverage_plots/240106/H3K27me3/\""
   ]
  },
  {
   "cell_type": "code",
   "execution_count": null,
   "id": "c8bd58f3",
   "metadata": {},
   "outputs": [],
   "source": [
    "# iterate through gene set for each celltype and write out coverage plots\n",
    "\n",
    "for (i in 1:length(cc.gene.set)) {\n",
    "    gene_set_mm10 <-  gorth(cc.gene.set[[i]], source_organism = \"hsapiens\", \n",
    "                     target_organism = \"mmusculus\")$ortholog_name\n",
    "    print(paste0(\"Making coverage plots for \", names(cc.gene.set)[[i]]))\n",
    "    for (gene in gene_set_mm10) {\n",
    "        print(gene)\n",
    "        pdf(paste0(outdir, assay, \"_\", names(cc.gene.set)[[i]], \"_\", gene, \".pdf\"))\n",
    "        print(CoveragePlot(sobj_H3K27me3_cln, region = gene, annotation = T, window = 2000, peaks = F, \n",
    "                 extend.upstream = 15000, extend.downstream = 5000, group.by = \"celltype_v04\") )\n",
    "        dev.off()\n",
    "    }\n",
    "}"
   ]
  },
  {
   "cell_type": "code",
   "execution_count": null,
   "id": "60c54d27",
   "metadata": {},
   "outputs": [],
   "source": [
    "ATAC_LEC_Ccl21d.pdf "
   ]
  },
  {
   "cell_type": "code",
   "execution_count": 51,
   "id": "766f77c0",
   "metadata": {},
   "outputs": [
    {
     "ename": "ERROR",
     "evalue": "Error in is.data.frame(x): object 'sobj_H3K27me3_cln' not found\n",
     "output_type": "error",
     "traceback": [
      "Error in is.data.frame(x): object 'sobj_H3K27me3_cln' not found\nTraceback:\n",
      "1. print(CoveragePlot(sobj_H3K27me3_cln, region = gene, annotation = T, \n .     window = 2000, peaks = F, extend.upstream = 15000, extend.downstream = 5000, \n .     group.by = \"celltype_v04\"))",
      "2. CoveragePlot(sobj_H3K27me3_cln, region = gene, annotation = T, \n .     window = 2000, peaks = F, extend.upstream = 15000, extend.downstream = 5000, \n .     group.by = \"celltype_v04\")",
      "3. SingleCoveragePlot(object = object, region = region, annotation = annotation, \n .     features = features, expression.assay = expression.assay, \n .     expression.slot = expression.slot, show.bulk = show.bulk, \n .     peaks = peaks, peaks.group.by = peaks.group.by, ranges = ranges, \n .     ranges.group.by = ranges.group.by, ranges.title = ranges.title, \n .     region.highlight = region.highlight, assay = assay, links = links, \n .     tile = tile, tile.size = tile.size, tile.cells = tile.cells, \n .     bigwig = bigwig, bigwig.type = bigwig.type, group.by = group.by, \n .     window = window, extend.upstream = extend.upstream, extend.downstream = extend.downstream, \n .     ymax = ymax, scale.factor = scale.factor, cells = cells, \n .     idents = idents, sep = sep, heights = heights, max.downsample = max.downsample, \n .     downsample.rate = downsample.rate)",
      "4. SetIfNull(x = cells, y = colnames(x = object))",
      "5. colnames(x = object)",
      "6. is.data.frame(x)"
     ]
    }
   ],
   "source": [
    "print(CoveragePlot(sobj_H3K27me3_cln, region = gene, annotation = T, window = 2000, peaks = F, \n",
    "                 extend.upstream = 15000, extend.downstream = 5000, group.by = \"celltype_v04\") )"
   ]
  },
  {
   "cell_type": "code",
   "execution_count": 24,
   "id": "ad367450",
   "metadata": {},
   "outputs": [
    {
     "data": {
      "text/html": [
       "'AF1'"
      ],
      "text/latex": [
       "'AF1'"
      ],
      "text/markdown": [
       "'AF1'"
      ],
      "text/plain": [
       "[1] \"AF1\""
      ]
     },
     "metadata": {},
     "output_type": "display_data"
    }
   ],
   "source": [
    "names(cc.gene.set)[[1]]"
   ]
  },
  {
   "cell_type": "code",
   "execution_count": null,
   "id": "d0330b6a",
   "metadata": {},
   "outputs": [],
   "source": [
    "pdf()"
   ]
  }
 ],
 "metadata": {
  "kernelspec": {
   "display_name": "R [conda env:ressen3]",
   "language": "R",
   "name": "conda-env-ressen3-r"
  },
  "language_info": {
   "codemirror_mode": "r",
   "file_extension": ".r",
   "mimetype": "text/x-r-source",
   "name": "R",
   "pygments_lexer": "r",
   "version": "4.1.1"
  }
 },
 "nbformat": 4,
 "nbformat_minor": 5
}
