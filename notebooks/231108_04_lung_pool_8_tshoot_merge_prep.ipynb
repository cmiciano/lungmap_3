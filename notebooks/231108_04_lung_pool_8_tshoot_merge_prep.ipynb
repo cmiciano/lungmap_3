{
 "cells": [
  {
   "cell_type": "code",
   "execution_count": 1,
   "id": "a4b5cbbc",
   "metadata": {},
   "outputs": [
    {
     "name": "stderr",
     "output_type": "stream",
     "text": [
      "The legacy packages maptools, rgdal, and rgeos, underpinning the sp package,\n",
      "which was just loaded, will retire in October 2023.\n",
      "Please refer to R-spatial evolution reports for details, especially\n",
      "https://r-spatial.org/r/2023/05/15/evolution4.html.\n",
      "It may be desirable to make the sf package available;\n",
      "package maintainers should consider adding sf to Suggests:.\n",
      "The sp package is now running under evolution status 2\n",
      "     (status 2 uses the sf package in place of rgdal)\n",
      "\n",
      "Attaching SeuratObject\n",
      "\n",
      "Loading required package: stats4\n",
      "\n",
      "Loading required package: BiocGenerics\n",
      "\n",
      "\n",
      "Attaching package: ‘BiocGenerics’\n",
      "\n",
      "\n",
      "The following objects are masked from ‘package:stats’:\n",
      "\n",
      "    IQR, mad, sd, var, xtabs\n",
      "\n",
      "\n",
      "The following objects are masked from ‘package:base’:\n",
      "\n",
      "    anyDuplicated, append, as.data.frame, basename, cbind, colnames,\n",
      "    dirname, do.call, duplicated, eval, evalq, Filter, Find, get, grep,\n",
      "    grepl, intersect, is.unsorted, lapply, Map, mapply, match, mget,\n",
      "    order, paste, pmax, pmax.int, pmin, pmin.int, Position, rank,\n",
      "    rbind, Reduce, rownames, sapply, setdiff, sort, table, tapply,\n",
      "    union, unique, unsplit, which.max, which.min\n",
      "\n",
      "\n",
      "Loading required package: S4Vectors\n",
      "\n",
      "\n",
      "Attaching package: ‘S4Vectors’\n",
      "\n",
      "\n",
      "The following objects are masked from ‘package:base’:\n",
      "\n",
      "    expand.grid, I, unname\n",
      "\n",
      "\n",
      "Loading required package: IRanges\n",
      "\n",
      "Loading required package: GenomeInfoDb\n",
      "\n",
      "Warning message:\n",
      "“package ‘GenomeInfoDb’ was built under R version 4.1.3”\n"
     ]
    }
   ],
   "source": [
    "library(Seurat)\n",
    "library(Signac)\n",
    "library(parallel)\n",
    "library(GenomicRanges)"
   ]
  },
  {
   "cell_type": "code",
   "execution_count": null,
   "id": "19506347",
   "metadata": {},
   "outputs": [],
   "source": [
    "# trying to figure out why \n",
    "\n",
    "# Error: Can't extract columns that don't exist.\n",
    "# x Column ranges doesn't exist.\n",
    "\n",
    "#https://github.com/stuart-lab/signac/issues/221"
   ]
  },
  {
   "cell_type": "code",
   "execution_count": 63,
   "id": "8e5078bc",
   "metadata": {},
   "outputs": [],
   "source": [
    "read_objects <- function(ipath1, ipath2=NULL){\n",
    "    objs <- list.files(ipath1)[c(1,3)]\n",
    "    obj_list <- c()\n",
    "\n",
    "    for(o in objs){\n",
    "        temp_obj <- readRDS(paste0(ipath1,o))\n",
    "        rownames(temp_obj@meta.data) <- temp_obj$BARCODE\n",
    "        obj_list <- append(obj_list, temp_obj)\n",
    "    }\n",
    "\n",
    "    if (is.null(ipath2) == FALSE){\n",
    "        objs2 <- list.files(ipath2)\n",
    "        for(o in objs2){\n",
    "        temp_obj2 <- readRDS(paste0(ipath2,o))\n",
    "        obj_list <- append(obj_list, temp_obj2)\n",
    "        }\n",
    "    }\n",
    "\n",
    "    return(obj_list)\n",
    "}\n"
   ]
  },
  {
   "cell_type": "code",
   "execution_count": 71,
   "id": "d7800479",
   "metadata": {},
   "outputs": [],
   "source": [
    "\n",
    "# Prepare objects for merging\n",
    "merge_prep <- function(sobj){\n",
    "    #### Extract fragments as frags objects from each dataset\n",
    "    frags <- Fragments(sobj)\n",
    "    #### Built feature matrices\n",
    "    counts <- FeatureMatrix(\n",
    "      fragments = frags,\n",
    "      features = combined.peaks,\n",
    "      cells = rownames(sobj@meta.data)\n",
    "    )\n",
    "    print(head(rownames(sobj@meta.data)))\n",
    "    #print(counts )\n",
    "    #### Create Chromatin assays.. obviously\n",
    "    # for the multiome, originally did min.features = -1 for each individual obj\n",
    "    # orig only min.features = -1 for lung pool 4 \n",
    "    # min.features = 1 min.cells = 1 doesn't work\n",
    "    assay <- CreateChromatinAssay(counts, fragments = frags, min.features = -1)\n",
    "    #### Create new object from each assay\n",
    "    # ******* change project to orig.ident if appropriate *******\n",
    "    sobj[[\"ATAC_comb\"]] <- assay\n",
    "    return(sobj)\n",
    "}\n",
    "\n"
   ]
  },
  {
   "cell_type": "code",
   "execution_count": 74,
   "id": "4675c39a",
   "metadata": {},
   "outputs": [],
   "source": [
    "# NOTE may need to change\n",
    "extract_samp_nm <- function(obs_list){\n",
    "    samp_nms <- c()\n",
    "    for (o in obs_list) {\n",
    "        samp_nm <- as.character(o@meta.data$orig.ident[1])\n",
    "        samp_nms <- append(samp_nms, samp_nm)\n",
    "    }\n",
    "    return(samp_nms)\n",
    "}\n",
    "\n"
   ]
  },
  {
   "cell_type": "code",
   "execution_count": 59,
   "id": "2d156608",
   "metadata": {},
   "outputs": [
    {
     "data": {
      "text/html": [
       "<style>\n",
       ".list-inline {list-style: none; margin:0; padding: 0}\n",
       ".list-inline>li {display: inline-block}\n",
       ".list-inline>li:not(:last-child)::after {content: \"\\00b7\"; padding: 0 .5ex}\n",
       "</style>\n",
       "<ol class=list-inline><li>'/home/rlancione/ps-epigen/users/rlan/Donor_Demultiplexing/Objects//QY_2225_2_QY_2224_2_DF.0.05.RDS'</li><li>'/home/rlancione/ps-epigen/users/rlan/Donor_Demultiplexing/Objects//QY_2227_2_QY_2226_2_DF.0.05.RDS'</li></ol>\n"
      ],
      "text/latex": [
       "\\begin{enumerate*}\n",
       "\\item '/home/rlancione/ps-epigen/users/rlan/Donor\\_Demultiplexing/Objects//QY\\_2225\\_2\\_QY\\_2224\\_2\\_DF.0.05.RDS'\n",
       "\\item '/home/rlancione/ps-epigen/users/rlan/Donor\\_Demultiplexing/Objects//QY\\_2227\\_2\\_QY\\_2226\\_2\\_DF.0.05.RDS'\n",
       "\\end{enumerate*}\n"
      ],
      "text/markdown": [
       "1. '/home/rlancione/ps-epigen/users/rlan/Donor_Demultiplexing/Objects//QY_2225_2_QY_2224_2_DF.0.05.RDS'\n",
       "2. '/home/rlancione/ps-epigen/users/rlan/Donor_Demultiplexing/Objects//QY_2227_2_QY_2226_2_DF.0.05.RDS'\n",
       "\n",
       "\n"
      ],
      "text/plain": [
       "[1] \"/home/rlancione/ps-epigen/users/rlan/Donor_Demultiplexing/Objects//QY_2225_2_QY_2224_2_DF.0.05.RDS\"\n",
       "[2] \"/home/rlancione/ps-epigen/users/rlan/Donor_Demultiplexing/Objects//QY_2227_2_QY_2226_2_DF.0.05.RDS\""
      ]
     },
     "metadata": {},
     "output_type": "display_data"
    }
   ],
   "source": [
    "list.files(ipath1, full.names = T)[c(1,3)]"
   ]
  },
  {
   "cell_type": "code",
   "execution_count": 64,
   "id": "b16be828",
   "metadata": {},
   "outputs": [
    {
     "data": {
      "text/plain": [
       "[1] \"2023-11-08 15:41:43 PST\""
      ]
     },
     "metadata": {},
     "output_type": "display_data"
    },
    {
     "data": {
      "text/plain": [
       "[1] \"2023-11-08 15:42:17 PST\""
      ]
     },
     "metadata": {},
     "output_type": "display_data"
    }
   ],
   "source": [
    "\n",
    "args = commandArgs(trailingOnly=TRUE)\n",
    "ipath1 <- \"/home/rlancione/ps-epigen/users/rlan/Donor_Demultiplexing/Objects/\"\n",
    "outp <- \"/oasis/tscc/scratch/cmiciano/Lung/lungmap_3/04_multiome_merge_8/\"\n",
    "proj <- \"231108_merged_multiome_lung8\"\n",
    "# min.features = -1 important \n",
    "# for cells with 0 features, end up in infinite loop without this if the cell numbers are different between rna and atac\n",
    "#ipath1 <- \"/projects/ps-epigen/users/cmiciano/SenNet_Multiome/07_DoubletFinder_Rep2/df_objs_md_liver/\"\n",
    "\n",
    "Sys.time()\n",
    "li <- read_objects(ipath1=ipath1)\n",
    "Sys.time()\n"
   ]
  },
  {
   "cell_type": "code",
   "execution_count": 65,
   "id": "054da2e9",
   "metadata": {},
   "outputs": [
    {
     "data": {
      "text/plain": [
       "[[1]]\n",
       "An object of class Seurat \n",
       "179768 features across 20000 samples within 3 assays \n",
       "Active assay: SCT (30316 features, 3000 variable features)\n",
       " 2 other assays present: RNA, ATAC\n",
       " 2 dimensional reductions calculated: pca, umap\n",
       "\n",
       "[[2]]\n",
       "An object of class Seurat \n",
       "181455 features across 20000 samples within 3 assays \n",
       "Active assay: SCT (30386 features, 3000 variable features)\n",
       " 2 other assays present: RNA, ATAC\n",
       " 2 dimensional reductions calculated: pca, umap\n"
      ]
     },
     "metadata": {},
     "output_type": "display_data"
    }
   ],
   "source": [
    "li"
   ]
  },
  {
   "cell_type": "code",
   "execution_count": 66,
   "id": "c426eadb",
   "metadata": {},
   "outputs": [
    {
     "name": "stdout",
     "output_type": "stream",
     "text": [
      "An object of class Seurat \n",
      "179768 features across 20000 samples within 3 assays \n",
      "Active assay: SCT (30316 features, 3000 variable features)\n",
      " 2 other assays present: RNA, ATAC\n",
      " 2 dimensional reductions calculated: pca, umap\n",
      "An object of class Seurat \n",
      "181455 features across 20000 samples within 3 assays \n",
      "Active assay: SCT (30386 features, 3000 variable features)\n",
      " 2 other assays present: RNA, ATAC\n",
      " 2 dimensional reductions calculated: pca, umap\n",
      "An object of class Seurat \n",
      "179768 features across 20000 samples within 3 assays \n",
      "Active assay: ATAC (112851 features, 0 variable features)\n",
      " 2 other assays present: RNA, SCT\n",
      " 2 dimensional reductions calculated: pca, umap\n",
      "An object of class Seurat \n",
      "181455 features across 20000 samples within 3 assays \n",
      "Active assay: ATAC (114468 features, 0 variable features)\n",
      " 2 other assays present: RNA, SCT\n",
      " 2 dimensional reductions calculated: pca, umap\n"
     ]
    }
   ],
   "source": [
    "\n",
    "# change default assay to atac\n",
    "# assign to default cellranger ATAC peaks for each object, so the peaks are actually used when calling featurematrix\n",
    "for (obj in 1:length(li)) {\n",
    "   print(li[[obj]])\n",
    "   DefaultAssay(li[[obj]]) <- 'ATAC'\n",
    "\n",
    "}\n",
    "\n",
    "for (obj in 1:length(li)) {\n",
    "   print(li[[obj]])\n",
    "}"
   ]
  },
  {
   "cell_type": "code",
   "execution_count": 67,
   "id": "89c293b2",
   "metadata": {},
   "outputs": [],
   "source": [
    "### create list of genomic ranges. Change to \"objects\"\n",
    "granges <- mclapply(mc.cores=detectCores()*.75, X= li, FUN=Signac::granges)\n",
    "\n",
    "\n",
    "### concatonate them\n",
    "grang.c <- c()\n",
    "\n",
    "\n",
    "for (g in granges){grang.c <- append(grang.c, g)}\n",
    "### Create a unified set of peaks to quantify in each dataset\n",
    "\n",
    "\n",
    "combined.peaks <- reduce(grang.c)\n",
    "### create proprocessed merged object list\n",
    "\n",
    "\n"
   ]
  },
  {
   "cell_type": "code",
   "execution_count": 68,
   "id": "9e832cfb",
   "metadata": {},
   "outputs": [
    {
     "data": {
      "text/plain": [
       "GRanges object with 131874 ranges and 0 metadata columns:\n",
       "             seqnames          ranges strand\n",
       "                <Rle>       <IRanges>  <Rle>\n",
       "       [1]       chr1      9770-10693      *\n",
       "       [2]       chr1   180707-181632      *\n",
       "       [3]       chr1   183940-184768      *\n",
       "       [4]       chr1   186352-187268      *\n",
       "       [5]       chr1   191056-191950      *\n",
       "       ...        ...             ...    ...\n",
       "  [131870] KI270728.1 1792047-1792755      *\n",
       "  [131871] KI270731.1       4442-5400      *\n",
       "  [131872] KI270734.1   116901-117898      *\n",
       "  [131873] KI270734.1   121024-121924      *\n",
       "  [131874] KI270734.1   163727-164630      *\n",
       "  -------\n",
       "  seqinfo: 37 sequences from an unspecified genome; no seqlengths"
      ]
     },
     "metadata": {},
     "output_type": "display_data"
    }
   ],
   "source": [
    "combined.peaks"
   ]
  },
  {
   "cell_type": "code",
   "execution_count": 69,
   "id": "3a476063",
   "metadata": {},
   "outputs": [
    {
     "data": {
      "text/html": [
       "<table class=\"dataframe\">\n",
       "<caption>A data.frame: 20000 × 30</caption>\n",
       "<thead>\n",
       "\t<tr><th></th><th scope=col>BARCODE</th><th scope=col>orig.ident</th><th scope=col>nCount_RNA</th><th scope=col>nFeature_RNA</th><th scope=col>nCount_ATAC</th><th scope=col>nFeature_ATAC</th><th scope=col>fragments_freq_count</th><th scope=col>FRiP</th><th scope=col>percent.mt</th><th scope=col>nCount_SCT</th><th scope=col>⋯</th><th scope=col>BEST.POSTERIOR</th><th scope=col>SNG.POSTERIOR</th><th scope=col>SNG.BEST.GUESS</th><th scope=col>SNG.BEST.LLK</th><th scope=col>SNG.NEXT.GUESS</th><th scope=col>SNG.NEXT.LLK</th><th scope=col>SNG.ONLY.POSTERIOR</th><th scope=col>DBL.BEST.GUESS</th><th scope=col>DBL.BEST.LLK</th><th scope=col>DIFF.LLK.SNG.DBL</th></tr>\n",
       "\t<tr><th></th><th scope=col>&lt;chr&gt;</th><th scope=col>&lt;fct&gt;</th><th scope=col>&lt;dbl&gt;</th><th scope=col>&lt;int&gt;</th><th scope=col>&lt;dbl&gt;</th><th scope=col>&lt;int&gt;</th><th scope=col>&lt;dbl&gt;</th><th scope=col>&lt;dbl&gt;</th><th scope=col>&lt;dbl&gt;</th><th scope=col>&lt;dbl&gt;</th><th scope=col>⋯</th><th scope=col>&lt;dbl&gt;</th><th scope=col>&lt;dbl&gt;</th><th scope=col>&lt;chr&gt;</th><th scope=col>&lt;dbl&gt;</th><th scope=col>&lt;chr&gt;</th><th scope=col>&lt;dbl&gt;</th><th scope=col>&lt;dbl&gt;</th><th scope=col>&lt;chr&gt;</th><th scope=col>&lt;dbl&gt;</th><th scope=col>&lt;dbl&gt;</th></tr>\n",
       "</thead>\n",
       "<tbody>\n",
       "\t<tr><th scope=row>AAACAGCCAAACGGGC-1</th><td>AAACAGCCAAACGGGC-1</td><td>QY_2225_2_QY_2224_2</td><td> 6581</td><td>3072</td><td> 5854</td><td>2926</td><td> 9272</td><td>0.6313632</td><td> 1.10925391</td><td>6172</td><td>⋯</td><td> -2.5e+02</td><td>1</td><td>UCSDX51_UCSDX51</td><td>-243.32</td><td>D371_D371      </td><td> -574.97</td><td>0</td><td>D381_D381,UCSDX51_UCSDX51,0.50      </td><td>-301.66</td><td>  58.34</td></tr>\n",
       "\t<tr><th scope=row>AAACAGCCAAAGGTAC-1</th><td>AAACAGCCAAAGGTAC-1</td><td>QY_2225_2_QY_2224_2</td><td> 6785</td><td>2512</td><td> 2357</td><td>1209</td><td> 3871</td><td>0.6088866</td><td> 3.38983051</td><td>6013</td><td>⋯</td><td> -1.8e+02</td><td>1</td><td>D265_D265      </td><td>-173.03</td><td>UCSDX3_UCSDX3  </td><td> -291.65</td><td>0</td><td>D265_D265,UCSDX3_UCSDX3,0.50        </td><td>-182.59</td><td>   9.56</td></tr>\n",
       "\t<tr><th scope=row>AAACAGCCAAATACCT-1</th><td>AAACAGCCAAATACCT-1</td><td>QY_2225_2_QY_2224_2</td><td>  773</td><td> 607</td><td> 2335</td><td>1213</td><td> 3731</td><td>0.6258376</td><td> 1.16429495</td><td>4272</td><td>⋯</td><td> -7.2e+01</td><td>1</td><td>UCSDX19_UCSDX19</td><td> -68.06</td><td>UCSDX51_UCSDX51</td><td> -145.11</td><td>0</td><td>UCSDX19_UCSDX19,UCSDX31_UCSDX31,0.50</td><td> -79.20</td><td>  11.14</td></tr>\n",
       "\t<tr><th scope=row>AAACAGCCAATTGACT-1</th><td>AAACAGCCAATTGACT-1</td><td>QY_2225_2_QY_2224_2</td><td> 1709</td><td>1121</td><td> 8280</td><td>4112</td><td>20682</td><td>0.4003481</td><td> 2.57460503</td><td>4407</td><td>⋯</td><td> -4.0e+02</td><td>1</td><td>UCSDX42_UCSDX42</td><td>-391.82</td><td>UCSDX40_UCSDX40</td><td> -956.91</td><td>0</td><td>UCSDX40_UCSDX40,UCSDX42_UCSDX42,0.50</td><td>-486.25</td><td>  94.43</td></tr>\n",
       "\t<tr><th scope=row>AAACAGCCACATAGCC-1</th><td>AAACAGCCACATAGCC-1</td><td>QY_2225_2_QY_2224_2</td><td> 5791</td><td>2752</td><td>   84</td><td>  43</td><td>   81</td><td>1.0370370</td><td> 0.41443619</td><td>5755</td><td>⋯</td><td> -5.0e+01</td><td>1</td><td>D339_D339      </td><td> -45.57</td><td>UCSDX2_UCSDX2  </td><td> -129.87</td><td>0</td><td>D339_D339,D371_D371,0.50            </td><td> -62.54</td><td>  16.96</td></tr>\n",
       "\t<tr><th scope=row>AAACAGCCACCAGCAT-1</th><td>AAACAGCCACCAGCAT-1</td><td>QY_2225_2_QY_2224_2</td><td>13831</td><td>4553</td><td> 7542</td><td>3804</td><td> 9703</td><td>0.7772854</td><td> 0.62179163</td><td>6228</td><td>⋯</td><td> 5.0e-207</td><td>1</td><td>UCSDX44_UCSDX44</td><td>-625.03</td><td>UCSDX19_UCSDX19</td><td> -680.52</td><td>0</td><td>UCSDX19_UCSDX19,UCSDX44_UCSDX44,0.50</td><td>-468.25</td><td>-156.78</td></tr>\n",
       "\t<tr><th scope=row>AAACAGCCACTCAACA-1</th><td>AAACAGCCACTCAACA-1</td><td>QY_2225_2_QY_2224_2</td><td> 6616</td><td>2807</td><td> 5308</td><td>2637</td><td> 6761</td><td>0.7850910</td><td> 0.19649335</td><td>6142</td><td>⋯</td><td> -2.2e+02</td><td>1</td><td>D265_D265      </td><td>-217.55</td><td>D283_D283      </td><td> -551.49</td><td>0</td><td>D265_D265,D381_D381,0.50            </td><td>-281.11</td><td>  63.56</td></tr>\n",
       "\t<tr><th scope=row>AAACAGCCAGAGGGAG-1</th><td>AAACAGCCAGAGGGAG-1</td><td>QY_2225_2_QY_2224_2</td><td>  255</td><td> 222</td><td> 2382</td><td>1220</td><td> 8488</td><td>0.2806315</td><td> 3.13725490</td><td>4128</td><td>⋯</td><td> -1.5e+02</td><td>1</td><td>D335_D335      </td><td>-149.09</td><td>UCSDX21_UCSDX21</td><td> -363.05</td><td>0</td><td>D335_D335,UCSDX21_UCSDX21,0.50      </td><td>-183.51</td><td>  34.42</td></tr>\n",
       "\t<tr><th scope=row>AAACAGCCAGGCCTTG-1</th><td>AAACAGCCAGGCCTTG-1</td><td>QY_2225_2_QY_2224_2</td><td>11851</td><td>4666</td><td> 8238</td><td>4034</td><td>16879</td><td>0.4880621</td><td> 1.56948781</td><td>6629</td><td>⋯</td><td> 1.5e-264</td><td>1</td><td>UCSDX31_UCSDX31</td><td>-689.13</td><td>D339_D339      </td><td> -860.94</td><td>0</td><td>D339_D339,UCSDX31_UCSDX31,0.50      </td><td>-600.68</td><td> -88.45</td></tr>\n",
       "\t<tr><th scope=row>AAACAGCCAGGCTTGT-1</th><td>AAACAGCCAGGCTTGT-1</td><td>QY_2225_2_QY_2224_2</td><td> 6586</td><td>3173</td><td>  883</td><td> 468</td><td> 1893</td><td>0.4664554</td><td> 3.17339812</td><td>6193</td><td>⋯</td><td> -1.1e+02</td><td>1</td><td>UCSDX40_UCSDX40</td><td>-109.86</td><td>D265_D265      </td><td> -216.82</td><td>0</td><td>D265_D265,UCSDX40_UCSDX40,0.50      </td><td>-121.96</td><td>  12.11</td></tr>\n",
       "\t<tr><th scope=row>AAACAGCCATAGGCGA-1</th><td>AAACAGCCATAGGCGA-1</td><td>QY_2225_2_QY_2224_2</td><td> 5532</td><td>2458</td><td> 4223</td><td>2116</td><td> 4991</td><td>0.8461230</td><td> 0.07230658</td><td>5532</td><td>⋯</td><td> -1.9e+02</td><td>1</td><td>D339_D339      </td><td>-184.03</td><td>UCSDX44_UCSDX44</td><td> -447.74</td><td>0</td><td>D339_D339,UCSDX44_UCSDX44,0.50      </td><td>-225.63</td><td>  41.60</td></tr>\n",
       "\t<tr><th scope=row>AAACAGCCATCTTGAG-1</th><td>AAACAGCCATCTTGAG-1</td><td>QY_2225_2_QY_2224_2</td><td> 8672</td><td>3183</td><td>   87</td><td>  46</td><td>  119</td><td>0.7310924</td><td> 6.16928044</td><td>6319</td><td>⋯</td><td> -8.1e+01</td><td>1</td><td>D339_D339      </td><td> -77.22</td><td>UCSDX2_UCSDX2  </td><td> -161.26</td><td>0</td><td>D339_D339,UCSDX2_UCSDX2,0.50        </td><td> -89.51</td><td>  12.29</td></tr>\n",
       "\t<tr><th scope=row>AAACATGCAAATACCT-1</th><td>AAACATGCAAATACCT-1</td><td>QY_2225_2_QY_2224_2</td><td> 2606</td><td>1466</td><td>  200</td><td> 106</td><td>  440</td><td>0.4545455</td><td> 0.15349194</td><td>4903</td><td>⋯</td><td> -2.6e+01</td><td>1</td><td>UCSDX19_UCSDX19</td><td> -21.92</td><td>D381_D381      </td><td>  -53.80</td><td>0</td><td>D381_D381,UCSDX19_UCSDX19,0.50      </td><td> -26.61</td><td>   4.68</td></tr>\n",
       "\t<tr><th scope=row>AAACATGCAAGCTTTG-1</th><td>AAACATGCAAGCTTTG-1</td><td>QY_2225_2_QY_2224_2</td><td> 5628</td><td>2037</td><td> 1526</td><td> 798</td><td> 2839</td><td>0.5375132</td><td> 0.12437811</td><td>5609</td><td>⋯</td><td> -1.0e+02</td><td>1</td><td>UCSDX51_UCSDX51</td><td> -97.52</td><td>UCSDX31_UCSDX31</td><td> -251.45</td><td>0</td><td>UCSDX13_UCSDX13,UCSDX51_UCSDX51,0.50</td><td>-127.59</td><td>  30.06</td></tr>\n",
       "\t<tr><th scope=row>AAACATGCAAGGTCGA-1</th><td>AAACATGCAAGGTCGA-1</td><td>QY_2225_2_QY_2224_2</td><td>33127</td><td>7241</td><td>  577</td><td> 312</td><td> 1930</td><td>0.2989637</td><td> 0.43167205</td><td>5562</td><td>⋯</td><td> 4.7e-211</td><td>1</td><td>UCSDX42_UCSDX42</td><td>-572.14</td><td>UCSDX13_UCSDX13</td><td> -714.67</td><td>0</td><td>UCSDX13_UCSDX13,UCSDX42_UCSDX42,0.50</td><td>-477.54</td><td> -94.60</td></tr>\n",
       "\t<tr><th scope=row>AAACATGCAATCTCTC-1</th><td>AAACATGCAATCTCTC-1</td><td>QY_2225_2_QY_2224_2</td><td> 5882</td><td>2524</td><td>  756</td><td> 406</td><td>  766</td><td>0.9869452</td><td> 0.68004080</td><td>5802</td><td>⋯</td><td> -9.7e+01</td><td>1</td><td>D265_D265      </td><td> -92.87</td><td>UCSDX50_UCSDX50</td><td> -207.39</td><td>0</td><td>D265_D265,UCSDX50_UCSDX50,0.50      </td><td>-105.99</td><td>  13.11</td></tr>\n",
       "\t<tr><th scope=row>AAACATGCAATGCGCT-1</th><td>AAACATGCAATGCGCT-1</td><td>QY_2225_2_QY_2224_2</td><td> 5353</td><td>2352</td><td> 2659</td><td>1397</td><td> 7642</td><td>0.3479456</td><td> 0.29889781</td><td>5385</td><td>⋯</td><td> -1.9e+02</td><td>1</td><td>UCSDX53_UCSDX53</td><td>-187.92</td><td>UCSDX51_UCSDX51</td><td> -403.15</td><td>0</td><td>D283_D283,UCSDX53_UCSDX53,0.50      </td><td>-218.53</td><td>  30.60</td></tr>\n",
       "\t<tr><th scope=row>AAACATGCACACTAAT-1</th><td>AAACATGCACACTAAT-1</td><td>QY_2225_2_QY_2224_2</td><td> 8826</td><td>3287</td><td> 8287</td><td>4031</td><td>10437</td><td>0.7940021</td><td> 0.64581917</td><td>6262</td><td>⋯</td><td> -3.4e+02</td><td>1</td><td>D357_D357      </td><td>-333.06</td><td>D347_D347      </td><td> -763.49</td><td>0</td><td>D356_D356,D357_D357,0.50            </td><td>-403.74</td><td>  70.67</td></tr>\n",
       "\t<tr><th scope=row>AAACATGCACATGCTA-1</th><td>AAACATGCACATGCTA-1</td><td>QY_2225_2_QY_2224_2</td><td>  546</td><td> 240</td><td> 8555</td><td>4412</td><td>31437</td><td>0.2721316</td><td>46.52014652</td><td>4431</td><td>⋯</td><td> -4.8e+02</td><td>1</td><td>UCSDX3_UCSDX3  </td><td>-478.54</td><td>UCSDX19_UCSDX19</td><td>-1180.34</td><td>0</td><td>UCSDX3_UCSDX3,UCSDX19_UCSDX19,0.50  </td><td>-617.46</td><td> 138.92</td></tr>\n",
       "\t<tr><th scope=row>AAACATGCACGTAAGG-1</th><td>AAACATGCACGTAAGG-1</td><td>QY_2225_2_QY_2224_2</td><td> 1232</td><td> 786</td><td> 3308</td><td>1725</td><td>11815</td><td>0.2799831</td><td> 0.32467532</td><td>4644</td><td>⋯</td><td> -2.2e+02</td><td>1</td><td>D381_D381      </td><td>-214.21</td><td>UCSDX19_UCSDX19</td><td> -467.33</td><td>0</td><td>D381_D381,D356_D356,0.50            </td><td>-250.32</td><td>  36.11</td></tr>\n",
       "\t<tr><th scope=row>AAACATGCACTGACTA-1</th><td>AAACATGCACTGACTA-1</td><td>QY_2225_2_QY_2224_2</td><td>19703</td><td>5071</td><td> 3168</td><td>1641</td><td> 6097</td><td>0.5195998</td><td> 0.12180886</td><td>5572</td><td>⋯</td><td> 1.2e-159</td><td>1</td><td>D339_D339      </td><td>-423.77</td><td>UCSDX53_UCSDX53</td><td> -535.36</td><td>0</td><td>D339_D339,UCSDX53_UCSDX53,0.50      </td><td>-359.15</td><td> -64.62</td></tr>\n",
       "\t<tr><th scope=row>AAACATGCAGGACACA-1</th><td>AAACATGCAGGACACA-1</td><td>QY_2225_2_QY_2224_2</td><td>10635</td><td>3875</td><td>  460</td><td> 245</td><td> 1032</td><td>0.4457364</td><td> 1.70192760</td><td>6642</td><td>⋯</td><td> -1.3e+02</td><td>1</td><td>UCSDX24_UCSDX24</td><td>-124.26</td><td>D357_D357      </td><td> -301.85</td><td>0</td><td>UCSDX24_UCSDX24,UCSDX42_UCSDX42,0.50</td><td>-155.68</td><td>  31.42</td></tr>\n",
       "\t<tr><th scope=row>AAACATGCAGGCGATA-1</th><td>AAACATGCAGGCGATA-1</td><td>QY_2225_2_QY_2224_2</td><td> 8516</td><td>3143</td><td> 4703</td><td>2460</td><td>12220</td><td>0.3848609</td><td> 0.09394082</td><td>6171</td><td>⋯</td><td> -2.9e+02</td><td>1</td><td>UCSDX51_UCSDX51</td><td>-289.16</td><td>D071_D071      </td><td> -641.08</td><td>0</td><td>D071_D071,UCSDX51_UCSDX51,0.50      </td><td>-339.28</td><td>  50.12</td></tr>\n",
       "\t<tr><th scope=row>AAACATGCAGGTTACC-1</th><td>AAACATGCAGGTTACC-1</td><td>QY_2225_2_QY_2224_2</td><td> 6772</td><td>2183</td><td>  377</td><td> 198</td><td> 1020</td><td>0.3696078</td><td> 1.59480213</td><td>5968</td><td>⋯</td><td> -7.7e+01</td><td>1</td><td>UCSDX7_UCSDX7  </td><td> -73.28</td><td>UCSDX21_UCSDX21</td><td> -167.35</td><td>0</td><td>UCSDX21_UCSDX21,UCSDX7_UCSDX7,0.50  </td><td> -84.03</td><td>  10.74</td></tr>\n",
       "\t<tr><th scope=row>AAACATGCATAAGTTC-1</th><td>AAACATGCATAAGTTC-1</td><td>QY_2225_2_QY_2224_2</td><td>10024</td><td>3928</td><td> 2632</td><td>1355</td><td> 2966</td><td>0.8873904</td><td> 4.73862729</td><td>6637</td><td>⋯</td><td> -1.7e+02</td><td>1</td><td>UCSDX44_UCSDX44</td><td>-164.68</td><td>UCSDX42_UCSDX42</td><td> -407.68</td><td>0</td><td>UCSDX42_UCSDX42,UCSDX44_UCSDX44,0.50</td><td>-206.45</td><td>  41.77</td></tr>\n",
       "\t<tr><th scope=row>AAACATGCATGACTAT-1</th><td>AAACATGCATGACTAT-1</td><td>QY_2225_2_QY_2224_2</td><td>15785</td><td>4025</td><td> 5210</td><td>2690</td><td>14060</td><td>0.3705548</td><td> 0.67785873</td><td>5996</td><td>⋯</td><td> 6.2e-278</td><td>1</td><td>UCSDX7_UCSDX7  </td><td>-889.52</td><td>D265_D265      </td><td> -902.60</td><td>0</td><td>D265_D265,UCSDX7_UCSDX7,0.50        </td><td>-631.53</td><td>-258.00</td></tr>\n",
       "\t<tr><th scope=row>AAACATGCATGTTGCA-1</th><td>AAACATGCATGTTGCA-1</td><td>QY_2225_2_QY_2224_2</td><td> 4423</td><td>1887</td><td> 1231</td><td> 650</td><td> 3303</td><td>0.3726915</td><td> 0.18087271</td><td>4990</td><td>⋯</td><td> -1.5e+02</td><td>1</td><td>UCSDX50_UCSDX50</td><td>-147.89</td><td>UCSDX42_UCSDX42</td><td> -250.42</td><td>0</td><td>UCSDX40_UCSDX40,UCSDX50_UCSDX50,0.50</td><td>-151.61</td><td>   3.72</td></tr>\n",
       "\t<tr><th scope=row>AAACCAACAAGTGTTT-1</th><td>AAACCAACAAGTGTTT-1</td><td>QY_2225_2_QY_2224_2</td><td> 7389</td><td>3115</td><td> 6736</td><td>3268</td><td> 7930</td><td>0.8494325</td><td> 0.81201786</td><td>6204</td><td>⋯</td><td> 2.1e-144</td><td>1</td><td>D347_D347      </td><td>-400.29</td><td>D339_D339      </td><td> -547.69</td><td>0</td><td>D339_D339,D347_D347,0.50            </td><td>-324.07</td><td> -76.22</td></tr>\n",
       "\t<tr><th scope=row>AAACCAACACAATGCC-1</th><td>AAACCAACACAATGCC-1</td><td>QY_2225_2_QY_2224_2</td><td> 3086</td><td>1873</td><td>10106</td><td>4973</td><td>17665</td><td>0.5720917</td><td> 0.90732340</td><td>4943</td><td>⋯</td><td> 1.3e-230</td><td>1</td><td>UCSDX19_UCSDX19</td><td>-561.47</td><td>D339_D339      </td><td> -894.67</td><td>0</td><td>D339_D339,UCSDX19_UCSDX19,0.50      </td><td>-522.54</td><td> -38.94</td></tr>\n",
       "\t<tr><th scope=row>AAACCAACACAGACTC-1</th><td>AAACCAACACAGACTC-1</td><td>QY_2225_2_QY_2224_2</td><td> 4331</td><td>2021</td><td> 5276</td><td>2694</td><td> 6476</td><td>0.8147004</td><td> 5.07965828</td><td>5017</td><td>⋯</td><td> -2.1e+02</td><td>1</td><td>D347_D347      </td><td>-208.17</td><td>UCSDX58_UCSDX58</td><td> -390.14</td><td>0</td><td>D347_D347,D371_D371,0.50            </td><td>-226.37</td><td>  18.21</td></tr>\n",
       "\t<tr><th scope=row>⋮</th><td>⋮</td><td>⋮</td><td>⋮</td><td>⋮</td><td>⋮</td><td>⋮</td><td>⋮</td><td>⋮</td><td>⋮</td><td>⋮</td><td>⋱</td><td>⋮</td><td>⋮</td><td>⋮</td><td>⋮</td><td>⋮</td><td>⋮</td><td>⋮</td><td>⋮</td><td>⋮</td><td>⋮</td></tr>\n",
       "\t<tr><th scope=row>TTTGTGAAGTATGTGC-1</th><td>TTTGTGAAGTATGTGC-1</td><td>QY_2225_2_QY_2224_2</td><td> 8596</td><td>3409</td><td>  209</td><td> 117</td><td>  363</td><td>0.5757576</td><td>0.40716612</td><td>6308</td><td>⋯</td><td>  1.7e-73</td><td>1</td><td>UCSDX7_UCSDX7  </td><td> -177.53</td><td>UCSDX31_UCSDX31</td><td> -316.63</td><td>0</td><td>UCSDX7_UCSDX7,D339_D339,0.50        </td><td> -160.76</td><td> -16.77</td></tr>\n",
       "\t<tr><th scope=row>TTTGTGAAGTTATCTC-1</th><td>TTTGTGAAGTTATCTC-1</td><td>QY_2225_2_QY_2224_2</td><td> 5199</td><td>2373</td><td> 3107</td><td>1583</td><td> 5259</td><td>0.5907967</td><td>0.07693787</td><td>5287</td><td>⋯</td><td> -1.8e+02</td><td>1</td><td>D339_D339      </td><td> -175.12</td><td>UCSDX44_UCSDX44</td><td> -331.90</td><td>0</td><td>D339_D339,UCSDX28_UCSDX28,0.50      </td><td> -191.09</td><td>  15.97</td></tr>\n",
       "\t<tr><th scope=row>TTTGTGGCAAAGCGGC-1</th><td>TTTGTGGCAAAGCGGC-1</td><td>QY_2225_2_QY_2224_2</td><td>13254</td><td>3944</td><td> 5085</td><td>2585</td><td> 5435</td><td>0.9356026</td><td>0.21880187</td><td>5933</td><td>⋯</td><td> 1.2e-151</td><td>1</td><td>UCSDX42_UCSDX42</td><td> -437.65</td><td>UCSDX40_UCSDX40</td><td> -538.38</td><td>0</td><td>UCSDX40_UCSDX40,UCSDX42_UCSDX42,0.50</td><td> -340.73</td><td> -96.92</td></tr>\n",
       "\t<tr><th scope=row>TTTGTGGCAAATTGCT-1</th><td>TTTGTGGCAAATTGCT-1</td><td>QY_2225_2_QY_2224_2</td><td> 5328</td><td>2217</td><td> 2720</td><td>1400</td><td> 3529</td><td>0.7707566</td><td>1.97072072</td><td>5371</td><td>⋯</td><td> -1.8e+02</td><td>1</td><td>D339_D339      </td><td> -172.61</td><td>D381_D381      </td><td> -340.37</td><td>0</td><td>D339_D339,UCSDX19_UCSDX19,0.50      </td><td> -186.07</td><td>  13.45</td></tr>\n",
       "\t<tr><th scope=row>TTTGTGGCAAGGTCCT-1</th><td>TTTGTGGCAAGGTCCT-1</td><td>QY_2225_2_QY_2224_2</td><td> 9953</td><td>3224</td><td> 5586</td><td>2769</td><td> 5975</td><td>0.9348954</td><td>0.39184166</td><td>6309</td><td>⋯</td><td> -2.6e+02</td><td>1</td><td>UCSDX19_UCSDX19</td><td> -251.34</td><td>D356_D356      </td><td> -601.99</td><td>0</td><td>D356_D356,UCSDX19_UCSDX19,0.50      </td><td> -308.12</td><td>  56.78</td></tr>\n",
       "\t<tr><th scope=row>TTTGTGGCACAGAACG-1</th><td>TTTGTGGCACAGAACG-1</td><td>QY_2225_2_QY_2224_2</td><td> 1855</td><td>1185</td><td> 5262</td><td>2662</td><td>13007</td><td>0.4045514</td><td>1.67115903</td><td>4384</td><td>⋯</td><td> -3.1e+02</td><td>1</td><td>D265_D265      </td><td> -306.56</td><td>D283_D283      </td><td> -562.97</td><td>0</td><td>D265_D265,D283_D283,0.50            </td><td> -340.11</td><td>  33.55</td></tr>\n",
       "\t<tr><th scope=row>TTTGTGGCACCTAAGC-1</th><td>TTTGTGGCACCTAAGC-1</td><td>QY_2225_2_QY_2224_2</td><td>  127</td><td> 117</td><td> 9543</td><td>4820</td><td>22017</td><td>0.4334378</td><td>7.87401575</td><td>3793</td><td>⋯</td><td> -4.4e+02</td><td>1</td><td>D371_D371      </td><td> -434.51</td><td>D071_D071      </td><td>-1059.56</td><td>0</td><td>D071_D071,D371_D371,0.50            </td><td> -546.35</td><td> 111.84</td></tr>\n",
       "\t<tr><th scope=row>TTTGTGGCACCTCGCT-1</th><td>TTTGTGGCACCTCGCT-1</td><td>QY_2225_2_QY_2224_2</td><td> 9956</td><td>3073</td><td> 2408</td><td>1230</td><td> 2691</td><td>0.8948346</td><td>0.36159100</td><td>6226</td><td>⋯</td><td> -1.4e+02</td><td>1</td><td>UCSDX19_UCSDX19</td><td> -138.82</td><td>D283_D283      </td><td> -321.08</td><td>0</td><td>D283_D283,UCSDX19_UCSDX19,0.50      </td><td> -168.99</td><td>  30.17</td></tr>\n",
       "\t<tr><th scope=row>TTTGTGGCACGGTACT-1</th><td>TTTGTGGCACGGTACT-1</td><td>QY_2225_2_QY_2224_2</td><td>14913</td><td>4622</td><td>16195</td><td>7648</td><td>23855</td><td>0.6788933</td><td>1.09971166</td><td>6156</td><td>⋯</td><td>  0.0e+00</td><td>1</td><td>UCSDX42_UCSDX42</td><td>-1299.34</td><td>UCSDX19_UCSDX19</td><td>-1336.91</td><td>0</td><td>UCSDX19_UCSDX19,UCSDX42_UCSDX42,0.50</td><td> -942.48</td><td>-356.86</td></tr>\n",
       "\t<tr><th scope=row>TTTGTGGCATCCCTCA-1</th><td>TTTGTGGCATCCCTCA-1</td><td>QY_2225_2_QY_2224_2</td><td> 7751</td><td>2564</td><td> 1158</td><td> 605</td><td> 4028</td><td>0.2874876</td><td>0.25803122</td><td>6076</td><td>⋯</td><td> -2.0e+02</td><td>1</td><td>UCSDX53_UCSDX53</td><td> -197.07</td><td>UCSDX31_UCSDX31</td><td> -333.53</td><td>0</td><td>UCSDX31_UCSDX31,UCSDX53_UCSDX53,0.50</td><td> -208.71</td><td>  11.64</td></tr>\n",
       "\t<tr><th scope=row>TTTGTGTTCAAACACC-1</th><td>TTTGTGTTCAAACACC-1</td><td>QY_2225_2_QY_2224_2</td><td> 5915</td><td>2428</td><td> 5671</td><td>2825</td><td> 7798</td><td>0.7272378</td><td>2.34995773</td><td>5798</td><td>⋯</td><td> -2.6e+02</td><td>1</td><td>D347_D347      </td><td> -251.55</td><td>D357_D357      </td><td> -483.07</td><td>0</td><td>D347_D347,D357_D357,0.50            </td><td> -279.32</td><td>  27.77</td></tr>\n",
       "\t<tr><th scope=row>TTTGTGTTCAAACCGT-1</th><td>TTTGTGTTCAAACCGT-1</td><td>QY_2225_2_QY_2224_2</td><td> 7527</td><td>2792</td><td> 4365</td><td>2183</td><td> 4664</td><td>0.9358919</td><td>0.49156370</td><td>6114</td><td>⋯</td><td> -2.1e+02</td><td>1</td><td>D339_D339      </td><td> -201.68</td><td>UCSDX19_UCSDX19</td><td> -456.73</td><td>0</td><td>D339_D339,UCSDX31_UCSDX31,0.50      </td><td> -239.30</td><td>  37.62</td></tr>\n",
       "\t<tr><th scope=row>TTTGTGTTCATAAGCC-1</th><td>TTTGTGTTCATAAGCC-1</td><td>QY_2225_2_QY_2224_2</td><td>13434</td><td>4296</td><td>13505</td><td>6520</td><td>40816</td><td>0.3308751</td><td>0.19353878</td><td>6132</td><td>⋯</td><td>  0.0e+00</td><td>1</td><td>D347_D347      </td><td>-1622.59</td><td>D339_D339      </td><td>-1634.60</td><td>0</td><td>D339_D339,D347_D347,0.50            </td><td>-1218.09</td><td>-404.49</td></tr>\n",
       "\t<tr><th scope=row>TTTGTGTTCCAGGAAA-1</th><td>TTTGTGTTCCAGGAAA-1</td><td>QY_2225_2_QY_2224_2</td><td>16978</td><td>5235</td><td>13154</td><td>6212</td><td>17925</td><td>0.7338354</td><td>1.38414419</td><td>5578</td><td>⋯</td><td>  0.0e+00</td><td>1</td><td>UCSDX51_UCSDX51</td><td>-1115.28</td><td>D265_D265      </td><td>-1118.93</td><td>0</td><td>D265_D265,UCSDX51_UCSDX51,0.50      </td><td> -858.93</td><td>-256.35</td></tr>\n",
       "\t<tr><th scope=row>TTTGTGTTCCTAATAG-1</th><td>TTTGTGTTCCTAATAG-1</td><td>QY_2225_2_QY_2224_2</td><td> 7012</td><td>2634</td><td>12392</td><td>6096</td><td>12467</td><td>0.9939841</td><td>0.94124358</td><td>6047</td><td>⋯</td><td> -4.3e+02</td><td>1</td><td>D265_D265      </td><td> -421.96</td><td>UCSDX19_UCSDX19</td><td>-1044.70</td><td>0</td><td>D265_D265,UCSDX19_UCSDX19,0.50      </td><td> -537.00</td><td> 115.04</td></tr>\n",
       "\t<tr><th scope=row>TTTGTGTTCCTCGATC-1</th><td>TTTGTGTTCCTCGATC-1</td><td>QY_2225_2_QY_2224_2</td><td> 4158</td><td>1924</td><td> 4406</td><td>2238</td><td> 8368</td><td>0.5265296</td><td>0.14430014</td><td>4937</td><td>⋯</td><td> -3.3e+02</td><td>1</td><td>D265_D265      </td><td> -330.55</td><td>UCSDX50_UCSDX50</td><td> -592.09</td><td>0</td><td>D265_D265,UCSDX50_UCSDX50,0.50      </td><td> -352.05</td><td>  21.50</td></tr>\n",
       "\t<tr><th scope=row>TTTGTGTTCCTTAGGG-1</th><td>TTTGTGTTCCTTAGGG-1</td><td>QY_2225_2_QY_2224_2</td><td> 2255</td><td>1359</td><td> 4533</td><td>2277</td><td> 5651</td><td>0.8021589</td><td>0.57649667</td><td>4755</td><td>⋯</td><td> -1.7e+02</td><td>1</td><td>D339_D339      </td><td> -161.19</td><td>UCSDX21_UCSDX21</td><td> -359.96</td><td>0</td><td>D339_D339,UCSDX21_UCSDX21,0.50      </td><td> -194.06</td><td>  32.87</td></tr>\n",
       "\t<tr><th scope=row>TTTGTGTTCGGCCAGT-1</th><td>TTTGTGTTCGGCCAGT-1</td><td>QY_2225_2_QY_2224_2</td><td> 7999</td><td>3134</td><td> 4437</td><td>2272</td><td> 9474</td><td>0.4683344</td><td>0.17502188</td><td>6267</td><td>⋯</td><td> -3.2e+02</td><td>1</td><td>UCSDX38_UCSDX38</td><td> -314.57</td><td>D357_D357      </td><td> -650.09</td><td>0</td><td>D071_D071,UCSDX38_UCSDX38,0.50      </td><td> -363.00</td><td>  48.43</td></tr>\n",
       "\t<tr><th scope=row>TTTGTGTTCGGGACTC-1</th><td>TTTGTGTTCGGGACTC-1</td><td>QY_2225_2_QY_2224_2</td><td> 5004</td><td>2461</td><td> 7723</td><td>3870</td><td>19090</td><td>0.4045574</td><td>1.45883293</td><td>5138</td><td>⋯</td><td> 4.1e-267</td><td>1</td><td>UCSDX7_UCSDX7  </td><td> -698.44</td><td>UCSDX40_UCSDX40</td><td>-1144.50</td><td>0</td><td>UCSDX7_UCSDX7,UCSDX40_UCSDX40,0.50  </td><td> -606.62</td><td> -91.82</td></tr>\n",
       "\t<tr><th scope=row>TTTGTGTTCTAATCTC-1</th><td>TTTGTGTTCTAATCTC-1</td><td>QY_2225_2_QY_2224_2</td><td>  788</td><td> 630</td><td> 2102</td><td>1064</td><td> 4692</td><td>0.4479966</td><td>2.91878173</td><td>4133</td><td>⋯</td><td> -9.4e+01</td><td>1</td><td>D339_D339      </td><td>  -90.20</td><td>UCSDX53_UCSDX53</td><td> -177.15</td><td>0</td><td>D339_D339,UCSDX53_UCSDX53,0.50      </td><td> -100.36</td><td>  10.16</td></tr>\n",
       "\t<tr><th scope=row>TTTGTGTTCTGCAACG-1</th><td>TTTGTGTTCTGCAACG-1</td><td>QY_2225_2_QY_2224_2</td><td> 6860</td><td>2442</td><td> 3933</td><td>1993</td><td> 5276</td><td>0.7454511</td><td>1.48688047</td><td>5990</td><td>⋯</td><td> -2.0e+02</td><td>1</td><td>D339_D339      </td><td> -195.86</td><td>D071_D071      </td><td> -359.32</td><td>0</td><td>D071_D071,D339_D339,0.50            </td><td> -213.75</td><td>  17.90</td></tr>\n",
       "\t<tr><th scope=row>TTTGTTGGTAGCTGCG-1</th><td>TTTGTTGGTAGCTGCG-1</td><td>QY_2225_2_QY_2224_2</td><td> 5440</td><td>2459</td><td>  112</td><td>  61</td><td>  159</td><td>0.7044025</td><td>0.05514706</td><td>5445</td><td>⋯</td><td> -5.0e+01</td><td>1</td><td>UCSDX19_UCSDX19</td><td>  -45.50</td><td>D371_D371      </td><td> -104.34</td><td>0</td><td>D371_D371,UCSDX19_UCSDX19,0.50      </td><td>  -57.28</td><td>  11.77</td></tr>\n",
       "\t<tr><th scope=row>TTTGTTGGTATTCGCT-1</th><td>TTTGTTGGTATTCGCT-1</td><td>QY_2225_2_QY_2224_2</td><td> 5963</td><td>2465</td><td> 8288</td><td>4111</td><td>10133</td><td>0.8179216</td><td>1.00620493</td><td>5837</td><td>⋯</td><td> -3.4e+02</td><td>1</td><td>D265_D265      </td><td> -338.03</td><td>UCSDX31_UCSDX31</td><td> -793.19</td><td>0</td><td>D265_D265,D339_D339,0.50            </td><td> -416.40</td><td>  78.36</td></tr>\n",
       "\t<tr><th scope=row>TTTGTTGGTCATCCTG-1</th><td>TTTGTTGGTCATCCTG-1</td><td>QY_2225_2_QY_2224_2</td><td>13025</td><td>4339</td><td> 9441</td><td>4473</td><td>24407</td><td>0.3868153</td><td>0.69865643</td><td>6401</td><td>⋯</td><td>  0.0e+00</td><td>1</td><td>UCSDX38_UCSDX38</td><td> -948.90</td><td>D381_D381      </td><td>-1117.37</td><td>0</td><td>D381_D381,UCSDX38_UCSDX38,0.50      </td><td> -754.88</td><td>-194.02</td></tr>\n",
       "\t<tr><th scope=row>TTTGTTGGTCCTAAGA-1</th><td>TTTGTTGGTCCTAAGA-1</td><td>QY_2225_2_QY_2224_2</td><td> 7005</td><td>2885</td><td> 2609</td><td>1370</td><td> 5436</td><td>0.4799485</td><td>0.38543897</td><td>6123</td><td>⋯</td><td>  9.5e-89</td><td>1</td><td>UCSDX40_UCSDX40</td><td> -268.09</td><td>D339_D339      </td><td> -269.76</td><td>0</td><td>UCSDX40_UCSDX40,D339_D339,0.50      </td><td> -195.91</td><td> -72.17</td></tr>\n",
       "\t<tr><th scope=row>TTTGTTGGTCTTGCAT-1</th><td>TTTGTTGGTCTTGCAT-1</td><td>QY_2225_2_QY_2224_2</td><td> 1772</td><td>1078</td><td> 2125</td><td>1121</td><td> 5961</td><td>0.3564838</td><td>0.33860045</td><td>4332</td><td>⋯</td><td> -1.1e+02</td><td>1</td><td>UCSDX19_UCSDX19</td><td> -105.98</td><td>D356_D356      </td><td> -278.66</td><td>0</td><td>D356_D356,UCSDX19_UCSDX19,0.50      </td><td> -142.24</td><td>  36.26</td></tr>\n",
       "\t<tr><th scope=row>TTTGTTGGTGGTGAGA-1</th><td>TTTGTTGGTGGTGAGA-1</td><td>QY_2225_2_QY_2224_2</td><td> 5614</td><td>2595</td><td> 6419</td><td>3145</td><td> 8193</td><td>0.7834737</td><td>3.18845743</td><td>5605</td><td>⋯</td><td> -2.5e+02</td><td>1</td><td>D339_D339      </td><td> -242.75</td><td>D356_D356      </td><td> -574.23</td><td>0</td><td>D339_D339,D356_D356,0.50            </td><td> -301.85</td><td>  59.11</td></tr>\n",
       "\t<tr><th scope=row>TTTGTTGGTGTGCAAC-1</th><td>TTTGTTGGTGTGCAAC-1</td><td>QY_2225_2_QY_2224_2</td><td>10844</td><td>4426</td><td> 4809</td><td>2511</td><td>15751</td><td>0.3053139</td><td>1.01438584</td><td>6591</td><td>⋯</td><td> 2.6e-259</td><td>1</td><td>UCSDX7_UCSDX7  </td><td> -769.65</td><td>UCSDX44_UCSDX44</td><td> -857.47</td><td>0</td><td>UCSDX7_UCSDX7,UCSDX44_UCSDX44,0.50  </td><td> -588.63</td><td>-181.02</td></tr>\n",
       "\t<tr><th scope=row>TTTGTTGGTTAAGCCA-1</th><td>TTTGTTGGTTAAGCCA-1</td><td>QY_2225_2_QY_2224_2</td><td> 6985</td><td>2974</td><td> 1806</td><td> 925</td><td> 3687</td><td>0.4898291</td><td>1.00214746</td><td>6253</td><td>⋯</td><td> -1.7e+02</td><td>1</td><td>UCSDX13_UCSDX13</td><td> -161.64</td><td>UCSDX42_UCSDX42</td><td> -334.27</td><td>0</td><td>D283_D283,UCSDX13_UCSDX13,0.50      </td><td> -182.17</td><td>  20.53</td></tr>\n",
       "\t<tr><th scope=row>TTTGTTGGTTACCTGT-1</th><td>TTTGTTGGTTACCTGT-1</td><td>QY_2225_2_QY_2224_2</td><td> 6753</td><td>2352</td><td>  590</td><td> 325</td><td> 1966</td><td>0.3001017</td><td>0.20731527</td><td>6066</td><td>⋯</td><td> -1.4e+02</td><td>1</td><td>D265_D265      </td><td> -131.64</td><td>UCSDX19_UCSDX19</td><td> -222.70</td><td>0</td><td>D265_D265,UCSDX31_UCSDX31,0.50      </td><td> -136.92</td><td>   5.28</td></tr>\n",
       "</tbody>\n",
       "</table>\n"
      ],
      "text/latex": [
       "A data.frame: 20000 × 30\n",
       "\\begin{tabular}{r|lllllllllllllllllllll}\n",
       "  & BARCODE & orig.ident & nCount\\_RNA & nFeature\\_RNA & nCount\\_ATAC & nFeature\\_ATAC & fragments\\_freq\\_count & FRiP & percent.mt & nCount\\_SCT & ⋯ & BEST.POSTERIOR & SNG.POSTERIOR & SNG.BEST.GUESS & SNG.BEST.LLK & SNG.NEXT.GUESS & SNG.NEXT.LLK & SNG.ONLY.POSTERIOR & DBL.BEST.GUESS & DBL.BEST.LLK & DIFF.LLK.SNG.DBL\\\\\n",
       "  & <chr> & <fct> & <dbl> & <int> & <dbl> & <int> & <dbl> & <dbl> & <dbl> & <dbl> & ⋯ & <dbl> & <dbl> & <chr> & <dbl> & <chr> & <dbl> & <dbl> & <chr> & <dbl> & <dbl>\\\\\n",
       "\\hline\n",
       "\tAAACAGCCAAACGGGC-1 & AAACAGCCAAACGGGC-1 & QY\\_2225\\_2\\_QY\\_2224\\_2 &  6581 & 3072 &  5854 & 2926 &  9272 & 0.6313632 &  1.10925391 & 6172 & ⋯ &  -2.5e+02 & 1 & UCSDX51\\_UCSDX51 & -243.32 & D371\\_D371       &  -574.97 & 0 & D381\\_D381,UCSDX51\\_UCSDX51,0.50       & -301.66 &   58.34\\\\\n",
       "\tAAACAGCCAAAGGTAC-1 & AAACAGCCAAAGGTAC-1 & QY\\_2225\\_2\\_QY\\_2224\\_2 &  6785 & 2512 &  2357 & 1209 &  3871 & 0.6088866 &  3.38983051 & 6013 & ⋯ &  -1.8e+02 & 1 & D265\\_D265       & -173.03 & UCSDX3\\_UCSDX3   &  -291.65 & 0 & D265\\_D265,UCSDX3\\_UCSDX3,0.50         & -182.59 &    9.56\\\\\n",
       "\tAAACAGCCAAATACCT-1 & AAACAGCCAAATACCT-1 & QY\\_2225\\_2\\_QY\\_2224\\_2 &   773 &  607 &  2335 & 1213 &  3731 & 0.6258376 &  1.16429495 & 4272 & ⋯ &  -7.2e+01 & 1 & UCSDX19\\_UCSDX19 &  -68.06 & UCSDX51\\_UCSDX51 &  -145.11 & 0 & UCSDX19\\_UCSDX19,UCSDX31\\_UCSDX31,0.50 &  -79.20 &   11.14\\\\\n",
       "\tAAACAGCCAATTGACT-1 & AAACAGCCAATTGACT-1 & QY\\_2225\\_2\\_QY\\_2224\\_2 &  1709 & 1121 &  8280 & 4112 & 20682 & 0.4003481 &  2.57460503 & 4407 & ⋯ &  -4.0e+02 & 1 & UCSDX42\\_UCSDX42 & -391.82 & UCSDX40\\_UCSDX40 &  -956.91 & 0 & UCSDX40\\_UCSDX40,UCSDX42\\_UCSDX42,0.50 & -486.25 &   94.43\\\\\n",
       "\tAAACAGCCACATAGCC-1 & AAACAGCCACATAGCC-1 & QY\\_2225\\_2\\_QY\\_2224\\_2 &  5791 & 2752 &    84 &   43 &    81 & 1.0370370 &  0.41443619 & 5755 & ⋯ &  -5.0e+01 & 1 & D339\\_D339       &  -45.57 & UCSDX2\\_UCSDX2   &  -129.87 & 0 & D339\\_D339,D371\\_D371,0.50             &  -62.54 &   16.96\\\\\n",
       "\tAAACAGCCACCAGCAT-1 & AAACAGCCACCAGCAT-1 & QY\\_2225\\_2\\_QY\\_2224\\_2 & 13831 & 4553 &  7542 & 3804 &  9703 & 0.7772854 &  0.62179163 & 6228 & ⋯ &  5.0e-207 & 1 & UCSDX44\\_UCSDX44 & -625.03 & UCSDX19\\_UCSDX19 &  -680.52 & 0 & UCSDX19\\_UCSDX19,UCSDX44\\_UCSDX44,0.50 & -468.25 & -156.78\\\\\n",
       "\tAAACAGCCACTCAACA-1 & AAACAGCCACTCAACA-1 & QY\\_2225\\_2\\_QY\\_2224\\_2 &  6616 & 2807 &  5308 & 2637 &  6761 & 0.7850910 &  0.19649335 & 6142 & ⋯ &  -2.2e+02 & 1 & D265\\_D265       & -217.55 & D283\\_D283       &  -551.49 & 0 & D265\\_D265,D381\\_D381,0.50             & -281.11 &   63.56\\\\\n",
       "\tAAACAGCCAGAGGGAG-1 & AAACAGCCAGAGGGAG-1 & QY\\_2225\\_2\\_QY\\_2224\\_2 &   255 &  222 &  2382 & 1220 &  8488 & 0.2806315 &  3.13725490 & 4128 & ⋯ &  -1.5e+02 & 1 & D335\\_D335       & -149.09 & UCSDX21\\_UCSDX21 &  -363.05 & 0 & D335\\_D335,UCSDX21\\_UCSDX21,0.50       & -183.51 &   34.42\\\\\n",
       "\tAAACAGCCAGGCCTTG-1 & AAACAGCCAGGCCTTG-1 & QY\\_2225\\_2\\_QY\\_2224\\_2 & 11851 & 4666 &  8238 & 4034 & 16879 & 0.4880621 &  1.56948781 & 6629 & ⋯ &  1.5e-264 & 1 & UCSDX31\\_UCSDX31 & -689.13 & D339\\_D339       &  -860.94 & 0 & D339\\_D339,UCSDX31\\_UCSDX31,0.50       & -600.68 &  -88.45\\\\\n",
       "\tAAACAGCCAGGCTTGT-1 & AAACAGCCAGGCTTGT-1 & QY\\_2225\\_2\\_QY\\_2224\\_2 &  6586 & 3173 &   883 &  468 &  1893 & 0.4664554 &  3.17339812 & 6193 & ⋯ &  -1.1e+02 & 1 & UCSDX40\\_UCSDX40 & -109.86 & D265\\_D265       &  -216.82 & 0 & D265\\_D265,UCSDX40\\_UCSDX40,0.50       & -121.96 &   12.11\\\\\n",
       "\tAAACAGCCATAGGCGA-1 & AAACAGCCATAGGCGA-1 & QY\\_2225\\_2\\_QY\\_2224\\_2 &  5532 & 2458 &  4223 & 2116 &  4991 & 0.8461230 &  0.07230658 & 5532 & ⋯ &  -1.9e+02 & 1 & D339\\_D339       & -184.03 & UCSDX44\\_UCSDX44 &  -447.74 & 0 & D339\\_D339,UCSDX44\\_UCSDX44,0.50       & -225.63 &   41.60\\\\\n",
       "\tAAACAGCCATCTTGAG-1 & AAACAGCCATCTTGAG-1 & QY\\_2225\\_2\\_QY\\_2224\\_2 &  8672 & 3183 &    87 &   46 &   119 & 0.7310924 &  6.16928044 & 6319 & ⋯ &  -8.1e+01 & 1 & D339\\_D339       &  -77.22 & UCSDX2\\_UCSDX2   &  -161.26 & 0 & D339\\_D339,UCSDX2\\_UCSDX2,0.50         &  -89.51 &   12.29\\\\\n",
       "\tAAACATGCAAATACCT-1 & AAACATGCAAATACCT-1 & QY\\_2225\\_2\\_QY\\_2224\\_2 &  2606 & 1466 &   200 &  106 &   440 & 0.4545455 &  0.15349194 & 4903 & ⋯ &  -2.6e+01 & 1 & UCSDX19\\_UCSDX19 &  -21.92 & D381\\_D381       &   -53.80 & 0 & D381\\_D381,UCSDX19\\_UCSDX19,0.50       &  -26.61 &    4.68\\\\\n",
       "\tAAACATGCAAGCTTTG-1 & AAACATGCAAGCTTTG-1 & QY\\_2225\\_2\\_QY\\_2224\\_2 &  5628 & 2037 &  1526 &  798 &  2839 & 0.5375132 &  0.12437811 & 5609 & ⋯ &  -1.0e+02 & 1 & UCSDX51\\_UCSDX51 &  -97.52 & UCSDX31\\_UCSDX31 &  -251.45 & 0 & UCSDX13\\_UCSDX13,UCSDX51\\_UCSDX51,0.50 & -127.59 &   30.06\\\\\n",
       "\tAAACATGCAAGGTCGA-1 & AAACATGCAAGGTCGA-1 & QY\\_2225\\_2\\_QY\\_2224\\_2 & 33127 & 7241 &   577 &  312 &  1930 & 0.2989637 &  0.43167205 & 5562 & ⋯ &  4.7e-211 & 1 & UCSDX42\\_UCSDX42 & -572.14 & UCSDX13\\_UCSDX13 &  -714.67 & 0 & UCSDX13\\_UCSDX13,UCSDX42\\_UCSDX42,0.50 & -477.54 &  -94.60\\\\\n",
       "\tAAACATGCAATCTCTC-1 & AAACATGCAATCTCTC-1 & QY\\_2225\\_2\\_QY\\_2224\\_2 &  5882 & 2524 &   756 &  406 &   766 & 0.9869452 &  0.68004080 & 5802 & ⋯ &  -9.7e+01 & 1 & D265\\_D265       &  -92.87 & UCSDX50\\_UCSDX50 &  -207.39 & 0 & D265\\_D265,UCSDX50\\_UCSDX50,0.50       & -105.99 &   13.11\\\\\n",
       "\tAAACATGCAATGCGCT-1 & AAACATGCAATGCGCT-1 & QY\\_2225\\_2\\_QY\\_2224\\_2 &  5353 & 2352 &  2659 & 1397 &  7642 & 0.3479456 &  0.29889781 & 5385 & ⋯ &  -1.9e+02 & 1 & UCSDX53\\_UCSDX53 & -187.92 & UCSDX51\\_UCSDX51 &  -403.15 & 0 & D283\\_D283,UCSDX53\\_UCSDX53,0.50       & -218.53 &   30.60\\\\\n",
       "\tAAACATGCACACTAAT-1 & AAACATGCACACTAAT-1 & QY\\_2225\\_2\\_QY\\_2224\\_2 &  8826 & 3287 &  8287 & 4031 & 10437 & 0.7940021 &  0.64581917 & 6262 & ⋯ &  -3.4e+02 & 1 & D357\\_D357       & -333.06 & D347\\_D347       &  -763.49 & 0 & D356\\_D356,D357\\_D357,0.50             & -403.74 &   70.67\\\\\n",
       "\tAAACATGCACATGCTA-1 & AAACATGCACATGCTA-1 & QY\\_2225\\_2\\_QY\\_2224\\_2 &   546 &  240 &  8555 & 4412 & 31437 & 0.2721316 & 46.52014652 & 4431 & ⋯ &  -4.8e+02 & 1 & UCSDX3\\_UCSDX3   & -478.54 & UCSDX19\\_UCSDX19 & -1180.34 & 0 & UCSDX3\\_UCSDX3,UCSDX19\\_UCSDX19,0.50   & -617.46 &  138.92\\\\\n",
       "\tAAACATGCACGTAAGG-1 & AAACATGCACGTAAGG-1 & QY\\_2225\\_2\\_QY\\_2224\\_2 &  1232 &  786 &  3308 & 1725 & 11815 & 0.2799831 &  0.32467532 & 4644 & ⋯ &  -2.2e+02 & 1 & D381\\_D381       & -214.21 & UCSDX19\\_UCSDX19 &  -467.33 & 0 & D381\\_D381,D356\\_D356,0.50             & -250.32 &   36.11\\\\\n",
       "\tAAACATGCACTGACTA-1 & AAACATGCACTGACTA-1 & QY\\_2225\\_2\\_QY\\_2224\\_2 & 19703 & 5071 &  3168 & 1641 &  6097 & 0.5195998 &  0.12180886 & 5572 & ⋯ &  1.2e-159 & 1 & D339\\_D339       & -423.77 & UCSDX53\\_UCSDX53 &  -535.36 & 0 & D339\\_D339,UCSDX53\\_UCSDX53,0.50       & -359.15 &  -64.62\\\\\n",
       "\tAAACATGCAGGACACA-1 & AAACATGCAGGACACA-1 & QY\\_2225\\_2\\_QY\\_2224\\_2 & 10635 & 3875 &   460 &  245 &  1032 & 0.4457364 &  1.70192760 & 6642 & ⋯ &  -1.3e+02 & 1 & UCSDX24\\_UCSDX24 & -124.26 & D357\\_D357       &  -301.85 & 0 & UCSDX24\\_UCSDX24,UCSDX42\\_UCSDX42,0.50 & -155.68 &   31.42\\\\\n",
       "\tAAACATGCAGGCGATA-1 & AAACATGCAGGCGATA-1 & QY\\_2225\\_2\\_QY\\_2224\\_2 &  8516 & 3143 &  4703 & 2460 & 12220 & 0.3848609 &  0.09394082 & 6171 & ⋯ &  -2.9e+02 & 1 & UCSDX51\\_UCSDX51 & -289.16 & D071\\_D071       &  -641.08 & 0 & D071\\_D071,UCSDX51\\_UCSDX51,0.50       & -339.28 &   50.12\\\\\n",
       "\tAAACATGCAGGTTACC-1 & AAACATGCAGGTTACC-1 & QY\\_2225\\_2\\_QY\\_2224\\_2 &  6772 & 2183 &   377 &  198 &  1020 & 0.3696078 &  1.59480213 & 5968 & ⋯ &  -7.7e+01 & 1 & UCSDX7\\_UCSDX7   &  -73.28 & UCSDX21\\_UCSDX21 &  -167.35 & 0 & UCSDX21\\_UCSDX21,UCSDX7\\_UCSDX7,0.50   &  -84.03 &   10.74\\\\\n",
       "\tAAACATGCATAAGTTC-1 & AAACATGCATAAGTTC-1 & QY\\_2225\\_2\\_QY\\_2224\\_2 & 10024 & 3928 &  2632 & 1355 &  2966 & 0.8873904 &  4.73862729 & 6637 & ⋯ &  -1.7e+02 & 1 & UCSDX44\\_UCSDX44 & -164.68 & UCSDX42\\_UCSDX42 &  -407.68 & 0 & UCSDX42\\_UCSDX42,UCSDX44\\_UCSDX44,0.50 & -206.45 &   41.77\\\\\n",
       "\tAAACATGCATGACTAT-1 & AAACATGCATGACTAT-1 & QY\\_2225\\_2\\_QY\\_2224\\_2 & 15785 & 4025 &  5210 & 2690 & 14060 & 0.3705548 &  0.67785873 & 5996 & ⋯ &  6.2e-278 & 1 & UCSDX7\\_UCSDX7   & -889.52 & D265\\_D265       &  -902.60 & 0 & D265\\_D265,UCSDX7\\_UCSDX7,0.50         & -631.53 & -258.00\\\\\n",
       "\tAAACATGCATGTTGCA-1 & AAACATGCATGTTGCA-1 & QY\\_2225\\_2\\_QY\\_2224\\_2 &  4423 & 1887 &  1231 &  650 &  3303 & 0.3726915 &  0.18087271 & 4990 & ⋯ &  -1.5e+02 & 1 & UCSDX50\\_UCSDX50 & -147.89 & UCSDX42\\_UCSDX42 &  -250.42 & 0 & UCSDX40\\_UCSDX40,UCSDX50\\_UCSDX50,0.50 & -151.61 &    3.72\\\\\n",
       "\tAAACCAACAAGTGTTT-1 & AAACCAACAAGTGTTT-1 & QY\\_2225\\_2\\_QY\\_2224\\_2 &  7389 & 3115 &  6736 & 3268 &  7930 & 0.8494325 &  0.81201786 & 6204 & ⋯ &  2.1e-144 & 1 & D347\\_D347       & -400.29 & D339\\_D339       &  -547.69 & 0 & D339\\_D339,D347\\_D347,0.50             & -324.07 &  -76.22\\\\\n",
       "\tAAACCAACACAATGCC-1 & AAACCAACACAATGCC-1 & QY\\_2225\\_2\\_QY\\_2224\\_2 &  3086 & 1873 & 10106 & 4973 & 17665 & 0.5720917 &  0.90732340 & 4943 & ⋯ &  1.3e-230 & 1 & UCSDX19\\_UCSDX19 & -561.47 & D339\\_D339       &  -894.67 & 0 & D339\\_D339,UCSDX19\\_UCSDX19,0.50       & -522.54 &  -38.94\\\\\n",
       "\tAAACCAACACAGACTC-1 & AAACCAACACAGACTC-1 & QY\\_2225\\_2\\_QY\\_2224\\_2 &  4331 & 2021 &  5276 & 2694 &  6476 & 0.8147004 &  5.07965828 & 5017 & ⋯ &  -2.1e+02 & 1 & D347\\_D347       & -208.17 & UCSDX58\\_UCSDX58 &  -390.14 & 0 & D347\\_D347,D371\\_D371,0.50             & -226.37 &   18.21\\\\\n",
       "\t⋮ & ⋮ & ⋮ & ⋮ & ⋮ & ⋮ & ⋮ & ⋮ & ⋮ & ⋮ & ⋮ & ⋱ & ⋮ & ⋮ & ⋮ & ⋮ & ⋮ & ⋮ & ⋮ & ⋮ & ⋮ & ⋮\\\\\n",
       "\tTTTGTGAAGTATGTGC-1 & TTTGTGAAGTATGTGC-1 & QY\\_2225\\_2\\_QY\\_2224\\_2 &  8596 & 3409 &   209 &  117 &   363 & 0.5757576 & 0.40716612 & 6308 & ⋯ &   1.7e-73 & 1 & UCSDX7\\_UCSDX7   &  -177.53 & UCSDX31\\_UCSDX31 &  -316.63 & 0 & UCSDX7\\_UCSDX7,D339\\_D339,0.50         &  -160.76 &  -16.77\\\\\n",
       "\tTTTGTGAAGTTATCTC-1 & TTTGTGAAGTTATCTC-1 & QY\\_2225\\_2\\_QY\\_2224\\_2 &  5199 & 2373 &  3107 & 1583 &  5259 & 0.5907967 & 0.07693787 & 5287 & ⋯ &  -1.8e+02 & 1 & D339\\_D339       &  -175.12 & UCSDX44\\_UCSDX44 &  -331.90 & 0 & D339\\_D339,UCSDX28\\_UCSDX28,0.50       &  -191.09 &   15.97\\\\\n",
       "\tTTTGTGGCAAAGCGGC-1 & TTTGTGGCAAAGCGGC-1 & QY\\_2225\\_2\\_QY\\_2224\\_2 & 13254 & 3944 &  5085 & 2585 &  5435 & 0.9356026 & 0.21880187 & 5933 & ⋯ &  1.2e-151 & 1 & UCSDX42\\_UCSDX42 &  -437.65 & UCSDX40\\_UCSDX40 &  -538.38 & 0 & UCSDX40\\_UCSDX40,UCSDX42\\_UCSDX42,0.50 &  -340.73 &  -96.92\\\\\n",
       "\tTTTGTGGCAAATTGCT-1 & TTTGTGGCAAATTGCT-1 & QY\\_2225\\_2\\_QY\\_2224\\_2 &  5328 & 2217 &  2720 & 1400 &  3529 & 0.7707566 & 1.97072072 & 5371 & ⋯ &  -1.8e+02 & 1 & D339\\_D339       &  -172.61 & D381\\_D381       &  -340.37 & 0 & D339\\_D339,UCSDX19\\_UCSDX19,0.50       &  -186.07 &   13.45\\\\\n",
       "\tTTTGTGGCAAGGTCCT-1 & TTTGTGGCAAGGTCCT-1 & QY\\_2225\\_2\\_QY\\_2224\\_2 &  9953 & 3224 &  5586 & 2769 &  5975 & 0.9348954 & 0.39184166 & 6309 & ⋯ &  -2.6e+02 & 1 & UCSDX19\\_UCSDX19 &  -251.34 & D356\\_D356       &  -601.99 & 0 & D356\\_D356,UCSDX19\\_UCSDX19,0.50       &  -308.12 &   56.78\\\\\n",
       "\tTTTGTGGCACAGAACG-1 & TTTGTGGCACAGAACG-1 & QY\\_2225\\_2\\_QY\\_2224\\_2 &  1855 & 1185 &  5262 & 2662 & 13007 & 0.4045514 & 1.67115903 & 4384 & ⋯ &  -3.1e+02 & 1 & D265\\_D265       &  -306.56 & D283\\_D283       &  -562.97 & 0 & D265\\_D265,D283\\_D283,0.50             &  -340.11 &   33.55\\\\\n",
       "\tTTTGTGGCACCTAAGC-1 & TTTGTGGCACCTAAGC-1 & QY\\_2225\\_2\\_QY\\_2224\\_2 &   127 &  117 &  9543 & 4820 & 22017 & 0.4334378 & 7.87401575 & 3793 & ⋯ &  -4.4e+02 & 1 & D371\\_D371       &  -434.51 & D071\\_D071       & -1059.56 & 0 & D071\\_D071,D371\\_D371,0.50             &  -546.35 &  111.84\\\\\n",
       "\tTTTGTGGCACCTCGCT-1 & TTTGTGGCACCTCGCT-1 & QY\\_2225\\_2\\_QY\\_2224\\_2 &  9956 & 3073 &  2408 & 1230 &  2691 & 0.8948346 & 0.36159100 & 6226 & ⋯ &  -1.4e+02 & 1 & UCSDX19\\_UCSDX19 &  -138.82 & D283\\_D283       &  -321.08 & 0 & D283\\_D283,UCSDX19\\_UCSDX19,0.50       &  -168.99 &   30.17\\\\\n",
       "\tTTTGTGGCACGGTACT-1 & TTTGTGGCACGGTACT-1 & QY\\_2225\\_2\\_QY\\_2224\\_2 & 14913 & 4622 & 16195 & 7648 & 23855 & 0.6788933 & 1.09971166 & 6156 & ⋯ &   0.0e+00 & 1 & UCSDX42\\_UCSDX42 & -1299.34 & UCSDX19\\_UCSDX19 & -1336.91 & 0 & UCSDX19\\_UCSDX19,UCSDX42\\_UCSDX42,0.50 &  -942.48 & -356.86\\\\\n",
       "\tTTTGTGGCATCCCTCA-1 & TTTGTGGCATCCCTCA-1 & QY\\_2225\\_2\\_QY\\_2224\\_2 &  7751 & 2564 &  1158 &  605 &  4028 & 0.2874876 & 0.25803122 & 6076 & ⋯ &  -2.0e+02 & 1 & UCSDX53\\_UCSDX53 &  -197.07 & UCSDX31\\_UCSDX31 &  -333.53 & 0 & UCSDX31\\_UCSDX31,UCSDX53\\_UCSDX53,0.50 &  -208.71 &   11.64\\\\\n",
       "\tTTTGTGTTCAAACACC-1 & TTTGTGTTCAAACACC-1 & QY\\_2225\\_2\\_QY\\_2224\\_2 &  5915 & 2428 &  5671 & 2825 &  7798 & 0.7272378 & 2.34995773 & 5798 & ⋯ &  -2.6e+02 & 1 & D347\\_D347       &  -251.55 & D357\\_D357       &  -483.07 & 0 & D347\\_D347,D357\\_D357,0.50             &  -279.32 &   27.77\\\\\n",
       "\tTTTGTGTTCAAACCGT-1 & TTTGTGTTCAAACCGT-1 & QY\\_2225\\_2\\_QY\\_2224\\_2 &  7527 & 2792 &  4365 & 2183 &  4664 & 0.9358919 & 0.49156370 & 6114 & ⋯ &  -2.1e+02 & 1 & D339\\_D339       &  -201.68 & UCSDX19\\_UCSDX19 &  -456.73 & 0 & D339\\_D339,UCSDX31\\_UCSDX31,0.50       &  -239.30 &   37.62\\\\\n",
       "\tTTTGTGTTCATAAGCC-1 & TTTGTGTTCATAAGCC-1 & QY\\_2225\\_2\\_QY\\_2224\\_2 & 13434 & 4296 & 13505 & 6520 & 40816 & 0.3308751 & 0.19353878 & 6132 & ⋯ &   0.0e+00 & 1 & D347\\_D347       & -1622.59 & D339\\_D339       & -1634.60 & 0 & D339\\_D339,D347\\_D347,0.50             & -1218.09 & -404.49\\\\\n",
       "\tTTTGTGTTCCAGGAAA-1 & TTTGTGTTCCAGGAAA-1 & QY\\_2225\\_2\\_QY\\_2224\\_2 & 16978 & 5235 & 13154 & 6212 & 17925 & 0.7338354 & 1.38414419 & 5578 & ⋯ &   0.0e+00 & 1 & UCSDX51\\_UCSDX51 & -1115.28 & D265\\_D265       & -1118.93 & 0 & D265\\_D265,UCSDX51\\_UCSDX51,0.50       &  -858.93 & -256.35\\\\\n",
       "\tTTTGTGTTCCTAATAG-1 & TTTGTGTTCCTAATAG-1 & QY\\_2225\\_2\\_QY\\_2224\\_2 &  7012 & 2634 & 12392 & 6096 & 12467 & 0.9939841 & 0.94124358 & 6047 & ⋯ &  -4.3e+02 & 1 & D265\\_D265       &  -421.96 & UCSDX19\\_UCSDX19 & -1044.70 & 0 & D265\\_D265,UCSDX19\\_UCSDX19,0.50       &  -537.00 &  115.04\\\\\n",
       "\tTTTGTGTTCCTCGATC-1 & TTTGTGTTCCTCGATC-1 & QY\\_2225\\_2\\_QY\\_2224\\_2 &  4158 & 1924 &  4406 & 2238 &  8368 & 0.5265296 & 0.14430014 & 4937 & ⋯ &  -3.3e+02 & 1 & D265\\_D265       &  -330.55 & UCSDX50\\_UCSDX50 &  -592.09 & 0 & D265\\_D265,UCSDX50\\_UCSDX50,0.50       &  -352.05 &   21.50\\\\\n",
       "\tTTTGTGTTCCTTAGGG-1 & TTTGTGTTCCTTAGGG-1 & QY\\_2225\\_2\\_QY\\_2224\\_2 &  2255 & 1359 &  4533 & 2277 &  5651 & 0.8021589 & 0.57649667 & 4755 & ⋯ &  -1.7e+02 & 1 & D339\\_D339       &  -161.19 & UCSDX21\\_UCSDX21 &  -359.96 & 0 & D339\\_D339,UCSDX21\\_UCSDX21,0.50       &  -194.06 &   32.87\\\\\n",
       "\tTTTGTGTTCGGCCAGT-1 & TTTGTGTTCGGCCAGT-1 & QY\\_2225\\_2\\_QY\\_2224\\_2 &  7999 & 3134 &  4437 & 2272 &  9474 & 0.4683344 & 0.17502188 & 6267 & ⋯ &  -3.2e+02 & 1 & UCSDX38\\_UCSDX38 &  -314.57 & D357\\_D357       &  -650.09 & 0 & D071\\_D071,UCSDX38\\_UCSDX38,0.50       &  -363.00 &   48.43\\\\\n",
       "\tTTTGTGTTCGGGACTC-1 & TTTGTGTTCGGGACTC-1 & QY\\_2225\\_2\\_QY\\_2224\\_2 &  5004 & 2461 &  7723 & 3870 & 19090 & 0.4045574 & 1.45883293 & 5138 & ⋯ &  4.1e-267 & 1 & UCSDX7\\_UCSDX7   &  -698.44 & UCSDX40\\_UCSDX40 & -1144.50 & 0 & UCSDX7\\_UCSDX7,UCSDX40\\_UCSDX40,0.50   &  -606.62 &  -91.82\\\\\n",
       "\tTTTGTGTTCTAATCTC-1 & TTTGTGTTCTAATCTC-1 & QY\\_2225\\_2\\_QY\\_2224\\_2 &   788 &  630 &  2102 & 1064 &  4692 & 0.4479966 & 2.91878173 & 4133 & ⋯ &  -9.4e+01 & 1 & D339\\_D339       &   -90.20 & UCSDX53\\_UCSDX53 &  -177.15 & 0 & D339\\_D339,UCSDX53\\_UCSDX53,0.50       &  -100.36 &   10.16\\\\\n",
       "\tTTTGTGTTCTGCAACG-1 & TTTGTGTTCTGCAACG-1 & QY\\_2225\\_2\\_QY\\_2224\\_2 &  6860 & 2442 &  3933 & 1993 &  5276 & 0.7454511 & 1.48688047 & 5990 & ⋯ &  -2.0e+02 & 1 & D339\\_D339       &  -195.86 & D071\\_D071       &  -359.32 & 0 & D071\\_D071,D339\\_D339,0.50             &  -213.75 &   17.90\\\\\n",
       "\tTTTGTTGGTAGCTGCG-1 & TTTGTTGGTAGCTGCG-1 & QY\\_2225\\_2\\_QY\\_2224\\_2 &  5440 & 2459 &   112 &   61 &   159 & 0.7044025 & 0.05514706 & 5445 & ⋯ &  -5.0e+01 & 1 & UCSDX19\\_UCSDX19 &   -45.50 & D371\\_D371       &  -104.34 & 0 & D371\\_D371,UCSDX19\\_UCSDX19,0.50       &   -57.28 &   11.77\\\\\n",
       "\tTTTGTTGGTATTCGCT-1 & TTTGTTGGTATTCGCT-1 & QY\\_2225\\_2\\_QY\\_2224\\_2 &  5963 & 2465 &  8288 & 4111 & 10133 & 0.8179216 & 1.00620493 & 5837 & ⋯ &  -3.4e+02 & 1 & D265\\_D265       &  -338.03 & UCSDX31\\_UCSDX31 &  -793.19 & 0 & D265\\_D265,D339\\_D339,0.50             &  -416.40 &   78.36\\\\\n",
       "\tTTTGTTGGTCATCCTG-1 & TTTGTTGGTCATCCTG-1 & QY\\_2225\\_2\\_QY\\_2224\\_2 & 13025 & 4339 &  9441 & 4473 & 24407 & 0.3868153 & 0.69865643 & 6401 & ⋯ &   0.0e+00 & 1 & UCSDX38\\_UCSDX38 &  -948.90 & D381\\_D381       & -1117.37 & 0 & D381\\_D381,UCSDX38\\_UCSDX38,0.50       &  -754.88 & -194.02\\\\\n",
       "\tTTTGTTGGTCCTAAGA-1 & TTTGTTGGTCCTAAGA-1 & QY\\_2225\\_2\\_QY\\_2224\\_2 &  7005 & 2885 &  2609 & 1370 &  5436 & 0.4799485 & 0.38543897 & 6123 & ⋯ &   9.5e-89 & 1 & UCSDX40\\_UCSDX40 &  -268.09 & D339\\_D339       &  -269.76 & 0 & UCSDX40\\_UCSDX40,D339\\_D339,0.50       &  -195.91 &  -72.17\\\\\n",
       "\tTTTGTTGGTCTTGCAT-1 & TTTGTTGGTCTTGCAT-1 & QY\\_2225\\_2\\_QY\\_2224\\_2 &  1772 & 1078 &  2125 & 1121 &  5961 & 0.3564838 & 0.33860045 & 4332 & ⋯ &  -1.1e+02 & 1 & UCSDX19\\_UCSDX19 &  -105.98 & D356\\_D356       &  -278.66 & 0 & D356\\_D356,UCSDX19\\_UCSDX19,0.50       &  -142.24 &   36.26\\\\\n",
       "\tTTTGTTGGTGGTGAGA-1 & TTTGTTGGTGGTGAGA-1 & QY\\_2225\\_2\\_QY\\_2224\\_2 &  5614 & 2595 &  6419 & 3145 &  8193 & 0.7834737 & 3.18845743 & 5605 & ⋯ &  -2.5e+02 & 1 & D339\\_D339       &  -242.75 & D356\\_D356       &  -574.23 & 0 & D339\\_D339,D356\\_D356,0.50             &  -301.85 &   59.11\\\\\n",
       "\tTTTGTTGGTGTGCAAC-1 & TTTGTTGGTGTGCAAC-1 & QY\\_2225\\_2\\_QY\\_2224\\_2 & 10844 & 4426 &  4809 & 2511 & 15751 & 0.3053139 & 1.01438584 & 6591 & ⋯ &  2.6e-259 & 1 & UCSDX7\\_UCSDX7   &  -769.65 & UCSDX44\\_UCSDX44 &  -857.47 & 0 & UCSDX7\\_UCSDX7,UCSDX44\\_UCSDX44,0.50   &  -588.63 & -181.02\\\\\n",
       "\tTTTGTTGGTTAAGCCA-1 & TTTGTTGGTTAAGCCA-1 & QY\\_2225\\_2\\_QY\\_2224\\_2 &  6985 & 2974 &  1806 &  925 &  3687 & 0.4898291 & 1.00214746 & 6253 & ⋯ &  -1.7e+02 & 1 & UCSDX13\\_UCSDX13 &  -161.64 & UCSDX42\\_UCSDX42 &  -334.27 & 0 & D283\\_D283,UCSDX13\\_UCSDX13,0.50       &  -182.17 &   20.53\\\\\n",
       "\tTTTGTTGGTTACCTGT-1 & TTTGTTGGTTACCTGT-1 & QY\\_2225\\_2\\_QY\\_2224\\_2 &  6753 & 2352 &   590 &  325 &  1966 & 0.3001017 & 0.20731527 & 6066 & ⋯ &  -1.4e+02 & 1 & D265\\_D265       &  -131.64 & UCSDX19\\_UCSDX19 &  -222.70 & 0 & D265\\_D265,UCSDX31\\_UCSDX31,0.50       &  -136.92 &    5.28\\\\\n",
       "\\end{tabular}\n"
      ],
      "text/markdown": [
       "\n",
       "A data.frame: 20000 × 30\n",
       "\n",
       "| <!--/--> | BARCODE &lt;chr&gt; | orig.ident &lt;fct&gt; | nCount_RNA &lt;dbl&gt; | nFeature_RNA &lt;int&gt; | nCount_ATAC &lt;dbl&gt; | nFeature_ATAC &lt;int&gt; | fragments_freq_count &lt;dbl&gt; | FRiP &lt;dbl&gt; | percent.mt &lt;dbl&gt; | nCount_SCT &lt;dbl&gt; | ⋯ ⋯ | BEST.POSTERIOR &lt;dbl&gt; | SNG.POSTERIOR &lt;dbl&gt; | SNG.BEST.GUESS &lt;chr&gt; | SNG.BEST.LLK &lt;dbl&gt; | SNG.NEXT.GUESS &lt;chr&gt; | SNG.NEXT.LLK &lt;dbl&gt; | SNG.ONLY.POSTERIOR &lt;dbl&gt; | DBL.BEST.GUESS &lt;chr&gt; | DBL.BEST.LLK &lt;dbl&gt; | DIFF.LLK.SNG.DBL &lt;dbl&gt; |\n",
       "|---|---|---|---|---|---|---|---|---|---|---|---|---|---|---|---|---|---|---|---|---|---|\n",
       "| AAACAGCCAAACGGGC-1 | AAACAGCCAAACGGGC-1 | QY_2225_2_QY_2224_2 |  6581 | 3072 |  5854 | 2926 |  9272 | 0.6313632 |  1.10925391 | 6172 | ⋯ |  -2.5e+02 | 1 | UCSDX51_UCSDX51 | -243.32 | D371_D371       |  -574.97 | 0 | D381_D381,UCSDX51_UCSDX51,0.50       | -301.66 |   58.34 |\n",
       "| AAACAGCCAAAGGTAC-1 | AAACAGCCAAAGGTAC-1 | QY_2225_2_QY_2224_2 |  6785 | 2512 |  2357 | 1209 |  3871 | 0.6088866 |  3.38983051 | 6013 | ⋯ |  -1.8e+02 | 1 | D265_D265       | -173.03 | UCSDX3_UCSDX3   |  -291.65 | 0 | D265_D265,UCSDX3_UCSDX3,0.50         | -182.59 |    9.56 |\n",
       "| AAACAGCCAAATACCT-1 | AAACAGCCAAATACCT-1 | QY_2225_2_QY_2224_2 |   773 |  607 |  2335 | 1213 |  3731 | 0.6258376 |  1.16429495 | 4272 | ⋯ |  -7.2e+01 | 1 | UCSDX19_UCSDX19 |  -68.06 | UCSDX51_UCSDX51 |  -145.11 | 0 | UCSDX19_UCSDX19,UCSDX31_UCSDX31,0.50 |  -79.20 |   11.14 |\n",
       "| AAACAGCCAATTGACT-1 | AAACAGCCAATTGACT-1 | QY_2225_2_QY_2224_2 |  1709 | 1121 |  8280 | 4112 | 20682 | 0.4003481 |  2.57460503 | 4407 | ⋯ |  -4.0e+02 | 1 | UCSDX42_UCSDX42 | -391.82 | UCSDX40_UCSDX40 |  -956.91 | 0 | UCSDX40_UCSDX40,UCSDX42_UCSDX42,0.50 | -486.25 |   94.43 |\n",
       "| AAACAGCCACATAGCC-1 | AAACAGCCACATAGCC-1 | QY_2225_2_QY_2224_2 |  5791 | 2752 |    84 |   43 |    81 | 1.0370370 |  0.41443619 | 5755 | ⋯ |  -5.0e+01 | 1 | D339_D339       |  -45.57 | UCSDX2_UCSDX2   |  -129.87 | 0 | D339_D339,D371_D371,0.50             |  -62.54 |   16.96 |\n",
       "| AAACAGCCACCAGCAT-1 | AAACAGCCACCAGCAT-1 | QY_2225_2_QY_2224_2 | 13831 | 4553 |  7542 | 3804 |  9703 | 0.7772854 |  0.62179163 | 6228 | ⋯ |  5.0e-207 | 1 | UCSDX44_UCSDX44 | -625.03 | UCSDX19_UCSDX19 |  -680.52 | 0 | UCSDX19_UCSDX19,UCSDX44_UCSDX44,0.50 | -468.25 | -156.78 |\n",
       "| AAACAGCCACTCAACA-1 | AAACAGCCACTCAACA-1 | QY_2225_2_QY_2224_2 |  6616 | 2807 |  5308 | 2637 |  6761 | 0.7850910 |  0.19649335 | 6142 | ⋯ |  -2.2e+02 | 1 | D265_D265       | -217.55 | D283_D283       |  -551.49 | 0 | D265_D265,D381_D381,0.50             | -281.11 |   63.56 |\n",
       "| AAACAGCCAGAGGGAG-1 | AAACAGCCAGAGGGAG-1 | QY_2225_2_QY_2224_2 |   255 |  222 |  2382 | 1220 |  8488 | 0.2806315 |  3.13725490 | 4128 | ⋯ |  -1.5e+02 | 1 | D335_D335       | -149.09 | UCSDX21_UCSDX21 |  -363.05 | 0 | D335_D335,UCSDX21_UCSDX21,0.50       | -183.51 |   34.42 |\n",
       "| AAACAGCCAGGCCTTG-1 | AAACAGCCAGGCCTTG-1 | QY_2225_2_QY_2224_2 | 11851 | 4666 |  8238 | 4034 | 16879 | 0.4880621 |  1.56948781 | 6629 | ⋯ |  1.5e-264 | 1 | UCSDX31_UCSDX31 | -689.13 | D339_D339       |  -860.94 | 0 | D339_D339,UCSDX31_UCSDX31,0.50       | -600.68 |  -88.45 |\n",
       "| AAACAGCCAGGCTTGT-1 | AAACAGCCAGGCTTGT-1 | QY_2225_2_QY_2224_2 |  6586 | 3173 |   883 |  468 |  1893 | 0.4664554 |  3.17339812 | 6193 | ⋯ |  -1.1e+02 | 1 | UCSDX40_UCSDX40 | -109.86 | D265_D265       |  -216.82 | 0 | D265_D265,UCSDX40_UCSDX40,0.50       | -121.96 |   12.11 |\n",
       "| AAACAGCCATAGGCGA-1 | AAACAGCCATAGGCGA-1 | QY_2225_2_QY_2224_2 |  5532 | 2458 |  4223 | 2116 |  4991 | 0.8461230 |  0.07230658 | 5532 | ⋯ |  -1.9e+02 | 1 | D339_D339       | -184.03 | UCSDX44_UCSDX44 |  -447.74 | 0 | D339_D339,UCSDX44_UCSDX44,0.50       | -225.63 |   41.60 |\n",
       "| AAACAGCCATCTTGAG-1 | AAACAGCCATCTTGAG-1 | QY_2225_2_QY_2224_2 |  8672 | 3183 |    87 |   46 |   119 | 0.7310924 |  6.16928044 | 6319 | ⋯ |  -8.1e+01 | 1 | D339_D339       |  -77.22 | UCSDX2_UCSDX2   |  -161.26 | 0 | D339_D339,UCSDX2_UCSDX2,0.50         |  -89.51 |   12.29 |\n",
       "| AAACATGCAAATACCT-1 | AAACATGCAAATACCT-1 | QY_2225_2_QY_2224_2 |  2606 | 1466 |   200 |  106 |   440 | 0.4545455 |  0.15349194 | 4903 | ⋯ |  -2.6e+01 | 1 | UCSDX19_UCSDX19 |  -21.92 | D381_D381       |   -53.80 | 0 | D381_D381,UCSDX19_UCSDX19,0.50       |  -26.61 |    4.68 |\n",
       "| AAACATGCAAGCTTTG-1 | AAACATGCAAGCTTTG-1 | QY_2225_2_QY_2224_2 |  5628 | 2037 |  1526 |  798 |  2839 | 0.5375132 |  0.12437811 | 5609 | ⋯ |  -1.0e+02 | 1 | UCSDX51_UCSDX51 |  -97.52 | UCSDX31_UCSDX31 |  -251.45 | 0 | UCSDX13_UCSDX13,UCSDX51_UCSDX51,0.50 | -127.59 |   30.06 |\n",
       "| AAACATGCAAGGTCGA-1 | AAACATGCAAGGTCGA-1 | QY_2225_2_QY_2224_2 | 33127 | 7241 |   577 |  312 |  1930 | 0.2989637 |  0.43167205 | 5562 | ⋯ |  4.7e-211 | 1 | UCSDX42_UCSDX42 | -572.14 | UCSDX13_UCSDX13 |  -714.67 | 0 | UCSDX13_UCSDX13,UCSDX42_UCSDX42,0.50 | -477.54 |  -94.60 |\n",
       "| AAACATGCAATCTCTC-1 | AAACATGCAATCTCTC-1 | QY_2225_2_QY_2224_2 |  5882 | 2524 |   756 |  406 |   766 | 0.9869452 |  0.68004080 | 5802 | ⋯ |  -9.7e+01 | 1 | D265_D265       |  -92.87 | UCSDX50_UCSDX50 |  -207.39 | 0 | D265_D265,UCSDX50_UCSDX50,0.50       | -105.99 |   13.11 |\n",
       "| AAACATGCAATGCGCT-1 | AAACATGCAATGCGCT-1 | QY_2225_2_QY_2224_2 |  5353 | 2352 |  2659 | 1397 |  7642 | 0.3479456 |  0.29889781 | 5385 | ⋯ |  -1.9e+02 | 1 | UCSDX53_UCSDX53 | -187.92 | UCSDX51_UCSDX51 |  -403.15 | 0 | D283_D283,UCSDX53_UCSDX53,0.50       | -218.53 |   30.60 |\n",
       "| AAACATGCACACTAAT-1 | AAACATGCACACTAAT-1 | QY_2225_2_QY_2224_2 |  8826 | 3287 |  8287 | 4031 | 10437 | 0.7940021 |  0.64581917 | 6262 | ⋯ |  -3.4e+02 | 1 | D357_D357       | -333.06 | D347_D347       |  -763.49 | 0 | D356_D356,D357_D357,0.50             | -403.74 |   70.67 |\n",
       "| AAACATGCACATGCTA-1 | AAACATGCACATGCTA-1 | QY_2225_2_QY_2224_2 |   546 |  240 |  8555 | 4412 | 31437 | 0.2721316 | 46.52014652 | 4431 | ⋯ |  -4.8e+02 | 1 | UCSDX3_UCSDX3   | -478.54 | UCSDX19_UCSDX19 | -1180.34 | 0 | UCSDX3_UCSDX3,UCSDX19_UCSDX19,0.50   | -617.46 |  138.92 |\n",
       "| AAACATGCACGTAAGG-1 | AAACATGCACGTAAGG-1 | QY_2225_2_QY_2224_2 |  1232 |  786 |  3308 | 1725 | 11815 | 0.2799831 |  0.32467532 | 4644 | ⋯ |  -2.2e+02 | 1 | D381_D381       | -214.21 | UCSDX19_UCSDX19 |  -467.33 | 0 | D381_D381,D356_D356,0.50             | -250.32 |   36.11 |\n",
       "| AAACATGCACTGACTA-1 | AAACATGCACTGACTA-1 | QY_2225_2_QY_2224_2 | 19703 | 5071 |  3168 | 1641 |  6097 | 0.5195998 |  0.12180886 | 5572 | ⋯ |  1.2e-159 | 1 | D339_D339       | -423.77 | UCSDX53_UCSDX53 |  -535.36 | 0 | D339_D339,UCSDX53_UCSDX53,0.50       | -359.15 |  -64.62 |\n",
       "| AAACATGCAGGACACA-1 | AAACATGCAGGACACA-1 | QY_2225_2_QY_2224_2 | 10635 | 3875 |   460 |  245 |  1032 | 0.4457364 |  1.70192760 | 6642 | ⋯ |  -1.3e+02 | 1 | UCSDX24_UCSDX24 | -124.26 | D357_D357       |  -301.85 | 0 | UCSDX24_UCSDX24,UCSDX42_UCSDX42,0.50 | -155.68 |   31.42 |\n",
       "| AAACATGCAGGCGATA-1 | AAACATGCAGGCGATA-1 | QY_2225_2_QY_2224_2 |  8516 | 3143 |  4703 | 2460 | 12220 | 0.3848609 |  0.09394082 | 6171 | ⋯ |  -2.9e+02 | 1 | UCSDX51_UCSDX51 | -289.16 | D071_D071       |  -641.08 | 0 | D071_D071,UCSDX51_UCSDX51,0.50       | -339.28 |   50.12 |\n",
       "| AAACATGCAGGTTACC-1 | AAACATGCAGGTTACC-1 | QY_2225_2_QY_2224_2 |  6772 | 2183 |   377 |  198 |  1020 | 0.3696078 |  1.59480213 | 5968 | ⋯ |  -7.7e+01 | 1 | UCSDX7_UCSDX7   |  -73.28 | UCSDX21_UCSDX21 |  -167.35 | 0 | UCSDX21_UCSDX21,UCSDX7_UCSDX7,0.50   |  -84.03 |   10.74 |\n",
       "| AAACATGCATAAGTTC-1 | AAACATGCATAAGTTC-1 | QY_2225_2_QY_2224_2 | 10024 | 3928 |  2632 | 1355 |  2966 | 0.8873904 |  4.73862729 | 6637 | ⋯ |  -1.7e+02 | 1 | UCSDX44_UCSDX44 | -164.68 | UCSDX42_UCSDX42 |  -407.68 | 0 | UCSDX42_UCSDX42,UCSDX44_UCSDX44,0.50 | -206.45 |   41.77 |\n",
       "| AAACATGCATGACTAT-1 | AAACATGCATGACTAT-1 | QY_2225_2_QY_2224_2 | 15785 | 4025 |  5210 | 2690 | 14060 | 0.3705548 |  0.67785873 | 5996 | ⋯ |  6.2e-278 | 1 | UCSDX7_UCSDX7   | -889.52 | D265_D265       |  -902.60 | 0 | D265_D265,UCSDX7_UCSDX7,0.50         | -631.53 | -258.00 |\n",
       "| AAACATGCATGTTGCA-1 | AAACATGCATGTTGCA-1 | QY_2225_2_QY_2224_2 |  4423 | 1887 |  1231 |  650 |  3303 | 0.3726915 |  0.18087271 | 4990 | ⋯ |  -1.5e+02 | 1 | UCSDX50_UCSDX50 | -147.89 | UCSDX42_UCSDX42 |  -250.42 | 0 | UCSDX40_UCSDX40,UCSDX50_UCSDX50,0.50 | -151.61 |    3.72 |\n",
       "| AAACCAACAAGTGTTT-1 | AAACCAACAAGTGTTT-1 | QY_2225_2_QY_2224_2 |  7389 | 3115 |  6736 | 3268 |  7930 | 0.8494325 |  0.81201786 | 6204 | ⋯ |  2.1e-144 | 1 | D347_D347       | -400.29 | D339_D339       |  -547.69 | 0 | D339_D339,D347_D347,0.50             | -324.07 |  -76.22 |\n",
       "| AAACCAACACAATGCC-1 | AAACCAACACAATGCC-1 | QY_2225_2_QY_2224_2 |  3086 | 1873 | 10106 | 4973 | 17665 | 0.5720917 |  0.90732340 | 4943 | ⋯ |  1.3e-230 | 1 | UCSDX19_UCSDX19 | -561.47 | D339_D339       |  -894.67 | 0 | D339_D339,UCSDX19_UCSDX19,0.50       | -522.54 |  -38.94 |\n",
       "| AAACCAACACAGACTC-1 | AAACCAACACAGACTC-1 | QY_2225_2_QY_2224_2 |  4331 | 2021 |  5276 | 2694 |  6476 | 0.8147004 |  5.07965828 | 5017 | ⋯ |  -2.1e+02 | 1 | D347_D347       | -208.17 | UCSDX58_UCSDX58 |  -390.14 | 0 | D347_D347,D371_D371,0.50             | -226.37 |   18.21 |\n",
       "| ⋮ | ⋮ | ⋮ | ⋮ | ⋮ | ⋮ | ⋮ | ⋮ | ⋮ | ⋮ | ⋮ | ⋱ | ⋮ | ⋮ | ⋮ | ⋮ | ⋮ | ⋮ | ⋮ | ⋮ | ⋮ | ⋮ |\n",
       "| TTTGTGAAGTATGTGC-1 | TTTGTGAAGTATGTGC-1 | QY_2225_2_QY_2224_2 |  8596 | 3409 |   209 |  117 |   363 | 0.5757576 | 0.40716612 | 6308 | ⋯ |   1.7e-73 | 1 | UCSDX7_UCSDX7   |  -177.53 | UCSDX31_UCSDX31 |  -316.63 | 0 | UCSDX7_UCSDX7,D339_D339,0.50         |  -160.76 |  -16.77 |\n",
       "| TTTGTGAAGTTATCTC-1 | TTTGTGAAGTTATCTC-1 | QY_2225_2_QY_2224_2 |  5199 | 2373 |  3107 | 1583 |  5259 | 0.5907967 | 0.07693787 | 5287 | ⋯ |  -1.8e+02 | 1 | D339_D339       |  -175.12 | UCSDX44_UCSDX44 |  -331.90 | 0 | D339_D339,UCSDX28_UCSDX28,0.50       |  -191.09 |   15.97 |\n",
       "| TTTGTGGCAAAGCGGC-1 | TTTGTGGCAAAGCGGC-1 | QY_2225_2_QY_2224_2 | 13254 | 3944 |  5085 | 2585 |  5435 | 0.9356026 | 0.21880187 | 5933 | ⋯ |  1.2e-151 | 1 | UCSDX42_UCSDX42 |  -437.65 | UCSDX40_UCSDX40 |  -538.38 | 0 | UCSDX40_UCSDX40,UCSDX42_UCSDX42,0.50 |  -340.73 |  -96.92 |\n",
       "| TTTGTGGCAAATTGCT-1 | TTTGTGGCAAATTGCT-1 | QY_2225_2_QY_2224_2 |  5328 | 2217 |  2720 | 1400 |  3529 | 0.7707566 | 1.97072072 | 5371 | ⋯ |  -1.8e+02 | 1 | D339_D339       |  -172.61 | D381_D381       |  -340.37 | 0 | D339_D339,UCSDX19_UCSDX19,0.50       |  -186.07 |   13.45 |\n",
       "| TTTGTGGCAAGGTCCT-1 | TTTGTGGCAAGGTCCT-1 | QY_2225_2_QY_2224_2 |  9953 | 3224 |  5586 | 2769 |  5975 | 0.9348954 | 0.39184166 | 6309 | ⋯ |  -2.6e+02 | 1 | UCSDX19_UCSDX19 |  -251.34 | D356_D356       |  -601.99 | 0 | D356_D356,UCSDX19_UCSDX19,0.50       |  -308.12 |   56.78 |\n",
       "| TTTGTGGCACAGAACG-1 | TTTGTGGCACAGAACG-1 | QY_2225_2_QY_2224_2 |  1855 | 1185 |  5262 | 2662 | 13007 | 0.4045514 | 1.67115903 | 4384 | ⋯ |  -3.1e+02 | 1 | D265_D265       |  -306.56 | D283_D283       |  -562.97 | 0 | D265_D265,D283_D283,0.50             |  -340.11 |   33.55 |\n",
       "| TTTGTGGCACCTAAGC-1 | TTTGTGGCACCTAAGC-1 | QY_2225_2_QY_2224_2 |   127 |  117 |  9543 | 4820 | 22017 | 0.4334378 | 7.87401575 | 3793 | ⋯ |  -4.4e+02 | 1 | D371_D371       |  -434.51 | D071_D071       | -1059.56 | 0 | D071_D071,D371_D371,0.50             |  -546.35 |  111.84 |\n",
       "| TTTGTGGCACCTCGCT-1 | TTTGTGGCACCTCGCT-1 | QY_2225_2_QY_2224_2 |  9956 | 3073 |  2408 | 1230 |  2691 | 0.8948346 | 0.36159100 | 6226 | ⋯ |  -1.4e+02 | 1 | UCSDX19_UCSDX19 |  -138.82 | D283_D283       |  -321.08 | 0 | D283_D283,UCSDX19_UCSDX19,0.50       |  -168.99 |   30.17 |\n",
       "| TTTGTGGCACGGTACT-1 | TTTGTGGCACGGTACT-1 | QY_2225_2_QY_2224_2 | 14913 | 4622 | 16195 | 7648 | 23855 | 0.6788933 | 1.09971166 | 6156 | ⋯ |   0.0e+00 | 1 | UCSDX42_UCSDX42 | -1299.34 | UCSDX19_UCSDX19 | -1336.91 | 0 | UCSDX19_UCSDX19,UCSDX42_UCSDX42,0.50 |  -942.48 | -356.86 |\n",
       "| TTTGTGGCATCCCTCA-1 | TTTGTGGCATCCCTCA-1 | QY_2225_2_QY_2224_2 |  7751 | 2564 |  1158 |  605 |  4028 | 0.2874876 | 0.25803122 | 6076 | ⋯ |  -2.0e+02 | 1 | UCSDX53_UCSDX53 |  -197.07 | UCSDX31_UCSDX31 |  -333.53 | 0 | UCSDX31_UCSDX31,UCSDX53_UCSDX53,0.50 |  -208.71 |   11.64 |\n",
       "| TTTGTGTTCAAACACC-1 | TTTGTGTTCAAACACC-1 | QY_2225_2_QY_2224_2 |  5915 | 2428 |  5671 | 2825 |  7798 | 0.7272378 | 2.34995773 | 5798 | ⋯ |  -2.6e+02 | 1 | D347_D347       |  -251.55 | D357_D357       |  -483.07 | 0 | D347_D347,D357_D357,0.50             |  -279.32 |   27.77 |\n",
       "| TTTGTGTTCAAACCGT-1 | TTTGTGTTCAAACCGT-1 | QY_2225_2_QY_2224_2 |  7527 | 2792 |  4365 | 2183 |  4664 | 0.9358919 | 0.49156370 | 6114 | ⋯ |  -2.1e+02 | 1 | D339_D339       |  -201.68 | UCSDX19_UCSDX19 |  -456.73 | 0 | D339_D339,UCSDX31_UCSDX31,0.50       |  -239.30 |   37.62 |\n",
       "| TTTGTGTTCATAAGCC-1 | TTTGTGTTCATAAGCC-1 | QY_2225_2_QY_2224_2 | 13434 | 4296 | 13505 | 6520 | 40816 | 0.3308751 | 0.19353878 | 6132 | ⋯ |   0.0e+00 | 1 | D347_D347       | -1622.59 | D339_D339       | -1634.60 | 0 | D339_D339,D347_D347,0.50             | -1218.09 | -404.49 |\n",
       "| TTTGTGTTCCAGGAAA-1 | TTTGTGTTCCAGGAAA-1 | QY_2225_2_QY_2224_2 | 16978 | 5235 | 13154 | 6212 | 17925 | 0.7338354 | 1.38414419 | 5578 | ⋯ |   0.0e+00 | 1 | UCSDX51_UCSDX51 | -1115.28 | D265_D265       | -1118.93 | 0 | D265_D265,UCSDX51_UCSDX51,0.50       |  -858.93 | -256.35 |\n",
       "| TTTGTGTTCCTAATAG-1 | TTTGTGTTCCTAATAG-1 | QY_2225_2_QY_2224_2 |  7012 | 2634 | 12392 | 6096 | 12467 | 0.9939841 | 0.94124358 | 6047 | ⋯ |  -4.3e+02 | 1 | D265_D265       |  -421.96 | UCSDX19_UCSDX19 | -1044.70 | 0 | D265_D265,UCSDX19_UCSDX19,0.50       |  -537.00 |  115.04 |\n",
       "| TTTGTGTTCCTCGATC-1 | TTTGTGTTCCTCGATC-1 | QY_2225_2_QY_2224_2 |  4158 | 1924 |  4406 | 2238 |  8368 | 0.5265296 | 0.14430014 | 4937 | ⋯ |  -3.3e+02 | 1 | D265_D265       |  -330.55 | UCSDX50_UCSDX50 |  -592.09 | 0 | D265_D265,UCSDX50_UCSDX50,0.50       |  -352.05 |   21.50 |\n",
       "| TTTGTGTTCCTTAGGG-1 | TTTGTGTTCCTTAGGG-1 | QY_2225_2_QY_2224_2 |  2255 | 1359 |  4533 | 2277 |  5651 | 0.8021589 | 0.57649667 | 4755 | ⋯ |  -1.7e+02 | 1 | D339_D339       |  -161.19 | UCSDX21_UCSDX21 |  -359.96 | 0 | D339_D339,UCSDX21_UCSDX21,0.50       |  -194.06 |   32.87 |\n",
       "| TTTGTGTTCGGCCAGT-1 | TTTGTGTTCGGCCAGT-1 | QY_2225_2_QY_2224_2 |  7999 | 3134 |  4437 | 2272 |  9474 | 0.4683344 | 0.17502188 | 6267 | ⋯ |  -3.2e+02 | 1 | UCSDX38_UCSDX38 |  -314.57 | D357_D357       |  -650.09 | 0 | D071_D071,UCSDX38_UCSDX38,0.50       |  -363.00 |   48.43 |\n",
       "| TTTGTGTTCGGGACTC-1 | TTTGTGTTCGGGACTC-1 | QY_2225_2_QY_2224_2 |  5004 | 2461 |  7723 | 3870 | 19090 | 0.4045574 | 1.45883293 | 5138 | ⋯ |  4.1e-267 | 1 | UCSDX7_UCSDX7   |  -698.44 | UCSDX40_UCSDX40 | -1144.50 | 0 | UCSDX7_UCSDX7,UCSDX40_UCSDX40,0.50   |  -606.62 |  -91.82 |\n",
       "| TTTGTGTTCTAATCTC-1 | TTTGTGTTCTAATCTC-1 | QY_2225_2_QY_2224_2 |   788 |  630 |  2102 | 1064 |  4692 | 0.4479966 | 2.91878173 | 4133 | ⋯ |  -9.4e+01 | 1 | D339_D339       |   -90.20 | UCSDX53_UCSDX53 |  -177.15 | 0 | D339_D339,UCSDX53_UCSDX53,0.50       |  -100.36 |   10.16 |\n",
       "| TTTGTGTTCTGCAACG-1 | TTTGTGTTCTGCAACG-1 | QY_2225_2_QY_2224_2 |  6860 | 2442 |  3933 | 1993 |  5276 | 0.7454511 | 1.48688047 | 5990 | ⋯ |  -2.0e+02 | 1 | D339_D339       |  -195.86 | D071_D071       |  -359.32 | 0 | D071_D071,D339_D339,0.50             |  -213.75 |   17.90 |\n",
       "| TTTGTTGGTAGCTGCG-1 | TTTGTTGGTAGCTGCG-1 | QY_2225_2_QY_2224_2 |  5440 | 2459 |   112 |   61 |   159 | 0.7044025 | 0.05514706 | 5445 | ⋯ |  -5.0e+01 | 1 | UCSDX19_UCSDX19 |   -45.50 | D371_D371       |  -104.34 | 0 | D371_D371,UCSDX19_UCSDX19,0.50       |   -57.28 |   11.77 |\n",
       "| TTTGTTGGTATTCGCT-1 | TTTGTTGGTATTCGCT-1 | QY_2225_2_QY_2224_2 |  5963 | 2465 |  8288 | 4111 | 10133 | 0.8179216 | 1.00620493 | 5837 | ⋯ |  -3.4e+02 | 1 | D265_D265       |  -338.03 | UCSDX31_UCSDX31 |  -793.19 | 0 | D265_D265,D339_D339,0.50             |  -416.40 |   78.36 |\n",
       "| TTTGTTGGTCATCCTG-1 | TTTGTTGGTCATCCTG-1 | QY_2225_2_QY_2224_2 | 13025 | 4339 |  9441 | 4473 | 24407 | 0.3868153 | 0.69865643 | 6401 | ⋯ |   0.0e+00 | 1 | UCSDX38_UCSDX38 |  -948.90 | D381_D381       | -1117.37 | 0 | D381_D381,UCSDX38_UCSDX38,0.50       |  -754.88 | -194.02 |\n",
       "| TTTGTTGGTCCTAAGA-1 | TTTGTTGGTCCTAAGA-1 | QY_2225_2_QY_2224_2 |  7005 | 2885 |  2609 | 1370 |  5436 | 0.4799485 | 0.38543897 | 6123 | ⋯ |   9.5e-89 | 1 | UCSDX40_UCSDX40 |  -268.09 | D339_D339       |  -269.76 | 0 | UCSDX40_UCSDX40,D339_D339,0.50       |  -195.91 |  -72.17 |\n",
       "| TTTGTTGGTCTTGCAT-1 | TTTGTTGGTCTTGCAT-1 | QY_2225_2_QY_2224_2 |  1772 | 1078 |  2125 | 1121 |  5961 | 0.3564838 | 0.33860045 | 4332 | ⋯ |  -1.1e+02 | 1 | UCSDX19_UCSDX19 |  -105.98 | D356_D356       |  -278.66 | 0 | D356_D356,UCSDX19_UCSDX19,0.50       |  -142.24 |   36.26 |\n",
       "| TTTGTTGGTGGTGAGA-1 | TTTGTTGGTGGTGAGA-1 | QY_2225_2_QY_2224_2 |  5614 | 2595 |  6419 | 3145 |  8193 | 0.7834737 | 3.18845743 | 5605 | ⋯ |  -2.5e+02 | 1 | D339_D339       |  -242.75 | D356_D356       |  -574.23 | 0 | D339_D339,D356_D356,0.50             |  -301.85 |   59.11 |\n",
       "| TTTGTTGGTGTGCAAC-1 | TTTGTTGGTGTGCAAC-1 | QY_2225_2_QY_2224_2 | 10844 | 4426 |  4809 | 2511 | 15751 | 0.3053139 | 1.01438584 | 6591 | ⋯ |  2.6e-259 | 1 | UCSDX7_UCSDX7   |  -769.65 | UCSDX44_UCSDX44 |  -857.47 | 0 | UCSDX7_UCSDX7,UCSDX44_UCSDX44,0.50   |  -588.63 | -181.02 |\n",
       "| TTTGTTGGTTAAGCCA-1 | TTTGTTGGTTAAGCCA-1 | QY_2225_2_QY_2224_2 |  6985 | 2974 |  1806 |  925 |  3687 | 0.4898291 | 1.00214746 | 6253 | ⋯ |  -1.7e+02 | 1 | UCSDX13_UCSDX13 |  -161.64 | UCSDX42_UCSDX42 |  -334.27 | 0 | D283_D283,UCSDX13_UCSDX13,0.50       |  -182.17 |   20.53 |\n",
       "| TTTGTTGGTTACCTGT-1 | TTTGTTGGTTACCTGT-1 | QY_2225_2_QY_2224_2 |  6753 | 2352 |   590 |  325 |  1966 | 0.3001017 | 0.20731527 | 6066 | ⋯ |  -1.4e+02 | 1 | D265_D265       |  -131.64 | UCSDX19_UCSDX19 |  -222.70 | 0 | D265_D265,UCSDX31_UCSDX31,0.50       |  -136.92 |    5.28 |\n",
       "\n"
      ],
      "text/plain": [
       "                   BARCODE            orig.ident          nCount_RNA\n",
       "AAACAGCCAAACGGGC-1 AAACAGCCAAACGGGC-1 QY_2225_2_QY_2224_2  6581     \n",
       "AAACAGCCAAAGGTAC-1 AAACAGCCAAAGGTAC-1 QY_2225_2_QY_2224_2  6785     \n",
       "AAACAGCCAAATACCT-1 AAACAGCCAAATACCT-1 QY_2225_2_QY_2224_2   773     \n",
       "AAACAGCCAATTGACT-1 AAACAGCCAATTGACT-1 QY_2225_2_QY_2224_2  1709     \n",
       "AAACAGCCACATAGCC-1 AAACAGCCACATAGCC-1 QY_2225_2_QY_2224_2  5791     \n",
       "AAACAGCCACCAGCAT-1 AAACAGCCACCAGCAT-1 QY_2225_2_QY_2224_2 13831     \n",
       "AAACAGCCACTCAACA-1 AAACAGCCACTCAACA-1 QY_2225_2_QY_2224_2  6616     \n",
       "AAACAGCCAGAGGGAG-1 AAACAGCCAGAGGGAG-1 QY_2225_2_QY_2224_2   255     \n",
       "AAACAGCCAGGCCTTG-1 AAACAGCCAGGCCTTG-1 QY_2225_2_QY_2224_2 11851     \n",
       "AAACAGCCAGGCTTGT-1 AAACAGCCAGGCTTGT-1 QY_2225_2_QY_2224_2  6586     \n",
       "AAACAGCCATAGGCGA-1 AAACAGCCATAGGCGA-1 QY_2225_2_QY_2224_2  5532     \n",
       "AAACAGCCATCTTGAG-1 AAACAGCCATCTTGAG-1 QY_2225_2_QY_2224_2  8672     \n",
       "AAACATGCAAATACCT-1 AAACATGCAAATACCT-1 QY_2225_2_QY_2224_2  2606     \n",
       "AAACATGCAAGCTTTG-1 AAACATGCAAGCTTTG-1 QY_2225_2_QY_2224_2  5628     \n",
       "AAACATGCAAGGTCGA-1 AAACATGCAAGGTCGA-1 QY_2225_2_QY_2224_2 33127     \n",
       "AAACATGCAATCTCTC-1 AAACATGCAATCTCTC-1 QY_2225_2_QY_2224_2  5882     \n",
       "AAACATGCAATGCGCT-1 AAACATGCAATGCGCT-1 QY_2225_2_QY_2224_2  5353     \n",
       "AAACATGCACACTAAT-1 AAACATGCACACTAAT-1 QY_2225_2_QY_2224_2  8826     \n",
       "AAACATGCACATGCTA-1 AAACATGCACATGCTA-1 QY_2225_2_QY_2224_2   546     \n",
       "AAACATGCACGTAAGG-1 AAACATGCACGTAAGG-1 QY_2225_2_QY_2224_2  1232     \n",
       "AAACATGCACTGACTA-1 AAACATGCACTGACTA-1 QY_2225_2_QY_2224_2 19703     \n",
       "AAACATGCAGGACACA-1 AAACATGCAGGACACA-1 QY_2225_2_QY_2224_2 10635     \n",
       "AAACATGCAGGCGATA-1 AAACATGCAGGCGATA-1 QY_2225_2_QY_2224_2  8516     \n",
       "AAACATGCAGGTTACC-1 AAACATGCAGGTTACC-1 QY_2225_2_QY_2224_2  6772     \n",
       "AAACATGCATAAGTTC-1 AAACATGCATAAGTTC-1 QY_2225_2_QY_2224_2 10024     \n",
       "AAACATGCATGACTAT-1 AAACATGCATGACTAT-1 QY_2225_2_QY_2224_2 15785     \n",
       "AAACATGCATGTTGCA-1 AAACATGCATGTTGCA-1 QY_2225_2_QY_2224_2  4423     \n",
       "AAACCAACAAGTGTTT-1 AAACCAACAAGTGTTT-1 QY_2225_2_QY_2224_2  7389     \n",
       "AAACCAACACAATGCC-1 AAACCAACACAATGCC-1 QY_2225_2_QY_2224_2  3086     \n",
       "AAACCAACACAGACTC-1 AAACCAACACAGACTC-1 QY_2225_2_QY_2224_2  4331     \n",
       "⋮                  ⋮                  ⋮                   ⋮         \n",
       "TTTGTGAAGTATGTGC-1 TTTGTGAAGTATGTGC-1 QY_2225_2_QY_2224_2  8596     \n",
       "TTTGTGAAGTTATCTC-1 TTTGTGAAGTTATCTC-1 QY_2225_2_QY_2224_2  5199     \n",
       "TTTGTGGCAAAGCGGC-1 TTTGTGGCAAAGCGGC-1 QY_2225_2_QY_2224_2 13254     \n",
       "TTTGTGGCAAATTGCT-1 TTTGTGGCAAATTGCT-1 QY_2225_2_QY_2224_2  5328     \n",
       "TTTGTGGCAAGGTCCT-1 TTTGTGGCAAGGTCCT-1 QY_2225_2_QY_2224_2  9953     \n",
       "TTTGTGGCACAGAACG-1 TTTGTGGCACAGAACG-1 QY_2225_2_QY_2224_2  1855     \n",
       "TTTGTGGCACCTAAGC-1 TTTGTGGCACCTAAGC-1 QY_2225_2_QY_2224_2   127     \n",
       "TTTGTGGCACCTCGCT-1 TTTGTGGCACCTCGCT-1 QY_2225_2_QY_2224_2  9956     \n",
       "TTTGTGGCACGGTACT-1 TTTGTGGCACGGTACT-1 QY_2225_2_QY_2224_2 14913     \n",
       "TTTGTGGCATCCCTCA-1 TTTGTGGCATCCCTCA-1 QY_2225_2_QY_2224_2  7751     \n",
       "TTTGTGTTCAAACACC-1 TTTGTGTTCAAACACC-1 QY_2225_2_QY_2224_2  5915     \n",
       "TTTGTGTTCAAACCGT-1 TTTGTGTTCAAACCGT-1 QY_2225_2_QY_2224_2  7527     \n",
       "TTTGTGTTCATAAGCC-1 TTTGTGTTCATAAGCC-1 QY_2225_2_QY_2224_2 13434     \n",
       "TTTGTGTTCCAGGAAA-1 TTTGTGTTCCAGGAAA-1 QY_2225_2_QY_2224_2 16978     \n",
       "TTTGTGTTCCTAATAG-1 TTTGTGTTCCTAATAG-1 QY_2225_2_QY_2224_2  7012     \n",
       "TTTGTGTTCCTCGATC-1 TTTGTGTTCCTCGATC-1 QY_2225_2_QY_2224_2  4158     \n",
       "TTTGTGTTCCTTAGGG-1 TTTGTGTTCCTTAGGG-1 QY_2225_2_QY_2224_2  2255     \n",
       "TTTGTGTTCGGCCAGT-1 TTTGTGTTCGGCCAGT-1 QY_2225_2_QY_2224_2  7999     \n",
       "TTTGTGTTCGGGACTC-1 TTTGTGTTCGGGACTC-1 QY_2225_2_QY_2224_2  5004     \n",
       "TTTGTGTTCTAATCTC-1 TTTGTGTTCTAATCTC-1 QY_2225_2_QY_2224_2   788     \n",
       "TTTGTGTTCTGCAACG-1 TTTGTGTTCTGCAACG-1 QY_2225_2_QY_2224_2  6860     \n",
       "TTTGTTGGTAGCTGCG-1 TTTGTTGGTAGCTGCG-1 QY_2225_2_QY_2224_2  5440     \n",
       "TTTGTTGGTATTCGCT-1 TTTGTTGGTATTCGCT-1 QY_2225_2_QY_2224_2  5963     \n",
       "TTTGTTGGTCATCCTG-1 TTTGTTGGTCATCCTG-1 QY_2225_2_QY_2224_2 13025     \n",
       "TTTGTTGGTCCTAAGA-1 TTTGTTGGTCCTAAGA-1 QY_2225_2_QY_2224_2  7005     \n",
       "TTTGTTGGTCTTGCAT-1 TTTGTTGGTCTTGCAT-1 QY_2225_2_QY_2224_2  1772     \n",
       "TTTGTTGGTGGTGAGA-1 TTTGTTGGTGGTGAGA-1 QY_2225_2_QY_2224_2  5614     \n",
       "TTTGTTGGTGTGCAAC-1 TTTGTTGGTGTGCAAC-1 QY_2225_2_QY_2224_2 10844     \n",
       "TTTGTTGGTTAAGCCA-1 TTTGTTGGTTAAGCCA-1 QY_2225_2_QY_2224_2  6985     \n",
       "TTTGTTGGTTACCTGT-1 TTTGTTGGTTACCTGT-1 QY_2225_2_QY_2224_2  6753     \n",
       "                   nFeature_RNA nCount_ATAC nFeature_ATAC fragments_freq_count\n",
       "AAACAGCCAAACGGGC-1 3072          5854       2926           9272               \n",
       "AAACAGCCAAAGGTAC-1 2512          2357       1209           3871               \n",
       "AAACAGCCAAATACCT-1  607          2335       1213           3731               \n",
       "AAACAGCCAATTGACT-1 1121          8280       4112          20682               \n",
       "AAACAGCCACATAGCC-1 2752            84         43             81               \n",
       "AAACAGCCACCAGCAT-1 4553          7542       3804           9703               \n",
       "AAACAGCCACTCAACA-1 2807          5308       2637           6761               \n",
       "AAACAGCCAGAGGGAG-1  222          2382       1220           8488               \n",
       "AAACAGCCAGGCCTTG-1 4666          8238       4034          16879               \n",
       "AAACAGCCAGGCTTGT-1 3173           883        468           1893               \n",
       "AAACAGCCATAGGCGA-1 2458          4223       2116           4991               \n",
       "AAACAGCCATCTTGAG-1 3183            87         46            119               \n",
       "AAACATGCAAATACCT-1 1466           200        106            440               \n",
       "AAACATGCAAGCTTTG-1 2037          1526        798           2839               \n",
       "AAACATGCAAGGTCGA-1 7241           577        312           1930               \n",
       "AAACATGCAATCTCTC-1 2524           756        406            766               \n",
       "AAACATGCAATGCGCT-1 2352          2659       1397           7642               \n",
       "AAACATGCACACTAAT-1 3287          8287       4031          10437               \n",
       "AAACATGCACATGCTA-1  240          8555       4412          31437               \n",
       "AAACATGCACGTAAGG-1  786          3308       1725          11815               \n",
       "AAACATGCACTGACTA-1 5071          3168       1641           6097               \n",
       "AAACATGCAGGACACA-1 3875           460        245           1032               \n",
       "AAACATGCAGGCGATA-1 3143          4703       2460          12220               \n",
       "AAACATGCAGGTTACC-1 2183           377        198           1020               \n",
       "AAACATGCATAAGTTC-1 3928          2632       1355           2966               \n",
       "AAACATGCATGACTAT-1 4025          5210       2690          14060               \n",
       "AAACATGCATGTTGCA-1 1887          1231        650           3303               \n",
       "AAACCAACAAGTGTTT-1 3115          6736       3268           7930               \n",
       "AAACCAACACAATGCC-1 1873         10106       4973          17665               \n",
       "AAACCAACACAGACTC-1 2021          5276       2694           6476               \n",
       "⋮                  ⋮            ⋮           ⋮             ⋮                   \n",
       "TTTGTGAAGTATGTGC-1 3409           209        117            363               \n",
       "TTTGTGAAGTTATCTC-1 2373          3107       1583           5259               \n",
       "TTTGTGGCAAAGCGGC-1 3944          5085       2585           5435               \n",
       "TTTGTGGCAAATTGCT-1 2217          2720       1400           3529               \n",
       "TTTGTGGCAAGGTCCT-1 3224          5586       2769           5975               \n",
       "TTTGTGGCACAGAACG-1 1185          5262       2662          13007               \n",
       "TTTGTGGCACCTAAGC-1  117          9543       4820          22017               \n",
       "TTTGTGGCACCTCGCT-1 3073          2408       1230           2691               \n",
       "TTTGTGGCACGGTACT-1 4622         16195       7648          23855               \n",
       "TTTGTGGCATCCCTCA-1 2564          1158        605           4028               \n",
       "TTTGTGTTCAAACACC-1 2428          5671       2825           7798               \n",
       "TTTGTGTTCAAACCGT-1 2792          4365       2183           4664               \n",
       "TTTGTGTTCATAAGCC-1 4296         13505       6520          40816               \n",
       "TTTGTGTTCCAGGAAA-1 5235         13154       6212          17925               \n",
       "TTTGTGTTCCTAATAG-1 2634         12392       6096          12467               \n",
       "TTTGTGTTCCTCGATC-1 1924          4406       2238           8368               \n",
       "TTTGTGTTCCTTAGGG-1 1359          4533       2277           5651               \n",
       "TTTGTGTTCGGCCAGT-1 3134          4437       2272           9474               \n",
       "TTTGTGTTCGGGACTC-1 2461          7723       3870          19090               \n",
       "TTTGTGTTCTAATCTC-1  630          2102       1064           4692               \n",
       "TTTGTGTTCTGCAACG-1 2442          3933       1993           5276               \n",
       "TTTGTTGGTAGCTGCG-1 2459           112         61            159               \n",
       "TTTGTTGGTATTCGCT-1 2465          8288       4111          10133               \n",
       "TTTGTTGGTCATCCTG-1 4339          9441       4473          24407               \n",
       "TTTGTTGGTCCTAAGA-1 2885          2609       1370           5436               \n",
       "TTTGTTGGTCTTGCAT-1 1078          2125       1121           5961               \n",
       "TTTGTTGGTGGTGAGA-1 2595          6419       3145           8193               \n",
       "TTTGTTGGTGTGCAAC-1 4426          4809       2511          15751               \n",
       "TTTGTTGGTTAAGCCA-1 2974          1806        925           3687               \n",
       "TTTGTTGGTTACCTGT-1 2352           590        325           1966               \n",
       "                   FRiP      percent.mt  nCount_SCT ⋯ BEST.POSTERIOR\n",
       "AAACAGCCAAACGGGC-1 0.6313632  1.10925391 6172       ⋯  -2.5e+02     \n",
       "AAACAGCCAAAGGTAC-1 0.6088866  3.38983051 6013       ⋯  -1.8e+02     \n",
       "AAACAGCCAAATACCT-1 0.6258376  1.16429495 4272       ⋯  -7.2e+01     \n",
       "AAACAGCCAATTGACT-1 0.4003481  2.57460503 4407       ⋯  -4.0e+02     \n",
       "AAACAGCCACATAGCC-1 1.0370370  0.41443619 5755       ⋯  -5.0e+01     \n",
       "AAACAGCCACCAGCAT-1 0.7772854  0.62179163 6228       ⋯  5.0e-207     \n",
       "AAACAGCCACTCAACA-1 0.7850910  0.19649335 6142       ⋯  -2.2e+02     \n",
       "AAACAGCCAGAGGGAG-1 0.2806315  3.13725490 4128       ⋯  -1.5e+02     \n",
       "AAACAGCCAGGCCTTG-1 0.4880621  1.56948781 6629       ⋯  1.5e-264     \n",
       "AAACAGCCAGGCTTGT-1 0.4664554  3.17339812 6193       ⋯  -1.1e+02     \n",
       "AAACAGCCATAGGCGA-1 0.8461230  0.07230658 5532       ⋯  -1.9e+02     \n",
       "AAACAGCCATCTTGAG-1 0.7310924  6.16928044 6319       ⋯  -8.1e+01     \n",
       "AAACATGCAAATACCT-1 0.4545455  0.15349194 4903       ⋯  -2.6e+01     \n",
       "AAACATGCAAGCTTTG-1 0.5375132  0.12437811 5609       ⋯  -1.0e+02     \n",
       "AAACATGCAAGGTCGA-1 0.2989637  0.43167205 5562       ⋯  4.7e-211     \n",
       "AAACATGCAATCTCTC-1 0.9869452  0.68004080 5802       ⋯  -9.7e+01     \n",
       "AAACATGCAATGCGCT-1 0.3479456  0.29889781 5385       ⋯  -1.9e+02     \n",
       "AAACATGCACACTAAT-1 0.7940021  0.64581917 6262       ⋯  -3.4e+02     \n",
       "AAACATGCACATGCTA-1 0.2721316 46.52014652 4431       ⋯  -4.8e+02     \n",
       "AAACATGCACGTAAGG-1 0.2799831  0.32467532 4644       ⋯  -2.2e+02     \n",
       "AAACATGCACTGACTA-1 0.5195998  0.12180886 5572       ⋯  1.2e-159     \n",
       "AAACATGCAGGACACA-1 0.4457364  1.70192760 6642       ⋯  -1.3e+02     \n",
       "AAACATGCAGGCGATA-1 0.3848609  0.09394082 6171       ⋯  -2.9e+02     \n",
       "AAACATGCAGGTTACC-1 0.3696078  1.59480213 5968       ⋯  -7.7e+01     \n",
       "AAACATGCATAAGTTC-1 0.8873904  4.73862729 6637       ⋯  -1.7e+02     \n",
       "AAACATGCATGACTAT-1 0.3705548  0.67785873 5996       ⋯  6.2e-278     \n",
       "AAACATGCATGTTGCA-1 0.3726915  0.18087271 4990       ⋯  -1.5e+02     \n",
       "AAACCAACAAGTGTTT-1 0.8494325  0.81201786 6204       ⋯  2.1e-144     \n",
       "AAACCAACACAATGCC-1 0.5720917  0.90732340 4943       ⋯  1.3e-230     \n",
       "AAACCAACACAGACTC-1 0.8147004  5.07965828 5017       ⋯  -2.1e+02     \n",
       "⋮                  ⋮         ⋮           ⋮          ⋱ ⋮             \n",
       "TTTGTGAAGTATGTGC-1 0.5757576 0.40716612  6308       ⋯   1.7e-73     \n",
       "TTTGTGAAGTTATCTC-1 0.5907967 0.07693787  5287       ⋯  -1.8e+02     \n",
       "TTTGTGGCAAAGCGGC-1 0.9356026 0.21880187  5933       ⋯  1.2e-151     \n",
       "TTTGTGGCAAATTGCT-1 0.7707566 1.97072072  5371       ⋯  -1.8e+02     \n",
       "TTTGTGGCAAGGTCCT-1 0.9348954 0.39184166  6309       ⋯  -2.6e+02     \n",
       "TTTGTGGCACAGAACG-1 0.4045514 1.67115903  4384       ⋯  -3.1e+02     \n",
       "TTTGTGGCACCTAAGC-1 0.4334378 7.87401575  3793       ⋯  -4.4e+02     \n",
       "TTTGTGGCACCTCGCT-1 0.8948346 0.36159100  6226       ⋯  -1.4e+02     \n",
       "TTTGTGGCACGGTACT-1 0.6788933 1.09971166  6156       ⋯   0.0e+00     \n",
       "TTTGTGGCATCCCTCA-1 0.2874876 0.25803122  6076       ⋯  -2.0e+02     \n",
       "TTTGTGTTCAAACACC-1 0.7272378 2.34995773  5798       ⋯  -2.6e+02     \n",
       "TTTGTGTTCAAACCGT-1 0.9358919 0.49156370  6114       ⋯  -2.1e+02     \n",
       "TTTGTGTTCATAAGCC-1 0.3308751 0.19353878  6132       ⋯   0.0e+00     \n",
       "TTTGTGTTCCAGGAAA-1 0.7338354 1.38414419  5578       ⋯   0.0e+00     \n",
       "TTTGTGTTCCTAATAG-1 0.9939841 0.94124358  6047       ⋯  -4.3e+02     \n",
       "TTTGTGTTCCTCGATC-1 0.5265296 0.14430014  4937       ⋯  -3.3e+02     \n",
       "TTTGTGTTCCTTAGGG-1 0.8021589 0.57649667  4755       ⋯  -1.7e+02     \n",
       "TTTGTGTTCGGCCAGT-1 0.4683344 0.17502188  6267       ⋯  -3.2e+02     \n",
       "TTTGTGTTCGGGACTC-1 0.4045574 1.45883293  5138       ⋯  4.1e-267     \n",
       "TTTGTGTTCTAATCTC-1 0.4479966 2.91878173  4133       ⋯  -9.4e+01     \n",
       "TTTGTGTTCTGCAACG-1 0.7454511 1.48688047  5990       ⋯  -2.0e+02     \n",
       "TTTGTTGGTAGCTGCG-1 0.7044025 0.05514706  5445       ⋯  -5.0e+01     \n",
       "TTTGTTGGTATTCGCT-1 0.8179216 1.00620493  5837       ⋯  -3.4e+02     \n",
       "TTTGTTGGTCATCCTG-1 0.3868153 0.69865643  6401       ⋯   0.0e+00     \n",
       "TTTGTTGGTCCTAAGA-1 0.4799485 0.38543897  6123       ⋯   9.5e-89     \n",
       "TTTGTTGGTCTTGCAT-1 0.3564838 0.33860045  4332       ⋯  -1.1e+02     \n",
       "TTTGTTGGTGGTGAGA-1 0.7834737 3.18845743  5605       ⋯  -2.5e+02     \n",
       "TTTGTTGGTGTGCAAC-1 0.3053139 1.01438584  6591       ⋯  2.6e-259     \n",
       "TTTGTTGGTTAAGCCA-1 0.4898291 1.00214746  6253       ⋯  -1.7e+02     \n",
       "TTTGTTGGTTACCTGT-1 0.3001017 0.20731527  6066       ⋯  -1.4e+02     \n",
       "                   SNG.POSTERIOR SNG.BEST.GUESS  SNG.BEST.LLK SNG.NEXT.GUESS \n",
       "AAACAGCCAAACGGGC-1 1             UCSDX51_UCSDX51 -243.32      D371_D371      \n",
       "AAACAGCCAAAGGTAC-1 1             D265_D265       -173.03      UCSDX3_UCSDX3  \n",
       "AAACAGCCAAATACCT-1 1             UCSDX19_UCSDX19  -68.06      UCSDX51_UCSDX51\n",
       "AAACAGCCAATTGACT-1 1             UCSDX42_UCSDX42 -391.82      UCSDX40_UCSDX40\n",
       "AAACAGCCACATAGCC-1 1             D339_D339        -45.57      UCSDX2_UCSDX2  \n",
       "AAACAGCCACCAGCAT-1 1             UCSDX44_UCSDX44 -625.03      UCSDX19_UCSDX19\n",
       "AAACAGCCACTCAACA-1 1             D265_D265       -217.55      D283_D283      \n",
       "AAACAGCCAGAGGGAG-1 1             D335_D335       -149.09      UCSDX21_UCSDX21\n",
       "AAACAGCCAGGCCTTG-1 1             UCSDX31_UCSDX31 -689.13      D339_D339      \n",
       "AAACAGCCAGGCTTGT-1 1             UCSDX40_UCSDX40 -109.86      D265_D265      \n",
       "AAACAGCCATAGGCGA-1 1             D339_D339       -184.03      UCSDX44_UCSDX44\n",
       "AAACAGCCATCTTGAG-1 1             D339_D339        -77.22      UCSDX2_UCSDX2  \n",
       "AAACATGCAAATACCT-1 1             UCSDX19_UCSDX19  -21.92      D381_D381      \n",
       "AAACATGCAAGCTTTG-1 1             UCSDX51_UCSDX51  -97.52      UCSDX31_UCSDX31\n",
       "AAACATGCAAGGTCGA-1 1             UCSDX42_UCSDX42 -572.14      UCSDX13_UCSDX13\n",
       "AAACATGCAATCTCTC-1 1             D265_D265        -92.87      UCSDX50_UCSDX50\n",
       "AAACATGCAATGCGCT-1 1             UCSDX53_UCSDX53 -187.92      UCSDX51_UCSDX51\n",
       "AAACATGCACACTAAT-1 1             D357_D357       -333.06      D347_D347      \n",
       "AAACATGCACATGCTA-1 1             UCSDX3_UCSDX3   -478.54      UCSDX19_UCSDX19\n",
       "AAACATGCACGTAAGG-1 1             D381_D381       -214.21      UCSDX19_UCSDX19\n",
       "AAACATGCACTGACTA-1 1             D339_D339       -423.77      UCSDX53_UCSDX53\n",
       "AAACATGCAGGACACA-1 1             UCSDX24_UCSDX24 -124.26      D357_D357      \n",
       "AAACATGCAGGCGATA-1 1             UCSDX51_UCSDX51 -289.16      D071_D071      \n",
       "AAACATGCAGGTTACC-1 1             UCSDX7_UCSDX7    -73.28      UCSDX21_UCSDX21\n",
       "AAACATGCATAAGTTC-1 1             UCSDX44_UCSDX44 -164.68      UCSDX42_UCSDX42\n",
       "AAACATGCATGACTAT-1 1             UCSDX7_UCSDX7   -889.52      D265_D265      \n",
       "AAACATGCATGTTGCA-1 1             UCSDX50_UCSDX50 -147.89      UCSDX42_UCSDX42\n",
       "AAACCAACAAGTGTTT-1 1             D347_D347       -400.29      D339_D339      \n",
       "AAACCAACACAATGCC-1 1             UCSDX19_UCSDX19 -561.47      D339_D339      \n",
       "AAACCAACACAGACTC-1 1             D347_D347       -208.17      UCSDX58_UCSDX58\n",
       "⋮                  ⋮             ⋮               ⋮            ⋮              \n",
       "TTTGTGAAGTATGTGC-1 1             UCSDX7_UCSDX7    -177.53     UCSDX31_UCSDX31\n",
       "TTTGTGAAGTTATCTC-1 1             D339_D339        -175.12     UCSDX44_UCSDX44\n",
       "TTTGTGGCAAAGCGGC-1 1             UCSDX42_UCSDX42  -437.65     UCSDX40_UCSDX40\n",
       "TTTGTGGCAAATTGCT-1 1             D339_D339        -172.61     D381_D381      \n",
       "TTTGTGGCAAGGTCCT-1 1             UCSDX19_UCSDX19  -251.34     D356_D356      \n",
       "TTTGTGGCACAGAACG-1 1             D265_D265        -306.56     D283_D283      \n",
       "TTTGTGGCACCTAAGC-1 1             D371_D371        -434.51     D071_D071      \n",
       "TTTGTGGCACCTCGCT-1 1             UCSDX19_UCSDX19  -138.82     D283_D283      \n",
       "TTTGTGGCACGGTACT-1 1             UCSDX42_UCSDX42 -1299.34     UCSDX19_UCSDX19\n",
       "TTTGTGGCATCCCTCA-1 1             UCSDX53_UCSDX53  -197.07     UCSDX31_UCSDX31\n",
       "TTTGTGTTCAAACACC-1 1             D347_D347        -251.55     D357_D357      \n",
       "TTTGTGTTCAAACCGT-1 1             D339_D339        -201.68     UCSDX19_UCSDX19\n",
       "TTTGTGTTCATAAGCC-1 1             D347_D347       -1622.59     D339_D339      \n",
       "TTTGTGTTCCAGGAAA-1 1             UCSDX51_UCSDX51 -1115.28     D265_D265      \n",
       "TTTGTGTTCCTAATAG-1 1             D265_D265        -421.96     UCSDX19_UCSDX19\n",
       "TTTGTGTTCCTCGATC-1 1             D265_D265        -330.55     UCSDX50_UCSDX50\n",
       "TTTGTGTTCCTTAGGG-1 1             D339_D339        -161.19     UCSDX21_UCSDX21\n",
       "TTTGTGTTCGGCCAGT-1 1             UCSDX38_UCSDX38  -314.57     D357_D357      \n",
       "TTTGTGTTCGGGACTC-1 1             UCSDX7_UCSDX7    -698.44     UCSDX40_UCSDX40\n",
       "TTTGTGTTCTAATCTC-1 1             D339_D339         -90.20     UCSDX53_UCSDX53\n",
       "TTTGTGTTCTGCAACG-1 1             D339_D339        -195.86     D071_D071      \n",
       "TTTGTTGGTAGCTGCG-1 1             UCSDX19_UCSDX19   -45.50     D371_D371      \n",
       "TTTGTTGGTATTCGCT-1 1             D265_D265        -338.03     UCSDX31_UCSDX31\n",
       "TTTGTTGGTCATCCTG-1 1             UCSDX38_UCSDX38  -948.90     D381_D381      \n",
       "TTTGTTGGTCCTAAGA-1 1             UCSDX40_UCSDX40  -268.09     D339_D339      \n",
       "TTTGTTGGTCTTGCAT-1 1             UCSDX19_UCSDX19  -105.98     D356_D356      \n",
       "TTTGTTGGTGGTGAGA-1 1             D339_D339        -242.75     D356_D356      \n",
       "TTTGTTGGTGTGCAAC-1 1             UCSDX7_UCSDX7    -769.65     UCSDX44_UCSDX44\n",
       "TTTGTTGGTTAAGCCA-1 1             UCSDX13_UCSDX13  -161.64     UCSDX42_UCSDX42\n",
       "TTTGTTGGTTACCTGT-1 1             D265_D265        -131.64     UCSDX19_UCSDX19\n",
       "                   SNG.NEXT.LLK SNG.ONLY.POSTERIOR\n",
       "AAACAGCCAAACGGGC-1  -574.97     0                 \n",
       "AAACAGCCAAAGGTAC-1  -291.65     0                 \n",
       "AAACAGCCAAATACCT-1  -145.11     0                 \n",
       "AAACAGCCAATTGACT-1  -956.91     0                 \n",
       "AAACAGCCACATAGCC-1  -129.87     0                 \n",
       "AAACAGCCACCAGCAT-1  -680.52     0                 \n",
       "AAACAGCCACTCAACA-1  -551.49     0                 \n",
       "AAACAGCCAGAGGGAG-1  -363.05     0                 \n",
       "AAACAGCCAGGCCTTG-1  -860.94     0                 \n",
       "AAACAGCCAGGCTTGT-1  -216.82     0                 \n",
       "AAACAGCCATAGGCGA-1  -447.74     0                 \n",
       "AAACAGCCATCTTGAG-1  -161.26     0                 \n",
       "AAACATGCAAATACCT-1   -53.80     0                 \n",
       "AAACATGCAAGCTTTG-1  -251.45     0                 \n",
       "AAACATGCAAGGTCGA-1  -714.67     0                 \n",
       "AAACATGCAATCTCTC-1  -207.39     0                 \n",
       "AAACATGCAATGCGCT-1  -403.15     0                 \n",
       "AAACATGCACACTAAT-1  -763.49     0                 \n",
       "AAACATGCACATGCTA-1 -1180.34     0                 \n",
       "AAACATGCACGTAAGG-1  -467.33     0                 \n",
       "AAACATGCACTGACTA-1  -535.36     0                 \n",
       "AAACATGCAGGACACA-1  -301.85     0                 \n",
       "AAACATGCAGGCGATA-1  -641.08     0                 \n",
       "AAACATGCAGGTTACC-1  -167.35     0                 \n",
       "AAACATGCATAAGTTC-1  -407.68     0                 \n",
       "AAACATGCATGACTAT-1  -902.60     0                 \n",
       "AAACATGCATGTTGCA-1  -250.42     0                 \n",
       "AAACCAACAAGTGTTT-1  -547.69     0                 \n",
       "AAACCAACACAATGCC-1  -894.67     0                 \n",
       "AAACCAACACAGACTC-1  -390.14     0                 \n",
       "⋮                  ⋮            ⋮                 \n",
       "TTTGTGAAGTATGTGC-1  -316.63     0                 \n",
       "TTTGTGAAGTTATCTC-1  -331.90     0                 \n",
       "TTTGTGGCAAAGCGGC-1  -538.38     0                 \n",
       "TTTGTGGCAAATTGCT-1  -340.37     0                 \n",
       "TTTGTGGCAAGGTCCT-1  -601.99     0                 \n",
       "TTTGTGGCACAGAACG-1  -562.97     0                 \n",
       "TTTGTGGCACCTAAGC-1 -1059.56     0                 \n",
       "TTTGTGGCACCTCGCT-1  -321.08     0                 \n",
       "TTTGTGGCACGGTACT-1 -1336.91     0                 \n",
       "TTTGTGGCATCCCTCA-1  -333.53     0                 \n",
       "TTTGTGTTCAAACACC-1  -483.07     0                 \n",
       "TTTGTGTTCAAACCGT-1  -456.73     0                 \n",
       "TTTGTGTTCATAAGCC-1 -1634.60     0                 \n",
       "TTTGTGTTCCAGGAAA-1 -1118.93     0                 \n",
       "TTTGTGTTCCTAATAG-1 -1044.70     0                 \n",
       "TTTGTGTTCCTCGATC-1  -592.09     0                 \n",
       "TTTGTGTTCCTTAGGG-1  -359.96     0                 \n",
       "TTTGTGTTCGGCCAGT-1  -650.09     0                 \n",
       "TTTGTGTTCGGGACTC-1 -1144.50     0                 \n",
       "TTTGTGTTCTAATCTC-1  -177.15     0                 \n",
       "TTTGTGTTCTGCAACG-1  -359.32     0                 \n",
       "TTTGTTGGTAGCTGCG-1  -104.34     0                 \n",
       "TTTGTTGGTATTCGCT-1  -793.19     0                 \n",
       "TTTGTTGGTCATCCTG-1 -1117.37     0                 \n",
       "TTTGTTGGTCCTAAGA-1  -269.76     0                 \n",
       "TTTGTTGGTCTTGCAT-1  -278.66     0                 \n",
       "TTTGTTGGTGGTGAGA-1  -574.23     0                 \n",
       "TTTGTTGGTGTGCAAC-1  -857.47     0                 \n",
       "TTTGTTGGTTAAGCCA-1  -334.27     0                 \n",
       "TTTGTTGGTTACCTGT-1  -222.70     0                 \n",
       "                   DBL.BEST.GUESS                       DBL.BEST.LLK\n",
       "AAACAGCCAAACGGGC-1 D381_D381,UCSDX51_UCSDX51,0.50       -301.66     \n",
       "AAACAGCCAAAGGTAC-1 D265_D265,UCSDX3_UCSDX3,0.50         -182.59     \n",
       "AAACAGCCAAATACCT-1 UCSDX19_UCSDX19,UCSDX31_UCSDX31,0.50  -79.20     \n",
       "AAACAGCCAATTGACT-1 UCSDX40_UCSDX40,UCSDX42_UCSDX42,0.50 -486.25     \n",
       "AAACAGCCACATAGCC-1 D339_D339,D371_D371,0.50              -62.54     \n",
       "AAACAGCCACCAGCAT-1 UCSDX19_UCSDX19,UCSDX44_UCSDX44,0.50 -468.25     \n",
       "AAACAGCCACTCAACA-1 D265_D265,D381_D381,0.50             -281.11     \n",
       "AAACAGCCAGAGGGAG-1 D335_D335,UCSDX21_UCSDX21,0.50       -183.51     \n",
       "AAACAGCCAGGCCTTG-1 D339_D339,UCSDX31_UCSDX31,0.50       -600.68     \n",
       "AAACAGCCAGGCTTGT-1 D265_D265,UCSDX40_UCSDX40,0.50       -121.96     \n",
       "AAACAGCCATAGGCGA-1 D339_D339,UCSDX44_UCSDX44,0.50       -225.63     \n",
       "AAACAGCCATCTTGAG-1 D339_D339,UCSDX2_UCSDX2,0.50          -89.51     \n",
       "AAACATGCAAATACCT-1 D381_D381,UCSDX19_UCSDX19,0.50        -26.61     \n",
       "AAACATGCAAGCTTTG-1 UCSDX13_UCSDX13,UCSDX51_UCSDX51,0.50 -127.59     \n",
       "AAACATGCAAGGTCGA-1 UCSDX13_UCSDX13,UCSDX42_UCSDX42,0.50 -477.54     \n",
       "AAACATGCAATCTCTC-1 D265_D265,UCSDX50_UCSDX50,0.50       -105.99     \n",
       "AAACATGCAATGCGCT-1 D283_D283,UCSDX53_UCSDX53,0.50       -218.53     \n",
       "AAACATGCACACTAAT-1 D356_D356,D357_D357,0.50             -403.74     \n",
       "AAACATGCACATGCTA-1 UCSDX3_UCSDX3,UCSDX19_UCSDX19,0.50   -617.46     \n",
       "AAACATGCACGTAAGG-1 D381_D381,D356_D356,0.50             -250.32     \n",
       "AAACATGCACTGACTA-1 D339_D339,UCSDX53_UCSDX53,0.50       -359.15     \n",
       "AAACATGCAGGACACA-1 UCSDX24_UCSDX24,UCSDX42_UCSDX42,0.50 -155.68     \n",
       "AAACATGCAGGCGATA-1 D071_D071,UCSDX51_UCSDX51,0.50       -339.28     \n",
       "AAACATGCAGGTTACC-1 UCSDX21_UCSDX21,UCSDX7_UCSDX7,0.50    -84.03     \n",
       "AAACATGCATAAGTTC-1 UCSDX42_UCSDX42,UCSDX44_UCSDX44,0.50 -206.45     \n",
       "AAACATGCATGACTAT-1 D265_D265,UCSDX7_UCSDX7,0.50         -631.53     \n",
       "AAACATGCATGTTGCA-1 UCSDX40_UCSDX40,UCSDX50_UCSDX50,0.50 -151.61     \n",
       "AAACCAACAAGTGTTT-1 D339_D339,D347_D347,0.50             -324.07     \n",
       "AAACCAACACAATGCC-1 D339_D339,UCSDX19_UCSDX19,0.50       -522.54     \n",
       "AAACCAACACAGACTC-1 D347_D347,D371_D371,0.50             -226.37     \n",
       "⋮                  ⋮                                    ⋮           \n",
       "TTTGTGAAGTATGTGC-1 UCSDX7_UCSDX7,D339_D339,0.50          -160.76    \n",
       "TTTGTGAAGTTATCTC-1 D339_D339,UCSDX28_UCSDX28,0.50        -191.09    \n",
       "TTTGTGGCAAAGCGGC-1 UCSDX40_UCSDX40,UCSDX42_UCSDX42,0.50  -340.73    \n",
       "TTTGTGGCAAATTGCT-1 D339_D339,UCSDX19_UCSDX19,0.50        -186.07    \n",
       "TTTGTGGCAAGGTCCT-1 D356_D356,UCSDX19_UCSDX19,0.50        -308.12    \n",
       "TTTGTGGCACAGAACG-1 D265_D265,D283_D283,0.50              -340.11    \n",
       "TTTGTGGCACCTAAGC-1 D071_D071,D371_D371,0.50              -546.35    \n",
       "TTTGTGGCACCTCGCT-1 D283_D283,UCSDX19_UCSDX19,0.50        -168.99    \n",
       "TTTGTGGCACGGTACT-1 UCSDX19_UCSDX19,UCSDX42_UCSDX42,0.50  -942.48    \n",
       "TTTGTGGCATCCCTCA-1 UCSDX31_UCSDX31,UCSDX53_UCSDX53,0.50  -208.71    \n",
       "TTTGTGTTCAAACACC-1 D347_D347,D357_D357,0.50              -279.32    \n",
       "TTTGTGTTCAAACCGT-1 D339_D339,UCSDX31_UCSDX31,0.50        -239.30    \n",
       "TTTGTGTTCATAAGCC-1 D339_D339,D347_D347,0.50             -1218.09    \n",
       "TTTGTGTTCCAGGAAA-1 D265_D265,UCSDX51_UCSDX51,0.50        -858.93    \n",
       "TTTGTGTTCCTAATAG-1 D265_D265,UCSDX19_UCSDX19,0.50        -537.00    \n",
       "TTTGTGTTCCTCGATC-1 D265_D265,UCSDX50_UCSDX50,0.50        -352.05    \n",
       "TTTGTGTTCCTTAGGG-1 D339_D339,UCSDX21_UCSDX21,0.50        -194.06    \n",
       "TTTGTGTTCGGCCAGT-1 D071_D071,UCSDX38_UCSDX38,0.50        -363.00    \n",
       "TTTGTGTTCGGGACTC-1 UCSDX7_UCSDX7,UCSDX40_UCSDX40,0.50    -606.62    \n",
       "TTTGTGTTCTAATCTC-1 D339_D339,UCSDX53_UCSDX53,0.50        -100.36    \n",
       "TTTGTGTTCTGCAACG-1 D071_D071,D339_D339,0.50              -213.75    \n",
       "TTTGTTGGTAGCTGCG-1 D371_D371,UCSDX19_UCSDX19,0.50         -57.28    \n",
       "TTTGTTGGTATTCGCT-1 D265_D265,D339_D339,0.50              -416.40    \n",
       "TTTGTTGGTCATCCTG-1 D381_D381,UCSDX38_UCSDX38,0.50        -754.88    \n",
       "TTTGTTGGTCCTAAGA-1 UCSDX40_UCSDX40,D339_D339,0.50        -195.91    \n",
       "TTTGTTGGTCTTGCAT-1 D356_D356,UCSDX19_UCSDX19,0.50        -142.24    \n",
       "TTTGTTGGTGGTGAGA-1 D339_D339,D356_D356,0.50              -301.85    \n",
       "TTTGTTGGTGTGCAAC-1 UCSDX7_UCSDX7,UCSDX44_UCSDX44,0.50    -588.63    \n",
       "TTTGTTGGTTAAGCCA-1 D283_D283,UCSDX13_UCSDX13,0.50        -182.17    \n",
       "TTTGTTGGTTACCTGT-1 D265_D265,UCSDX31_UCSDX31,0.50        -136.92    \n",
       "                   DIFF.LLK.SNG.DBL\n",
       "AAACAGCCAAACGGGC-1   58.34         \n",
       "AAACAGCCAAAGGTAC-1    9.56         \n",
       "AAACAGCCAAATACCT-1   11.14         \n",
       "AAACAGCCAATTGACT-1   94.43         \n",
       "AAACAGCCACATAGCC-1   16.96         \n",
       "AAACAGCCACCAGCAT-1 -156.78         \n",
       "AAACAGCCACTCAACA-1   63.56         \n",
       "AAACAGCCAGAGGGAG-1   34.42         \n",
       "AAACAGCCAGGCCTTG-1  -88.45         \n",
       "AAACAGCCAGGCTTGT-1   12.11         \n",
       "AAACAGCCATAGGCGA-1   41.60         \n",
       "AAACAGCCATCTTGAG-1   12.29         \n",
       "AAACATGCAAATACCT-1    4.68         \n",
       "AAACATGCAAGCTTTG-1   30.06         \n",
       "AAACATGCAAGGTCGA-1  -94.60         \n",
       "AAACATGCAATCTCTC-1   13.11         \n",
       "AAACATGCAATGCGCT-1   30.60         \n",
       "AAACATGCACACTAAT-1   70.67         \n",
       "AAACATGCACATGCTA-1  138.92         \n",
       "AAACATGCACGTAAGG-1   36.11         \n",
       "AAACATGCACTGACTA-1  -64.62         \n",
       "AAACATGCAGGACACA-1   31.42         \n",
       "AAACATGCAGGCGATA-1   50.12         \n",
       "AAACATGCAGGTTACC-1   10.74         \n",
       "AAACATGCATAAGTTC-1   41.77         \n",
       "AAACATGCATGACTAT-1 -258.00         \n",
       "AAACATGCATGTTGCA-1    3.72         \n",
       "AAACCAACAAGTGTTT-1  -76.22         \n",
       "AAACCAACACAATGCC-1  -38.94         \n",
       "AAACCAACACAGACTC-1   18.21         \n",
       "⋮                  ⋮               \n",
       "TTTGTGAAGTATGTGC-1  -16.77         \n",
       "TTTGTGAAGTTATCTC-1   15.97         \n",
       "TTTGTGGCAAAGCGGC-1  -96.92         \n",
       "TTTGTGGCAAATTGCT-1   13.45         \n",
       "TTTGTGGCAAGGTCCT-1   56.78         \n",
       "TTTGTGGCACAGAACG-1   33.55         \n",
       "TTTGTGGCACCTAAGC-1  111.84         \n",
       "TTTGTGGCACCTCGCT-1   30.17         \n",
       "TTTGTGGCACGGTACT-1 -356.86         \n",
       "TTTGTGGCATCCCTCA-1   11.64         \n",
       "TTTGTGTTCAAACACC-1   27.77         \n",
       "TTTGTGTTCAAACCGT-1   37.62         \n",
       "TTTGTGTTCATAAGCC-1 -404.49         \n",
       "TTTGTGTTCCAGGAAA-1 -256.35         \n",
       "TTTGTGTTCCTAATAG-1  115.04         \n",
       "TTTGTGTTCCTCGATC-1   21.50         \n",
       "TTTGTGTTCCTTAGGG-1   32.87         \n",
       "TTTGTGTTCGGCCAGT-1   48.43         \n",
       "TTTGTGTTCGGGACTC-1  -91.82         \n",
       "TTTGTGTTCTAATCTC-1   10.16         \n",
       "TTTGTGTTCTGCAACG-1   17.90         \n",
       "TTTGTTGGTAGCTGCG-1   11.77         \n",
       "TTTGTTGGTATTCGCT-1   78.36         \n",
       "TTTGTTGGTCATCCTG-1 -194.02         \n",
       "TTTGTTGGTCCTAAGA-1  -72.17         \n",
       "TTTGTTGGTCTTGCAT-1   36.26         \n",
       "TTTGTTGGTGGTGAGA-1   59.11         \n",
       "TTTGTTGGTGTGCAAC-1 -181.02         \n",
       "TTTGTTGGTTAAGCCA-1   20.53         \n",
       "TTTGTTGGTTACCTGT-1    5.28         "
      ]
     },
     "metadata": {},
     "output_type": "display_data"
    }
   ],
   "source": [
    "li[[1]]@meta.data #barcodes added back in as rownames"
   ]
  },
  {
   "cell_type": "code",
   "execution_count": 72,
   "id": "8fecf884",
   "metadata": {},
   "outputs": [
    {
     "data": {
      "text/plain": [
       "[1] \"2023-11-08 15:44:18 PST\""
      ]
     },
     "metadata": {},
     "output_type": "display_data"
    },
    {
     "name": "stderr",
     "output_type": "stream",
     "text": [
      "Extracting reads overlapping genomic regions\n",
      "\n"
     ]
    },
    {
     "name": "stdout",
     "output_type": "stream",
     "text": [
      "[1] \"AAACAGCCAAACGGGC-1\" \"AAACAGCCAAAGGTAC-1\" \"AAACAGCCAAATACCT-1\"\n",
      "[4] \"AAACAGCCAATTGACT-1\" \"AAACAGCCACATAGCC-1\" \"AAACAGCCACCAGCAT-1\"\n"
     ]
    },
    {
     "name": "stderr",
     "output_type": "stream",
     "text": [
      "Warning message:\n",
      "“Keys should be one or more alphanumeric characters followed by an underscore, setting key from atac_comb_ to ataccomb_”\n",
      "Extracting reads overlapping genomic regions\n",
      "\n"
     ]
    },
    {
     "name": "stdout",
     "output_type": "stream",
     "text": [
      "[1] \"AAACAGCCAAATACCT-1\" \"AAACAGCCAATTGAGA-1\" \"AAACAGCCACCTCGCT-1\"\n",
      "[4] \"AAACAGCCACTAAGCC-1\" \"AAACAGCCACTTGTTC-1\" \"AAACAGCCAGAGAGCC-1\"\n"
     ]
    },
    {
     "name": "stderr",
     "output_type": "stream",
     "text": [
      "Warning message:\n",
      "“Keys should be one or more alphanumeric characters followed by an underscore, setting key from atac_comb_ to ataccomb_”\n"
     ]
    },
    {
     "data": {
      "text/plain": [
       "[1] \"2023-11-08 16:07:28 PST\""
      ]
     },
     "metadata": {},
     "output_type": "display_data"
    }
   ],
   "source": [
    "\n",
    "Sys.time()\n",
    "pmo_list <- lapply( X= li, FUN=merge_prep)\n",
    "Sys.time()\n"
   ]
  },
  {
   "cell_type": "code",
   "execution_count": 35,
   "id": "cad2f983",
   "metadata": {},
   "outputs": [
    {
     "name": "stderr",
     "output_type": "stream",
     "text": [
      "Extracting reads overlapping genomic regions\n",
      "\n"
     ]
    }
   ],
   "source": [
    "    #### Built feature matrices\n",
    "    counts <- FeatureMatrix(\n",
    "      fragments = frags,\n",
    "      features = combined.peaks,\n",
    "      cells = rownames(sobj@meta.data)\n",
    "    )"
   ]
  },
  {
   "cell_type": "code",
   "execution_count": 13,
   "id": "fa2a2446",
   "metadata": {},
   "outputs": [
    {
     "data": {
      "text/plain": [
       "[[1]]\n",
       "A Fragment object for 20000 cells\n"
      ]
     },
     "metadata": {},
     "output_type": "display_data"
    }
   ],
   "source": [
    "sobj <- li[[1]]\n",
    "frags <- Fragments(sobj)\n",
    "frags"
   ]
  },
  {
   "cell_type": "code",
   "execution_count": 20,
   "id": "a77e2c19",
   "metadata": {},
   "outputs": [
    {
     "data": {
      "text/html": [
       "<table class=\"dataframe\">\n",
       "<caption>A data.frame: 6 × 30</caption>\n",
       "<thead>\n",
       "\t<tr><th></th><th scope=col>BARCODE</th><th scope=col>orig.ident</th><th scope=col>nCount_RNA</th><th scope=col>nFeature_RNA</th><th scope=col>nCount_ATAC</th><th scope=col>nFeature_ATAC</th><th scope=col>fragments_freq_count</th><th scope=col>FRiP</th><th scope=col>percent.mt</th><th scope=col>nCount_SCT</th><th scope=col>⋯</th><th scope=col>BEST.POSTERIOR</th><th scope=col>SNG.POSTERIOR</th><th scope=col>SNG.BEST.GUESS</th><th scope=col>SNG.BEST.LLK</th><th scope=col>SNG.NEXT.GUESS</th><th scope=col>SNG.NEXT.LLK</th><th scope=col>SNG.ONLY.POSTERIOR</th><th scope=col>DBL.BEST.GUESS</th><th scope=col>DBL.BEST.LLK</th><th scope=col>DIFF.LLK.SNG.DBL</th></tr>\n",
       "\t<tr><th></th><th scope=col>&lt;chr&gt;</th><th scope=col>&lt;fct&gt;</th><th scope=col>&lt;dbl&gt;</th><th scope=col>&lt;int&gt;</th><th scope=col>&lt;dbl&gt;</th><th scope=col>&lt;int&gt;</th><th scope=col>&lt;dbl&gt;</th><th scope=col>&lt;dbl&gt;</th><th scope=col>&lt;dbl&gt;</th><th scope=col>&lt;dbl&gt;</th><th scope=col>⋯</th><th scope=col>&lt;dbl&gt;</th><th scope=col>&lt;dbl&gt;</th><th scope=col>&lt;chr&gt;</th><th scope=col>&lt;dbl&gt;</th><th scope=col>&lt;chr&gt;</th><th scope=col>&lt;dbl&gt;</th><th scope=col>&lt;dbl&gt;</th><th scope=col>&lt;chr&gt;</th><th scope=col>&lt;dbl&gt;</th><th scope=col>&lt;dbl&gt;</th></tr>\n",
       "</thead>\n",
       "<tbody>\n",
       "\t<tr><th scope=row>1</th><td>AAACAGCCAAACGGGC-1</td><td>QY_2225_2_QY_2224_2</td><td> 6581</td><td>3072</td><td>5854</td><td>2926</td><td> 9272</td><td>0.6313632</td><td>1.1092539</td><td>6172</td><td>⋯</td><td> -2.5e+02</td><td>1</td><td>UCSDX51_UCSDX51</td><td>-243.32</td><td>D371_D371      </td><td>-574.97</td><td>0</td><td>D381_D381,UCSDX51_UCSDX51,0.50      </td><td>-301.66</td><td>  58.34</td></tr>\n",
       "\t<tr><th scope=row>2</th><td>AAACAGCCAAAGGTAC-1</td><td>QY_2225_2_QY_2224_2</td><td> 6785</td><td>2512</td><td>2357</td><td>1209</td><td> 3871</td><td>0.6088866</td><td>3.3898305</td><td>6013</td><td>⋯</td><td> -1.8e+02</td><td>1</td><td>D265_D265      </td><td>-173.03</td><td>UCSDX3_UCSDX3  </td><td>-291.65</td><td>0</td><td>D265_D265,UCSDX3_UCSDX3,0.50        </td><td>-182.59</td><td>   9.56</td></tr>\n",
       "\t<tr><th scope=row>3</th><td>AAACAGCCAAATACCT-1</td><td>QY_2225_2_QY_2224_2</td><td>  773</td><td> 607</td><td>2335</td><td>1213</td><td> 3731</td><td>0.6258376</td><td>1.1642950</td><td>4272</td><td>⋯</td><td> -7.2e+01</td><td>1</td><td>UCSDX19_UCSDX19</td><td> -68.06</td><td>UCSDX51_UCSDX51</td><td>-145.11</td><td>0</td><td>UCSDX19_UCSDX19,UCSDX31_UCSDX31,0.50</td><td> -79.20</td><td>  11.14</td></tr>\n",
       "\t<tr><th scope=row>4</th><td>AAACAGCCAATTGACT-1</td><td>QY_2225_2_QY_2224_2</td><td> 1709</td><td>1121</td><td>8280</td><td>4112</td><td>20682</td><td>0.4003481</td><td>2.5746050</td><td>4407</td><td>⋯</td><td> -4.0e+02</td><td>1</td><td>UCSDX42_UCSDX42</td><td>-391.82</td><td>UCSDX40_UCSDX40</td><td>-956.91</td><td>0</td><td>UCSDX40_UCSDX40,UCSDX42_UCSDX42,0.50</td><td>-486.25</td><td>  94.43</td></tr>\n",
       "\t<tr><th scope=row>5</th><td>AAACAGCCACATAGCC-1</td><td>QY_2225_2_QY_2224_2</td><td> 5791</td><td>2752</td><td>  84</td><td>  43</td><td>   81</td><td>1.0370370</td><td>0.4144362</td><td>5755</td><td>⋯</td><td> -5.0e+01</td><td>1</td><td>D339_D339      </td><td> -45.57</td><td>UCSDX2_UCSDX2  </td><td>-129.87</td><td>0</td><td>D339_D339,D371_D371,0.50            </td><td> -62.54</td><td>  16.96</td></tr>\n",
       "\t<tr><th scope=row>6</th><td>AAACAGCCACCAGCAT-1</td><td>QY_2225_2_QY_2224_2</td><td>13831</td><td>4553</td><td>7542</td><td>3804</td><td> 9703</td><td>0.7772854</td><td>0.6217916</td><td>6228</td><td>⋯</td><td> 5.0e-207</td><td>1</td><td>UCSDX44_UCSDX44</td><td>-625.03</td><td>UCSDX19_UCSDX19</td><td>-680.52</td><td>0</td><td>UCSDX19_UCSDX19,UCSDX44_UCSDX44,0.50</td><td>-468.25</td><td>-156.78</td></tr>\n",
       "</tbody>\n",
       "</table>\n"
      ],
      "text/latex": [
       "A data.frame: 6 × 30\n",
       "\\begin{tabular}{r|lllllllllllllllllllll}\n",
       "  & BARCODE & orig.ident & nCount\\_RNA & nFeature\\_RNA & nCount\\_ATAC & nFeature\\_ATAC & fragments\\_freq\\_count & FRiP & percent.mt & nCount\\_SCT & ⋯ & BEST.POSTERIOR & SNG.POSTERIOR & SNG.BEST.GUESS & SNG.BEST.LLK & SNG.NEXT.GUESS & SNG.NEXT.LLK & SNG.ONLY.POSTERIOR & DBL.BEST.GUESS & DBL.BEST.LLK & DIFF.LLK.SNG.DBL\\\\\n",
       "  & <chr> & <fct> & <dbl> & <int> & <dbl> & <int> & <dbl> & <dbl> & <dbl> & <dbl> & ⋯ & <dbl> & <dbl> & <chr> & <dbl> & <chr> & <dbl> & <dbl> & <chr> & <dbl> & <dbl>\\\\\n",
       "\\hline\n",
       "\t1 & AAACAGCCAAACGGGC-1 & QY\\_2225\\_2\\_QY\\_2224\\_2 &  6581 & 3072 & 5854 & 2926 &  9272 & 0.6313632 & 1.1092539 & 6172 & ⋯ &  -2.5e+02 & 1 & UCSDX51\\_UCSDX51 & -243.32 & D371\\_D371       & -574.97 & 0 & D381\\_D381,UCSDX51\\_UCSDX51,0.50       & -301.66 &   58.34\\\\\n",
       "\t2 & AAACAGCCAAAGGTAC-1 & QY\\_2225\\_2\\_QY\\_2224\\_2 &  6785 & 2512 & 2357 & 1209 &  3871 & 0.6088866 & 3.3898305 & 6013 & ⋯ &  -1.8e+02 & 1 & D265\\_D265       & -173.03 & UCSDX3\\_UCSDX3   & -291.65 & 0 & D265\\_D265,UCSDX3\\_UCSDX3,0.50         & -182.59 &    9.56\\\\\n",
       "\t3 & AAACAGCCAAATACCT-1 & QY\\_2225\\_2\\_QY\\_2224\\_2 &   773 &  607 & 2335 & 1213 &  3731 & 0.6258376 & 1.1642950 & 4272 & ⋯ &  -7.2e+01 & 1 & UCSDX19\\_UCSDX19 &  -68.06 & UCSDX51\\_UCSDX51 & -145.11 & 0 & UCSDX19\\_UCSDX19,UCSDX31\\_UCSDX31,0.50 &  -79.20 &   11.14\\\\\n",
       "\t4 & AAACAGCCAATTGACT-1 & QY\\_2225\\_2\\_QY\\_2224\\_2 &  1709 & 1121 & 8280 & 4112 & 20682 & 0.4003481 & 2.5746050 & 4407 & ⋯ &  -4.0e+02 & 1 & UCSDX42\\_UCSDX42 & -391.82 & UCSDX40\\_UCSDX40 & -956.91 & 0 & UCSDX40\\_UCSDX40,UCSDX42\\_UCSDX42,0.50 & -486.25 &   94.43\\\\\n",
       "\t5 & AAACAGCCACATAGCC-1 & QY\\_2225\\_2\\_QY\\_2224\\_2 &  5791 & 2752 &   84 &   43 &    81 & 1.0370370 & 0.4144362 & 5755 & ⋯ &  -5.0e+01 & 1 & D339\\_D339       &  -45.57 & UCSDX2\\_UCSDX2   & -129.87 & 0 & D339\\_D339,D371\\_D371,0.50             &  -62.54 &   16.96\\\\\n",
       "\t6 & AAACAGCCACCAGCAT-1 & QY\\_2225\\_2\\_QY\\_2224\\_2 & 13831 & 4553 & 7542 & 3804 &  9703 & 0.7772854 & 0.6217916 & 6228 & ⋯ &  5.0e-207 & 1 & UCSDX44\\_UCSDX44 & -625.03 & UCSDX19\\_UCSDX19 & -680.52 & 0 & UCSDX19\\_UCSDX19,UCSDX44\\_UCSDX44,0.50 & -468.25 & -156.78\\\\\n",
       "\\end{tabular}\n"
      ],
      "text/markdown": [
       "\n",
       "A data.frame: 6 × 30\n",
       "\n",
       "| <!--/--> | BARCODE &lt;chr&gt; | orig.ident &lt;fct&gt; | nCount_RNA &lt;dbl&gt; | nFeature_RNA &lt;int&gt; | nCount_ATAC &lt;dbl&gt; | nFeature_ATAC &lt;int&gt; | fragments_freq_count &lt;dbl&gt; | FRiP &lt;dbl&gt; | percent.mt &lt;dbl&gt; | nCount_SCT &lt;dbl&gt; | ⋯ ⋯ | BEST.POSTERIOR &lt;dbl&gt; | SNG.POSTERIOR &lt;dbl&gt; | SNG.BEST.GUESS &lt;chr&gt; | SNG.BEST.LLK &lt;dbl&gt; | SNG.NEXT.GUESS &lt;chr&gt; | SNG.NEXT.LLK &lt;dbl&gt; | SNG.ONLY.POSTERIOR &lt;dbl&gt; | DBL.BEST.GUESS &lt;chr&gt; | DBL.BEST.LLK &lt;dbl&gt; | DIFF.LLK.SNG.DBL &lt;dbl&gt; |\n",
       "|---|---|---|---|---|---|---|---|---|---|---|---|---|---|---|---|---|---|---|---|---|---|\n",
       "| 1 | AAACAGCCAAACGGGC-1 | QY_2225_2_QY_2224_2 |  6581 | 3072 | 5854 | 2926 |  9272 | 0.6313632 | 1.1092539 | 6172 | ⋯ |  -2.5e+02 | 1 | UCSDX51_UCSDX51 | -243.32 | D371_D371       | -574.97 | 0 | D381_D381,UCSDX51_UCSDX51,0.50       | -301.66 |   58.34 |\n",
       "| 2 | AAACAGCCAAAGGTAC-1 | QY_2225_2_QY_2224_2 |  6785 | 2512 | 2357 | 1209 |  3871 | 0.6088866 | 3.3898305 | 6013 | ⋯ |  -1.8e+02 | 1 | D265_D265       | -173.03 | UCSDX3_UCSDX3   | -291.65 | 0 | D265_D265,UCSDX3_UCSDX3,0.50         | -182.59 |    9.56 |\n",
       "| 3 | AAACAGCCAAATACCT-1 | QY_2225_2_QY_2224_2 |   773 |  607 | 2335 | 1213 |  3731 | 0.6258376 | 1.1642950 | 4272 | ⋯ |  -7.2e+01 | 1 | UCSDX19_UCSDX19 |  -68.06 | UCSDX51_UCSDX51 | -145.11 | 0 | UCSDX19_UCSDX19,UCSDX31_UCSDX31,0.50 |  -79.20 |   11.14 |\n",
       "| 4 | AAACAGCCAATTGACT-1 | QY_2225_2_QY_2224_2 |  1709 | 1121 | 8280 | 4112 | 20682 | 0.4003481 | 2.5746050 | 4407 | ⋯ |  -4.0e+02 | 1 | UCSDX42_UCSDX42 | -391.82 | UCSDX40_UCSDX40 | -956.91 | 0 | UCSDX40_UCSDX40,UCSDX42_UCSDX42,0.50 | -486.25 |   94.43 |\n",
       "| 5 | AAACAGCCACATAGCC-1 | QY_2225_2_QY_2224_2 |  5791 | 2752 |   84 |   43 |    81 | 1.0370370 | 0.4144362 | 5755 | ⋯ |  -5.0e+01 | 1 | D339_D339       |  -45.57 | UCSDX2_UCSDX2   | -129.87 | 0 | D339_D339,D371_D371,0.50             |  -62.54 |   16.96 |\n",
       "| 6 | AAACAGCCACCAGCAT-1 | QY_2225_2_QY_2224_2 | 13831 | 4553 | 7542 | 3804 |  9703 | 0.7772854 | 0.6217916 | 6228 | ⋯ |  5.0e-207 | 1 | UCSDX44_UCSDX44 | -625.03 | UCSDX19_UCSDX19 | -680.52 | 0 | UCSDX19_UCSDX19,UCSDX44_UCSDX44,0.50 | -468.25 | -156.78 |\n",
       "\n"
      ],
      "text/plain": [
       "  BARCODE            orig.ident          nCount_RNA nFeature_RNA nCount_ATAC\n",
       "1 AAACAGCCAAACGGGC-1 QY_2225_2_QY_2224_2  6581      3072         5854       \n",
       "2 AAACAGCCAAAGGTAC-1 QY_2225_2_QY_2224_2  6785      2512         2357       \n",
       "3 AAACAGCCAAATACCT-1 QY_2225_2_QY_2224_2   773       607         2335       \n",
       "4 AAACAGCCAATTGACT-1 QY_2225_2_QY_2224_2  1709      1121         8280       \n",
       "5 AAACAGCCACATAGCC-1 QY_2225_2_QY_2224_2  5791      2752           84       \n",
       "6 AAACAGCCACCAGCAT-1 QY_2225_2_QY_2224_2 13831      4553         7542       \n",
       "  nFeature_ATAC fragments_freq_count FRiP      percent.mt nCount_SCT ⋯\n",
       "1 2926           9272                0.6313632 1.1092539  6172       ⋯\n",
       "2 1209           3871                0.6088866 3.3898305  6013       ⋯\n",
       "3 1213           3731                0.6258376 1.1642950  4272       ⋯\n",
       "4 4112          20682                0.4003481 2.5746050  4407       ⋯\n",
       "5   43             81                1.0370370 0.4144362  5755       ⋯\n",
       "6 3804           9703                0.7772854 0.6217916  6228       ⋯\n",
       "  BEST.POSTERIOR SNG.POSTERIOR SNG.BEST.GUESS  SNG.BEST.LLK SNG.NEXT.GUESS \n",
       "1  -2.5e+02      1             UCSDX51_UCSDX51 -243.32      D371_D371      \n",
       "2  -1.8e+02      1             D265_D265       -173.03      UCSDX3_UCSDX3  \n",
       "3  -7.2e+01      1             UCSDX19_UCSDX19  -68.06      UCSDX51_UCSDX51\n",
       "4  -4.0e+02      1             UCSDX42_UCSDX42 -391.82      UCSDX40_UCSDX40\n",
       "5  -5.0e+01      1             D339_D339        -45.57      UCSDX2_UCSDX2  \n",
       "6  5.0e-207      1             UCSDX44_UCSDX44 -625.03      UCSDX19_UCSDX19\n",
       "  SNG.NEXT.LLK SNG.ONLY.POSTERIOR DBL.BEST.GUESS                      \n",
       "1 -574.97      0                  D381_D381,UCSDX51_UCSDX51,0.50      \n",
       "2 -291.65      0                  D265_D265,UCSDX3_UCSDX3,0.50        \n",
       "3 -145.11      0                  UCSDX19_UCSDX19,UCSDX31_UCSDX31,0.50\n",
       "4 -956.91      0                  UCSDX40_UCSDX40,UCSDX42_UCSDX42,0.50\n",
       "5 -129.87      0                  D339_D339,D371_D371,0.50            \n",
       "6 -680.52      0                  UCSDX19_UCSDX19,UCSDX44_UCSDX44,0.50\n",
       "  DBL.BEST.LLK DIFF.LLK.SNG.DBL\n",
       "1 -301.66        58.34         \n",
       "2 -182.59         9.56         \n",
       "3  -79.20        11.14         \n",
       "4 -486.25        94.43         \n",
       "5  -62.54        16.96         \n",
       "6 -468.25      -156.78         "
      ]
     },
     "metadata": {},
     "output_type": "display_data"
    }
   ],
   "source": [
    "head(sobj@meta.data)"
   ]
  },
  {
   "cell_type": "code",
   "execution_count": 23,
   "id": "3603bfce",
   "metadata": {},
   "outputs": [],
   "source": [
    "rownames(sobj@meta.data) <- sobj$BARCODE"
   ]
  },
  {
   "cell_type": "code",
   "execution_count": 24,
   "id": "c310e04e",
   "metadata": {},
   "outputs": [
    {
     "data": {
      "text/html": [
       "<table class=\"dataframe\">\n",
       "<caption>A data.frame: 6 × 30</caption>\n",
       "<thead>\n",
       "\t<tr><th></th><th scope=col>BARCODE</th><th scope=col>orig.ident</th><th scope=col>nCount_RNA</th><th scope=col>nFeature_RNA</th><th scope=col>nCount_ATAC</th><th scope=col>nFeature_ATAC</th><th scope=col>fragments_freq_count</th><th scope=col>FRiP</th><th scope=col>percent.mt</th><th scope=col>nCount_SCT</th><th scope=col>⋯</th><th scope=col>BEST.POSTERIOR</th><th scope=col>SNG.POSTERIOR</th><th scope=col>SNG.BEST.GUESS</th><th scope=col>SNG.BEST.LLK</th><th scope=col>SNG.NEXT.GUESS</th><th scope=col>SNG.NEXT.LLK</th><th scope=col>SNG.ONLY.POSTERIOR</th><th scope=col>DBL.BEST.GUESS</th><th scope=col>DBL.BEST.LLK</th><th scope=col>DIFF.LLK.SNG.DBL</th></tr>\n",
       "\t<tr><th></th><th scope=col>&lt;chr&gt;</th><th scope=col>&lt;fct&gt;</th><th scope=col>&lt;dbl&gt;</th><th scope=col>&lt;int&gt;</th><th scope=col>&lt;dbl&gt;</th><th scope=col>&lt;int&gt;</th><th scope=col>&lt;dbl&gt;</th><th scope=col>&lt;dbl&gt;</th><th scope=col>&lt;dbl&gt;</th><th scope=col>&lt;dbl&gt;</th><th scope=col>⋯</th><th scope=col>&lt;dbl&gt;</th><th scope=col>&lt;dbl&gt;</th><th scope=col>&lt;chr&gt;</th><th scope=col>&lt;dbl&gt;</th><th scope=col>&lt;chr&gt;</th><th scope=col>&lt;dbl&gt;</th><th scope=col>&lt;dbl&gt;</th><th scope=col>&lt;chr&gt;</th><th scope=col>&lt;dbl&gt;</th><th scope=col>&lt;dbl&gt;</th></tr>\n",
       "</thead>\n",
       "<tbody>\n",
       "\t<tr><th scope=row>AAACAGCCAAACGGGC-1</th><td>AAACAGCCAAACGGGC-1</td><td>QY_2225_2_QY_2224_2</td><td> 6581</td><td>3072</td><td>5854</td><td>2926</td><td> 9272</td><td>0.6313632</td><td>1.1092539</td><td>6172</td><td>⋯</td><td> -2.5e+02</td><td>1</td><td>UCSDX51_UCSDX51</td><td>-243.32</td><td>D371_D371      </td><td>-574.97</td><td>0</td><td>D381_D381,UCSDX51_UCSDX51,0.50      </td><td>-301.66</td><td>  58.34</td></tr>\n",
       "\t<tr><th scope=row>AAACAGCCAAAGGTAC-1</th><td>AAACAGCCAAAGGTAC-1</td><td>QY_2225_2_QY_2224_2</td><td> 6785</td><td>2512</td><td>2357</td><td>1209</td><td> 3871</td><td>0.6088866</td><td>3.3898305</td><td>6013</td><td>⋯</td><td> -1.8e+02</td><td>1</td><td>D265_D265      </td><td>-173.03</td><td>UCSDX3_UCSDX3  </td><td>-291.65</td><td>0</td><td>D265_D265,UCSDX3_UCSDX3,0.50        </td><td>-182.59</td><td>   9.56</td></tr>\n",
       "\t<tr><th scope=row>AAACAGCCAAATACCT-1</th><td>AAACAGCCAAATACCT-1</td><td>QY_2225_2_QY_2224_2</td><td>  773</td><td> 607</td><td>2335</td><td>1213</td><td> 3731</td><td>0.6258376</td><td>1.1642950</td><td>4272</td><td>⋯</td><td> -7.2e+01</td><td>1</td><td>UCSDX19_UCSDX19</td><td> -68.06</td><td>UCSDX51_UCSDX51</td><td>-145.11</td><td>0</td><td>UCSDX19_UCSDX19,UCSDX31_UCSDX31,0.50</td><td> -79.20</td><td>  11.14</td></tr>\n",
       "\t<tr><th scope=row>AAACAGCCAATTGACT-1</th><td>AAACAGCCAATTGACT-1</td><td>QY_2225_2_QY_2224_2</td><td> 1709</td><td>1121</td><td>8280</td><td>4112</td><td>20682</td><td>0.4003481</td><td>2.5746050</td><td>4407</td><td>⋯</td><td> -4.0e+02</td><td>1</td><td>UCSDX42_UCSDX42</td><td>-391.82</td><td>UCSDX40_UCSDX40</td><td>-956.91</td><td>0</td><td>UCSDX40_UCSDX40,UCSDX42_UCSDX42,0.50</td><td>-486.25</td><td>  94.43</td></tr>\n",
       "\t<tr><th scope=row>AAACAGCCACATAGCC-1</th><td>AAACAGCCACATAGCC-1</td><td>QY_2225_2_QY_2224_2</td><td> 5791</td><td>2752</td><td>  84</td><td>  43</td><td>   81</td><td>1.0370370</td><td>0.4144362</td><td>5755</td><td>⋯</td><td> -5.0e+01</td><td>1</td><td>D339_D339      </td><td> -45.57</td><td>UCSDX2_UCSDX2  </td><td>-129.87</td><td>0</td><td>D339_D339,D371_D371,0.50            </td><td> -62.54</td><td>  16.96</td></tr>\n",
       "\t<tr><th scope=row>AAACAGCCACCAGCAT-1</th><td>AAACAGCCACCAGCAT-1</td><td>QY_2225_2_QY_2224_2</td><td>13831</td><td>4553</td><td>7542</td><td>3804</td><td> 9703</td><td>0.7772854</td><td>0.6217916</td><td>6228</td><td>⋯</td><td> 5.0e-207</td><td>1</td><td>UCSDX44_UCSDX44</td><td>-625.03</td><td>UCSDX19_UCSDX19</td><td>-680.52</td><td>0</td><td>UCSDX19_UCSDX19,UCSDX44_UCSDX44,0.50</td><td>-468.25</td><td>-156.78</td></tr>\n",
       "</tbody>\n",
       "</table>\n"
      ],
      "text/latex": [
       "A data.frame: 6 × 30\n",
       "\\begin{tabular}{r|lllllllllllllllllllll}\n",
       "  & BARCODE & orig.ident & nCount\\_RNA & nFeature\\_RNA & nCount\\_ATAC & nFeature\\_ATAC & fragments\\_freq\\_count & FRiP & percent.mt & nCount\\_SCT & ⋯ & BEST.POSTERIOR & SNG.POSTERIOR & SNG.BEST.GUESS & SNG.BEST.LLK & SNG.NEXT.GUESS & SNG.NEXT.LLK & SNG.ONLY.POSTERIOR & DBL.BEST.GUESS & DBL.BEST.LLK & DIFF.LLK.SNG.DBL\\\\\n",
       "  & <chr> & <fct> & <dbl> & <int> & <dbl> & <int> & <dbl> & <dbl> & <dbl> & <dbl> & ⋯ & <dbl> & <dbl> & <chr> & <dbl> & <chr> & <dbl> & <dbl> & <chr> & <dbl> & <dbl>\\\\\n",
       "\\hline\n",
       "\tAAACAGCCAAACGGGC-1 & AAACAGCCAAACGGGC-1 & QY\\_2225\\_2\\_QY\\_2224\\_2 &  6581 & 3072 & 5854 & 2926 &  9272 & 0.6313632 & 1.1092539 & 6172 & ⋯ &  -2.5e+02 & 1 & UCSDX51\\_UCSDX51 & -243.32 & D371\\_D371       & -574.97 & 0 & D381\\_D381,UCSDX51\\_UCSDX51,0.50       & -301.66 &   58.34\\\\\n",
       "\tAAACAGCCAAAGGTAC-1 & AAACAGCCAAAGGTAC-1 & QY\\_2225\\_2\\_QY\\_2224\\_2 &  6785 & 2512 & 2357 & 1209 &  3871 & 0.6088866 & 3.3898305 & 6013 & ⋯ &  -1.8e+02 & 1 & D265\\_D265       & -173.03 & UCSDX3\\_UCSDX3   & -291.65 & 0 & D265\\_D265,UCSDX3\\_UCSDX3,0.50         & -182.59 &    9.56\\\\\n",
       "\tAAACAGCCAAATACCT-1 & AAACAGCCAAATACCT-1 & QY\\_2225\\_2\\_QY\\_2224\\_2 &   773 &  607 & 2335 & 1213 &  3731 & 0.6258376 & 1.1642950 & 4272 & ⋯ &  -7.2e+01 & 1 & UCSDX19\\_UCSDX19 &  -68.06 & UCSDX51\\_UCSDX51 & -145.11 & 0 & UCSDX19\\_UCSDX19,UCSDX31\\_UCSDX31,0.50 &  -79.20 &   11.14\\\\\n",
       "\tAAACAGCCAATTGACT-1 & AAACAGCCAATTGACT-1 & QY\\_2225\\_2\\_QY\\_2224\\_2 &  1709 & 1121 & 8280 & 4112 & 20682 & 0.4003481 & 2.5746050 & 4407 & ⋯ &  -4.0e+02 & 1 & UCSDX42\\_UCSDX42 & -391.82 & UCSDX40\\_UCSDX40 & -956.91 & 0 & UCSDX40\\_UCSDX40,UCSDX42\\_UCSDX42,0.50 & -486.25 &   94.43\\\\\n",
       "\tAAACAGCCACATAGCC-1 & AAACAGCCACATAGCC-1 & QY\\_2225\\_2\\_QY\\_2224\\_2 &  5791 & 2752 &   84 &   43 &    81 & 1.0370370 & 0.4144362 & 5755 & ⋯ &  -5.0e+01 & 1 & D339\\_D339       &  -45.57 & UCSDX2\\_UCSDX2   & -129.87 & 0 & D339\\_D339,D371\\_D371,0.50             &  -62.54 &   16.96\\\\\n",
       "\tAAACAGCCACCAGCAT-1 & AAACAGCCACCAGCAT-1 & QY\\_2225\\_2\\_QY\\_2224\\_2 & 13831 & 4553 & 7542 & 3804 &  9703 & 0.7772854 & 0.6217916 & 6228 & ⋯ &  5.0e-207 & 1 & UCSDX44\\_UCSDX44 & -625.03 & UCSDX19\\_UCSDX19 & -680.52 & 0 & UCSDX19\\_UCSDX19,UCSDX44\\_UCSDX44,0.50 & -468.25 & -156.78\\\\\n",
       "\\end{tabular}\n"
      ],
      "text/markdown": [
       "\n",
       "A data.frame: 6 × 30\n",
       "\n",
       "| <!--/--> | BARCODE &lt;chr&gt; | orig.ident &lt;fct&gt; | nCount_RNA &lt;dbl&gt; | nFeature_RNA &lt;int&gt; | nCount_ATAC &lt;dbl&gt; | nFeature_ATAC &lt;int&gt; | fragments_freq_count &lt;dbl&gt; | FRiP &lt;dbl&gt; | percent.mt &lt;dbl&gt; | nCount_SCT &lt;dbl&gt; | ⋯ ⋯ | BEST.POSTERIOR &lt;dbl&gt; | SNG.POSTERIOR &lt;dbl&gt; | SNG.BEST.GUESS &lt;chr&gt; | SNG.BEST.LLK &lt;dbl&gt; | SNG.NEXT.GUESS &lt;chr&gt; | SNG.NEXT.LLK &lt;dbl&gt; | SNG.ONLY.POSTERIOR &lt;dbl&gt; | DBL.BEST.GUESS &lt;chr&gt; | DBL.BEST.LLK &lt;dbl&gt; | DIFF.LLK.SNG.DBL &lt;dbl&gt; |\n",
       "|---|---|---|---|---|---|---|---|---|---|---|---|---|---|---|---|---|---|---|---|---|---|\n",
       "| AAACAGCCAAACGGGC-1 | AAACAGCCAAACGGGC-1 | QY_2225_2_QY_2224_2 |  6581 | 3072 | 5854 | 2926 |  9272 | 0.6313632 | 1.1092539 | 6172 | ⋯ |  -2.5e+02 | 1 | UCSDX51_UCSDX51 | -243.32 | D371_D371       | -574.97 | 0 | D381_D381,UCSDX51_UCSDX51,0.50       | -301.66 |   58.34 |\n",
       "| AAACAGCCAAAGGTAC-1 | AAACAGCCAAAGGTAC-1 | QY_2225_2_QY_2224_2 |  6785 | 2512 | 2357 | 1209 |  3871 | 0.6088866 | 3.3898305 | 6013 | ⋯ |  -1.8e+02 | 1 | D265_D265       | -173.03 | UCSDX3_UCSDX3   | -291.65 | 0 | D265_D265,UCSDX3_UCSDX3,0.50         | -182.59 |    9.56 |\n",
       "| AAACAGCCAAATACCT-1 | AAACAGCCAAATACCT-1 | QY_2225_2_QY_2224_2 |   773 |  607 | 2335 | 1213 |  3731 | 0.6258376 | 1.1642950 | 4272 | ⋯ |  -7.2e+01 | 1 | UCSDX19_UCSDX19 |  -68.06 | UCSDX51_UCSDX51 | -145.11 | 0 | UCSDX19_UCSDX19,UCSDX31_UCSDX31,0.50 |  -79.20 |   11.14 |\n",
       "| AAACAGCCAATTGACT-1 | AAACAGCCAATTGACT-1 | QY_2225_2_QY_2224_2 |  1709 | 1121 | 8280 | 4112 | 20682 | 0.4003481 | 2.5746050 | 4407 | ⋯ |  -4.0e+02 | 1 | UCSDX42_UCSDX42 | -391.82 | UCSDX40_UCSDX40 | -956.91 | 0 | UCSDX40_UCSDX40,UCSDX42_UCSDX42,0.50 | -486.25 |   94.43 |\n",
       "| AAACAGCCACATAGCC-1 | AAACAGCCACATAGCC-1 | QY_2225_2_QY_2224_2 |  5791 | 2752 |   84 |   43 |    81 | 1.0370370 | 0.4144362 | 5755 | ⋯ |  -5.0e+01 | 1 | D339_D339       |  -45.57 | UCSDX2_UCSDX2   | -129.87 | 0 | D339_D339,D371_D371,0.50             |  -62.54 |   16.96 |\n",
       "| AAACAGCCACCAGCAT-1 | AAACAGCCACCAGCAT-1 | QY_2225_2_QY_2224_2 | 13831 | 4553 | 7542 | 3804 |  9703 | 0.7772854 | 0.6217916 | 6228 | ⋯ |  5.0e-207 | 1 | UCSDX44_UCSDX44 | -625.03 | UCSDX19_UCSDX19 | -680.52 | 0 | UCSDX19_UCSDX19,UCSDX44_UCSDX44,0.50 | -468.25 | -156.78 |\n",
       "\n"
      ],
      "text/plain": [
       "                   BARCODE            orig.ident          nCount_RNA\n",
       "AAACAGCCAAACGGGC-1 AAACAGCCAAACGGGC-1 QY_2225_2_QY_2224_2  6581     \n",
       "AAACAGCCAAAGGTAC-1 AAACAGCCAAAGGTAC-1 QY_2225_2_QY_2224_2  6785     \n",
       "AAACAGCCAAATACCT-1 AAACAGCCAAATACCT-1 QY_2225_2_QY_2224_2   773     \n",
       "AAACAGCCAATTGACT-1 AAACAGCCAATTGACT-1 QY_2225_2_QY_2224_2  1709     \n",
       "AAACAGCCACATAGCC-1 AAACAGCCACATAGCC-1 QY_2225_2_QY_2224_2  5791     \n",
       "AAACAGCCACCAGCAT-1 AAACAGCCACCAGCAT-1 QY_2225_2_QY_2224_2 13831     \n",
       "                   nFeature_RNA nCount_ATAC nFeature_ATAC fragments_freq_count\n",
       "AAACAGCCAAACGGGC-1 3072         5854        2926           9272               \n",
       "AAACAGCCAAAGGTAC-1 2512         2357        1209           3871               \n",
       "AAACAGCCAAATACCT-1  607         2335        1213           3731               \n",
       "AAACAGCCAATTGACT-1 1121         8280        4112          20682               \n",
       "AAACAGCCACATAGCC-1 2752           84          43             81               \n",
       "AAACAGCCACCAGCAT-1 4553         7542        3804           9703               \n",
       "                   FRiP      percent.mt nCount_SCT ⋯ BEST.POSTERIOR\n",
       "AAACAGCCAAACGGGC-1 0.6313632 1.1092539  6172       ⋯  -2.5e+02     \n",
       "AAACAGCCAAAGGTAC-1 0.6088866 3.3898305  6013       ⋯  -1.8e+02     \n",
       "AAACAGCCAAATACCT-1 0.6258376 1.1642950  4272       ⋯  -7.2e+01     \n",
       "AAACAGCCAATTGACT-1 0.4003481 2.5746050  4407       ⋯  -4.0e+02     \n",
       "AAACAGCCACATAGCC-1 1.0370370 0.4144362  5755       ⋯  -5.0e+01     \n",
       "AAACAGCCACCAGCAT-1 0.7772854 0.6217916  6228       ⋯  5.0e-207     \n",
       "                   SNG.POSTERIOR SNG.BEST.GUESS  SNG.BEST.LLK SNG.NEXT.GUESS \n",
       "AAACAGCCAAACGGGC-1 1             UCSDX51_UCSDX51 -243.32      D371_D371      \n",
       "AAACAGCCAAAGGTAC-1 1             D265_D265       -173.03      UCSDX3_UCSDX3  \n",
       "AAACAGCCAAATACCT-1 1             UCSDX19_UCSDX19  -68.06      UCSDX51_UCSDX51\n",
       "AAACAGCCAATTGACT-1 1             UCSDX42_UCSDX42 -391.82      UCSDX40_UCSDX40\n",
       "AAACAGCCACATAGCC-1 1             D339_D339        -45.57      UCSDX2_UCSDX2  \n",
       "AAACAGCCACCAGCAT-1 1             UCSDX44_UCSDX44 -625.03      UCSDX19_UCSDX19\n",
       "                   SNG.NEXT.LLK SNG.ONLY.POSTERIOR\n",
       "AAACAGCCAAACGGGC-1 -574.97      0                 \n",
       "AAACAGCCAAAGGTAC-1 -291.65      0                 \n",
       "AAACAGCCAAATACCT-1 -145.11      0                 \n",
       "AAACAGCCAATTGACT-1 -956.91      0                 \n",
       "AAACAGCCACATAGCC-1 -129.87      0                 \n",
       "AAACAGCCACCAGCAT-1 -680.52      0                 \n",
       "                   DBL.BEST.GUESS                       DBL.BEST.LLK\n",
       "AAACAGCCAAACGGGC-1 D381_D381,UCSDX51_UCSDX51,0.50       -301.66     \n",
       "AAACAGCCAAAGGTAC-1 D265_D265,UCSDX3_UCSDX3,0.50         -182.59     \n",
       "AAACAGCCAAATACCT-1 UCSDX19_UCSDX19,UCSDX31_UCSDX31,0.50  -79.20     \n",
       "AAACAGCCAATTGACT-1 UCSDX40_UCSDX40,UCSDX42_UCSDX42,0.50 -486.25     \n",
       "AAACAGCCACATAGCC-1 D339_D339,D371_D371,0.50              -62.54     \n",
       "AAACAGCCACCAGCAT-1 UCSDX19_UCSDX19,UCSDX44_UCSDX44,0.50 -468.25     \n",
       "                   DIFF.LLK.SNG.DBL\n",
       "AAACAGCCAAACGGGC-1   58.34         \n",
       "AAACAGCCAAAGGTAC-1    9.56         \n",
       "AAACAGCCAAATACCT-1   11.14         \n",
       "AAACAGCCAATTGACT-1   94.43         \n",
       "AAACAGCCACATAGCC-1   16.96         \n",
       "AAACAGCCACCAGCAT-1 -156.78         "
      ]
     },
     "metadata": {},
     "output_type": "display_data"
    }
   ],
   "source": [
    "head(sobj@meta.data)"
   ]
  },
  {
   "cell_type": "code",
   "execution_count": null,
   "id": "16a78119",
   "metadata": {},
   "outputs": [],
   "source": []
  },
  {
   "cell_type": "code",
   "execution_count": null,
   "id": "e5e751d0",
   "metadata": {},
   "outputs": [],
   "source": [
    "# metadata from rownames removed and turned to numbers\n",
    "# cell labels should be rownames(sobj@meta.data ) but are now only in BARCODE"
   ]
  },
  {
   "cell_type": "code",
   "execution_count": 22,
   "id": "46bbe8f2",
   "metadata": {},
   "outputs": [
    {
     "data": {
      "text/html": [
       "<style>\n",
       ".dl-inline {width: auto; margin:0; padding: 0}\n",
       ".dl-inline>dt, .dl-inline>dd {float: none; width: auto; display: inline-block}\n",
       ".dl-inline>dt::after {content: \":\\0020\"; padding-right: .5ex}\n",
       ".dl-inline>dt:not(:first-of-type) {padding-left: .5ex}\n",
       "</style><dl class=dl-inline><dt>AAACAGCCAAACGGGC-1</dt><dd>'AAACAGCCAAACGGGC-1'</dd><dt>AAACAGCCAAAGGTAC-1</dt><dd>'AAACAGCCAAAGGTAC-1'</dd><dt>AAACAGCCAAATACCT-1</dt><dd>'AAACAGCCAAATACCT-1'</dd><dt>AAACAGCCAATTGACT-1</dt><dd>'AAACAGCCAATTGACT-1'</dd><dt>AAACAGCCACATAGCC-1</dt><dd>'AAACAGCCACATAGCC-1'</dd><dt>AAACAGCCACCAGCAT-1</dt><dd>'AAACAGCCACCAGCAT-1'</dd></dl>\n"
      ],
      "text/latex": [
       "\\begin{description*}\n",
       "\\item[AAACAGCCAAACGGGC-1] 'AAACAGCCAAACGGGC-1'\n",
       "\\item[AAACAGCCAAAGGTAC-1] 'AAACAGCCAAAGGTAC-1'\n",
       "\\item[AAACAGCCAAATACCT-1] 'AAACAGCCAAATACCT-1'\n",
       "\\item[AAACAGCCAATTGACT-1] 'AAACAGCCAATTGACT-1'\n",
       "\\item[AAACAGCCACATAGCC-1] 'AAACAGCCACATAGCC-1'\n",
       "\\item[AAACAGCCACCAGCAT-1] 'AAACAGCCACCAGCAT-1'\n",
       "\\end{description*}\n"
      ],
      "text/markdown": [
       "AAACAGCCAAACGGGC-1\n",
       ":   'AAACAGCCAAACGGGC-1'AAACAGCCAAAGGTAC-1\n",
       ":   'AAACAGCCAAAGGTAC-1'AAACAGCCAAATACCT-1\n",
       ":   'AAACAGCCAAATACCT-1'AAACAGCCAATTGACT-1\n",
       ":   'AAACAGCCAATTGACT-1'AAACAGCCACATAGCC-1\n",
       ":   'AAACAGCCACATAGCC-1'AAACAGCCACCAGCAT-1\n",
       ":   'AAACAGCCACCAGCAT-1'\n",
       "\n"
      ],
      "text/plain": [
       "  AAACAGCCAAACGGGC-1   AAACAGCCAAAGGTAC-1   AAACAGCCAAATACCT-1 \n",
       "\"AAACAGCCAAACGGGC-1\" \"AAACAGCCAAAGGTAC-1\" \"AAACAGCCAAATACCT-1\" \n",
       "  AAACAGCCAATTGACT-1   AAACAGCCACATAGCC-1   AAACAGCCACCAGCAT-1 \n",
       "\"AAACAGCCAATTGACT-1\" \"AAACAGCCACATAGCC-1\" \"AAACAGCCACCAGCAT-1\" "
      ]
     },
     "metadata": {},
     "output_type": "display_data"
    }
   ],
   "source": [
    "head(sobj$BARCODE)"
   ]
  },
  {
   "cell_type": "code",
   "execution_count": 38,
   "id": "0913b05e",
   "metadata": {},
   "outputs": [
    {
     "name": "stderr",
     "output_type": "stream",
     "text": [
      "Extracting reads overlapping genomic regions\n",
      "\n"
     ]
    }
   ],
   "source": [
    "counts <- FeatureMatrix(\n",
    "      fragments = frags,\n",
    "      features = combined.peaks,\n",
    "      cells = rownames(sobj@meta.data)\n",
    "    )"
   ]
  },
  {
   "cell_type": "code",
   "execution_count": 36,
   "id": "91f0bcb8",
   "metadata": {},
   "outputs": [
    {
     "data": {
      "text/plain": [
       "NULL"
      ]
     },
     "metadata": {},
     "output_type": "display_data"
    }
   ],
   "source": [
    "dim(counts)"
   ]
  },
  {
   "cell_type": "code",
   "execution_count": 37,
   "id": "1223a306",
   "metadata": {},
   "outputs": [
    {
     "data": {
      "text/plain": [
       "NULL"
      ]
     },
     "metadata": {},
     "output_type": "display_data"
    }
   ],
   "source": [
    "counts"
   ]
  },
  {
   "cell_type": "code",
   "execution_count": null,
   "id": "85577cde",
   "metadata": {},
   "outputs": [],
   "source": [
    "assay <- CreateChromatinAssay(counts, fragments = frags)\n"
   ]
  },
  {
   "cell_type": "code",
   "execution_count": 16,
   "id": "da0bfb0d",
   "metadata": {},
   "outputs": [
    {
     "data": {
      "text/plain": [
       "GRanges object with 172997 ranges and 0 metadata columns:\n",
       "             seqnames          ranges strand\n",
       "                <Rle>       <IRanges>  <Rle>\n",
       "       [1]       chr1      9767-10709      *\n",
       "       [2]       chr1   180707-181668      *\n",
       "       [3]       chr1   183903-184782      *\n",
       "       [4]       chr1   186352-187360      *\n",
       "       [5]       chr1   191053-191961      *\n",
       "       ...        ...             ...    ...\n",
       "  [172993] KI270728.1 1792043-1792755      *\n",
       "  [172994] KI270731.1       4419-5408      *\n",
       "  [172995] KI270734.1   116882-117921      *\n",
       "  [172996] KI270734.1   121024-121925      *\n",
       "  [172997] KI270734.1   163727-164637      *\n",
       "  -------\n",
       "  seqinfo: 37 sequences from an unspecified genome; no seqlengths"
      ]
     },
     "metadata": {},
     "output_type": "display_data"
    }
   ],
   "source": [
    "combined.peaks"
   ]
  },
  {
   "cell_type": "code",
   "execution_count": 15,
   "id": "2016df51",
   "metadata": {},
   "outputs": [
    {
     "data": {
      "text/plain": [
       "NULL"
      ]
     },
     "metadata": {},
     "output_type": "display_data"
    }
   ],
   "source": [
    "counts"
   ]
  },
  {
   "cell_type": "code",
   "execution_count": 9,
   "id": "257fd448",
   "metadata": {},
   "outputs": [
    {
     "data": {
      "text/plain": [
       "GRanges object with 172997 ranges and 0 metadata columns:\n",
       "             seqnames          ranges strand\n",
       "                <Rle>       <IRanges>  <Rle>\n",
       "       [1]       chr1      9767-10709      *\n",
       "       [2]       chr1   180707-181668      *\n",
       "       [3]       chr1   183903-184782      *\n",
       "       [4]       chr1   186352-187360      *\n",
       "       [5]       chr1   191053-191961      *\n",
       "       ...        ...             ...    ...\n",
       "  [172993] KI270728.1 1792043-1792755      *\n",
       "  [172994] KI270731.1       4419-5408      *\n",
       "  [172995] KI270734.1   116882-117921      *\n",
       "  [172996] KI270734.1   121024-121925      *\n",
       "  [172997] KI270734.1   163727-164637      *\n",
       "  -------\n",
       "  seqinfo: 37 sequences from an unspecified genome; no seqlengths"
      ]
     },
     "metadata": {},
     "output_type": "display_data"
    }
   ],
   "source": [
    "combined.peaks"
   ]
  },
  {
   "cell_type": "code",
   "execution_count": 73,
   "id": "963dc70e",
   "metadata": {},
   "outputs": [
    {
     "data": {
      "text/plain": [
       "[[1]]\n",
       "An object of class Seurat \n",
       "311642 features across 20000 samples within 4 assays \n",
       "Active assay: ATAC (112851 features, 0 variable features)\n",
       " 3 other assays present: RNA, SCT, ATAC_comb\n",
       " 2 dimensional reductions calculated: pca, umap\n",
       "\n",
       "[[2]]\n",
       "An object of class Seurat \n",
       "313329 features across 20000 samples within 4 assays \n",
       "Active assay: ATAC (114468 features, 0 variable features)\n",
       " 3 other assays present: RNA, SCT, ATAC_comb\n",
       " 2 dimensional reductions calculated: pca, umap\n"
      ]
     },
     "metadata": {},
     "output_type": "display_data"
    }
   ],
   "source": [
    "pmo_list"
   ]
  },
  {
   "cell_type": "code",
   "execution_count": 75,
   "id": "e5b25228",
   "metadata": {},
   "outputs": [
    {
     "name": "stdout",
     "output_type": "stream",
     "text": [
      "[1] \"Removing ATAC assay\"\n",
      "[1] 1\n",
      "An object of class Seurat \n",
      "311642 features across 20000 samples within 4 assays \n",
      "Active assay: ATAC_comb (131874 features, 0 variable features)\n",
      " 3 other assays present: RNA, ATAC, SCT\n",
      " 2 dimensional reductions calculated: pca, umap\n",
      "[1] 2\n",
      "An object of class Seurat \n",
      "313329 features across 20000 samples within 4 assays \n",
      "Active assay: ATAC_comb (131874 features, 0 variable features)\n",
      " 3 other assays present: RNA, ATAC, SCT\n",
      " 2 dimensional reductions calculated: pca, umap\n"
     ]
    }
   ],
   "source": [
    "experiments <- extract_samp_nm(pmo_list)\n",
    "\n",
    "#proj <- \"230821_multiome_merge_liver\"\n",
    "\n",
    "print(\"Removing ATAC assay\")\n",
    "# remove atac assay\n",
    "for (i in 1:length(pmo_list)) {\n",
    "    print(i)\n",
    "    DefaultAssay(pmo_list[[i]]) <- 'ATAC_comb'\n",
    "    print(pmo_list[[i]])\n",
    "    pmo_list[[i]][['ATAC']]<- NULL\n",
    "}\n",
    "\n"
   ]
  },
  {
   "cell_type": "code",
   "execution_count": 76,
   "id": "b45d36e5",
   "metadata": {},
   "outputs": [
    {
     "name": "stdout",
     "output_type": "stream",
     "text": [
      "[1] 1\n",
      "An object of class Seurat \n",
      "198791 features across 20000 samples within 3 assays \n",
      "Active assay: ATAC_comb (131874 features, 0 variable features)\n",
      " 2 other assays present: RNA, SCT\n",
      " 2 dimensional reductions calculated: pca, umap\n",
      "[1] 2\n",
      "An object of class Seurat \n",
      "198861 features across 20000 samples within 3 assays \n",
      "Active assay: ATAC_comb (131874 features, 0 variable features)\n",
      " 2 other assays present: RNA, SCT\n",
      " 2 dimensional reductions calculated: pca, umap\n"
     ]
    }
   ],
   "source": [
    "for (i in 1:length(pmo_list)) {\n",
    "    print(i)\n",
    "    print(pmo_list[[i]])\n",
    "}"
   ]
  },
  {
   "cell_type": "code",
   "execution_count": 77,
   "id": "14c6a8fd",
   "metadata": {},
   "outputs": [
    {
     "data": {
      "text/html": [
       "<style>\n",
       ".list-inline {list-style: none; margin:0; padding: 0}\n",
       ".list-inline>li {display: inline-block}\n",
       ".list-inline>li:not(:last-child)::after {content: \"\\00b7\"; padding: 0 .5ex}\n",
       "</style>\n",
       "<ol class=list-inline><li>'QY_2225_2_QY_2224_2'</li><li>'QY_2227_2_QY_2226_2'</li></ol>\n"
      ],
      "text/latex": [
       "\\begin{enumerate*}\n",
       "\\item 'QY\\_2225\\_2\\_QY\\_2224\\_2'\n",
       "\\item 'QY\\_2227\\_2\\_QY\\_2226\\_2'\n",
       "\\end{enumerate*}\n"
      ],
      "text/markdown": [
       "1. 'QY_2225_2_QY_2224_2'\n",
       "2. 'QY_2227_2_QY_2226_2'\n",
       "\n",
       "\n"
      ],
      "text/plain": [
       "[1] \"QY_2225_2_QY_2224_2\" \"QY_2227_2_QY_2226_2\""
      ]
     },
     "metadata": {},
     "output_type": "display_data"
    }
   ],
   "source": [
    "experiments"
   ]
  },
  {
   "cell_type": "code",
   "execution_count": 78,
   "id": "fcc5b3fd",
   "metadata": {},
   "outputs": [
    {
     "name": "stdout",
     "output_type": "stream",
     "text": [
      "[1] \"Merging experiments\"\n"
     ]
    },
    {
     "data": {
      "text/plain": [
       "[1] \"2023-11-08 16:09:59 PST\""
      ]
     },
     "metadata": {},
     "output_type": "display_data"
    }
   ],
   "source": [
    "print(\"Merging experiments\")\n",
    "# adding experiments (library_id) to keep cell names unique \n",
    "Sys.time()\n",
    "all.objs <- merge(\n",
    "  x = pmo_list[[1]],\n",
    "  y = pmo_list[2:length(pmo_list)],\n",
    "       add.cell.ids = experiments,\n",
    "                project = proj\n",
    ")"
   ]
  },
  {
   "cell_type": "code",
   "execution_count": 79,
   "id": "d7cb2fff",
   "metadata": {},
   "outputs": [
    {
     "data": {
      "text/plain": [
       "An object of class Seurat \n",
       "199502 features across 40000 samples within 3 assays \n",
       "Active assay: ATAC_comb (131874 features, 0 variable features)\n",
       " 2 other assays present: RNA, SCT"
      ]
     },
     "metadata": {},
     "output_type": "display_data"
    }
   ],
   "source": [
    "all.objs"
   ]
  },
  {
   "cell_type": "code",
   "execution_count": null,
   "id": "d7d913fc",
   "metadata": {},
   "outputs": [],
   "source": [
    "print(pmo_list) # now they all have the same number of features, using the same combined.peaks\n",
    "\n",
    "\n",
    "experiments <- extract_samp_nm(pmo_list)"
   ]
  }
 ],
 "metadata": {
  "kernelspec": {
   "display_name": "R [conda env:ressen3]",
   "language": "R",
   "name": "conda-env-ressen3-r"
  },
  "language_info": {
   "codemirror_mode": "r",
   "file_extension": ".r",
   "mimetype": "text/x-r-source",
   "name": "R",
   "pygments_lexer": "r",
   "version": "4.1.1"
  }
 },
 "nbformat": 4,
 "nbformat_minor": 5
}
